{
 "cells": [
  {
   "cell_type": "markdown",
   "metadata": {
    "id": "mYjJc9-9S0an"
   },
   "source": [
    "# Installation and Import of packages, mount the drive"
   ]
  },
  {
   "cell_type": "code",
   "execution_count": 1,
   "metadata": {
    "colab": {
     "background_save": true
    },
    "id": "j7W-LDJHS1Gs",
    "outputId": "29f1df21-1b76-4339-e914-10bd4c06e5c9"
   },
   "outputs": [],
   "source": [
    "#from google.colab import drive\n",
    "#drive.mount('/content/drive')"
   ]
  },
  {
   "cell_type": "code",
   "execution_count": 2,
   "metadata": {
    "id": "6YWbuKlkS1EM"
   },
   "outputs": [],
   "source": [
    "# Import the packages \n",
    "import math\n",
    "import pandas as pd\n",
    "import matplotlib.pyplot as plt\n",
    "import numpy as np\n",
    "from pandas.plotting import table\n",
    "#import dataframe_image as dfi"
   ]
  },
  {
   "cell_type": "markdown",
   "metadata": {
    "id": "1IQnFXv_UZ3Q"
   },
   "source": [
    "## Sequence to design the length of time slot / time bin\n",
    "We can generate the desired number of sequence we want from the below code.\n",
    "\n",
    "A010672\t\tA B_2 sequence: a(n) = least value such that sequence increases and pairwise sums of distinct elements are all distinct. \\\\\n",
    "Author: \tDan Hoey\n",
    "\n",
    "1. https://oeis.org/A010672\n",
    "2. https://oeis.org/A011185\n",
    "3. https://oeis.org/A010672\n",
    "\n",
    "The below function generates a list of 100 sequences."
   ]
  },
  {
   "cell_type": "code",
   "execution_count": null,
   "metadata": {
    "id": "xK753gRuS1JE"
   },
   "outputs": [],
   "source": []
  },
  {
   "cell_type": "code",
   "execution_count": 3,
   "metadata": {
    "id": "Lbr3Bi5Mg5nM"
   },
   "outputs": [],
   "source": [
    "photon = [1,2,4,7]"
   ]
  },
  {
   "cell_type": "code",
   "execution_count": 4,
   "metadata": {
    "colab": {
     "base_uri": "https://localhost:8080/"
    },
    "id": "GrFSelU3hDAd",
    "outputId": "a24d6773-9210-45df-b9cd-db153d646703"
   },
   "outputs": [
    {
     "name": "stdout",
     "output_type": "stream",
     "text": [
      "1 2 4 7\n"
     ]
    }
   ],
   "source": [
    "print(photon[0], photon[1], photon[2], photon[3])"
   ]
  },
  {
   "cell_type": "code",
   "execution_count": 5,
   "metadata": {
    "colab": {
     "base_uri": "https://localhost:8080/"
    },
    "id": "pbB5IwtaM_cF",
    "outputId": "0779067d-733c-4226-efbb-b175b582b328"
   },
   "outputs": [
    {
     "name": "stdout",
     "output_type": "stream",
     "text": [
      "['', '0', '000', '000000']\n"
     ]
    }
   ],
   "source": [
    "for i in range(len(photon)):\n",
    "  photon_to_digit = [(i-1)*\"0\" for i in photon]\n",
    "\n",
    "  #photon.append(['h'])\n",
    "\n",
    "print(photon_to_digit)\n",
    "  #print(photon[i]+'H', photon[i+1])"
   ]
  },
  {
   "cell_type": "code",
   "execution_count": 6,
   "metadata": {
    "colab": {
     "base_uri": "https://localhost:8080/",
     "height": 35
    },
    "id": "T-5Bd2OTRJxH",
    "outputId": "018f882b-22a0-4f4a-894f-78c0f7842e03"
   },
   "outputs": [
    {
     "data": {
      "text/plain": [
       "''"
      ]
     },
     "execution_count": 6,
     "metadata": {},
     "output_type": "execute_result"
    }
   ],
   "source": [
    "photon_to_digit[0]"
   ]
  },
  {
   "cell_type": "code",
   "execution_count": 7,
   "metadata": {
    "colab": {
     "base_uri": "https://localhost:8080/",
     "height": 35
    },
    "id": "ngmwHkRqRNr3",
    "outputId": "7d37d914-2eed-4ee4-e83c-cab21c2678df"
   },
   "outputs": [
    {
     "data": {
      "text/plain": [
       "'0'"
      ]
     },
     "execution_count": 7,
     "metadata": {},
     "output_type": "execute_result"
    }
   ],
   "source": [
    "photon_to_digit[1]"
   ]
  },
  {
   "cell_type": "code",
   "execution_count": 8,
   "metadata": {
    "colab": {
     "base_uri": "https://localhost:8080/",
     "height": 35
    },
    "id": "gXSQFROxRRKZ",
    "outputId": "c15cebc7-f540-472d-e5c1-20b28f162864"
   },
   "outputs": [
    {
     "data": {
      "text/plain": [
       "'000'"
      ]
     },
     "execution_count": 8,
     "metadata": {},
     "output_type": "execute_result"
    }
   ],
   "source": [
    "photon_to_digit[2]"
   ]
  },
  {
   "cell_type": "code",
   "execution_count": 9,
   "metadata": {
    "colab": {
     "base_uri": "https://localhost:8080/"
    },
    "id": "40zRkEvLRUqO",
    "outputId": "92e6ca95-30ee-4a36-e09d-0ee243556742"
   },
   "outputs": [
    {
     "data": {
      "text/plain": [
       "3"
      ]
     },
     "execution_count": 9,
     "metadata": {},
     "output_type": "execute_result"
    }
   ],
   "source": [
    "len(photon_to_digit[2])"
   ]
  },
  {
   "cell_type": "code",
   "execution_count": 10,
   "metadata": {
    "colab": {
     "base_uri": "https://localhost:8080/"
    },
    "id": "tDAWHRKbLiRm",
    "outputId": "ed33359f-026b-4723-ce55-45e796f1bf9b"
   },
   "outputs": [
    {
     "data": {
      "text/plain": [
       "['0', '000', '000000']"
      ]
     },
     "execution_count": 10,
     "metadata": {},
     "output_type": "execute_result"
    }
   ],
   "source": [
    "#def Hpolarization_to_beginning(s, start='H'):\n",
    "#  return start + s\n",
    "\n",
    "#def Vpolarization_to_beginning(s, start='V'):\n",
    "#  return start + s \n",
    "\n",
    "#for i in range(len(photon)):\n",
    "  #if len(photon_to_digit[i]) > len(photon_to_digit[i-1]):\n",
    "a = list(filter(None, photon_to_digit))\n",
    "\n",
    "    #H_updated_list = list(map(lambda s: 'H'+ s, photon_to_digit))\n",
    "    #H_updated_list = list(map(Hpolarization_to_beginning, photon_to_digit))\n",
    "#else:\n",
    "#    H_updated_list = photon_to_digit\n",
    "\n",
    "#for i in range(len(photon)):\n",
    "#  if len(photon_to_digit[i]) < len(photon_to_digit[i-1]):\n",
    "#    V_updated_list = list(map(Vpolarization_to_beginning, H_updated_list))\n",
    "#  else:\n",
    "#    V_updated_list = H_updated_list\n",
    "\n",
    "#if len(photon_to_digit[1]) > len(photon_to_digit[-1]):\n",
    "#  last_list = list(map(Hpolarization_to_beginning, V_updated_list[-1]))\n",
    "#else:\n",
    "#  last_list = list(map(Vpolarization_to_beginning, V_updated_list[-1]))\n",
    "#print(H_updated_list)\n",
    "#print(last_list)   \n",
    "\n",
    "#for i in range(len(photon)):\n",
    "  #if len(photon_to_digit[i]) < len(photon_to_digit[-1]):\n",
    "#V_updated_list = list(filter(len(photon_to_digit[i]) < len(photon_to_digit[-1]))).(map(lambda s: 'V'+ s, H_updated_list))\n",
    "\n",
    "#print(V_updated_list)\n",
    "#def polarization_to_beginning(s, start='H'):\n",
    "#  return start + s\n",
    "\n",
    "\n",
    "#photon_with_polarization = list(map(polarization_to_beginning, magic(photon)))\n",
    "a"
   ]
  },
  {
   "cell_type": "code",
   "execution_count": 11,
   "metadata": {
    "id": "V5A5EEuydfom"
   },
   "outputs": [],
   "source": [
    "draw = ['', '00000', '00', '0000', '0000000000000']\n",
    "\n",
    "def W_to_beginning(s, start='W'):\n",
    "  return start + s\n",
    "\n",
    "def L_to_beginning(s, start='L'):\n",
    "  return start + s \n",
    "\n",
    "for i in range(len(draw)):\n",
    "  if len(draw[i]) > len(draw[i-1]):\n",
    "    list(map(W_to_beginning, draw[i]))  #only the list fulfill the condiiton add a W, expect to have ['W', '00000', 'W00', 'W0000', '0000000000000']\n",
    "  else:\n",
    "    pass # no change to the list draw\n",
    "\n",
    "for i in range(len(draw)):\n",
    "  if len(draw[i]) < len(draw[i-1]):\n",
    "    list(map(L_to_beginning, draw)) #only the list fulfill the condiiton add a W. The list should have run through the first for loop. expect to have ['W, 'L00000', 'W00', 'W0000', '0000000000000']\n",
    "  else:\n",
    "    pass # no change to the list draw. The list should have run through the first for loop\n",
    "\n",
    "if len(draw[1]) > len(draw[-1]):\n",
    "  list(map(W_to_beginning, draw[-1])) \n",
    "else:\n",
    "  list(map(L_to_beginning, draw[-1])) #expect to have expect to have ['W, 'L00000', 'W00', 'W0000', 'L0000000000000']"
   ]
  },
  {
   "cell_type": "code",
   "execution_count": 12,
   "metadata": {
    "id": "i8AdPGOmQr_n"
   },
   "outputs": [],
   "source": [
    "draw = ['', '00000', '00', '0000', '0000000000000']\n",
    "\n",
    "def W_to_beginning(s, start='W'):\n",
    "  return start + s\n",
    "\n",
    "def L_to_beginning(s, start='L'):\n",
    "  return start + s \n",
    "\n",
    "for i in range(len(draw)):\n",
    "  if len(draw[i]) > len(draw[i-1]):\n",
    "    list(map(W_to_beginning, draw[i]))  #only the list fulfill the condiiton add a W, expect to have ['W', '00000', 'W00', 'W0000', '0000000000000']\n",
    "  else:\n",
    "    pass # no change to the list draw"
   ]
  },
  {
   "cell_type": "code",
   "execution_count": 13,
   "metadata": {
    "id": "IdfK0ydBhvNN"
   },
   "outputs": [],
   "source": [
    " #Over-explaining a bit:\n",
    "def convert_to_one_string(numList):         # [1,2,3]\n",
    "    s = map(str, numList)   # ['1','2','3']\n",
    "    s = ''.join(s)          # '123'\n",
    "    #s = int(s)              # 123\n",
    "    return s"
   ]
  },
  {
   "cell_type": "code",
   "execution_count": 14,
   "metadata": {
    "id": "j2XUU5_ChzJY"
   },
   "outputs": [
    {
     "data": {
      "text/plain": [
       "'0000000000'"
      ]
     },
     "execution_count": 14,
     "metadata": {},
     "output_type": "execute_result"
    }
   ],
   "source": [
    "convert_to_one_string(photon_to_digit)"
   ]
  },
  {
   "cell_type": "code",
   "execution_count": 15,
   "metadata": {
    "id": "RAwY5zFgLaxJ"
   },
   "outputs": [
    {
     "name": "stdout",
     "output_type": "stream",
     "text": [
      "['to_South', 'to_North']\n"
     ]
    }
   ],
   "source": [
    "def add_to_beginning(s, start='to_'):\n",
    "    return start + s\n",
    "\n",
    "lst = ['South', 'North']\n",
    "\n",
    "result = list(map(add_to_beginning, lst))\n",
    "print(result)"
   ]
  },
  {
   "cell_type": "code",
   "execution_count": 16,
   "metadata": {
    "id": "SGjaKZipKI4o"
   },
   "outputs": [
    {
     "name": "stdout",
     "output_type": "stream",
     "text": [
      "1 3\n",
      "3 3\n",
      "3 6\n",
      "6 3\n",
      "3 5\n",
      "5 5\n",
      "5 7\n"
     ]
    }
   ],
   "source": [
    "a=[1,3,3,6,3,5,5,7]\n",
    "\n",
    "b=a[0:1]\n",
    "for i in range(len(a)-1):\n",
    "    print (a[i],a[i+1])\n",
    "    if a[i]!=a[i+1]:\n",
    "        b.append(a[i+1])\n",
    "a=b"
   ]
  },
  {
   "cell_type": "code",
   "execution_count": 17,
   "metadata": {
    "id": "uogYzTHlhMQ-"
   },
   "outputs": [
    {
     "name": "stdout",
     "output_type": "stream",
     "text": [
      "[1, 2, 4, 7, ['h'], ['h'], ['h'], ['h']]\n"
     ]
    }
   ],
   "source": [
    "photon = [1,2,4,7]\n",
    "for i in range(len(photon)):\n",
    "  photon.append(['h'])\n",
    "\n",
    "print(photon)\n",
    "  #print(photon[i]+'H', photon[i+1])\n",
    "# output_list = [(i-1)*\"0\" for i in photon]\n",
    "\n",
    "#print(output_list)"
   ]
  },
  {
   "cell_type": "code",
   "execution_count": 18,
   "metadata": {
    "id": "gNqsvpIIh5wU"
   },
   "outputs": [
    {
     "ename": "NameError",
     "evalue": "name 'numList' is not defined",
     "output_type": "error",
     "traceback": [
      "\u001b[0;31m---------------------------------------------------------------------------\u001b[0m",
      "\u001b[0;31mNameError\u001b[0m                                 Traceback (most recent call last)",
      "\u001b[0;32m<ipython-input-18-8583afe78ea8>\u001b[0m in \u001b[0;36m<module>\u001b[0;34m\u001b[0m\n\u001b[1;32m     12\u001b[0m \u001b[0;34m\u001b[0m\u001b[0m\n\u001b[1;32m     13\u001b[0m \u001b[0;31m# As a one-liner\u001b[0m\u001b[0;34m\u001b[0m\u001b[0;34m\u001b[0m\u001b[0;34m\u001b[0m\u001b[0m\n\u001b[0;32m---> 14\u001b[0;31m \u001b[0mnum\u001b[0m \u001b[0;34m=\u001b[0m \u001b[0mint\u001b[0m\u001b[0;34m(\u001b[0m\u001b[0;34m''\u001b[0m\u001b[0;34m.\u001b[0m\u001b[0mjoin\u001b[0m\u001b[0;34m(\u001b[0m\u001b[0mmap\u001b[0m\u001b[0;34m(\u001b[0m\u001b[0mstr\u001b[0m\u001b[0;34m,\u001b[0m\u001b[0mnumList\u001b[0m\u001b[0;34m)\u001b[0m\u001b[0;34m)\u001b[0m\u001b[0;34m)\u001b[0m\u001b[0;34m\u001b[0m\u001b[0;34m\u001b[0m\u001b[0m\n\u001b[0m\u001b[1;32m     15\u001b[0m \u001b[0;34m\u001b[0m\u001b[0m\n\u001b[1;32m     16\u001b[0m \u001b[0;34m\u001b[0m\u001b[0m\n",
      "\u001b[0;31mNameError\u001b[0m: name 'numList' is not defined"
     ]
    }
   ],
   "source": [
    "179\n",
    "\n",
    "\n",
    "\n",
    "\n",
    "\n",
    "# How I'd probably write it:\n",
    "def magic(numList):\n",
    "    s = ''.join(map(str, numList))\n",
    "    return int(s)\n",
    "\n",
    "\n",
    "# As a one-liner  \n",
    "num = int(''.join(map(str,numList)))\n",
    "\n",
    "\n",
    "# Functionally:\n",
    "s = reduce(lambda x,y: x+str(y), numList, '')\n",
    "num = int(s)\n",
    "\n",
    "\n",
    "# Using some oft-forgotten built-ins:\n",
    "s = filter(str.isdigit, repr(numList))\n",
    "num = int(s)"
   ]
  },
  {
   "cell_type": "markdown",
   "metadata": {
    "id": "s79FOFxajjy_"
   },
   "source": [
    "# Reference\n",
    "https://www.geeksforgeeks.org/apply-function-to-each-element-of-a-list-python/\n",
    "https://www.w3schools.com/python/ref_func_list.asp\n",
    "https://www.youtube.com/watch?v=hUes6y2b--0\n",
    "https://www.youtube.com/watch?v=QtwhlHP_tqc\n",
    "https://www.youtube.com/watch?v=25ovCm9jKfA\n",
    "https://www.youtube.com/watch?v=AhSvKGTh28Q\n",
    "\n",
    "https://realpython.com/python-map-function/\n",
    "https://www.freecodecamp.org/news/python-map-explained-with-examples/\n",
    "\n",
    "https://basicpython.org/ifthen/\n",
    "\n",
    "https://realpython.com/python-conditional-statements/\n",
    "\n",
    "https://theprogrammingexpert.com/python-if-do-nothing/\n",
    "\n",
    "https://stackoverflow.com/questions/930397/how-do-i-get-the-last-element-of-a-list\n",
    "\n",
    "\n",
    "https://stackoverflow.com/questions/46126797/compare-the-elements-of-a-list-in-python\n",
    "\n",
    "\n",
    "https://stackoverflow.com/questions/54728672/python-append-a-string-with-if-else\n",
    "\n",
    "https://stackoverflow.com/questions/53632318/add-string-to-every-element-of-a-python-list\n",
    "\n",
    "https://stackoverflow.com/questions/19664116/python-append-lists-into-lists\n",
    "\n",
    "https://stackoverflow.com/questions/46126797/compare-the-elements-of-a-list-in-python\n",
    "\n",
    "https://stackoverflow.com/questions/489999/convert-list-of-ints-to-one-number\n"
   ]
  },
  {
   "cell_type": "code",
   "execution_count": null,
   "metadata": {
    "id": "gylkxpxUjk2K"
   },
   "outputs": [],
   "source": []
  }
 ],
 "metadata": {
  "colab": {
   "provenance": []
  },
  "kernelspec": {
   "display_name": "Python 3",
   "language": "python",
   "name": "python3"
  },
  "language_info": {
   "codemirror_mode": {
    "name": "ipython",
    "version": 3
   },
   "file_extension": ".py",
   "mimetype": "text/x-python",
   "name": "python",
   "nbconvert_exporter": "python",
   "pygments_lexer": "ipython3",
   "version": "3.8.5"
  }
 },
 "nbformat": 4,
 "nbformat_minor": 4
}
