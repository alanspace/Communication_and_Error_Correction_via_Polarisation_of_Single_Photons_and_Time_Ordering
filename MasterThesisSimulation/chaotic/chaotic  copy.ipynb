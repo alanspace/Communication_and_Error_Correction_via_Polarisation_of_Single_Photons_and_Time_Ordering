{
 "cells": [
  {
   "cell_type": "code",
   "execution_count": 1,
   "metadata": {},
   "outputs": [],
   "source": [
    "from math import pi, sqrt"
   ]
  },
  {
   "cell_type": "code",
   "execution_count": 2,
   "metadata": {},
   "outputs": [],
   "source": [
    "def X_L(f, L):\n",
    "    X_L = 2*pi*f*L\n",
    "    return X_L"
   ]
  },
  {
   "cell_type": "code",
   "execution_count": 3,
   "metadata": {},
   "outputs": [],
   "source": [
    "def U_D(U_G, I, R, X_L):\n",
    "    U_D = U_G -(I*R + I*X_L)\n",
    "    return U_D"
   ]
  },
  {
   "cell_type": "code",
   "execution_count": 4,
   "metadata": {},
   "outputs": [],
   "source": [
    "def X_C(f, C):\n",
    "    X_C = 1/(2*pi*C)\n",
    "    return X_C"
   ]
  },
  {
   "cell_type": "code",
   "execution_count": 5,
   "metadata": {},
   "outputs": [],
   "source": [
    "def Z(R, X_L, X_C):\n",
    "    Z = sqrt(R**2+(X_L - X_C)**2)\n",
    "    return Z"
   ]
  },
  {
   "cell_type": "code",
   "execution_count": 6,
   "metadata": {},
   "outputs": [],
   "source": [
    "def I(U_G,Z):\n",
    "    I = U_G/Z\n",
    "    return I"
   ]
  },
  {
   "cell_type": "code",
   "execution_count": 7,
   "metadata": {},
   "outputs": [],
   "source": [
    "def V_R(I, R):\n",
    "    V_R = I*R\n",
    "    return V_R"
   ]
  },
  {
   "cell_type": "code",
   "execution_count": 8,
   "metadata": {},
   "outputs": [],
   "source": [
    "def V_L(I, X_L):\n",
    "    V_L = I*X_L\n",
    "    return V_L"
   ]
  },
  {
   "cell_type": "code",
   "execution_count": 9,
   "metadata": {},
   "outputs": [],
   "source": [
    "def V_C(I, X_C):\n",
    "    V_C = I*X_C\n",
    "    return V_C"
   ]
  },
  {
   "cell_type": "code",
   "execution_count": 10,
   "metadata": {},
   "outputs": [],
   "source": [
    "def I_C(U_D, X_C):\n",
    "    I_C = U_D / X_C\n",
    "    return I_C"
   ]
  },
  {
   "cell_type": "code",
   "execution_count": 11,
   "metadata": {},
   "outputs": [],
   "source": [
    "def I_D(I, I_C):\n",
    "    I_D = I- I_C\n",
    "    return I_D"
   ]
  },
  {
   "cell_type": "code",
   "execution_count": 12,
   "metadata": {},
   "outputs": [],
   "source": [
    "f = [276*1000, 376*1000, 755*1000]\n",
    "U_G = 2\n",
    "L = 0.2*10**(-3)\n",
    "C = 15*10**(-12)\n",
    "R = 5"
   ]
  },
  {
   "cell_type": "code",
   "execution_count": 13,
   "metadata": {},
   "outputs": [],
   "source": [
    "frequency = [276*1000, 376*1000, 755*1000]"
   ]
  },
  {
   "cell_type": "code",
   "execution_count": 14,
   "metadata": {},
   "outputs": [
    {
     "data": {
      "text/plain": [
       "[276000, 376000, 755000]"
      ]
     },
     "execution_count": 14,
     "metadata": {},
     "output_type": "execute_result"
    }
   ],
   "source": [
    "frequency"
   ]
  },
  {
   "cell_type": "code",
   "execution_count": 15,
   "metadata": {
    "scrolled": false
   },
   "outputs": [
    {
     "name": "stdout",
     "output_type": "stream",
     "text": [
      "346.8318289563132\n",
      "472.49553509990494\n",
      "948.7609813841176\n"
     ]
    }
   ],
   "source": [
    "for f in frequency:\n",
    "    print(X_L(f, L))"
   ]
  },
  {
   "cell_type": "code",
   "execution_count": 16,
   "metadata": {},
   "outputs": [],
   "source": [
    "X_L = X_L(f,L)"
   ]
  },
  {
   "cell_type": "code",
   "execution_count": 17,
   "metadata": {
    "scrolled": true
   },
   "outputs": [
    {
     "name": "stdout",
     "output_type": "stream",
     "text": [
      "10610329539.45969\n",
      "10610329539.45969\n",
      "10610329539.45969\n"
     ]
    }
   ],
   "source": [
    "for f in frequency:\n",
    "    print(X_C(f, C))"
   ]
  },
  {
   "cell_type": "code",
   "execution_count": 18,
   "metadata": {},
   "outputs": [],
   "source": [
    "X_C = X_C(f,C)"
   ]
  },
  {
   "cell_type": "code",
   "execution_count": 19,
   "metadata": {
    "scrolled": true
   },
   "outputs": [
    {
     "name": "stdout",
     "output_type": "stream",
     "text": [
      "10610328590.69871\n",
      "10610328590.69871\n",
      "10610328590.69871\n"
     ]
    }
   ],
   "source": [
    "for f in frequency:\n",
    "    print(Z(R, X_L, X_C))"
   ]
  },
  {
   "cell_type": "code",
   "execution_count": 20,
   "metadata": {},
   "outputs": [],
   "source": [
    "Z = Z(R, X_L, X_C)"
   ]
  },
  {
   "cell_type": "code",
   "execution_count": 21,
   "metadata": {
    "scrolled": false
   },
   "outputs": [
    {
     "name": "stdout",
     "output_type": "stream",
     "text": [
      "1.8849557607040108e-10\n",
      "1.8849557607040108e-10\n",
      "1.8849557607040108e-10\n"
     ]
    }
   ],
   "source": [
    "for f in frequency:\n",
    "    print(I(U_G,Z))"
   ]
  },
  {
   "cell_type": "code",
   "execution_count": 22,
   "metadata": {},
   "outputs": [],
   "source": [
    "I = I(U_G,Z)"
   ]
  },
  {
   "cell_type": "code",
   "execution_count": 23,
   "metadata": {
    "scrolled": true
   },
   "outputs": [
    {
     "name": "stdout",
     "output_type": "stream",
     "text": [
      "9.424778803520054e-10\n",
      "9.424778803520054e-10\n",
      "9.424778803520054e-10\n"
     ]
    }
   ],
   "source": [
    "for f in frequency:\n",
    "    print(V_R(I, R))"
   ]
  },
  {
   "cell_type": "code",
   "execution_count": null,
   "metadata": {},
   "outputs": [],
   "source": []
  },
  {
   "cell_type": "code",
   "execution_count": 24,
   "metadata": {},
   "outputs": [
    {
     "name": "stdout",
     "output_type": "stream",
     "text": [
      "2.0000001788372477\n",
      "2.0000001788372477\n",
      "2.0000001788372477\n"
     ]
    }
   ],
   "source": [
    "for f in frequency:\n",
    "    print(V_C(I, X_C))"
   ]
  },
  {
   "cell_type": "code",
   "execution_count": 25,
   "metadata": {},
   "outputs": [],
   "source": [
    "V_C = V_C(I, X_C)"
   ]
  },
  {
   "cell_type": "code",
   "execution_count": 26,
   "metadata": {},
   "outputs": [
    {
     "name": "stdout",
     "output_type": "stream",
     "text": [
      "1.9999998202202744\n",
      "1.9999998202202744\n",
      "1.9999998202202744\n"
     ]
    }
   ],
   "source": [
    "for f in frequency:\n",
    "    print(U_D(U_G, I, R, X_L))"
   ]
  },
  {
   "cell_type": "code",
   "execution_count": 27,
   "metadata": {},
   "outputs": [],
   "source": [
    "U_D = U_D(U_G, I, R, X_L)"
   ]
  },
  {
   "cell_type": "code",
   "execution_count": 28,
   "metadata": {},
   "outputs": [
    {
     "name": "stdout",
     "output_type": "stream",
     "text": [
      "1.8849554227154762e-10\n",
      "1.8849554227154762e-10\n",
      "1.8849554227154762e-10\n"
     ]
    }
   ],
   "source": [
    "for f in frequency:\n",
    "    print(I_C(U_D, X_C))"
   ]
  },
  {
   "cell_type": "code",
   "execution_count": 29,
   "metadata": {},
   "outputs": [],
   "source": [
    "I_C = I_C(U_D, X_C)"
   ]
  },
  {
   "cell_type": "code",
   "execution_count": 30,
   "metadata": {},
   "outputs": [
    {
     "name": "stdout",
     "output_type": "stream",
     "text": [
      "3.3798853463172035e-17\n",
      "3.3798853463172035e-17\n",
      "3.3798853463172035e-17\n"
     ]
    }
   ],
   "source": [
    "for f in frequency:\n",
    "    print(I_D(I, I_C))"
   ]
  },
  {
   "cell_type": "code",
   "execution_count": 31,
   "metadata": {
    "scrolled": false
   },
   "outputs": [],
   "source": [
    "I_D = I_D(I, I_C)"
   ]
  },
  {
   "cell_type": "code",
   "execution_count": null,
   "metadata": {},
   "outputs": [],
   "source": []
  }
 ],
 "metadata": {
  "kernelspec": {
   "display_name": "Python 3",
   "language": "python",
   "name": "python3"
  },
  "language_info": {
   "codemirror_mode": {
    "name": "ipython",
    "version": 3
   },
   "file_extension": ".py",
   "mimetype": "text/x-python",
   "name": "python",
   "nbconvert_exporter": "python",
   "pygments_lexer": "ipython3",
   "version": "3.8.5"
  }
 },
 "nbformat": 4,
 "nbformat_minor": 4
}
