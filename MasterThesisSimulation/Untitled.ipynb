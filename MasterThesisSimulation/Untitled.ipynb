{
 "cells": [
  {
   "cell_type": "code",
   "execution_count": 5,
   "metadata": {},
   "outputs": [],
   "source": [
    "import math"
   ]
  },
  {
   "cell_type": "markdown",
   "metadata": {},
   "source": [
    "# Number of ways to order the photons"
   ]
  },
  {
   "cell_type": "code",
   "execution_count": 9,
   "metadata": {},
   "outputs": [],
   "source": [
    "def ways(n):\n",
    "    return math.factorial(n)"
   ]
  },
  {
   "cell_type": "markdown",
   "metadata": {},
   "source": [
    "# Number of Bits per Symbol\n",
    "$$ log_2{n!}$$"
   ]
  },
  {
   "cell_type": "code",
   "execution_count": 15,
   "metadata": {},
   "outputs": [],
   "source": [
    "def bps(W):\n",
    "    return math.log2(W)"
   ]
  },
  {
   "cell_type": "markdown",
   "metadata": {},
   "source": [
    "# Number of Bits per Photon"
   ]
  },
  {
   "cell_type": "code",
   "execution_count": 19,
   "metadata": {},
   "outputs": [],
   "source": [
    "def bpph(b,n):\n",
    "    return b/n"
   ]
  },
  {
   "cell_type": "markdown",
   "metadata": {},
   "source": [
    "# Number of Bits per Timeslot"
   ]
  },
  {
   "cell_type": "code",
   "execution_count": 22,
   "metadata": {},
   "outputs": [],
   "source": [
    "def bpt(B, n, T):\n",
    "    return B*n/T"
   ]
  },
  {
   "cell_type": "code",
   "execution_count": 21,
   "metadata": {},
   "outputs": [
    {
     "data": {
      "text/plain": [
       "0.3274973214800826"
      ]
     },
     "execution_count": 21,
     "metadata": {},
     "output_type": "execute_result"
    }
   ],
   "source": [
    "bpph(bps(24), 4)*4/14"
   ]
  },
  {
   "cell_type": "markdown",
   "metadata": {},
   "source": [
    "# Putting all the functions together"
   ]
  },
  {
   "cell_type": "code",
   "execution_count": 108,
   "metadata": {},
   "outputs": [],
   "source": [
    "def Jonasbpt(n, T):\n",
    "    def bpph(n):\n",
    "        def bps(n):\n",
    "            def ways(n):\n",
    "                return math.factorial(n)\n",
    "            return math.log2(ways(n))\n",
    "        return math.log2(ways(n)) / n\n",
    "    return print([n], \"Number of wyas:\", ways(n), \n",
    "                 \"Number of Bits per Symbol:\", math.log2(ways(n)), \n",
    "                 \"Number of Bits per Photon: \", math.log2(ways(n)) / n, \n",
    "                 \"Number of Bits per Timeslot\", math.log2(ways(n)) / n*(n/T)\n",
    "                )"
   ]
  },
  {
   "cell_type": "markdown",
   "metadata": {},
   "source": [
    "# PPM"
   ]
  },
  {
   "cell_type": "code",
   "execution_count": 110,
   "metadata": {},
   "outputs": [],
   "source": [
    "def Gways(T):\n",
    "    return T"
   ]
  },
  {
   "cell_type": "code",
   "execution_count": 112,
   "metadata": {},
   "outputs": [
    {
     "data": {
      "text/plain": [
       "14"
      ]
     },
     "execution_count": 112,
     "metadata": {},
     "output_type": "execute_result"
    }
   ],
   "source": [
    "Gways(14)"
   ]
  },
  {
   "cell_type": "code",
   "execution_count": 114,
   "metadata": {},
   "outputs": [],
   "source": [
    "def Gbps(T):\n",
    "    return math.log2(T)"
   ]
  },
  {
   "cell_type": "code",
   "execution_count": 115,
   "metadata": {},
   "outputs": [
    {
     "data": {
      "text/plain": [
       "3.807354922057604"
      ]
     },
     "execution_count": 115,
     "metadata": {},
     "output_type": "execute_result"
    }
   ],
   "source": [
    " Gbps(14)"
   ]
  },
  {
   "cell_type": "code",
   "execution_count": 116,
   "metadata": {},
   "outputs": [],
   "source": [
    "def Gbpph(T,n):\n",
    "    return math.log2(T)/n"
   ]
  },
  {
   "cell_type": "code",
   "execution_count": 117,
   "metadata": {},
   "outputs": [
    {
     "data": {
      "text/plain": [
       "3.807354922057604"
      ]
     },
     "execution_count": 117,
     "metadata": {},
     "output_type": "execute_result"
    }
   ],
   "source": [
    "Gbpph(14,1)"
   ]
  },
  {
   "cell_type": "code",
   "execution_count": 119,
   "metadata": {},
   "outputs": [],
   "source": [
    "def Gbpt(T,n):\n",
    "    return math.log2(T)/n*(n/T)"
   ]
  },
  {
   "cell_type": "code",
   "execution_count": 120,
   "metadata": {},
   "outputs": [
    {
     "data": {
      "text/plain": [
       "0.2719539230041146"
      ]
     },
     "execution_count": 120,
     "metadata": {},
     "output_type": "execute_result"
    }
   ],
   "source": [
    "Gbpt(14,1)"
   ]
  },
  {
   "cell_type": "code",
   "execution_count": 124,
   "metadata": {},
   "outputs": [],
   "source": [
    "def PPMbpt(T, n):\n",
    "    def PPMbpph(n):\n",
    "        def PPMbps(n):\n",
    "            def PPMways(T):\n",
    "                return T\n",
    "            return math.log2(T)\n",
    "        return math.log2(T) / n\n",
    "    return print([n], \"Number of wyas:\", ways(n), \n",
    "                 \"Number of Bits per Symbol:\", math.log2(ways(n)), \n",
    "                 \"Number of Bits per Photon: \", math.log2(ways(n)) / n, \n",
    "                 \"Number of Bits per Timeslot\", math.log2(ways(n)) / n*(n/T)\n",
    "                )"
   ]
  },
  {
   "cell_type": "code",
   "execution_count": 125,
   "metadata": {},
   "outputs": [
    {
     "name": "stdout",
     "output_type": "stream",
     "text": [
      "[1] Number of wyas: 1 Number of Bits per Symbol: 0.0 Number of Bits per Photon:  0.0 Number of Bits per Timeslot 0.0\n"
     ]
    }
   ],
   "source": [
    "PPMbpt(14, 1)"
   ]
  },
  {
   "cell_type": "code",
   "execution_count": 136,
   "metadata": {},
   "outputs": [],
   "source": [
    "def PPMbpt(T, n):\n",
    "    def PPMbpph(n, T):\n",
    "        def PPMbps(T):\n",
    "            def PPMways(T):\n",
    "                return T\n",
    "            return math.log2(T)\n",
    "        return math.log2(T) / n\n",
    "    return print([n], \"Number of wyas:\", PPMways(n), \n",
    "                 \"Number of Bits per Symbol:\", math.log2(PPMways(T)), \n",
    "                 \"Number of Bits per Photon: \", math.log2(PPMways(T)) / n, \n",
    "                 \"Number of Bits per Timeslot\", math.log2(PPMways(T)) / n*(n/T)\n",
    "                )"
   ]
  },
  {
   "cell_type": "code",
   "execution_count": 135,
   "metadata": {},
   "outputs": [
    {
     "name": "stdout",
     "output_type": "stream",
     "text": [
      "[1] Number of wyas: 1 Number of Bits per Symbol: 3.807354922057604 Number of Bits per Photon:  3.807354922057604 Number of Bits per Timeslot 0.2719539230041146\n"
     ]
    }
   ],
   "source": [
    "PPMbpt(14, 1)"
   ]
  },
  {
   "cell_type": "code",
   "execution_count": 137,
   "metadata": {},
   "outputs": [
    {
     "name": "stdout",
     "output_type": "stream",
     "text": [
      "[14] Number of wyas: 14 Number of Bits per Symbol: 0.0 Number of Bits per Photon:  0.0 Number of Bits per Timeslot 0.0\n",
      "[14] Number of wyas: 14 Number of Bits per Symbol: 1.0 Number of Bits per Photon:  0.07142857142857142 Number of Bits per Timeslot 0.5\n",
      "[14] Number of wyas: 14 Number of Bits per Symbol: 1.584962500721156 Number of Bits per Photon:  0.11321160719436829 Number of Bits per Timeslot 0.5283208335737187\n",
      "[14] Number of wyas: 14 Number of Bits per Symbol: 2.0 Number of Bits per Photon:  0.14285714285714285 Number of Bits per Timeslot 0.5\n",
      "[14] Number of wyas: 14 Number of Bits per Symbol: 2.321928094887362 Number of Bits per Photon:  0.16585200677766873 Number of Bits per Timeslot 0.46438561897747244\n",
      "[14] Number of wyas: 14 Number of Bits per Symbol: 2.584962500721156 Number of Bits per Photon:  0.18464017862293972 Number of Bits per Timeslot 0.43082708345352605\n",
      "[14] Number of wyas: 14 Number of Bits per Symbol: 2.807354922057604 Number of Bits per Photon:  0.20052535157554316 Number of Bits per Timeslot 0.4010507031510863\n",
      "[14] Number of wyas: 14 Number of Bits per Symbol: 3.0 Number of Bits per Photon:  0.21428571428571427 Number of Bits per Timeslot 0.375\n",
      "[14] Number of wyas: 14 Number of Bits per Symbol: 3.169925001442312 Number of Bits per Photon:  0.22642321438873658 Number of Bits per Timeslot 0.3522138890491458\n",
      "[14] Number of wyas: 14 Number of Bits per Symbol: 3.321928094887362 Number of Bits per Photon:  0.23728057820624016 Number of Bits per Timeslot 0.3321928094887362\n",
      "[14] Number of wyas: 14 Number of Bits per Symbol: 3.4594316186372973 Number of Bits per Photon:  0.24710225847409267 Number of Bits per Timeslot 0.3144937835124816\n",
      "[14] Number of wyas: 14 Number of Bits per Symbol: 3.584962500721156 Number of Bits per Photon:  0.25606875005151114 Number of Bits per Timeslot 0.29874687506009634\n",
      "[14] Number of wyas: 14 Number of Bits per Symbol: 3.700439718141092 Number of Bits per Photon:  0.26431712272436375 Number of Bits per Timeslot 0.28464920908777636\n",
      "[14] Number of wyas: 14 Number of Bits per Symbol: 3.807354922057604 Number of Bits per Photon:  0.2719539230041146 Number of Bits per Timeslot 0.2719539230041146\n",
      "[14] Number of wyas: 14 Number of Bits per Symbol: 3.9068905956085187 Number of Bits per Photon:  0.27906361397203705 Number of Bits per Timeslot 0.26045937304056793\n",
      "[14] Number of wyas: 14 Number of Bits per Symbol: 4.0 Number of Bits per Photon:  0.2857142857142857 Number of Bits per Timeslot 0.25\n",
      "[14] Number of wyas: 14 Number of Bits per Symbol: 4.087462841250339 Number of Bits per Photon:  0.29196163151788135 Number of Bits per Timeslot 0.24043899066178462\n",
      "[14] Number of wyas: 14 Number of Bits per Symbol: 4.169925001442312 Number of Bits per Photon:  0.29785178581730803 Number of Bits per Timeslot 0.23166250008012848\n",
      "[14] Number of wyas: 14 Number of Bits per Symbol: 4.247927513443585 Number of Bits per Photon:  0.30342339381739897 Number of Bits per Timeslot 0.2235751322865045\n",
      "[14] Number of wyas: 14 Number of Bits per Symbol: 4.321928094887363 Number of Bits per Photon:  0.3087091496348116 Number of Bits per Timeslot 0.21609640474436811\n"
     ]
    }
   ],
   "source": [
    "for n in range(1,21):  \n",
    "    PPMbpt(n, 14)"
   ]
  },
  {
   "cell_type": "code",
   "execution_count": null,
   "metadata": {},
   "outputs": [],
   "source": []
  },
  {
   "cell_type": "code",
   "execution_count": null,
   "metadata": {},
   "outputs": [],
   "source": []
  },
  {
   "cell_type": "code",
   "execution_count": null,
   "metadata": {},
   "outputs": [],
   "source": []
  },
  {
   "cell_type": "markdown",
   "metadata": {},
   "source": [
    "# Jonas\n",
    "We have 4 photons\n",
    "<br>\n",
    "14 timeslots\n",
    "<br>\n",
    "1 symbol created by 14 timeslots"
   ]
  },
  {
   "cell_type": "code",
   "execution_count": 109,
   "metadata": {},
   "outputs": [
    {
     "name": "stdout",
     "output_type": "stream",
     "text": [
      "[1] Number of wyas: 1 Number of Bits per Symbol: 0.0 Number of Bits per Photon:  0.0 Number of Bits per Timeslot 0.0\n",
      "[2] Number of wyas: 2 Number of Bits per Symbol: 1.0 Number of Bits per Photon:  0.5 Number of Bits per Timeslot 0.07142857142857142\n",
      "[3] Number of wyas: 6 Number of Bits per Symbol: 2.584962500721156 Number of Bits per Photon:  0.861654166907052 Number of Bits per Timeslot 0.1846401786229397\n",
      "[4] Number of wyas: 24 Number of Bits per Symbol: 4.584962500721156 Number of Bits per Photon:  1.146240625180289 Number of Bits per Timeslot 0.32749732148008254\n",
      "[5] Number of wyas: 120 Number of Bits per Symbol: 6.906890595608519 Number of Bits per Photon:  1.3813781191217038 Number of Bits per Timeslot 0.49334932825775135\n",
      "[6] Number of wyas: 720 Number of Bits per Symbol: 9.491853096329674 Number of Bits per Photon:  1.5819755160549456 Number of Bits per Timeslot 0.6779895068806909\n",
      "[7] Number of wyas: 5040 Number of Bits per Symbol: 12.29920801838728 Number of Bits per Photon:  1.7570297169124685 Number of Bits per Timeslot 0.8785148584562342\n",
      "[8] Number of wyas: 40320 Number of Bits per Symbol: 15.29920801838728 Number of Bits per Photon:  1.91240100229841 Number of Bits per Timeslot 1.0928005727419485\n",
      "[9] Number of wyas: 362880 Number of Bits per Symbol: 18.46913301982959 Number of Bits per Photon:  2.0521258910921767 Number of Bits per Timeslot 1.319223787130685\n",
      "[10] Number of wyas: 3628800 Number of Bits per Symbol: 21.791061114716953 Number of Bits per Photon:  2.1791061114716954 Number of Bits per Timeslot 1.5565043653369253\n",
      "[11] Number of wyas: 39916800 Number of Bits per Symbol: 25.25049273335425 Number of Bits per Photon:  2.2954993393958407 Number of Bits per Timeslot 1.8036066238110178\n",
      "[12] Number of wyas: 479001600 Number of Bits per Symbol: 28.835455234075408 Number of Bits per Photon:  2.402954602839617 Number of Bits per Timeslot 2.059675373862529\n",
      "[13] Number of wyas: 6227020800 Number of Bits per Symbol: 32.5358949522165 Number of Bits per Photon:  2.5027611501705 Number of Bits per Timeslot 2.323992496586893\n",
      "[14] Number of wyas: 87178291200 Number of Bits per Symbol: 36.3432498742741 Number of Bits per Photon:  2.5959464195910074 Number of Bits per Timeslot 2.5959464195910074\n",
      "[15] Number of wyas: 1307674368000 Number of Bits per Symbol: 40.25014046988262 Number of Bits per Photon:  2.683342697992175 Number of Bits per Timeslot 2.8750100335630444\n",
      "[16] Number of wyas: 20922789888000 Number of Bits per Symbol: 44.25014046988262 Number of Bits per Photon:  2.765633779367664 Number of Bits per Timeslot 3.16072431927733\n",
      "[17] Number of wyas: 355687428096000 Number of Bits per Symbol: 48.33760331113296 Number of Bits per Photon:  2.8433884300666445 Number of Bits per Timeslot 3.452685950795211\n",
      "[18] Number of wyas: 6402373705728000 Number of Bits per Symbol: 52.507528312575275 Number of Bits per Photon:  2.917084906254182 Number of Bits per Timeslot 3.75053773661252\n",
      "[19] Number of wyas: 121645100408832000 Number of Bits per Symbol: 56.75545582601886 Number of Bits per Photon:  2.9871292540009926 Number of Bits per Timeslot 4.053961130429919\n",
      "[20] Number of wyas: 2432902008176640000 Number of Bits per Symbol: 61.07738392090622 Number of Bits per Photon:  3.0538691960453113 Number of Bits per Timeslot 4.36267028006473\n"
     ]
    }
   ],
   "source": [
    "for n in range(1,21):  \n",
    "    Jonasbpt(n, 14)"
   ]
  },
  {
   "cell_type": "markdown",
   "metadata": {},
   "source": [
    "# General"
   ]
  },
  {
   "cell_type": "code",
   "execution_count": null,
   "metadata": {},
   "outputs": [],
   "source": [
    "bpt(4,14)"
   ]
  },
  {
   "cell_type": "markdown",
   "metadata": {},
   "source": [
    "# PPM"
   ]
  },
  {
   "cell_type": "code",
   "execution_count": null,
   "metadata": {},
   "outputs": [],
   "source": []
  },
  {
   "cell_type": "markdown",
   "metadata": {},
   "source": [
    "# OOK"
   ]
  },
  {
   "cell_type": "code",
   "execution_count": null,
   "metadata": {},
   "outputs": [],
   "source": []
  },
  {
   "cell_type": "markdown",
   "metadata": {},
   "source": [
    "https://stackoverflow.com/questions/5136447/function-for-factorial-in-python\n",
    "https://stackoverflow.com/questions/5136447/function-for-factorial-in-python\n",
    "\n",
    "https://stackoverflow.com/questions/41906199/how-to-make-a-new-line-in-a-jupyter-markdown-cell\n",
    "\n",
    "https://stackoverflow.com/questions/13209539/function-within-a-function-in-python\n",
    "\n",
    "https://stackoverflow.com/questions/41328633/how-do-i-print-entire-number-in-python-from-describe-function\n",
    "\n",
    "https://realpython.com/python-return-statement/\n",
    "\n",
    "https://www.geeksforgeeks.org/python-return-statement/\n",
    "\n",
    "https://www.freecodecamp.org/news/python-new-line-and-how-to-python-print-without-a-newline/\n",
    "\n"
   ]
  }
 ],
 "metadata": {
  "kernelspec": {
   "display_name": "Python 3",
   "language": "python",
   "name": "python3"
  },
  "language_info": {
   "codemirror_mode": {
    "name": "ipython",
    "version": 3
   },
   "file_extension": ".py",
   "mimetype": "text/x-python",
   "name": "python",
   "nbconvert_exporter": "python",
   "pygments_lexer": "ipython3",
   "version": "3.8.5"
  }
 },
 "nbformat": 4,
 "nbformat_minor": 4
}
