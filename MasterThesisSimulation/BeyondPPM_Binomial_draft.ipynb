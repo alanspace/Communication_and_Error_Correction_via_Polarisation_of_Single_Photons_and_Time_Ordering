{
 "cells": [
  {
   "cell_type": "markdown",
   "metadata": {
    "id": "npX2qMVzYGfO"
   },
   "source": [
    "# Installation and Import of packages, mount the drive"
   ]
  },
  {
   "cell_type": "code",
   "execution_count": 1,
   "metadata": {
    "colab": {
     "base_uri": "https://localhost:8080/"
    },
    "id": "XOngQN3hYEIL",
    "outputId": "6c1ee2bd-7f40-4837-9b6b-d5f02e1cd33b"
   },
   "outputs": [],
   "source": [
    "#from google.colab import drive\n",
    "#drive.mount('/content/drive')"
   ]
  },
  {
   "cell_type": "code",
   "execution_count": 2,
   "metadata": {
    "id": "cuOHnMc4L1J2"
   },
   "outputs": [],
   "source": [
    "#!pip install scipy\n",
    "import pandas as pd\n",
    "from pandas.plotting import table\n",
    "import math\n",
    "from scipy.stats import binom\n",
    "import numpy as np\n",
    "from sympy import *\n",
    "from sympy.stats import *\n",
    "import matplotlib.pyplot as plt\n",
    "from matplotlib import pyplot\n",
    "%matplotlib inline\n",
    "#import dataframe_image as dfi"
   ]
  },
  {
   "cell_type": "markdown",
   "metadata": {
    "id": "FD7CBpXcJBEZ"
   },
   "source": [
    "# Combination\n",
    "\n",
    "$$\\binom{n}{r} = \\frac{n!}{r!(n-r)!}$$\n",
    "\n",
    "Suppose we have a list [1,2,4], 3 photons with length of time bins 7.\n",
    "The ways we can organize them is $3!$, and a selection of these 3 photons from a collection of this 7 time bins in which the order of selection does not matter is $\\binom{n}{r}$. \\\\\n",
    "\n",
    "https://www.math.net/combination\n",
    "\n"
   ]
  },
  {
   "cell_type": "code",
   "execution_count": 3,
   "metadata": {
    "colab": {
     "base_uri": "https://localhost:8080/"
    },
    "id": "NC3rTmetMJtD",
    "outputId": "b473d542-5ad1-4e75-b20c-6f6b28072729"
   },
   "outputs": [
    {
     "data": {
      "text/plain": [
       "35.0"
      ]
     },
     "execution_count": 3,
     "metadata": {},
     "output_type": "execute_result"
    }
   ],
   "source": [
    "def combination(n,r):\n",
    "  return math.factorial(n) / (math.factorial(n-r)*math.factorial(r))\n",
    "\n",
    "combination(7,3)"
   ]
  },
  {
   "cell_type": "markdown",
   "metadata": {
    "id": "u0qpIiUsL6qq"
   },
   "source": [
    "## Binomial Distribution of Loss Error\n",
    "There are n photons in a time bin. The total probability of lossing $l$ photons and not losing $n-l$ photons\n",
    "\n",
    "$$P(n, l, P_l) = \\binom{n}{l} P_l^l(1-P_l)^{n-l} $$\n",
    "\n",
    "$n$ is the number of photon. \\\\\n",
    "$l$ is the number of loss photon. \\\\\n",
    "$P_l$ is the probability of loss error. \\\\"
   ]
  },
  {
   "cell_type": "code",
   "execution_count": 4,
   "metadata": {
    "id": "6pgKIV_ZL7Ip"
   },
   "outputs": [],
   "source": [
    "def LossDistribute(n,l,P_l):\n",
    "  return (math.factorial(n) / (math.factorial(n-l)*math.factorial(l)))*(P_l)**l*(1-P_l)**(n-l)"
   ]
  },
  {
   "cell_type": "code",
   "execution_count": 5,
   "metadata": {
    "colab": {
     "base_uri": "https://localhost:8080/"
    },
    "id": "Ru-L05trL-tJ",
    "outputId": "d4f40234-120e-4e9a-f079-e11296996be4"
   },
   "outputs": [
    {
     "data": {
      "text/plain": [
       "0.4409999999999999"
      ]
     },
     "execution_count": 5,
     "metadata": {},
     "output_type": "execute_result"
    }
   ],
   "source": [
    "LossDistribute(3,1,0.3)"
   ]
  },
  {
   "cell_type": "markdown",
   "metadata": {
    "id": "5Ysfa2aWMJTB"
   },
   "source": [
    "#Binomial Distribution of Error Probability\n",
    "\n",
    "$$\\text{ Binomail Distribution of Error} = \\text{Binomial Distribution of Loss Error} \\times \\text{Binomial Distribution of Added Error} $$\n",
    "\n",
    "\\\\\n",
    "\n",
    "$$P(l, a, n, N, P_l, P_a) = \\binom{n}{l} P_l^l(1-P_l)^{n-l} \\times \\binom{N-n}{a} P_a^a (1-P_a)^{N-n-a}$$\n",
    "\n",
    "$n$ = number of photon \\\\\n",
    "$l$ = number of photon lost \\\\\n",
    "$a$ = number of photon added \\\\\n",
    "$N$ = length of time bin \\\\\n",
    "$P_l$ = probability of lost error \\\\\n",
    "$P_a$ = probability of added error \\\\"
   ]
  },
  {
   "cell_type": "code",
   "execution_count": 6,
   "metadata": {
    "id": "t8tnJHLkMLix"
   },
   "outputs": [],
   "source": [
    "def LossDistribute(n,l,P_l):\n",
    "  return (math.factorial(n) / (math.factorial(n-l)*math.factorial(l)))*(P_l)**l*(1-P_l)**(n-l)"
   ]
  },
  {
   "cell_type": "code",
   "execution_count": 7,
   "metadata": {
    "colab": {
     "base_uri": "https://localhost:8080/"
    },
    "id": "b-ims8p3MNf9",
    "outputId": "68592c86-fd28-4eeb-816c-5c7f2cd6e6d6"
   },
   "outputs": [
    {
     "data": {
      "text/plain": [
       "0.3840000000000001"
      ]
     },
     "execution_count": 7,
     "metadata": {},
     "output_type": "execute_result"
    }
   ],
   "source": [
    "LossDistribute(3,1,0.2)"
   ]
  },
  {
   "cell_type": "code",
   "execution_count": 8,
   "metadata": {
    "id": "ywr8jPteMMd2"
   },
   "outputs": [],
   "source": [
    "def AddDistribute(N, n, a, P_a):\n",
    "  return (math.factorial(N-n) / (math.factorial(N-n-a)*math.factorial(a)))*(P_a)**a*(1-P_a)**(N-n-a)"
   ]
  },
  {
   "cell_type": "code",
   "execution_count": 9,
   "metadata": {
    "colab": {
     "base_uri": "https://localhost:8080/"
    },
    "id": "tsq4Sl7aMOaU",
    "outputId": "0720f8e7-2b8c-470f-c105-33f585fe5f19"
   },
   "outputs": [
    {
     "data": {
      "text/plain": [
       "0.40960000000000013"
      ]
     },
     "execution_count": 9,
     "metadata": {},
     "output_type": "execute_result"
    }
   ],
   "source": [
    "AddDistribute(7,3,1,0.2)"
   ]
  },
  {
   "cell_type": "code",
   "execution_count": 10,
   "metadata": {
    "id": "TQqLf0tSMPTR"
   },
   "outputs": [],
   "source": [
    "def Perr(N,n,l,a, P_l, P_a):\n",
    "  return (math.factorial(n) / (math.factorial(n-l) * math.factorial(l))) * (P_l)**l*(1-P_l)**(n-l) * (math.factorial(N-n) / (math.factorial(N-n-a) * math.factorial(a))) * (P_a)**a*(1-P_a)**(N-n-a) "
   ]
  },
  {
   "cell_type": "code",
   "execution_count": 11,
   "metadata": {
    "colab": {
     "base_uri": "https://localhost:8080/"
    },
    "id": "Vd6KYBszMTbp",
    "outputId": "31ba9da6-d84b-494f-ece5-6b9f735943dc"
   },
   "outputs": [
    {
     "data": {
      "text/plain": [
       "0.1572864000000001"
      ]
     },
     "execution_count": 11,
     "metadata": {},
     "output_type": "execute_result"
    }
   ],
   "source": [
    "Perr(7,3,1,1, 0.2, 0.2)"
   ]
  },
  {
   "cell_type": "markdown",
   "metadata": {
    "id": "7TcWGGoCPxnC"
   },
   "source": [
    "# SymPy"
   ]
  },
  {
   "cell_type": "code",
   "execution_count": 12,
   "metadata": {
    "id": "x6wgWJu7Ppdp"
   },
   "outputs": [],
   "source": [
    "import sympy as sy"
   ]
  },
  {
   "cell_type": "code",
   "execution_count": 13,
   "metadata": {
    "id": "qgtlC5-zPmc2"
   },
   "outputs": [],
   "source": [
    "# Perr(N,n,l,a, P_l, P_a)\n",
    "N,n,l,a,P, P = sy.symbols('N,n,l,a,P, P')"
   ]
  },
  {
   "cell_type": "code",
   "execution_count": 14,
   "metadata": {
    "id": "0QijWg1qP2OC"
   },
   "outputs": [],
   "source": [
    "# make a general expression for Binomial Distribution of Loss Error\n",
    "# (math.factorial(n) / (math.factorial(n-l)*math.factorial(l)))*(P_l)**l*(1-P_l)**(n-l)\n",
    "# n,l,P_l\n",
    "n, l, P = sy.symbols('n,l,P')\n",
    "#binomial(N,K)\n",
    "loss = binomial(n,l)*(P)**l*(1-P)**(n-l)"
   ]
  },
  {
   "cell_type": "code",
   "execution_count": 15,
   "metadata": {
    "id": "NsgFjFujQwhG"
   },
   "outputs": [],
   "source": [
    "# make a general expression for Binomial Distribution of Add Error\n",
    "# (math.factorial(N-n) / (math.factorial(N-n-a)*math.factorial(a)))*(P_a)**a*(1-P_a)**(N-n-a)\n",
    "# N, n, a, P_a\n",
    "N, n, a, P = sy.symbols('N, n, a, P')\n",
    "add = binomial(N-n,a)*(P)**a*(1-P)**(N-n-a)"
   ]
  },
  {
   "cell_type": "code",
   "execution_count": 16,
   "metadata": {
    "id": "80tVALF5Q97Y"
   },
   "outputs": [],
   "source": [
    "# substitute to get z_4 in parallel with z_{n-1} = z_n \n",
    "Loss = loss.subs([(n,n),(l,l), (P,P)])\n",
    "Add = add.subs([(N,N),(n,n), (a,a), (P,P)])"
   ]
  },
  {
   "cell_type": "code",
   "execution_count": 17,
   "metadata": {},
   "outputs": [
    {
     "data": {
      "text/latex": [
       "$\\displaystyle P^{l} \\left(1 - P\\right)^{- l + n} {\\binom{n}{l}}$"
      ],
      "text/plain": [
       "P**l*(1 - P)**(-l + n)*binomial(n, l)"
      ]
     },
     "execution_count": 17,
     "metadata": {},
     "output_type": "execute_result"
    }
   ],
   "source": [
    "Loss"
   ]
  },
  {
   "cell_type": "code",
   "execution_count": 18,
   "metadata": {},
   "outputs": [
    {
     "data": {
      "text/latex": [
       "$\\displaystyle P^{a} \\left(1 - P\\right)^{N - a - n} {\\binom{N - n}{a}}$"
      ],
      "text/plain": [
       "P**a*(1 - P)**(N - a - n)*binomial(N - n, a)"
      ]
     },
     "execution_count": 18,
     "metadata": {},
     "output_type": "execute_result"
    }
   ],
   "source": [
    "Add"
   ]
  },
  {
   "cell_type": "code",
   "execution_count": 19,
   "metadata": {},
   "outputs": [
    {
     "data": {
      "text/latex": [
       "$\\displaystyle P^{a} P^{l} \\left(1 - P\\right)^{- l + n} \\left(1 - P\\right)^{N - a - n} {\\binom{n}{l}} {\\binom{N - n}{a}}$"
      ],
      "text/plain": [
       "P**a*P**l*(1 - P)**(-l + n)*(1 - P)**(N - a - n)*binomial(n, l)*binomial(N - n, a)"
      ]
     },
     "execution_count": 19,
     "metadata": {},
     "output_type": "execute_result"
    }
   ],
   "source": [
    "Perr = Loss*Add\n",
    "Perr"
   ]
  },
  {
   "cell_type": "code",
   "execution_count": 20,
   "metadata": {},
   "outputs": [],
   "source": [
    "Perr_1 = Perr.subs([(N,7),(n,3), (l, 0), (a, 0), (P, P), (P,P)])\n",
    "Perr_2 = Perr.subs([(N,7),(n,3), (l, 1), (a, 0), (P, P), (P,P)])\n",
    "Perr_3 = Perr.subs([(N,7),(n,3), (l, 0), (a, 1), (P, P), (P,P)])\n",
    "#Perr_plot0 = Perr_plot.args[0].args[1]\n",
    "#Perr_plot1 = Perr_plot.args[0].args[2]\n",
    "#p = plot(Perr_plot, show = False)"
   ]
  },
  {
   "cell_type": "code",
   "execution_count": 21,
   "metadata": {},
   "outputs": [
    {
     "data": {
      "text/latex": [
       "$\\displaystyle 7 P \\left(1 - P\\right)^{6} + \\left(1 - P\\right)^{7}$"
      ],
      "text/plain": [
       "7*P*(1 - P)**6 + (1 - P)**7"
      ]
     },
     "execution_count": 21,
     "metadata": {},
     "output_type": "execute_result"
    }
   ],
   "source": [
    "P_Success = Perr_1 + Perr_2 + Perr_3\n",
    "P_Success"
   ]
  },
  {
   "cell_type": "code",
   "execution_count": 22,
   "metadata": {},
   "outputs": [
    {
     "data": {
      "text/latex": [
       "$\\displaystyle - 7 P \\left(1 - P\\right)^{6} - \\left(1 - P\\right)^{7} + 1$"
      ],
      "text/plain": [
       "-7*P*(1 - P)**6 - (1 - P)**7 + 1"
      ]
     },
     "execution_count": 22,
     "metadata": {},
     "output_type": "execute_result"
    }
   ],
   "source": [
    "P_Detect = 1 - P_Success\n",
    "P_Detect"
   ]
  },
  {
   "cell_type": "code",
   "execution_count": 23,
   "metadata": {},
   "outputs": [
    {
     "data": {
      "image/png": "[encoded data removed]",
      "text/plain": [
       "<Figure size 640x480 with 1 Axes>"
      ]
     },
     "metadata": {},
     "output_type": "display_data"
    }
   ],
   "source": [
    "p1 = plot(P_Success, show = False)\n",
    "#p2 = plot(P, show = False)\n",
    "#p1.append(p2[0])\n",
    "p1.show()"
   ]
  },
  {
   "cell_type": "code",
   "execution_count": 24,
   "metadata": {},
   "outputs": [],
   "source": [
    "#loss = (P, binomial(3,1)*(P)**1*(1-P)**(3-1))\n",
    "#add = (P, binomial(7-3,1)*(P)**1*(1-P)**(7-3-1))\n",
    "\n",
    "#p = plot_parametric(loss, add, (p,0,1), line_color = 'blue')"
   ]
  },
  {
   "cell_type": "code",
   "execution_count": 25,
   "metadata": {},
   "outputs": [
    {
     "ename": "NameError",
     "evalue": "name 'Zrl' is not defined",
     "output_type": "error",
     "traceback": [
      "\u001b[0;31m---------------------------------------------------------------------------\u001b[0m",
      "\u001b[0;31mNameError\u001b[0m                                 Traceback (most recent call last)",
      "Cell \u001b[0;32mIn[25], line 1\u001b[0m\n\u001b[0;32m----> 1\u001b[0m z_plot \u001b[39m=\u001b[39m Zrl\u001b[39m.\u001b[39msubs( [(L,\u001b[39m1.\u001b[39m),(C,\u001b[39m1.\u001b[39m)])\n\u001b[1;32m      2\u001b[0m z_plot0 \u001b[39m=\u001b[39m z_plot\u001b[39m.\u001b[39margs[\u001b[39m0\u001b[39m]\u001b[39m.\u001b[39margs[\u001b[39m0\u001b[39m]\n\u001b[1;32m      3\u001b[0m z_plot1 \u001b[39m=\u001b[39m z_plot\u001b[39m.\u001b[39margs[\u001b[39m0\u001b[39m]\u001b[39m.\u001b[39margs[\u001b[39m1\u001b[39m]\n",
      "\u001b[0;31mNameError\u001b[0m: name 'Zrl' is not defined"
     ]
    }
   ],
   "source": [
    "z_plot = Zrl.subs( [(L,1.),(C,1.)])\n",
    "z_plot0 = z_plot.args[0].args[0]\n",
    "z_plot1 = z_plot.args[0].args[1]"
   ]
  },
  {
   "cell_type": "code",
   "execution_count": null,
   "metadata": {},
   "outputs": [],
   "source": [
    "p0 = sy.plot(sy.(z_plot0),(w,0,4.), show=False, line_color='C0', label='Re Z', legend=True,\n",
    "            xlabel='$\\omega L$', ylabel='$Z / Z_c$', title='first solution[0]')"
   ]
  },
  {
   "cell_type": "markdown",
   "metadata": {
    "id": "kPjlAjyeQRTW"
   },
   "source": [
    "# Draft"
   ]
  },
  {
   "cell_type": "code",
   "execution_count": null,
   "metadata": {
    "id": "22KUvn_4NPH2"
   },
   "outputs": [],
   "source": [
    "# substitute to get z_4 in parallel with z_{n-1} = z_n \n",
    "Zp_4n = parallel.subs([(a,Z4),(b,Zn)])\n",
    "Zs_34n = series.subs([(c,Z3),(d,Zp_4n)])\n",
    "\n",
    "Zp_234n = parallel.subs([(a,Z2),(b,Zs_34n)])\n",
    "Zs_1234n = series.subs([(c,Z1),(d,Zp_234n)])\n",
    "\n",
    "\n",
    "L, C, w = sy.symbols('L, C, w')\n",
    "Zrl = Zn.subs( [ (Z1,sy.I*w*L), (Z2,1/(sy.I*w*C)),(Z3,sy.I*2*w*L), (Z4,1/(sy.I*2*w*C))  ] )\n",
    "Zrl\n",
    "\n",
    "z_plot = Zrl.subs( [(L,1.),(C,1.)])\n",
    "z_plot0 = z_plot.args[0].args[0]\n",
    "z_plot1 = z_plot.args[0].args[1]\n",
    "\n",
    "p0 = sy.plot(sy.re(z_plot0),(w,0,4.), show=False, line_color='C0', label='Re Z', legend=True,\n",
    "            xlabel='$\\omega L$', ylabel='$Z / Z_c$', title='first solution[0]')\n",
    "p0im = sy.plot(sy.im(z_plot0),(w,0,4.), show=False, line_color='C1', label='Im Z', legend=True)\n",
    "\n",
    "p1 = sy.plot(sy.re(z_plot1),(w,0,4.), show=False, line_color='C0', label='Re Z', legend=True,\n",
    "            xlabel='$\\omega L$', ylabel='$Z / Z_c$', title='second solution[1]')\n",
    "p1im = sy.plot(sy.im(z_plot1),(w,0,4.), show=False, line_color='C1', label='Im Z', legend=True)\n",
    "\n",
    "p0.extend(p0im)\n",
    "p1.extend(p1im)\n",
    "\n",
    "p0.show()\n",
    "p1.show()"
   ]
  },
  {
   "cell_type": "code",
   "execution_count": null,
   "metadata": {
    "colab": {
     "base_uri": "https://localhost:8080/"
    },
    "id": "QxDHFoGvL8kc",
    "outputId": "f56ce54f-b9aa-4624-dc86-f6f933c21fe0"
   },
   "outputs": [
    {
     "data": {
      "text/plain": [
       "0.4409999999999998"
      ]
     },
     "execution_count": 25,
     "metadata": {},
     "output_type": "execute_result"
    }
   ],
   "source": [
    "n = 3\n",
    "k = 1\n",
    "p = 0.3\n",
    "binom.pmf(k, n, p)"
   ]
  },
  {
   "cell_type": "code",
   "execution_count": null,
   "metadata": {
    "id": "WLEWuV72MRQy"
   },
   "outputs": [],
   "source": [
    "# for N in range (1, 7):\n",
    "#   for n in range(1,4):\n",
    "#     (n,N)\n",
    "# print(n,N)"
   ]
  },
  {
   "cell_type": "code",
   "execution_count": null,
   "metadata": {
    "id": "O_DJdxdBMQQH"
   },
   "outputs": [],
   "source": [
    "# for N in range (1, 7):\n",
    "#   for n in range(1,3):\n",
    "#     for l in range(1,3):\n",
    "#       X = Perr(N,n,l,a, P_l, P_a)\n",
    "# binDist = density(X).dict"
   ]
  },
  {
   "cell_type": "code",
   "execution_count": null,
   "metadata": {
    "id": "lj3J_RdeMUpW"
   },
   "outputs": [],
   "source": [
    "from sympy.abc import x, y\n",
    "from sympy import solve"
   ]
  },
  {
   "cell_type": "code",
   "execution_count": null,
   "metadata": {
    "colab": {
     "base_uri": "https://localhost:8080/"
    },
    "id": "2h4Lrcs1MVlH",
    "outputId": "8e513e5a-5c9b-49d9-aeff-0e347da2d28d"
   },
   "outputs": [
    {
     "data": {
      "text/plain": [
       "[{x: -sqrt(y)}, {x: sqrt(y)}]"
      ]
     },
     "execution_count": 29,
     "metadata": {},
     "output_type": "execute_result"
    }
   ],
   "source": [
    "solve(x**2 - y, x, dict=True)"
   ]
  },
  {
   "cell_type": "code",
   "execution_count": null,
   "metadata": {
    "colab": {
     "base_uri": "https://localhost:8080/"
    },
    "id": "SdHUjo7QMWiS",
    "outputId": "21effb57-70f0-4b45-9807-411b259ddbeb"
   },
   "outputs": [
    {
     "name": "stdout",
     "output_type": "stream",
     "text": [
      "N = 7, K = 3\n",
      "N choose K : 35\n"
     ]
    }
   ],
   "source": [
    "from sympy import * \n",
    "  \n",
    "N = 7\n",
    "K = 3 \n",
    "print(\"N = {}, K = {}\".format(N, K))\n",
    "   \n",
    "# Use sympy.binomial() method \n",
    "comb = binomial(N, K)  \n",
    "      \n",
    "print(\"N choose K : {}\".format(comb)) "
   ]
  },
  {
   "cell_type": "code",
   "execution_count": null,
   "metadata": {
    "colab": {
     "base_uri": "https://localhost:8080/"
    },
    "id": "_VjcIh5gMXaL",
    "outputId": "6a120b84-e818-448a-970f-a55c82fa1516"
   },
   "outputs": [
    {
     "name": "stdout",
     "output_type": "stream",
     "text": [
      "N = A, K = B\n",
      "N choose K : binomial(A, B)\n"
     ]
    }
   ],
   "source": [
    "from sympy import * \n",
    "  \n",
    "N, K = symbols('A B')\n",
    "  \n",
    "print(\"N = {}, K = {}\".format(N, K))\n",
    "   \n",
    "# Use sympy.binomial() method \n",
    "comb = binomial(N, K)  \n",
    "      \n",
    "print(\"N choose K : {}\".format(comb))"
   ]
  },
  {
   "cell_type": "code",
   "execution_count": null,
   "metadata": {
    "colab": {
     "base_uri": "https://localhost:8080/"
    },
    "id": "-tCoSbLJMYt4",
    "outputId": "e615da7f-c95d-4b89-f631-818970f42d7f"
   },
   "outputs": [
    {
     "name": "stdout",
     "output_type": "stream",
     "text": [
      "{0: 0.197530864197531, 1: 0.395061728395062, 2: 0.296296296296296, 3: 0.0987654320987654, 4: 0.0123456790123457}\n"
     ]
    }
   ],
   "source": [
    "# Import sympy, Binomial, density\n",
    "from sympy.stats import Binomial, density\n",
    "\n",
    "# Using sympy.stats.Binomial() method\n",
    "X = Binomial('X', 4, 1 / 3)\n",
    "binDist = density(X).dict\n",
    "\n",
    "print(binDist)\n"
   ]
  },
  {
   "cell_type": "code",
   "execution_count": null,
   "metadata": {
    "colab": {
     "base_uri": "https://localhost:8080/",
     "height": 282
    },
    "id": "spG_sjjUMZks",
    "outputId": "596dec82-59a1-4509-99b4-a5ed0733157c"
   },
   "outputs": [
    {
     "data": {
      "text/plain": [
       "[<matplotlib.lines.Line2D at 0x7faba3a6aaf0>]"
      ]
     },
     "execution_count": 33,
     "metadata": {},
     "output_type": "execute_result"
    },
    {
     "data": {
      "image/png": "[encoded data removed]",
      "text/plain": [
       "<Figure size 432x288 with 1 Axes>"
      ]
     },
     "metadata": {
      "needs_background": "light"
     },
     "output_type": "display_data"
    }
   ],
   "source": [
    "d = density(X)\n",
    "u = np.arange(0,100)\n",
    "v = [d(i) for i in u]\n",
    "\n",
    "pyplot.plot(u,v)"
   ]
  },
  {
   "cell_type": "code",
   "execution_count": null,
   "metadata": {
    "colab": {
     "base_uri": "https://localhost:8080/"
    },
    "id": "JjapX8kqMafu",
    "outputId": "9ce033ed-ae71-44f5-9903-24cff94c6d6f"
   },
   "outputs": [
    {
     "name": "stdout",
     "output_type": "stream",
     "text": [
      "{0: 0.197530864197531, 1: 0.395061728395062, 2: 0.296296296296296, 3: 0.0987654320987654, 4: 0.0123456790123457}\n"
     ]
    }
   ],
   "source": [
    "# Using sympy.stats.Binomial() method\n",
    "Error = Binomial('X', 4, 1 / 3)\n",
    "binDist = density(X).dict\n",
    "\n",
    "print(binDist)"
   ]
  },
  {
   "cell_type": "code",
   "execution_count": null,
   "metadata": {
    "colab": {
     "base_uri": "https://localhost:8080/",
     "height": 282
    },
    "id": "K72az0m1MbjR",
    "outputId": "55aaa091-e3c8-426d-a38a-114ebf6bc36a"
   },
   "outputs": [
    {
     "data": {
      "text/plain": [
       "[<matplotlib.lines.Line2D at 0x7faba34f48e0>]"
      ]
     },
     "execution_count": 35,
     "metadata": {},
     "output_type": "execute_result"
    },
    {
     "data": {
      "image/png": "[encoded data removed]",
      "text/plain": [
       "<Figure size 432x288 with 1 Axes>"
      ]
     },
     "metadata": {
      "needs_background": "light"
     },
     "output_type": "display_data"
    }
   ],
   "source": [
    "\n",
    "\n",
    "X = Binomial('X', 100 ,  S.Half, 1, 0)\n",
    "\n",
    "d = density(X)\n",
    "u = np.arange(0,100)\n",
    "v1 = [d(i) for i in u]\n",
    "\n",
    "pyplot.plot(u,v1)"
   ]
  },
  {
   "cell_type": "code",
   "execution_count": null,
   "metadata": {
    "colab": {
     "base_uri": "https://localhost:8080/",
     "height": 357
    },
    "id": "Z7gSYbGYMfgV",
    "outputId": "bd3f79de-5d7e-4564-f591-c415a1d0ddc2"
   },
   "outputs": [
    {
     "ename": "NameError",
     "evalue": "ignored",
     "output_type": "error",
     "traceback": [
      "\u001b[0;31m---------------------------------------------------------------------------\u001b[0m",
      "\u001b[0;31mNameError\u001b[0m                                 Traceback (most recent call last)",
      "\u001b[0;32m<ipython-input-36-b800d258ed60>\u001b[0m in \u001b[0;36m<module>\u001b[0;34m\u001b[0m\n\u001b[1;32m      8\u001b[0m   \u001b[0;31m#number of time bin\u001b[0m\u001b[0;34m\u001b[0m\u001b[0;34m\u001b[0m\u001b[0;34m\u001b[0m\u001b[0m\n\u001b[1;32m      9\u001b[0m   \u001b[0;31m#TimeBin = T[n-1]\u001b[0m\u001b[0;34m\u001b[0m\u001b[0;34m\u001b[0m\u001b[0;34m\u001b[0m\u001b[0m\n\u001b[0;32m---> 10\u001b[0;31m   \u001b[0mv1\u001b[0m \u001b[0;34m=\u001b[0m \u001b[0;34m[\u001b[0m\u001b[0mLossDistribute\u001b[0m\u001b[0;34m(\u001b[0m\u001b[0mTimeBin\u001b[0m\u001b[0;34m,\u001b[0m \u001b[0mi\u001b[0m\u001b[0;34m,\u001b[0m \u001b[0;36m0.3\u001b[0m\u001b[0;34m)\u001b[0m \u001b[0;32mfor\u001b[0m \u001b[0mi\u001b[0m \u001b[0;32min\u001b[0m \u001b[0ml\u001b[0m\u001b[0;34m]\u001b[0m\u001b[0;34m\u001b[0m\u001b[0;34m\u001b[0m\u001b[0m\n\u001b[0m\u001b[1;32m     11\u001b[0m \u001b[0;34m\u001b[0m\u001b[0m\n\u001b[1;32m     12\u001b[0m \u001b[0mpyplot\u001b[0m\u001b[0;34m.\u001b[0m\u001b[0mplot\u001b[0m\u001b[0;34m(\u001b[0m\u001b[0ml\u001b[0m\u001b[0;34m,\u001b[0m\u001b[0mv1\u001b[0m\u001b[0;34m)\u001b[0m\u001b[0;34m\u001b[0m\u001b[0;34m\u001b[0m\u001b[0m\n",
      "\u001b[0;32m<ipython-input-36-b800d258ed60>\u001b[0m in \u001b[0;36m<listcomp>\u001b[0;34m(.0)\u001b[0m\n\u001b[1;32m      8\u001b[0m   \u001b[0;31m#number of time bin\u001b[0m\u001b[0;34m\u001b[0m\u001b[0;34m\u001b[0m\u001b[0;34m\u001b[0m\u001b[0m\n\u001b[1;32m      9\u001b[0m   \u001b[0;31m#TimeBin = T[n-1]\u001b[0m\u001b[0;34m\u001b[0m\u001b[0;34m\u001b[0m\u001b[0;34m\u001b[0m\u001b[0m\n\u001b[0;32m---> 10\u001b[0;31m   \u001b[0mv1\u001b[0m \u001b[0;34m=\u001b[0m \u001b[0;34m[\u001b[0m\u001b[0mLossDistribute\u001b[0m\u001b[0;34m(\u001b[0m\u001b[0mTimeBin\u001b[0m\u001b[0;34m,\u001b[0m \u001b[0mi\u001b[0m\u001b[0;34m,\u001b[0m \u001b[0;36m0.3\u001b[0m\u001b[0;34m)\u001b[0m \u001b[0;32mfor\u001b[0m \u001b[0mi\u001b[0m \u001b[0;32min\u001b[0m \u001b[0ml\u001b[0m\u001b[0;34m]\u001b[0m\u001b[0;34m\u001b[0m\u001b[0;34m\u001b[0m\u001b[0m\n\u001b[0m\u001b[1;32m     11\u001b[0m \u001b[0;34m\u001b[0m\u001b[0m\n\u001b[1;32m     12\u001b[0m \u001b[0mpyplot\u001b[0m\u001b[0;34m.\u001b[0m\u001b[0mplot\u001b[0m\u001b[0;34m(\u001b[0m\u001b[0ml\u001b[0m\u001b[0;34m,\u001b[0m\u001b[0mv1\u001b[0m\u001b[0;34m)\u001b[0m\u001b[0;34m\u001b[0m\u001b[0;34m\u001b[0m\u001b[0m\n",
      "\u001b[0;31mNameError\u001b[0m: name 'TimeBin' is not defined"
     ]
    }
   ],
   "source": [
    "n = [1, 2, 4, 7, 12, 20, 29, 38, 52, 73, 94, 127, 151, 181, 211] \n",
    "T = [1, 3, 7, 14, 26, 46, 75, 113, 165, 238, 332, 459, 610, 791, 1002]\n",
    "\n",
    "#number of loss\n",
    "l = np.arange(0,4)\n",
    "#number of photon\n",
    "for n in range(2,7):\n",
    "  #number of time bin\n",
    "  #TimeBin = T[n-1]\n",
    "  v1 = [LossDistribute(TimeBin, i, 0.3) for i in l]\n",
    "\n",
    "pyplot.plot(l,v1)\n"
   ]
  },
  {
   "cell_type": "code",
   "execution_count": null,
   "metadata": {
    "colab": {
     "base_uri": "https://localhost:8080/"
    },
    "id": "1ph_kj3WMnGR",
    "outputId": "6d1d969c-25bc-4ad6-dd01-8ad7ce4ffef8"
   },
   "outputs": [
    {
     "name": "stdout",
     "output_type": "stream",
     "text": [
      "{0: 1/1267650600228229401496703205376, 1: 25/316912650057057350374175801344, 2: 2475/633825300114114700748351602688, 3: 40425/316912650057057350374175801344, 4: 3921225/1267650600228229401496703205376, 5: 2352735/39614081257132168796771975168, 6: 74503275/79228162514264337593543950336, 7: 500236275/39614081257132168796771975168, 8: 46521973575/316912650057057350374175801344, 9: 118889488025/79228162514264337593543950336, 10: 2163788682055/158456325028528675187087900672, 11: 8851862790225/79228162514264337593543950336, 12: 262605262776675/316912650057057350374175801344, 13: 222204453118725/39614081257132168796771975168, 14: 2761683917332725/79228162514264337593543950336, 15: 7916827229687145/39614081257132168796771975168, 16: 672930314523407325/633825300114114700748351602688, 17: 831266859117150225/158456325028528675187087900672, 18: 7666127700747052075/316912650057057350374175801344, 19: 16542696617401533425/158456325028528675187087900672, 20: 267991685201904841485/633825300114114700748351602688, 21: 63807544095691628925/39614081257132168796771975168, 22: 458254180323603516825/79228162514264337593543950336, 23: 777039697070458137225/39614081257132168796771975168, 24: 19944018891475092188775/316912650057057350374175801344, 25: 15157454357521070063469/79228162514264337593543950336, 26: 87446852062621558058475/158456325028528675187087900672, 27: 119834575048777690672725/79228162514264337593543950336, 28: 1249703425508681631301275/316912650057057350374175801344, 29: 387838994123383954541775/39614081257132168796771975168, 30: 1835771238850684051497735/79228162514264337593543950336, 31: 2072644947089481993626475/39614081257132168796771975168, 32: 143012501349174257560226775/1267650600228229401496703205376, 33: 73673106755635223591631975/316912650057057350374175801344, 34: 290358714860444704743490725/633825300114114700748351602688, 35: 273766788296990721615291255/316912650057057350374175801344, 36: 1977204582144932989443770175/1267650600228229401496703205376, 37: 53437961679592783498480275/19807040628566084398385987584, 38: 177189030832333966337066175/39614081257132168796771975168, 39: 140842562969291101447411575/19807040628566084398385987584, 40: 1718279268225351437658421215/158456325028528675187087900672, 41: 628638756667811501582349225/39614081257132168796771975168, 42: 1766175554447660885398028775/79228162514264337593543950336, 43: 1191141652999585248291693825/39614081257132168796771975168, 44: 6172279474634214468420595275/158456325028528675187087900672, 45: 960132362720877806198759265/19807040628566084398385987584, 46: 2295968693462968666997033025/39614081257132168796771975168, 47: 1318960738797875617211061525/19807040628566084398385987584, 48: 23301639718762469237395420275/316912650057057350374175801344, 49: 6182067680488002042574295175/79228162514264337593543950336, 50: 12611418068195524166851562157/158456325028528675187087900672, 51: 6182067680488002042574295175/79228162514264337593543950336, 52: 23301639718762469237395420275/316912650057057350374175801344, 53: 1318960738797875617211061525/19807040628566084398385987584, 54: 2295968693462968666997033025/39614081257132168796771975168, 55: 960132362720877806198759265/19807040628566084398385987584, 56: 6172279474634214468420595275/158456325028528675187087900672, 57: 1191141652999585248291693825/39614081257132168796771975168, 58: 1766175554447660885398028775/79228162514264337593543950336, 59: 628638756667811501582349225/39614081257132168796771975168, 60: 1718279268225351437658421215/158456325028528675187087900672, 61: 140842562969291101447411575/19807040628566084398385987584, 62: 177189030832333966337066175/39614081257132168796771975168, 63: 53437961679592783498480275/19807040628566084398385987584, 64: 1977204582144932989443770175/1267650600228229401496703205376, 65: 273766788296990721615291255/316912650057057350374175801344, 66: 290358714860444704743490725/633825300114114700748351602688, 67: 73673106755635223591631975/316912650057057350374175801344, 68: 143012501349174257560226775/1267650600228229401496703205376, 69: 2072644947089481993626475/39614081257132168796771975168, 70: 1835771238850684051497735/79228162514264337593543950336, 71: 387838994123383954541775/39614081257132168796771975168, 72: 1249703425508681631301275/316912650057057350374175801344, 73: 119834575048777690672725/79228162514264337593543950336, 74: 87446852062621558058475/158456325028528675187087900672, 75: 15157454357521070063469/79228162514264337593543950336, 76: 19944018891475092188775/316912650057057350374175801344, 77: 777039697070458137225/39614081257132168796771975168, 78: 458254180323603516825/79228162514264337593543950336, 79: 63807544095691628925/39614081257132168796771975168, 80: 267991685201904841485/633825300114114700748351602688, 81: 16542696617401533425/158456325028528675187087900672, 82: 7666127700747052075/316912650057057350374175801344, 83: 831266859117150225/158456325028528675187087900672, 84: 672930314523407325/633825300114114700748351602688, 85: 7916827229687145/39614081257132168796771975168, 86: 2761683917332725/79228162514264337593543950336, 87: 222204453118725/39614081257132168796771975168, 88: 262605262776675/316912650057057350374175801344, 89: 8851862790225/79228162514264337593543950336, 90: 2163788682055/158456325028528675187087900672, 91: 118889488025/79228162514264337593543950336, 92: 46521973575/316912650057057350374175801344, 93: 500236275/39614081257132168796771975168, 94: 74503275/79228162514264337593543950336, 95: 2352735/39614081257132168796771975168, 96: 3921225/1267650600228229401496703205376, 97: 40425/316912650057057350374175801344, 98: 2475/633825300114114700748351602688, 99: 25/316912650057057350374175801344, 100: 1/1267650600228229401496703205376}\n"
     ]
    }
   ],
   "source": [
    "# Using sympy.stats.Binomial() method\n",
    "Error = Binomial('X', 4, 1 / 3)\n",
    "binDist = density(X).dict\n",
    "\n",
    "print(binDist)"
   ]
  },
  {
   "cell_type": "code",
   "execution_count": null,
   "metadata": {
    "colab": {
     "base_uri": "https://localhost:8080/"
    },
    "id": "1K5x57GEMoLL",
    "outputId": "544caa80-efc8-4fea-9b2f-c1d55587ce95"
   },
   "outputs": [
    {
     "name": "stdout",
     "output_type": "stream",
     "text": [
      "0.0\n",
      "0.0\n",
      "0.0\n",
      "0.0\n",
      "0.0\n",
      "0.0\n",
      "0.0\n",
      "0.0\n",
      "0.0\n",
      "0.0\n"
     ]
    }
   ],
   "source": [
    "l = [1,2,3]\n",
    "p_l = []\n",
    "for l in range (0,5):\n",
    "  for P_l in range (0,2):\n",
    "    print(LossDistribute(7,n,P_l))\n",
    "\n",
    "\n",
    "\n",
    "    "
   ]
  },
  {
   "cell_type": "code",
   "execution_count": null,
   "metadata": {
    "colab": {
     "base_uri": "https://localhost:8080/"
    },
    "id": "_gx5zyeqMpWw",
    "outputId": "99dda3b1-cdec-4cd6-8d00-3d9d3b893c5e"
   },
   "outputs": [
    {
     "name": "stdout",
     "output_type": "stream",
     "text": [
      "r\tp(r)\n",
      "0\t0.0040960000000000015\n",
      "1\t0.03686400000000002\n",
      "2\t0.1382400000000001\n",
      "3\t0.2764800000000001\n",
      "4\t0.3110400000000001\n",
      "5\t0.1866240000000001\n",
      "6\t0.04665599999999999\n",
      "mean = 3.5999999999999996\n",
      "variance = 1.44\n"
     ]
    }
   ],
   "source": [
    "from scipy.stats import binom\n",
    "# setting the values\n",
    "# of n and p\n",
    "n = 6\n",
    "p = 0.6\n",
    "# defining the list of r values\n",
    "r_values = list(range(n + 1))\n",
    "# obtaining the mean and variance\n",
    "mean, var = binom.stats(n, p)\n",
    "# list of pmf values\n",
    "dist = [binom.pmf(r, n, p) for r in r_values ]\n",
    "# printing the table\n",
    "print(\"r\\tp(r)\")\n",
    "for i in range(n + 1):\n",
    "\tprint(str(r_values[i]) + \"\\t\" + str(dist[i]))\n",
    "# printing mean and variance\n",
    "print(\"mean = \"+str(mean))\n",
    "print(\"variance = \"+str(var))\n"
   ]
  },
  {
   "cell_type": "code",
   "execution_count": null,
   "metadata": {
    "colab": {
     "base_uri": "https://localhost:8080/",
     "height": 265
    },
    "id": "VwTSBeB-MqzP",
    "outputId": "38e6261c-49bc-4309-92a1-a93b5fc80c92"
   },
   "outputs": [
    {
     "data": {
      "image/png": "[encoded data removed]",
      "text/plain": [
       "<Figure size 432x288 with 1 Axes>"
      ]
     },
     "metadata": {
      "needs_background": "light"
     },
     "output_type": "display_data"
    }
   ],
   "source": [
    "from scipy.stats import binom\n",
    "import matplotlib.pyplot as plt\n",
    "# setting the values\n",
    "# of n and p\n",
    "n = 6\n",
    "p = 0.6\n",
    "# defining list of r values\n",
    "r_values = list(range(n + 1))\n",
    "# list of pmf values\n",
    "dist = [binom.pmf(r, n, p) for r in r_values ]\n",
    "# plotting the graph\n",
    "plt.bar(r_values, dist)\n",
    "plt.show()\n"
   ]
  },
  {
   "cell_type": "code",
   "execution_count": null,
   "metadata": {
    "id": "QB61EPxCMr1U"
   },
   "outputs": [],
   "source": []
  }
 ],
 "metadata": {
  "colab": {
   "provenance": []
  },
  "kernelspec": {
   "display_name": "Python 3",
   "language": "python",
   "name": "python3"
  },
  "language_info": {
   "codemirror_mode": {
    "name": "ipython",
    "version": 3
   },
   "file_extension": ".py",
   "mimetype": "text/x-python",
   "name": "python",
   "nbconvert_exporter": "python",
   "pygments_lexer": "ipython3",
   "version": "3.8.2"
  }
 },
 "nbformat": 4,
 "nbformat_minor": 4
}
