{
  "cells": [
    {
      "cell_type": "code",
      "execution_count": 1,
      "metadata": {
        "id": "H0g2wRWuEqIw"
      },
      "outputs": [],
      "source": [
        "import numpy as np\n",
        "import matplotlib.pyplot as plt\n",
        "import itertools\n",
        "import math\n",
        "from pyparsing import python_style_comment\n",
        "from itertools import islice\n",
        "import scipy.sparse as sps\n",
        "from scipy.sparse import diags\n",
        "from functools import lru_cache\n",
        "import pandas as pd"
      ]
    },
    {
      "cell_type": "markdown",
      "metadata": {
        "id": "fXpCmhdiEqI0"
      },
      "source": [
        "# Working on Mutual Information Starting from Conditional Probability"
      ]
    },
    {
      "cell_type": "markdown",
      "metadata": {
        "id": "wsXW8YnSuI1Y"
      },
      "source": [
        "## Flip Bit for M = 1 "
      ]
    },
    {
      "cell_type": "code",
      "execution_count": 2,
      "metadata": {
        "id": "9eI3F5RcEqI0"
      },
      "outputs": [],
      "source": [
        "# Conditional probability matrix [P(Y|X)]\n",
        "p = 0.1\n",
        "q = 0.9\n",
        "\n",
        "# Consider the Flip Bit case for M = 1 \n",
        "P_Y_X = np.array([[q, p],\n",
        "                  [p, q]])\n",
        "\n",
        "M = np.shape(P_Y_X)[0] / 2\n",
        "\n",
        "# Marginal probabilities P(X) and P(Y)\n",
        "# prob_x = np.array([1/4, 1/4])\n",
        "# prob_y = np.array([1/4, 1/4])\n",
        "\n",
        "# PX = np.sum(prob_x, axis = 0).sum()\n",
        "# PY = np.sum(prob_y, axis = 0).sum()\n",
        "PX = 0.5\n",
        "PY = 0.5\n",
        "\n",
        "# Calculate Joint Probability Matrix [P(X,Y)]\n",
        "P_XY = PX * P_Y_X\n",
        "P_X_Y = P_XY / PY\n",
        "\n",
        "# Entropy\n",
        "# HX = np.sum(-(prob_x) * np.log2(prob_x))\n",
        "HX = - np.log2(PX)\n",
        "HY = - np.log2(PY)\n",
        "\n",
        "H_XY = - np.log2(P_XY)\n",
        "H_X_Y = -np.sum(P_XY * np.log2(P_X_Y + 1e-10), axis=0).sum()\n",
        "H_Y_X = -np.sum(P_XY * np.log2(P_Y_X + 1e-10), axis=0).sum()\n",
        "\n",
        "# Mutual Information\n",
        "MI = HX - H_X_Y\n",
        "\n",
        "# Mutual Information per Photon\n",
        "MIperPhoton = MI / (M/2)"
      ]
    },
    {
      "cell_type": "code",
      "execution_count": 3,
      "metadata": {
        "id": "aiuC2CIgEqI1",
        "outputId": "73eed503-d043-4a9c-c490-96e5c48c2768"
      },
      "outputs": [
        {
          "name": "stdout",
          "output_type": "stream",
          "text": [
            "Number of Time Bin 1.0\n",
            "Probability P(X): 0.5\n",
            "Probability P(Y): 0.5\n",
            "Joint Probability P(X,Y):\n",
            "[[0.45 0.05]\n",
            " [0.05 0.45]]\n",
            "Conditional Probability P(X|Y):\n",
            "[[0.9 0.1]\n",
            " [0.1 0.9]]\n",
            "Conditional Probability P(Y|X):\n",
            "[[0.9 0.1]\n",
            " [0.1 0.9]]\n",
            "Entropy H(X): 1.0\n",
            "Entropy H(Y): 1.0\n",
            "Joint Entropy H(X,Y):\n",
            "[[1.15200309 4.32192809]\n",
            " [4.32192809 1.15200309]]\n",
            "Conditional Entropy H(X|Y): 0.4689955933007422\n",
            "Conditional Entropy H(Y|X): 0.4689955933007422\n",
            "Mutual Information I(X;Y)): 0.5310044066992579\n",
            "Mutual Information per Photon I(X;Y)/(M/2)): 1.0620088133985157\n"
          ]
        }
      ],
      "source": [
        "print('Number of Time Bin', M)\n",
        "\n",
        "print('Probability P(X):', PX)\n",
        "print('Probability P(Y):', PY)\n",
        "\n",
        "print('Joint Probability P(X,Y):')\n",
        "print(P_XY)\n",
        "\n",
        "print('Conditional Probability P(X|Y):')\n",
        "print(P_X_Y)\n",
        "print('Conditional Probability P(Y|X):')\n",
        "print(P_Y_X)\n",
        "\n",
        "\n",
        "print('Entropy H(X):', HX)\n",
        "print('Entropy H(Y):', HY)\n",
        "\n",
        "print('Joint Entropy H(X,Y):')\n",
        "print(H_XY)\n",
        "\n",
        "print('Conditional Entropy H(X|Y):', H_X_Y)\n",
        "print('Conditional Entropy H(Y|X):', H_Y_X)\n",
        "\n",
        "print('Mutual Information I(X;Y)):', MI)\n",
        "print('Mutual Information per Photon I(X;Y)/(M/2)):', MIperPhoton)"
      ]
    },
    {
      "cell_type": "markdown",
      "metadata": {
        "id": "sExFCapjuI1Z"
      },
      "source": [
        "## Flip Bit for M = 2"
      ]
    },
    {
      "cell_type": "code",
      "execution_count": 4,
      "metadata": {
        "id": "UNU3QE-IEqI1"
      },
      "outputs": [],
      "source": [
        "p = 0.1\n",
        "q = 0.9\n",
        "\n",
        "# Conditional probability matrix [P(Y|X)]\n",
        "# Consider the flip bit case for M = 2 \n",
        "P_Y_X = np.array([[q*q, q*p, p*q, p*p],\n",
        "                  [q*p, q*q, p*p, p*q],\n",
        "                  [p*q, p*p, q*q, q*p],\n",
        "                  [p*p, p*q, q*p, q*q]])\n",
        "\n",
        "M = np.shape(P_Y_X)[0] / 2\n",
        "\n",
        "# Marginal probabilities P(X) and P(Y)\n",
        "# prob_x = np.array([1/4, 0])\n",
        "# prob_y = np.array([1/8, 1/8])\n",
        "\n",
        "# PX = np.sum(prob_x, axis = 0).sum()\n",
        "# PY = np.sum(prob_y, axis = 0).sum()\n",
        "PX = 1/4\n",
        "PY = 1/4\n",
        "\n",
        "# Calculate Joint Probability Matrix [P(X,Y)]\n",
        "P_XY = PX * P_Y_X \n",
        "P_X_Y = P_XY / PY\n",
        "\n",
        "# Entropy\n",
        "HX = - np.log2(PX)\n",
        "HY = - np.log2(PY)\n",
        "\n",
        "H_XY = - np.log2(P_XY)\n",
        "H_X_Y = -np.sum(P_XY * np.log2(P_X_Y + 1e-10), axis=0).sum()\n",
        "H_Y_X = -np.sum(P_XY * np.log2(P_Y_X + 1e-10), axis=0).sum()\n",
        "\n",
        "# Mutual Information\n",
        "MI = HX - H_X_Y\n",
        "\n",
        "# Mutual Information per Photon\n",
        "MIperPhoton = MI / (M/2)"
      ]
    },
    {
      "cell_type": "code",
      "execution_count": 5,
      "metadata": {
        "id": "Q8SYGpMQEqI2",
        "outputId": "f7661213-c3e4-4264-9b5f-8ddae6a4f817"
      },
      "outputs": [
        {
          "name": "stdout",
          "output_type": "stream",
          "text": [
            "Number of Time Bin 2.0\n",
            "Probability P(X): 0.25\n",
            "Probability P(Y): 0.25\n",
            "Joint Probability P(X,Y):\n",
            "[[0.2025 0.0225 0.0225 0.0025]\n",
            " [0.0225 0.2025 0.0025 0.0225]\n",
            " [0.0225 0.0025 0.2025 0.0225]\n",
            " [0.0025 0.0225 0.0225 0.2025]]\n",
            "Conditional Probability P(X|Y):\n",
            "[[0.81 0.09 0.09 0.01]\n",
            " [0.09 0.81 0.01 0.09]\n",
            " [0.09 0.01 0.81 0.09]\n",
            " [0.01 0.09 0.09 0.81]]\n",
            "Conditional Probability P(Y|X):\n",
            "[[0.81 0.09 0.09 0.01]\n",
            " [0.09 0.81 0.01 0.09]\n",
            " [0.09 0.01 0.81 0.09]\n",
            " [0.01 0.09 0.09 0.81]]\n",
            "Entropy H(X): 2.0\n",
            "Entropy H(Y): 2.0\n",
            "Joint Entropy H(X,Y):\n",
            "[[2.30400619 5.47393119 5.47393119 8.64385619]\n",
            " [5.47393119 2.30400619 8.64385619 5.47393119]\n",
            " [5.47393119 8.64385619 2.30400619 5.47393119]\n",
            " [8.64385619 5.47393119 5.47393119 2.30400619]]\n",
            "Conditional Entropy H(X|Y): 0.9379911866014845\n",
            "Conditional Entropy H(Y|X): 0.9379911866014845\n",
            "Mutual Information I(X;Y)): 1.0620088133985155\n",
            "Mutual Information per Photon I(X;Y)/(M/2)): 1.0620088133985155\n"
          ]
        }
      ],
      "source": [
        "print('Number of Time Bin', M)\n",
        "\n",
        "print('Probability P(X):', PX)\n",
        "print('Probability P(Y):', PY)\n",
        "\n",
        "print('Joint Probability P(X,Y):')\n",
        "print(P_XY)\n",
        "\n",
        "print('Conditional Probability P(X|Y):')\n",
        "print(P_X_Y)\n",
        "print('Conditional Probability P(Y|X):')\n",
        "print(P_Y_X)\n",
        "\n",
        "\n",
        "print('Entropy H(X):', HX)\n",
        "print('Entropy H(Y):', HY)\n",
        "\n",
        "print('Joint Entropy H(X,Y):')\n",
        "print(H_XY)\n",
        "\n",
        "print('Conditional Entropy H(X|Y):', H_X_Y)\n",
        "print('Conditional Entropy H(Y|X):', H_Y_X)\n",
        "\n",
        "print('Mutual Information I(X;Y)):', MI)\n",
        "print('Mutual Information per Photon I(X;Y)/(M/2)):', MIperPhoton)"
      ]
    },
    {
      "cell_type": "markdown",
      "metadata": {
        "id": "N5LfkUz4uI1a"
      },
      "source": [
        "# Creating a square matrix based on $2^m$ Possibilities in m time bins"
      ]
    },
    {
      "attachments": {},
      "cell_type": "markdown",
      "metadata": {},
      "source": [
        "Generate nxn square matrix based the 2^n possibilities. \n",
        "\n",
        "For example, \n",
        "\n",
        "n = 1, I should have 2x2 square matrix, \n",
        "\n",
        "n = 2, I should have 4x4 square matrix, \n",
        "\n",
        "n = 3, I should have 8x8 square matrix and so on.\n",
        "\n",
        "Also,the elements correspond to specific combination of bits.\n",
        "\n",
        "The values (m=1,o=0,p=0.1,q=0.9) represent the values associated with each bit combination. \n",
        "\n",
        "Using the mapping, I can determine the corresponding value for each element in the square matrix based on the binary representation of its row and columnb indices.\n",
        "\n",
        "For example, for n = 1, we have 2^1 possibilities. Based the following code, we have the possbilities\n"
      ]
    },
    {
      "cell_type": "code",
      "execution_count": 25,
      "metadata": {},
      "outputs": [],
      "source": [
        "def generate_bit_combinations(n):\n",
        "    combinations = []\n",
        "    for i in range(2**n):\n",
        "        binary = bin(i)[2:].zfill(n)  # Convert the decimal number to binary\n",
        "        combinations.append(binary)\n",
        "    return combinations"
      ]
    },
    {
      "cell_type": "code",
      "execution_count": 26,
      "metadata": {},
      "outputs": [
        {
          "data": {
            "text/plain": [
              "['0', '1']"
            ]
          },
          "execution_count": 26,
          "metadata": {},
          "output_type": "execute_result"
        }
      ],
      "source": [
        "generate_bit_combinations(1)"
      ]
    },
    {
      "attachments": {},
      "cell_type": "markdown",
      "metadata": {},
      "source": [
        "Let us read from digit to digit.\n",
        "\n",
        "\n",
        "For the matrix element 11, the binary representation is from '0' to '0', so we should assign the value of m to this element.\n",
        "\n",
        "\n",
        "For the matrix element 12, the binary representation is from '0' to '1', so we should assign the value of o to this element.\n",
        "\n",
        "\n",
        "For the matrix element 21, the binary representation is from '1' to '0', so we should assign the value of p to this element.\n",
        "\n",
        "\n",
        "For the matrix element 22, the binary representation is from '1' to '1', so we should assign the value of q to this element.\n",
        "\n",
        "Therefore, we should have the following as the square matrix:\n",
        "\n",
        "[[1, 0], \n",
        "\n",
        "[0.1, 0.9]]\n"
      ]
    },
    {
      "attachments": {},
      "cell_type": "markdown",
      "metadata": {},
      "source": [
        "For n = 2, we have 2^2 possibilities. Based the following code, we have the possbilities\n",
        "\n",
        "['00', '01', '10', '11']\n",
        "\n",
        "Let us read from digit to digit.\n",
        "\n",
        "For the matrix element 11, the binary representation is from 0 to 0 for the first digit and from 0 to 0 for the second digit, so we should assign the value of m * m  = 1 * 1 = 1 to this element.\n",
        "\n",
        "For the matrix element 12, the binary representation is from 0 to 0 for the first digit and from 0 to 1 for the second digit, so we should assign the value of m * o = 1 * 0 = 0 to this element.\n",
        "\n",
        "For the matrix element 13, the binary representation is from 0 to 1 for the first digit and from 0 to 0 for the second digit, so we should assign the value of o * m = 0 * 1 = 0 to this element.\n",
        "\n",
        "For the matrix element 14, the binary representation is from 0 to 1 for the first digit and from 0 to 1 for the second digit, so we should assign the value of o * o = 0 * 0 = 0 to this element.\n",
        "\n",
        "For the matrix element 21, the binary representation is from 0 to 0 for the first digit and from 1 to 0 for the second digit, so we should assign the value of m * p = 1 * 0.1 = 0.1 to this element.\n",
        "\n",
        "For the matrix element 22, the binary representation is from 0 to 0 for the first digit and from 1 to 1 for the second digit, so we should assign the value of m * q = 1 * 0.9 = 0.9 to this element.\n",
        "\n",
        "For the matrix element 23, the binary representation is from 0 to 1 for the first digit and from 1 to 0 for the second digit, so we should assign the value of o * p = 0 * 0.1 = 0 to this element.\n",
        "\n",
        "For the matrix element 24, the binary representation is from 0 to 1 for the first digit and from 1 to 1 for the second digit, so we should assign the value of o * q = 0 * 0.9 = 0 to this element.\n",
        "\n",
        "For the matrix element 31, the binary representation is from 1 to 0 for the first digit and from 0 to 0 for the second digit, so we should assign the value of p * m = 0.1 * 1 = 0.1 to this element.\n",
        "\n",
        "For the matrix element 32, the binary representation is from 1 to 0 for the first digit and from 0 to 1 for the second digit, so we should assign the value of p * o = 0.1 * 0 = 0 to this element.\n",
        "\n",
        "For the matrix element 33, the binary representation is from 1 to 1 for the first digit and from 0 to 0 for the second digit, so we should assign the value of q * m = 0.9 * 1 = 0.9 to this element.\n",
        "\n",
        "For the matrix element 34, the binary representation is from 1 to 1 for the first digit and from 0 to 1 for the second digit, so we should assign the value of q * o = 0.9 * 0 = 0 to this element.\n",
        "\n",
        "For the matrix element 41, the binary representation is from 1 to 0 for the first digit and from 1 to 0 for the second digit, so we should assign the value of p * p = 0.1 * 0.1 = 0.01 to this element.\n",
        "\n",
        "For the matrix element 42, the binary representation is from 1 to 0 for the first digit and from 1 to 1 for the second digit, so we should assign the value of p * q = 0.1 * 0.9 = 0.09 to this element.\n",
        "\n",
        "For the matrix element 43, the binary representation is from 1 to 1 for the first digit and from 1 to 0 for the second digit, so we should assign the value of q * p = 0.9 * 0.1 = 0.09 to this element.\n",
        "\n",
        "For the matrix element 44, the binary representation is from 1 to 1 for the first digit and from 1 to 1 for the second digit, so we should assign the value of q * q = 0.9 * 0.9 = 0.81 to this element.\n",
        "\n",
        "Therefore, we should have the following as the square matrix:\n",
        "\n",
        "[[m * m, m * o, o * m, o * o], \n",
        "\n",
        "[m * p, m * q, o * p, o * q], \n",
        "\n",
        "[p * m, p * o, q * m, q * o], \n",
        "\n",
        "[p * p, p * q, q * p, q * q]]\n",
        "\n",
        "=\n",
        "\n",
        "[[1, 0, 0, 0], \n",
        "\n",
        "[0.1, 0.9, 0, 0],\n",
        "\n",
        " [0.1, 0, 0.9, 0], \n",
        " \n",
        " [0.01, 0.09, 0.09, 0.81]]\n",
        "\n",
        "\n",
        "The generated square matrix has dimensions 4x4, and each element corresponds to the calculated value based on the binary representation of its row and column indices."
      ]
    },
    {
      "cell_type": "code",
      "execution_count": 6,
      "metadata": {},
      "outputs": [],
      "source": [
        "import numpy as np"
      ]
    },
    {
      "cell_type": "code",
      "execution_count": 7,
      "metadata": {},
      "outputs": [],
      "source": [
        "def M(n_OOK):\n",
        "    return 2*n_OOK \n",
        "\n",
        "def K(M):\n",
        "    return 2**M\n",
        "\n",
        "def matrix_size(n_OOK):\n",
        "    return 2**n_OOK\n",
        "\n",
        "def P_XY(matrix_size):\n",
        "    # matrix_size as the parameter represents the size of the square matrix\n",
        "    # initialize the size by np.zeros\n",
        "    matrix = np.zeros((matrix_size, matrix_size))\n",
        "    \n",
        "    # nested for loops iterate over the indices i and j ranging from 0 to matrix_size - 1\n",
        "\n",
        "    for i in range(matrix_size):\n",
        "        for j in range(matrix_size):\n",
        "            # obtaining the binary represnentation of row and colum indices\n",
        "            # bin converts the decimal index to a binary string\n",
        "            # [2:] removes the \"0b\" prefix from the binary string\"\n",
        "            # zfill(n_OOK) ensures the binrary string is zero-padded to the length n_OOK\n",
        "\n",
        "            row_binary = bin(i)[2:].zfill(n_OOK)  # Binary representation of row index\n",
        "            col_binary = bin(j)[2:].zfill(n_OOK)  # Binary representation of column index\n",
        "\n",
        "            # m is initialized to be 1.0\n",
        "            # for loop iterates over the rnage n_OOK, corresponding to the length of the binary representation\n",
        "\n",
        "\n",
        "#             The innermost for loop iterates over the range n_OOK, which corresponds to the length of the binary representation.\n",
        "\n",
        "# Inside the loop, conditional statements check the values of the binary digits (row_binary[k] and col_binary[k]) at the same position (k).\n",
        "\n",
        "# If row_binary[k] is '0' and col_binary[k] is '1', it means the current bit combination is '01'. In this case, the value of m is updated by multiplying it with o.\n",
        "\n",
        "# If row_binary[k] is '1' and col_binary[k] is '0', it means the current bit combination is '10'. The value of m is updated by multiplying it with p.\n",
        "\n",
        "# If row_binary[k] and col_binary[k] are both '1', it means the current bit combination is '11'. The value of m is updated by multiplying it with q.\n",
        "\n",
        "# After updating m based on the bit combinations, the value of m is assigned to the corresponding element in the matrix using matrix[i][j] = m.\n",
        "\n",
        "# Finally, the function returns the generated matrix as a NumPy array using np.array(matrix).\n",
        "\n",
        "# In summary, the code generates a square matrix of size matrix_size and assigns values to each element based on the binary representation of its row and column indices. The values 'm', 'o', 'p', and 'q' are multiplied according to the bit combinations, and the resulting matrix is returned.\n",
        "           \n",
        "            m = 1.0  # Default value for 'm'\n",
        "            for k in range(n_OOK):\n",
        "                if row_binary[k] == '0' and col_binary[k] == '1':\n",
        "                    m *= o  # Update value to 'o'\n",
        "                elif row_binary[k] == '1' and col_binary[k] == '0':\n",
        "                    m *= p  # Update value to 'p'\n",
        "                elif row_binary[k] == '1' and col_binary[k] == '1':\n",
        "                    m *= q  # Update value to 'q'\n",
        "\n",
        "            matrix[i][j] = m\n",
        "    \n",
        "    return np.array(matrix) \n",
        "\n",
        "def P_XY_OOK(P_XY, K):\n",
        "    return P_XY * (1/K)\n",
        "\n",
        "def P_X(P_XY_OOK):\n",
        "    PX = np.sum(P_XY_OOK, axis=1)\n",
        "    return PX\n",
        "\n",
        "def P_Y(P_XY_OOK):\n",
        "    PY = np.sum(P_XY_OOK, axis=0)\n",
        "    return PY\n",
        "\n",
        "def P_Y_X(P_XY_OOK, PX): \n",
        "    PYX = P_XY_OOK / PX [:, np.newaxis]  # Adjust dimensions for proper broadcasting division\n",
        "    return PYX\n",
        "\n",
        "def P_X_Y(P_XY_OOK, PY): \n",
        "    PXY = P_XY_OOK / PY\n",
        "    return PXY\n",
        "\n",
        "def H_X(P_X):\n",
        "    HX = -np.sum(P_X * np.log2(P_X))\n",
        "    return HX\n",
        "\n",
        "def H_Y(P_Y):\n",
        "    HY = -np.sum(P_Y * np.log2(P_Y))\n",
        "    return HY\n",
        "\n",
        "def H_XY(P_XY_OOK):\n",
        "    HXY = -np.sum(P_XY_OOK * np.log2(P_XY_OOK + 1e-10))\n",
        "    return HXY\n",
        "\n",
        "def H_X_Y(P_XY_OOK, P_X_Y):\n",
        "    HXY = -np.sum(P_XY_OOK * np.log2(P_X_Y + 1e-10), axis=0).sum()\n",
        "    return HXY\n",
        "\n",
        "def H_Y_X(P_XY_OOK, P_Y_X): \n",
        "    HYX = -np.sum(P_XY_OOK * np.log2(P_Y_X + 1e-10), axis=0).sum()\n",
        "    return HYX \n",
        "\n",
        "def M_I(H_X, H_X_Y):\n",
        "    MI = H_X - H_X_Y\n",
        "    return MI\n",
        "\n",
        "def M_I_per_Photon(M_I,n_OOK):\n",
        "    MIperPhoton = M_I / (n_OOK/2)\n",
        "    return MIperPhoton"
      ]
    },
    {
      "cell_type": "code",
      "execution_count": 8,
      "metadata": {},
      "outputs": [],
      "source": [
        "\n",
        "# P_XY_OOK(P_XY(matrix_size(n_OOK)), K(n_OOK))"
      ]
    },
    {
      "cell_type": "code",
      "execution_count": 9,
      "metadata": {},
      "outputs": [],
      "source": [
        "# P_Y(P_XY_OOK(P_XY(matrix_size(n_OOK)), K))"
      ]
    },
    {
      "cell_type": "code",
      "execution_count": 10,
      "metadata": {},
      "outputs": [],
      "source": [
        "# P_Y_X(P_XY_OOK(P_XY(matrix_size(n_OOK)), K), P_X(P_XY_OOK(P_XY(matrix_size(n_OOK)), K)))"
      ]
    },
    {
      "cell_type": "code",
      "execution_count": 11,
      "metadata": {},
      "outputs": [],
      "source": [
        "# P_X_Y(P_XY_OOK(P_XY(matrix_size(n_OOK)), K), P_Y(P_XY_OOK(P_XY(matrix_size(n_OOK)), K)))"
      ]
    },
    {
      "cell_type": "code",
      "execution_count": 12,
      "metadata": {},
      "outputs": [],
      "source": [
        "# H_X(P_X(P_XY_OOK(P_XY(matrix_size(n_OOK)), K)))"
      ]
    },
    {
      "cell_type": "code",
      "execution_count": 13,
      "metadata": {},
      "outputs": [],
      "source": [
        "# H_Y(P_Y(P_XY_OOK(P_XY(matrix_size(n_OOK)), K)))"
      ]
    },
    {
      "cell_type": "code",
      "execution_count": 14,
      "metadata": {},
      "outputs": [],
      "source": [
        "# H_XY(P_XY_OOK(P_XY(matrix_size(n_OOK)), K))"
      ]
    },
    {
      "cell_type": "code",
      "execution_count": 15,
      "metadata": {},
      "outputs": [],
      "source": [
        "# H_X_Y(P_XY_OOK(P_XY(matrix_size(n_OOK)), K), P_X_Y(P_XY_OOK(P_XY(matrix_size(n_OOK)), K), P_Y(P_XY_OOK(P_XY(matrix_size(n_OOK)), K))))"
      ]
    },
    {
      "cell_type": "code",
      "execution_count": 16,
      "metadata": {},
      "outputs": [],
      "source": [
        "# H_Y_X(P_XY_OOK(P_XY(matrix_size(n_OOK)), K), P_Y_X(P_XY_OOK(P_XY(matrix_size(n_OOK)), K), P_X(P_XY_OOK(P_XY(matrix_size(n_OOK)), K))))"
      ]
    },
    {
      "cell_type": "code",
      "execution_count": 17,
      "metadata": {},
      "outputs": [],
      "source": [
        "# M_I(H_X(P_X(P_XY_OOK(P_XY(matrix_size(n_OOK)), K))), H_X_Y(P_XY_OOK(P_XY(matrix_size(n_OOK)), K), P_X_Y(P_XY_OOK(P_XY(matrix_size(n_OOK)), K), P_Y(P_XY_OOK(P_XY(matrix_size(n_OOK)), K)))))"
      ]
    },
    {
      "cell_type": "code",
      "execution_count": 18,
      "metadata": {},
      "outputs": [],
      "source": [
        "# M_I_per_Photon(M_I(H_X(P_X(P_XY_OOK(P_XY(matrix_size(n_OOK)), K))), H_X_Y(P_XY_OOK(P_XY(matrix_size(n_OOK)), K), P_X_Y(P_XY_OOK(P_XY(matrix_size(n_OOK)), K), P_Y(P_XY_OOK(P_XY(matrix_size(n_OOK)), K))))),M(n_OOK/2))"
      ]
    },
    {
      "cell_type": "code",
      "execution_count": 19,
      "metadata": {},
      "outputs": [
        {
          "name": "stdout",
          "output_type": "stream",
          "text": [
            "Loss Bit for M = 1\n",
            "Number of Time Bin: 2.0\n",
            "Number of Code word: 4\n",
            "Matrix Size: 4\n",
            "Joint Probability P(X,Y):\n",
            "[[1.   0.   0.   0.  ]\n",
            " [0.1  0.9  0.   0.  ]\n",
            " [0.1  0.   0.9  0.  ]\n",
            " [0.01 0.09 0.09 0.81]]\n"
          ]
        }
      ],
      "source": [
        "n_OOK = 2\n",
        "m = 1\n",
        "o = 0\n",
        "p = 0.1\n",
        "q = 1 - p\n",
        "print('Loss Bit for M = 1')\n",
        "print('Number of Time Bin:', M(n_OOK/2))\n",
        "print('Number of Code word:', K(n_OOK))\n",
        "print('Matrix Size:',matrix_size(n_OOK))\n",
        "\n",
        "print('Joint Probability P(X,Y):')\n",
        "print(P_XY(matrix_size(n_OOK)))\n",
        "\n",
        "\n",
        "# print('Probability P(X):', PX)\n",
        "# print('Probability P(Y):', PY)\n",
        "\n",
        "# print('Conditional Probability P(X|Y):')\n",
        "# print(P_X_Y)\n",
        "# print('Conditional Probability P(Y|X):')\n",
        "# print(P_Y_X)\n",
        "\n",
        "# print('Entropy H(X):', HX)\n",
        "# print('Entropy H(Y):', HY)\n",
        "\n",
        "# print('Joint Entropy H(X,Y):', H_XY)\n",
        "# print('Conditional Entropy H(X|Y):', H_X_Y)\n",
        "# print('Conditional Entropy H(Y|X):', H_Y_X)\n",
        "\n",
        "# print('Mutual Information I(X;Y)):', MI)\n",
        "# print('Mutual Information per Photon I(X;Y)/(M/2)):', MIperPhoton)"
      ]
    },
    {
      "cell_type": "code",
      "execution_count": 27,
      "metadata": {},
      "outputs": [
        {
          "name": "stdout",
          "output_type": "stream",
          "text": [
            "Count of 'm': 1\n",
            "Count of 'o': 7\n",
            "Count of 'p': 2\n",
            "Count of 'q': 2\n"
          ]
        }
      ],
      "source": [
        "matrix = [[1, 0, 0, 0], [0.1, 0.9, 0, 0], [0.1, 0, 0.9, 0], [0.01, 0.09, 0.09, 0.81]]\n",
        "\n",
        "# Initialize count variables\n",
        "count_m = 0\n",
        "count_o = 0\n",
        "count_p = 0\n",
        "count_q = 0\n",
        "\n",
        "for row in matrix:\n",
        "    for element in row:\n",
        "        if element == 1:\n",
        "            count_m += 1\n",
        "        elif element == 0:\n",
        "            count_o += 1\n",
        "        elif element == 0.1:\n",
        "            count_p += 1\n",
        "        elif element == 0.9:\n",
        "            count_q += 1\n",
        "\n",
        "print(\"Count of 'm':\", count_m)\n",
        "print(\"Count of 'o':\", count_o)\n",
        "print(\"Count of 'p':\", count_p)\n",
        "print(\"Count of 'q':\", count_q)\n"
      ]
    },
    {
      "cell_type": "code",
      "execution_count": 20,
      "metadata": {},
      "outputs": [
        {
          "name": "stdout",
          "output_type": "stream",
          "text": [
            "[[1.   0.9  0.9  0.  ]\n",
            " [0.1  1.   0.09 0.  ]\n",
            " [0.1  0.09 1.   0.  ]\n",
            " [0.1  0.1  0.1  0.9 ]]\n"
          ]
        }
      ],
      "source": [
        "import numpy as np\n",
        "\n",
        "def M(n):\n",
        "    return 2 * n\n",
        "\n",
        "def K(M):\n",
        "    return 2 ** M\n",
        "\n",
        "def matrix_size(n):\n",
        "    return 2 ** n\n",
        "\n",
        "def P_XY(matrix_size, p, q):\n",
        "    matrix = np.zeros((matrix_size, matrix_size))\n",
        "    \n",
        "    # Calculate (p + q)^n\n",
        "    pq_sum = p + q\n",
        "    pq_pow_n = pq_sum ** n\n",
        "    \n",
        "    # Assign the value to the last row elements\n",
        "    matrix[-1, :-1] = pq_pow_n * p\n",
        "    matrix[-1, -1] = pq_pow_n * q\n",
        "    \n",
        "    for i in range(matrix_size - 1):\n",
        "        for j in range(matrix_size - 1):\n",
        "            row_binary = bin(i)[2:].zfill(n)  # Binary representation of row index\n",
        "            col_binary = bin(j)[2:].zfill(n)  # Binary representation of column index\n",
        "\n",
        "            m = 1.0  # Default value for 'm'\n",
        "            for k in range(n):\n",
        "                if row_binary[k] == '0' and col_binary[k] == '1':\n",
        "                    m *= q  # Update value to 'q'\n",
        "                elif row_binary[k] == '1' and col_binary[k] == '0':\n",
        "                    m *= p  # Update value to 'p'\n",
        "\n",
        "            matrix[i, j] = m\n",
        "    \n",
        "    return matrix\n",
        "\n",
        "# Example usage\n",
        "n = 2\n",
        "p = 0.1\n",
        "q = 0.9\n",
        "\n",
        "matrix_size_val = matrix_size(n)\n",
        "P_XY_val = P_XY(matrix_size_val, p, q)\n",
        "\n",
        "print(P_XY_val)\n"
      ]
    },
    {
      "cell_type": "code",
      "execution_count": 21,
      "metadata": {},
      "outputs": [
        {
          "name": "stdout",
          "output_type": "stream",
          "text": [
            "Entropy X: 12.437599427179277\n",
            "Entropy Y: -94.63675798797689\n",
            "Mutual Information: -94.6367579879769\n"
          ]
        }
      ],
      "source": [
        "import numpy as np\n",
        "\n",
        "def M(n):\n",
        "    return 2 * n\n",
        "\n",
        "def K(M):\n",
        "    return 2 ** M\n",
        "\n",
        "def matrix_size(n):\n",
        "    return 2 ** n\n",
        "\n",
        "\n",
        "def calculate_entropy(probabilities):\n",
        "    # Calculate the entropy\n",
        "    non_zero_probs = probabilities[probabilities != 0]\n",
        "    entropy = -np.sum(non_zero_probs * np.log2(non_zero_probs))\n",
        "    return entropy\n",
        "\n",
        "def calculate_mutual_information(probabilities, p_x, p_y):\n",
        "    # Calculate the mutual information\n",
        "    non_zero_probs = probabilities[probabilities != 0]\n",
        "    mutual_info = np.sum(non_zero_probs * np.log2(non_zero_probs / (p_x * p_y)))\n",
        "    return mutual_info\n",
        "\n",
        "def calculate_entropy_and_mutual_info(n, p, q):\n",
        "    matrix_size_val = matrix_size(n)\n",
        "    non_zero_indices = np.nonzero(P_XY(matrix_size_val, p, q))\n",
        "    non_zero_probs = P_XY(matrix_size_val, p, q)[non_zero_indices]\n",
        "    non_zero_probs = non_zero_probs.reshape(-1, 1)  # Reshape to have two dimensions\n",
        "    non_zero_p_x = np.sum(non_zero_probs, axis=1)\n",
        "    non_zero_p_y = np.sum(non_zero_probs, axis=0)\n",
        "    \n",
        "    entropy_x = calculate_entropy(non_zero_p_x)\n",
        "    entropy_y = calculate_entropy(non_zero_p_y)\n",
        "    mutual_info = calculate_mutual_information(non_zero_probs, non_zero_p_x, non_zero_p_y)\n",
        "    \n",
        "    return entropy_x, entropy_y, mutual_info\n",
        "\n",
        "# Example usage\n",
        "n = 3\n",
        "p = 0.1\n",
        "q = 0.9\n",
        "\n",
        "entropy_x, entropy_y, mutual_info = calculate_entropy_and_mutual_info(n, p, q)\n",
        "\n",
        "print(\"Entropy X:\", entropy_x)\n",
        "print(\"Entropy Y:\", entropy_y)\n",
        "print(\"Mutual Information:\", mutual_info)\n"
      ]
    },
    {
      "cell_type": "code",
      "execution_count": null,
      "metadata": {},
      "outputs": [],
      "source": []
    },
    {
      "cell_type": "code",
      "execution_count": 22,
      "metadata": {},
      "outputs": [
        {
          "ename": "AxisError",
          "evalue": "axis 1 is out of bounds for array of dimension 1",
          "output_type": "error",
          "traceback": [
            "\u001b[0;31m---------------------------------------------------------------------------\u001b[0m",
            "\u001b[0;31mAxisError\u001b[0m                                 Traceback (most recent call last)",
            "Cell \u001b[0;32mIn[22], line 53\u001b[0m\n\u001b[1;32m     50\u001b[0m p \u001b[39m=\u001b[39m \u001b[39m0.1\u001b[39m\n\u001b[1;32m     51\u001b[0m q \u001b[39m=\u001b[39m \u001b[39m0.9\u001b[39m\n\u001b[0;32m---> 53\u001b[0m entropy_x, entropy_y, mutual_info \u001b[39m=\u001b[39m calculate_entropy_and_mutual_info(n, p, q)\n\u001b[1;32m     55\u001b[0m \u001b[39mprint\u001b[39m(\u001b[39m\"\u001b[39m\u001b[39mEntropy X:\u001b[39m\u001b[39m\"\u001b[39m, entropy_x)\n\u001b[1;32m     56\u001b[0m \u001b[39mprint\u001b[39m(\u001b[39m\"\u001b[39m\u001b[39mEntropy Y:\u001b[39m\u001b[39m\"\u001b[39m, entropy_y)\n",
            "Cell \u001b[0;32mIn[22], line 39\u001b[0m, in \u001b[0;36mcalculate_entropy_and_mutual_info\u001b[0;34m(n, p, q)\u001b[0m\n\u001b[1;32m     37\u001b[0m non_zero_probs \u001b[39m=\u001b[39m joint_probs[non_zero_indices]\n\u001b[1;32m     38\u001b[0m non_zero_probs \u001b[39m=\u001b[39m non_zero_probs \u001b[39m/\u001b[39m np\u001b[39m.\u001b[39msum(non_zero_probs)  \u001b[39m# Normalize the probabilities\u001b[39;00m\n\u001b[0;32m---> 39\u001b[0m non_zero_p_x \u001b[39m=\u001b[39m np\u001b[39m.\u001b[39;49msum(non_zero_probs, axis\u001b[39m=\u001b[39;49m\u001b[39m1\u001b[39;49m, keepdims\u001b[39m=\u001b[39;49m\u001b[39mTrue\u001b[39;49;00m)\n\u001b[1;32m     40\u001b[0m non_zero_p_y \u001b[39m=\u001b[39m np\u001b[39m.\u001b[39msum(non_zero_probs, axis\u001b[39m=\u001b[39m\u001b[39m0\u001b[39m)\n\u001b[1;32m     42\u001b[0m entropy_x \u001b[39m=\u001b[39m calculate_entropy(non_zero_p_x)\n",
            "File \u001b[0;32m<__array_function__ internals>:180\u001b[0m, in \u001b[0;36msum\u001b[0;34m(*args, **kwargs)\u001b[0m\n",
            "File \u001b[0;32m~/Library/Python/3.8/lib/python/site-packages/numpy/core/fromnumeric.py:2298\u001b[0m, in \u001b[0;36msum\u001b[0;34m(a, axis, dtype, out, keepdims, initial, where)\u001b[0m\n\u001b[1;32m   2295\u001b[0m         \u001b[39mreturn\u001b[39;00m out\n\u001b[1;32m   2296\u001b[0m     \u001b[39mreturn\u001b[39;00m res\n\u001b[0;32m-> 2298\u001b[0m \u001b[39mreturn\u001b[39;00m _wrapreduction(a, np\u001b[39m.\u001b[39;49madd, \u001b[39m'\u001b[39;49m\u001b[39msum\u001b[39;49m\u001b[39m'\u001b[39;49m, axis, dtype, out, keepdims\u001b[39m=\u001b[39;49mkeepdims,\n\u001b[1;32m   2299\u001b[0m                       initial\u001b[39m=\u001b[39;49minitial, where\u001b[39m=\u001b[39;49mwhere)\n",
            "File \u001b[0;32m~/Library/Python/3.8/lib/python/site-packages/numpy/core/fromnumeric.py:86\u001b[0m, in \u001b[0;36m_wrapreduction\u001b[0;34m(obj, ufunc, method, axis, dtype, out, **kwargs)\u001b[0m\n\u001b[1;32m     83\u001b[0m         \u001b[39melse\u001b[39;00m:\n\u001b[1;32m     84\u001b[0m             \u001b[39mreturn\u001b[39;00m reduction(axis\u001b[39m=\u001b[39maxis, out\u001b[39m=\u001b[39mout, \u001b[39m*\u001b[39m\u001b[39m*\u001b[39mpasskwargs)\n\u001b[0;32m---> 86\u001b[0m \u001b[39mreturn\u001b[39;00m ufunc\u001b[39m.\u001b[39;49mreduce(obj, axis, dtype, out, \u001b[39m*\u001b[39;49m\u001b[39m*\u001b[39;49mpasskwargs)\n",
            "\u001b[0;31mAxisError\u001b[0m: axis 1 is out of bounds for array of dimension 1"
          ]
        }
      ],
      "source": [
        "import numpy as np\n",
        "\n",
        "def M(n):\n",
        "    return 2 * n\n",
        "\n",
        "def K(M):\n",
        "    return 2 ** M\n",
        "\n",
        "def matrix_size(n):\n",
        "    return 2 ** n\n",
        "\n",
        "def P_XY(matrix_size, p, q):\n",
        "    # Generate the joint probability matrix P(X, Y)\n",
        "    P_XY = np.zeros((matrix_size, matrix_size))\n",
        "    P_XY[0, 0] = p * q\n",
        "    P_XY[0, 1] = (1 - p) * q\n",
        "    P_XY[1, 0] = p * (1 - q)\n",
        "    P_XY[1, 1] = (1 - p) * (1 - q)\n",
        "    return P_XY\n",
        "\n",
        "def calculate_entropy(probabilities):\n",
        "    # Calculate the entropy\n",
        "    non_zero_probs = probabilities[probabilities != 0]\n",
        "    entropy = -np.sum(non_zero_probs * np.log2(non_zero_probs))\n",
        "    return entropy\n",
        "\n",
        "def calculate_mutual_information(probabilities, p_x, p_y):\n",
        "    # Calculate the mutual information\n",
        "    non_zero_probs = probabilities[probabilities != 0]\n",
        "    mutual_info = np.sum(non_zero_probs * np.log2(non_zero_probs / (p_x * p_y)))\n",
        "    return mutual_info\n",
        "\n",
        "def calculate_entropy_and_mutual_info(n, p, q):\n",
        "    matrix_size_val = matrix_size(n)\n",
        "    joint_probs = P_XY(matrix_size_val, p, q)\n",
        "    non_zero_indices = np.nonzero(joint_probs)\n",
        "    non_zero_probs = joint_probs[non_zero_indices]\n",
        "    non_zero_probs = non_zero_probs / np.sum(non_zero_probs)  # Normalize the probabilities\n",
        "    non_zero_p_x = np.sum(non_zero_probs, axis=1, keepdims=True)\n",
        "    non_zero_p_y = np.sum(non_zero_probs, axis=0)\n",
        "    \n",
        "    entropy_x = calculate_entropy(non_zero_p_x)\n",
        "    entropy_y = calculate_entropy(non_zero_p_y)\n",
        "    mutual_info = calculate_mutual_information(non_zero_probs, non_zero_p_x, non_zero_p_y)\n",
        "    \n",
        "    return entropy_x, entropy_y, mutual_info\n",
        "\n",
        "# Example usage\n",
        "n = 3\n",
        "p = 0.1\n",
        "q = 0.9\n",
        "\n",
        "entropy_x, entropy_y, mutual_info = calculate_entropy_and_mutual_info(n, p, q)\n",
        "\n",
        "print(\"Entropy X:\", entropy_x)\n",
        "print(\"Entropy Y:\", entropy_y)\n",
        "print(\"Mutual Information:\", mutual_info)\n"
      ]
    },
    {
      "cell_type": "code",
      "execution_count": null,
      "metadata": {},
      "outputs": [],
      "source": []
    },
    {
      "cell_type": "code",
      "execution_count": null,
      "metadata": {},
      "outputs": [
        {
          "ename": "AxisError",
          "evalue": "axis 1 is out of bounds for array of dimension 1",
          "output_type": "error",
          "traceback": [
            "\u001b[0;31m---------------------------------------------------------------------------\u001b[0m",
            "\u001b[0;31mAxisError\u001b[0m                                 Traceback (most recent call last)",
            "Cell \u001b[0;32mIn[28], line 44\u001b[0m\n\u001b[1;32m     41\u001b[0m p \u001b[39m=\u001b[39m \u001b[39m0.1\u001b[39m\n\u001b[1;32m     42\u001b[0m q \u001b[39m=\u001b[39m \u001b[39m0.9\u001b[39m\n\u001b[0;32m---> 44\u001b[0m entropy_x, entropy_y, mutual_info \u001b[39m=\u001b[39m calculate_entropy_and_mutual_info(n, p, q)\n\u001b[1;32m     46\u001b[0m \u001b[39mprint\u001b[39m(\u001b[39m\"\u001b[39m\u001b[39mEntropy X:\u001b[39m\u001b[39m\"\u001b[39m, entropy_x)\n\u001b[1;32m     47\u001b[0m \u001b[39mprint\u001b[39m(\u001b[39m\"\u001b[39m\u001b[39mEntropy Y:\u001b[39m\u001b[39m\"\u001b[39m, entropy_y)\n",
            "Cell \u001b[0;32mIn[28], line 30\u001b[0m, in \u001b[0;36mcalculate_entropy_and_mutual_info\u001b[0;34m(n, p, q)\u001b[0m\n\u001b[1;32m     28\u001b[0m non_zero_indices \u001b[39m=\u001b[39m np\u001b[39m.\u001b[39mnonzero(P_XY(matrix_size_val, p, q))\n\u001b[1;32m     29\u001b[0m non_zero_probs \u001b[39m=\u001b[39m P_XY(matrix_size_val, p, q)[non_zero_indices]\n\u001b[0;32m---> 30\u001b[0m non_zero_p_x \u001b[39m=\u001b[39m np\u001b[39m.\u001b[39;49msum(non_zero_probs, axis\u001b[39m=\u001b[39;49m\u001b[39m1\u001b[39;49m)\n\u001b[1;32m     31\u001b[0m non_zero_p_y \u001b[39m=\u001b[39m np\u001b[39m.\u001b[39msum(non_zero_probs, axis\u001b[39m=\u001b[39m\u001b[39m0\u001b[39m)\n\u001b[1;32m     33\u001b[0m entropy_x \u001b[39m=\u001b[39m calculate_entropy(non_zero_p_x)\n",
            "File \u001b[0;32m<__array_function__ internals>:180\u001b[0m, in \u001b[0;36msum\u001b[0;34m(*args, **kwargs)\u001b[0m\n",
            "File \u001b[0;32m~/Library/Python/3.8/lib/python/site-packages/numpy/core/fromnumeric.py:2298\u001b[0m, in \u001b[0;36msum\u001b[0;34m(a, axis, dtype, out, keepdims, initial, where)\u001b[0m\n\u001b[1;32m   2295\u001b[0m         \u001b[39mreturn\u001b[39;00m out\n\u001b[1;32m   2296\u001b[0m     \u001b[39mreturn\u001b[39;00m res\n\u001b[0;32m-> 2298\u001b[0m \u001b[39mreturn\u001b[39;00m _wrapreduction(a, np\u001b[39m.\u001b[39;49madd, \u001b[39m'\u001b[39;49m\u001b[39msum\u001b[39;49m\u001b[39m'\u001b[39;49m, axis, dtype, out, keepdims\u001b[39m=\u001b[39;49mkeepdims,\n\u001b[1;32m   2299\u001b[0m                       initial\u001b[39m=\u001b[39;49minitial, where\u001b[39m=\u001b[39;49mwhere)\n",
            "File \u001b[0;32m~/Library/Python/3.8/lib/python/site-packages/numpy/core/fromnumeric.py:86\u001b[0m, in \u001b[0;36m_wrapreduction\u001b[0;34m(obj, ufunc, method, axis, dtype, out, **kwargs)\u001b[0m\n\u001b[1;32m     83\u001b[0m         \u001b[39melse\u001b[39;00m:\n\u001b[1;32m     84\u001b[0m             \u001b[39mreturn\u001b[39;00m reduction(axis\u001b[39m=\u001b[39maxis, out\u001b[39m=\u001b[39mout, \u001b[39m*\u001b[39m\u001b[39m*\u001b[39mpasskwargs)\n\u001b[0;32m---> 86\u001b[0m \u001b[39mreturn\u001b[39;00m ufunc\u001b[39m.\u001b[39;49mreduce(obj, axis, dtype, out, \u001b[39m*\u001b[39;49m\u001b[39m*\u001b[39;49mpasskwargs)\n",
            "\u001b[0;31mAxisError\u001b[0m: axis 1 is out of bounds for array of dimension 1"
          ]
        }
      ],
      "source": [
        "import numpy as np\n",
        "\n",
        "def M(n):\n",
        "    return 2 * n\n",
        "\n",
        "def K(M):\n",
        "    return 2 ** M\n",
        "\n",
        "def matrix_size(n):\n",
        "    return 2 ** n\n",
        "\n",
        "def calculate_entropy(probabilities):\n",
        "    # Calculate the entropy\n",
        "    non_zero_probs = probabilities[probabilities != 0]\n",
        "    entropy = -np.sum(non_zero_probs * np.log2(non_zero_probs))\n",
        "    return entropy\n",
        "\n",
        "def calculate_mutual_information(probabilities, p_x, p_y):\n",
        "    # Calculate the mutual information\n",
        "    non_zero_probs = probabilities[probabilities != 0]\n",
        "    p_x_non_zero = p_x[probabilities != 0]\n",
        "    p_y_non_zero = p_y[probabilities != 0]\n",
        "    mutual_info = np.sum(non_zero_probs * np.log2(non_zero_probs / (p_x_non_zero[:, None] * p_y_non_zero)))\n",
        "    return mutual_info\n",
        "\n",
        "def calculate_entropy_and_mutual_info(n, p, q):\n",
        "    matrix_size_val = matrix_size(n)\n",
        "    non_zero_indices = np.nonzero(P_XY(matrix_size_val, p, q))\n",
        "    non_zero_probs = P_XY(matrix_size_val, p, q)[non_zero_indices]\n",
        "    non_zero_p_x = np.sum(non_zero_probs, axis=1)\n",
        "    non_zero_p_y = np.sum(non_zero_probs, axis=0)\n",
        "\n",
        "    entropy_x = calculate_entropy(non_zero_p_x)\n",
        "    entropy_y = calculate_entropy(non_zero_p_y)\n",
        "    mutual_info = calculate_mutual_information(non_zero_probs, non_zero_p_x, non_zero_p_y)\n",
        "\n",
        "    return entropy_x, entropy_y, mutual_info\n",
        "\n",
        "# Example usage\n",
        "n = 3\n",
        "p = 0.1\n",
        "q = 0.9\n",
        "\n",
        "entropy_x, entropy_y, mutual_info = calculate_entropy_and_mutual_info(n, p, q)\n",
        "\n",
        "print(\"Entropy X:\", entropy_x)\n",
        "print(\"Entropy Y:\", entropy_y)\n",
        "print(\"Mutual Information:\", mutual_info)\n"
      ]
    },
    {
      "cell_type": "code",
      "execution_count": null,
      "metadata": {},
      "outputs": [
        {
          "ename": "AxisError",
          "evalue": "axis 1 is out of bounds for array of dimension 1",
          "output_type": "error",
          "traceback": [
            "\u001b[0;31m---------------------------------------------------------------------------\u001b[0m",
            "\u001b[0;31mAxisError\u001b[0m                                 Traceback (most recent call last)",
            "Cell \u001b[0;32mIn[29], line 47\u001b[0m\n\u001b[1;32m     44\u001b[0m p \u001b[39m=\u001b[39m \u001b[39m0.1\u001b[39m\n\u001b[1;32m     45\u001b[0m q \u001b[39m=\u001b[39m \u001b[39m0.9\u001b[39m\n\u001b[0;32m---> 47\u001b[0m entropy_x, entropy_y, mutual_info \u001b[39m=\u001b[39m calculate_entropy_and_mutual_info(n, p, q)\n\u001b[1;32m     49\u001b[0m \u001b[39mprint\u001b[39m(\u001b[39m\"\u001b[39m\u001b[39mEntropy X:\u001b[39m\u001b[39m\"\u001b[39m, entropy_x)\n\u001b[1;32m     50\u001b[0m \u001b[39mprint\u001b[39m(\u001b[39m\"\u001b[39m\u001b[39mEntropy Y:\u001b[39m\u001b[39m\"\u001b[39m, entropy_y)\n",
            "Cell \u001b[0;32mIn[29], line 35\u001b[0m, in \u001b[0;36mcalculate_entropy_and_mutual_info\u001b[0;34m(n, p, q)\u001b[0m\n\u001b[1;32m     33\u001b[0m non_zero_indices \u001b[39m=\u001b[39m np\u001b[39m.\u001b[39mnonzero(probabilities)\n\u001b[1;32m     34\u001b[0m non_zero_probs \u001b[39m=\u001b[39m probabilities[non_zero_indices]\n\u001b[0;32m---> 35\u001b[0m non_zero_p_x \u001b[39m=\u001b[39m np\u001b[39m.\u001b[39;49msum(non_zero_probs, axis\u001b[39m=\u001b[39;49m\u001b[39m1\u001b[39;49m)\n\u001b[1;32m     36\u001b[0m non_zero_p_y \u001b[39m=\u001b[39m np\u001b[39m.\u001b[39msum(non_zero_probs, axis\u001b[39m=\u001b[39m\u001b[39m0\u001b[39m)\n\u001b[1;32m     37\u001b[0m entropy_x \u001b[39m=\u001b[39m calculate_entropy(non_zero_p_x)\n",
            "File \u001b[0;32m<__array_function__ internals>:180\u001b[0m, in \u001b[0;36msum\u001b[0;34m(*args, **kwargs)\u001b[0m\n",
            "File \u001b[0;32m~/Library/Python/3.8/lib/python/site-packages/numpy/core/fromnumeric.py:2298\u001b[0m, in \u001b[0;36msum\u001b[0;34m(a, axis, dtype, out, keepdims, initial, where)\u001b[0m\n\u001b[1;32m   2295\u001b[0m         \u001b[39mreturn\u001b[39;00m out\n\u001b[1;32m   2296\u001b[0m     \u001b[39mreturn\u001b[39;00m res\n\u001b[0;32m-> 2298\u001b[0m \u001b[39mreturn\u001b[39;00m _wrapreduction(a, np\u001b[39m.\u001b[39;49madd, \u001b[39m'\u001b[39;49m\u001b[39msum\u001b[39;49m\u001b[39m'\u001b[39;49m, axis, dtype, out, keepdims\u001b[39m=\u001b[39;49mkeepdims,\n\u001b[1;32m   2299\u001b[0m                       initial\u001b[39m=\u001b[39;49minitial, where\u001b[39m=\u001b[39;49mwhere)\n",
            "File \u001b[0;32m~/Library/Python/3.8/lib/python/site-packages/numpy/core/fromnumeric.py:86\u001b[0m, in \u001b[0;36m_wrapreduction\u001b[0;34m(obj, ufunc, method, axis, dtype, out, **kwargs)\u001b[0m\n\u001b[1;32m     83\u001b[0m         \u001b[39melse\u001b[39;00m:\n\u001b[1;32m     84\u001b[0m             \u001b[39mreturn\u001b[39;00m reduction(axis\u001b[39m=\u001b[39maxis, out\u001b[39m=\u001b[39mout, \u001b[39m*\u001b[39m\u001b[39m*\u001b[39mpasskwargs)\n\u001b[0;32m---> 86\u001b[0m \u001b[39mreturn\u001b[39;00m ufunc\u001b[39m.\u001b[39;49mreduce(obj, axis, dtype, out, \u001b[39m*\u001b[39;49m\u001b[39m*\u001b[39;49mpasskwargs)\n",
            "\u001b[0;31mAxisError\u001b[0m: axis 1 is out of bounds for array of dimension 1"
          ]
        }
      ],
      "source": [
        "import numpy as np\n",
        "\n",
        "def P_XY(M, p, q):\n",
        "    n = int(np.log2(M))\n",
        "    matrix = np.zeros((M, M))\n",
        "\n",
        "    for i in range(M):\n",
        "        for j in range(M):\n",
        "            x = i // (2 ** (n-1))\n",
        "            y = j // (2 ** (n-1))\n",
        "            if x == y:\n",
        "                matrix[i, j] = p\n",
        "            else:\n",
        "                matrix[i, j] = q\n",
        "\n",
        "    return matrix\n",
        "\n",
        "def calculate_entropy(probabilities):\n",
        "    non_zero_probs = probabilities[probabilities != 0]\n",
        "    entropy = -np.sum(non_zero_probs * np.log2(non_zero_probs))\n",
        "    return entropy\n",
        "\n",
        "def calculate_mutual_information(probabilities, p_x, p_y):\n",
        "    non_zero_probs = probabilities[probabilities != 0]\n",
        "    p_x_non_zero = p_x[probabilities != 0]\n",
        "    p_y_non_zero = p_y[probabilities != 0]\n",
        "    mutual_info = np.sum(non_zero_probs * np.log2(non_zero_probs / (p_x_non_zero[:, None] * p_y_non_zero)))\n",
        "    return mutual_info\n",
        "\n",
        "def calculate_entropy_and_mutual_info(n, p, q):\n",
        "    matrix_size_val = matrix_size(n)\n",
        "    probabilities = P_XY(matrix_size_val, p, q)\n",
        "    non_zero_indices = np.nonzero(probabilities)\n",
        "    non_zero_probs = probabilities[non_zero_indices]\n",
        "    non_zero_p_x = np.sum(non_zero_probs, axis=1)\n",
        "    non_zero_p_y = np.sum(non_zero_probs, axis=0)\n",
        "    entropy_x = calculate_entropy(non_zero_p_x)\n",
        "    entropy_y = calculate_entropy(non_zero_p_y)\n",
        "    mutual_info = calculate_mutual_information(non_zero_probs, non_zero_p_x, non_zero_p_y)\n",
        "    return entropy_x, entropy_y, mutual_info\n",
        "\n",
        "# Example usage\n",
        "n = 3\n",
        "p = 0.1\n",
        "q = 0.9\n",
        "\n",
        "entropy_x, entropy_y, mutual_info = calculate_entropy_and_mutual_info(n, p, q)\n",
        "\n",
        "print(\"Entropy X:\", entropy_x)\n",
        "print(\"Entropy Y:\", entropy_y)\n",
        "print(\"Mutual Information:\", mutual_info)\n"
      ]
    },
    {
      "cell_type": "code",
      "execution_count": null,
      "metadata": {},
      "outputs": [],
      "source": [
        "# print('Loss Bit for M = 1')\n",
        "# print('Number of Time Bin', M)\n",
        "\n",
        "# print('Joint Probability P(X,Y):')\n",
        "# print(P_XY_OOK)\n",
        "\n",
        "# print('Probability P(X):', PX)\n",
        "# print('Probability P(Y):', PY)\n",
        "\n",
        "# print('Conditional Probability P(X|Y):')\n",
        "# print(P_X_Y)\n",
        "# print('Conditional Probability P(Y|X):')\n",
        "# print(P_Y_X)\n",
        "\n",
        "# print('Entropy H(X):', HX)\n",
        "# print('Entropy H(Y):', HY)\n",
        "\n",
        "# print('Joint Entropy H(X,Y):', H_XY)\n",
        "# print('Conditional Entropy H(X|Y):', H_X_Y)\n",
        "# print('Conditional Entropy H(Y|X):', H_Y_X)\n",
        "\n",
        "# print('Mutual Information I(X;Y)):', MI)\n",
        "# print('Mutual Information per Photon I(X;Y)/(M/2)):', MIperPhoton)"
      ]
    },
    {
      "cell_type": "code",
      "execution_count": null,
      "metadata": {},
      "outputs": [],
      "source": [
        "\n",
        "# IperTimeBin_AB_OOK_list_0 = []\n",
        "# IperPhotonTimeBin_AB_OOK_list_0 = []\n",
        "\n",
        "# IperTimeBin_AB_OOK_list_0_1 = []\n",
        "# IperPhotonTimeBin_AB_OOK_list_0_1 = []\n",
        "\n",
        "I_AB_OOK_list_0 = []\n",
        "IperPhoton_AB_OOK_list_0 = []\n",
        "TimeBin_OOK_list_0 = []\n",
        "\n",
        "# for n_OOK in range(1, 12):\n",
        "#     m = 1\n",
        "#     o = 0\n",
        "#     p = 0\n",
        "#     q = 1 - p\n",
        "#     M_val = M(n_OOK)\n",
        "#     K_val = K(n_OOK)\n",
        "#     matrix_size_val = matrix_size(n_OOK)\n",
        "#     P_XY_val = P_XY(matrix_size_val)\n",
        "#     P_XY_OOK_val = P_XY_OOK(P_XY_val, K_val)\n",
        "#     P_X_val = P_X(P_XY_OOK_val)\n",
        "#     P_Y_val = P_Y(P_XY_OOK_val)\n",
        "#     P_X_Y_val = P_X_Y(P_XY_OOK_val, P_Y_val)\n",
        "#     H_X_val = H_X(P_X_val)\n",
        "#     H_X_Y_val = H_X_Y(P_XY_OOK_val, P_X_Y_val)\n",
        "#     I_val = M_I(H_X_val, H_X_Y_val)\n",
        "#     IperPhoton_AB_OOK_val = M_I_per_Photon(I_val,n_OOK)\n",
        "    \n",
        "#     TimeBin_OOK_list_0.append(M_val)\n",
        "#     I_AB_OOK_list_0.append(I_val)\n",
        "#     IperPhoton_AB_OOK_list_0.append(IperPhoton_AB_OOK_val)\n",
        "\n",
        "    # IperTimeBin_AB_OOK_val = I_AB_OOK_diagonal(P_AB_OOK_val, n_OOK, P_D_OOK_val) / M_OOK\n",
        "    # IperTimeBin_AB_OOK_list_0.append(IperTimeBin_AB_OOK_val)\n",
        "    # IperPhotonTimeBin_AB_OOK_val = I_AB_OOK_diagonal(P_AB_OOK_val, n_OOK, P_D_OOK_val)/ (n_OOK * M_OOK)\n",
        "    # IperPhotonTimeBin_AB_OOK_list_0.append(IperPhotonTimeBin_AB_OOK_val)\n",
        "\n",
        "I_AB_OOK_list_0_1 = []\n",
        "IperPhoton_AB_OOK_list_0_1 = []\n",
        "TimeBin_OOK_list_0_1 = []\n",
        "\n",
        "for n_OOK in range(1, 12):\n",
        "    m = 1\n",
        "    o = 0\n",
        "    p = 0.1\n",
        "    q = 1 - p\n",
        "    M_val = M(n_OOK)\n",
        "    K_val = K(n_OOK)\n",
        "    matrix_size_val = matrix_size(n_OOK)\n",
        "    P_XY_val = P_XY(matrix_size_val)\n",
        "    P_XY_OOK_val = P_XY_OOK(P_XY_val, K_val)\n",
        "    P_X_val = P_X(P_XY_OOK_val)\n",
        "    P_Y_val = P_Y(P_XY_OOK_val)\n",
        "    P_X_Y_val = P_X_Y(P_XY_OOK_val, P_Y_val)\n",
        "    H_X_val = H_X(P_X_val)\n",
        "    H_X_Y_val = H_X_Y(P_XY_OOK_val, P_X_Y_val)\n",
        "    I_val = M_I(H_X_val, H_X_Y_val)\n",
        "    IperPhoton_AB_OOK_val = M_I_per_Photon(I_val,n_OOK)\n",
        "    \n",
        "    TimeBin_OOK_list_0_1.append(M_val)\n",
        "    I_AB_OOK_list_0_1.append(I_val)\n",
        "    IperPhoton_AB_OOK_list_0_1.append(IperPhoton_AB_OOK_val)\n",
        "\n",
        "I_AB_OOK_list_0_2 = []\n",
        "IperPhoton_AB_OOK_list_0_2 = []\n",
        "TimeBin_OOK_list_0_2 = []\n",
        "\n",
        "# for n_OOK in range(1, 12):\n",
        "#     m = 1\n",
        "#     o = 0\n",
        "#     p = 0.2\n",
        "#     q = 1 - p\n",
        "#     M_val = M(n_OOK)\n",
        "#     K_val = K(n_OOK)\n",
        "#     matrix_size_val = matrix_size(n_OOK)\n",
        "#     P_XY_val = P_XY(matrix_size_val)\n",
        "#     P_XY_OOK_val = P_XY_OOK(P_XY_val, K_val)\n",
        "#     P_X_val = P_X(P_XY_OOK_val)\n",
        "#     P_Y_val = P_Y(P_XY_OOK_val)\n",
        "#     P_X_Y_val = P_X_Y(P_XY_OOK_val, P_Y_val)\n",
        "#     H_X_val = H_X(P_X_val)\n",
        "#     H_X_Y_val = H_X_Y(P_XY_OOK_val, P_X_Y_val)\n",
        "#     I_val = M_I(H_X_val, H_X_Y_val)\n",
        "#     IperPhoton_AB_OOK_val = M_I_per_Photon(I_val,n_OOK)\n",
        "    \n",
        "#     TimeBin_OOK_list_0_2.append(M_val)\n",
        "#     I_AB_OOK_list_0_2.append(I_val)\n",
        "#     IperPhoton_AB_OOK_list_0_2.append(IperPhoton_AB_OOK_val)\n",
        "\n",
        "\n",
        "# I_AB_OOK_list_0_9 = []\n",
        "# IperPhoton_AB_OOK_list_0_9 = []\n",
        "# TimeBin_OOK_list_0_9= []\n",
        "\n",
        "# for n_OOK in range(1, 12):\n",
        "#     m = 1\n",
        "#     o = 0\n",
        "#     p = 0.9\n",
        "#     q = 1 - p\n",
        "#     M_val = M(n_OOK)\n",
        "#     K_val = K(n_OOK)\n",
        "#     matrix_size_val = matrix_size(n_OOK)\n",
        "#     P_XY_val = P_XY(matrix_size_val)\n",
        "#     P_XY_OOK_val = P_XY_OOK(P_XY_val, K_val)\n",
        "#     P_X_val = P_X(P_XY_OOK_val)\n",
        "#     P_Y_val = P_Y(P_XY_OOK_val)\n",
        "#     P_X_Y_val = P_X_Y(P_XY_OOK_val, P_Y_val)\n",
        "#     H_X_val = H_X(P_X_val)\n",
        "#     H_X_Y_val = H_X_Y(P_XY_OOK_val, P_X_Y_val)\n",
        "#     I_val = M_I(H_X_val, H_X_Y_val)\n",
        "#     IperPhoton_AB_OOK_val = M_I_per_Photon(I_val,n_OOK)\n",
        "    \n",
        "#     TimeBin_OOK_list_0_9.append(M_val)\n",
        "#     I_AB_OOK_list_0_9.append(I_val)\n",
        "#     IperPhoton_AB_OOK_list_0_9.append(IperPhoton_AB_OOK_val)\n",
        "\n",
        "\n"
      ]
    },
    {
      "cell_type": "code",
      "execution_count": null,
      "metadata": {},
      "outputs": [],
      "source": []
    },
    {
      "cell_type": "code",
      "execution_count": null,
      "metadata": {},
      "outputs": [],
      "source": [
        "figure, axis = plt.subplots(1,1,figsize=(20,10))\n",
        "\n",
        "plt.scatter(TimeBin_OOK_list_0, IperPhoton_AB_OOK_list_0, label='I_AB_OOK per Photonat at P = 0', color ='blue', linewidth=3, alpha=1)\n",
        "plt.scatter(TimeBin_OOK_list_0_1, IperPhoton_AB_OOK_list_0_1, label='I_AB_OOK per Photon at P = 0.1', color ='red', linewidth=3, alpha=1)\n",
        "plt.scatter(TimeBin_OOK_list_0_2, IperPhoton_AB_OOK_list_0_2, label='I_AB_OOK per Photon at P = 0.2', color ='green', linewidth=3, alpha=1)\n",
        "plt.scatter(TimeBin_OOK_list_0_9, IperPhoton_AB_OOK_list_0_9, label='I_AB_OOK per Photon at P = 0.9', color ='orange', linewidth=3, alpha=1)\n",
        "plt.ylim(0, 30) \n",
        "plt.ylim(0, 2.5) \n",
        "plt.title('Mutual Information per Photon ($\\\\frac{I_{AB}}{n}$) of OOK  (1 \\u2264 n \\u2264 11) Vs. Number of Time Bin (M) (2 \\u2264 n \\u2264 20) at Probability P = 0, 0.1', fontsize='x-large')\n",
        "plt.xlabel('M (s) ', fontsize = 14)\n",
        "plt.ylabel('$\\\\frac{I_{AB}}{n}$ (Bit/Joule)', fontsize = 14)\n",
        "plt.grid(True)\n",
        "plt.legend(fontsize=14)\n",
        "\n",
        "for index in range(0,11): # len(TimeBin_OOK_list_0)\n",
        "  plt.text(TimeBin_OOK_list_0[index], IperPhoton_AB_OOK_list_0[index], round(IperPhoton_AB_OOK_list_0[index],2), size=12)\n",
        "\n",
        "for index in range(0,11): # (len(TimeBin_OOK_list_0_1)\n",
        "  plt.text(TimeBin_OOK_list_0_1[index], IperPhoton_AB_OOK_list_0_1[index], round(IperPhoton_AB_OOK_list_0_1[index],2), size=12)\n",
        "\n",
        "\n",
        "for index in range(0,11): # (len(TimeBin_OOK_list_0_1)\n",
        "  plt.text(TimeBin_OOK_list_0_2[index], IperPhoton_AB_OOK_list_0_2[index], round(IperPhoton_AB_OOK_list_0_2[index],2), size=12)\n",
        "\n",
        "for index in range(0,11): # (len(TimeBin_OOK_list_0_1)\n",
        "  plt.text(TimeBin_OOK_list_0_9[index], IperPhoton_AB_OOK_list_0_9[index], round(IperPhoton_AB_OOK_list_0_9[index],2), size=12)"
      ]
    },
    {
      "cell_type": "code",
      "execution_count": null,
      "metadata": {},
      "outputs": [],
      "source": []
    },
    {
      "cell_type": "markdown",
      "metadata": {
        "id": "SCBhNLzSuI1b"
      },
      "source": [
        "## Loss Bit for M = 1"
      ]
    },
    {
      "cell_type": "code",
      "execution_count": null,
      "metadata": {
        "id": "0nZ3Bv2luI1b"
      },
      "outputs": [],
      "source": [
        "# Conditional probability matrix [P(Y|X)]\n",
        "n = 1\n",
        "o = 0\n",
        "p = 0.1\n",
        "q = 0.9\n",
        "M = 1\n",
        "K = 2**M\n",
        "\n",
        "# Calculate Joint Probability Matrix [P(X,Y)]\n",
        "P_XY = np.array([[n, o],\n",
        "                  [p, q]]) * 1/ (K)\n",
        "\n",
        "PX = np.sum(P_XY, axis=1)\n",
        "PY = np.sum(P_XY, axis=0)\n",
        "\n",
        "P_Y_X = P_XY / PX [:, np.newaxis]  # Adjust dimensions for proper broadcasting division\n",
        "P_X_Y = P_XY / PY\n",
        "\n",
        "# Entropy\n",
        "HX = -np.sum(PX * np.log2(PX))\n",
        "HY = -np.sum(PY * np.log2(PY))\n",
        "H_XY = -np.sum(P_XY * np.log2(P_XY + 1e-10))\n",
        "H_X_Y = -np.sum(P_XY * np.log2(P_X_Y + 1e-10), axis=0).sum()\n",
        "H_Y_X = -np.sum(P_XY * np.log2(P_Y_X + 1e-10), axis=0).sum()\n",
        "\n",
        "# Mutual Information\n",
        "MI = HX - H_X_Y\n",
        "\n",
        "# Mutual Information per Photon\n",
        "MIperPhoton = MI / (M/2)"
      ]
    },
    {
      "cell_type": "code",
      "execution_count": null,
      "metadata": {
        "id": "vw5tCuZzuI1b",
        "outputId": "7df9ea52-bb9a-416f-a92a-388a10eeead7"
      },
      "outputs": [],
      "source": [
        "P_XY"
      ]
    },
    {
      "cell_type": "code",
      "execution_count": null,
      "metadata": {
        "id": "mwbYEaaIuI1b",
        "outputId": "1ad00028-40a8-4a1d-9caa-970c6c724de8"
      },
      "outputs": [],
      "source": [
        "print('Loss Bit for M = 1')\n",
        "print('Number of Time Bin', M)\n",
        "\n",
        "print('Joint Probability P(X,Y):')\n",
        "print(P_XY)\n",
        "\n",
        "print('Probability P(X):', PX)\n",
        "print('Probability P(Y):', PY)\n",
        "\n",
        "print('Conditional Probability P(X|Y):')\n",
        "print(P_X_Y)\n",
        "print('Conditional Probability P(Y|X):')\n",
        "print(P_Y_X)\n",
        "\n",
        "print('Entropy H(X):', HX)\n",
        "print('Entropy H(Y):', HY)\n",
        "\n",
        "print('Joint Entropy H(X,Y):', H_XY)\n",
        "print('Conditional Entropy H(X|Y):', H_X_Y)\n",
        "print('Conditional Entropy H(Y|X):', H_Y_X)\n",
        "\n",
        "print('Mutual Information I(X;Y)):', MI)\n",
        "print('Mutual Information per Photon I(X;Y)/(M/2)):', MIperPhoton)"
      ]
    },
    {
      "cell_type": "markdown",
      "metadata": {
        "id": "RAFELXZ4uI1b"
      },
      "source": [
        "## Loss Bit for M = 2"
      ]
    },
    {
      "cell_type": "code",
      "execution_count": 23,
      "metadata": {
        "id": "Qu2v_LosuI1b"
      },
      "outputs": [],
      "source": [
        "m = 1\n",
        "o = 0\n",
        "p = 0.1\n",
        "q = 0.9\n",
        "M = 2\n",
        "K = 2**M\n",
        "\n",
        "P_XY = np.array([[m*m, m*o, o*m, o*o],\n",
        "                 [m*p, m*q, o*p, o*q],\n",
        "                 [p*m, p*o, q*m, q*o],\n",
        "                 [p*p, p*q, q*p, q*q]]) # * 1/K\n",
        "\n",
        "PX = np.sum(P_XY, axis=1)\n",
        "PY = np.sum(P_XY, axis=0)\n",
        "\n",
        "P_Y_X = P_XY / PX [:, np.newaxis]  # Adjust dimensions for proper broadcasting division\n",
        "P_X_Y = P_XY / PY\n",
        "\n",
        "# Entropy\n",
        "HX = -np.sum(PX * np.log2(PX))\n",
        "HY = -np.sum(PY * np.log2(PY))\n",
        "\n",
        "H_XY = -np.sum(P_XY * np.log2(P_XY + 1e-10))\n",
        "H_X_Y = -np.sum(P_XY * np.log2(P_X_Y + 1e-10), axis=0).sum()\n",
        "H_Y_X = -np.sum(P_XY * np.log2(P_Y_X + 1e-10), axis=0).sum()\n",
        "\n",
        "# Mutual Information\n",
        "MI = HX - H_X_Y\n",
        "\n",
        "# Mutual Information per Photon\n",
        "MIperPhoton = MI / (M/2)"
      ]
    },
    {
      "cell_type": "code",
      "execution_count": 24,
      "metadata": {
        "id": "itVTV_4fuI1b",
        "outputId": "4d13aa8f-ba42-4784-a73a-72bac5a1824a"
      },
      "outputs": [
        {
          "name": "stdout",
          "output_type": "stream",
          "text": [
            "Loss Bit for M = 2\n",
            "Number of Time Bin 2\n",
            "Probability P(X): [1. 1. 1. 1.]\n",
            "Probability P(Y): [1.21 0.99 0.99 0.81]\n",
            "Joint Probability P(X,Y):\n",
            "[[1.   0.   0.   0.  ]\n",
            " [0.1  0.9  0.   0.  ]\n",
            " [0.1  0.   0.9  0.  ]\n",
            " [0.01 0.09 0.09 0.81]]\n",
            "Conditional Probability P(X|Y):\n",
            "[[0.82644628 0.         0.         0.        ]\n",
            " [0.08264463 0.90909091 0.         0.        ]\n",
            " [0.08264463 0.         0.90909091 0.        ]\n",
            " [0.00826446 0.09090909 0.09090909 1.        ]]\n",
            "Conditional Probability P(Y|X):\n",
            "[[1.   0.   0.   0.  ]\n",
            " [0.1  0.9  0.   0.  ]\n",
            " [0.1  0.   0.9  0.  ]\n",
            " [0.01 0.09 0.09 0.81]]\n",
            "Entropy H(X): -0.0\n",
            "Entropy H(Y): -0.05780436809753403\n",
            "Joint Entropy H(X,Y): 1.8759823730586993\n",
            "Conditional Entropy H(X|Y): 1.9337867410682286\n",
            "Conditional Entropy H(Y|X): 1.875982373058699\n",
            "Mutual Information I(X;Y)): -1.9337867410682286\n",
            "Mutual Information per Photon I(X;Y)/(M/2)): -1.9337867410682286\n"
          ]
        }
      ],
      "source": [
        "print('Loss Bit for M = 2')\n",
        "print('Number of Time Bin', M)\n",
        "\n",
        "print('Probability P(X):', PX)\n",
        "print('Probability P(Y):', PY)\n",
        "\n",
        "print('Joint Probability P(X,Y):')\n",
        "print(P_XY)\n",
        "\n",
        "print('Conditional Probability P(X|Y):')\n",
        "print(P_X_Y)\n",
        "print('Conditional Probability P(Y|X):')\n",
        "print(P_Y_X)\n",
        "\n",
        "\n",
        "print('Entropy H(X):', HX)\n",
        "print('Entropy H(Y):', HY)\n",
        "\n",
        "print('Joint Entropy H(X,Y):', H_XY)\n",
        "\n",
        "print('Conditional Entropy H(X|Y):', H_X_Y)\n",
        "print('Conditional Entropy H(Y|X):', H_Y_X)\n",
        "\n",
        "print('Mutual Information I(X;Y)):', MI)\n",
        "print('Mutual Information per Photon I(X;Y)/(M/2)):', MIperPhoton)"
      ]
    },
    {
      "cell_type": "markdown",
      "metadata": {
        "id": "SUy-Q2sJuI1b"
      },
      "source": [
        "-(0.25 * np.log2(0.25) + 0.025 * np.log2(0.025)  + 0.225 * np.log2(0.225)\n",
        "\n",
        " + 0.025* np.log2(0.025) + 0.225* np.log2(0.225) + 0.0025* np.log2(0.0025) + 0.0225* np.log2(0.0225) + 0.0225* np.log2(0.0225) + 0.2025* np.log2(0.2025))"
      ]
    },
    {
      "cell_type": "code",
      "execution_count": null,
      "metadata": {
        "id": "aFxmKsdmuI1b",
        "outputId": "dff9053f-128a-419e-f106-046a04a5ab4a"
      },
      "outputs": [],
      "source": [
        "-(0.25 * np.log2(0.25) + 0.025 * np.log2(0.025)  + 0.225 * np.log2(0.225) + 0.025* np.log2(0.025) + 0.225* np.log2(0.225) + 0.0025* np.log2(0.0025) + 0.0225* np.log2(0.0225) + 0.0225* np.log2(0.0225) + 0.2025* np.log2(0.2025))"
      ]
    },
    {
      "cell_type": "code",
      "execution_count": null,
      "metadata": {
        "id": "ZQYSjRDLuI1c",
        "outputId": "716a50d4-5dd7-4953-cfa5-be769b80ac0c"
      },
      "outputs": [],
      "source": [
        "-(0.25 * np.log2(0.83) + 0.025 * np.log2(0.082)  + 0.225 * np.log2(0.91) + 0.025* np.log2(0.082) + 0.225* np.log2(0.91) + 0.0025* np.log2(0.0082) + 0.0225* np.log2(0.091) + 0.0225* np.log2(0.091) + 0.2025* np.log2(1))"
      ]
    },
    {
      "cell_type": "code",
      "execution_count": null,
      "metadata": {
        "id": "xxwfIX8xuI1c",
        "outputId": "69bbf829-69e6-45f7-9219-4cc97176e1d8"
      },
      "outputs": [],
      "source": [
        "-(0.25 *  np.log2(1) + 0.025 *  np.log2(0.1)  + 0.225 *  np.log2(0.9) + 0.025*  np.log2(0.1) + 0.225*  np.log2(0.9) + 0.0025*  np.log2(0.1) + 0.0225*  np.log2(0.09) + 0.0225*  np.log2(0.09) + 0.2025*  np.log2(0.81))"
      ]
    },
    {
      "cell_type": "code",
      "execution_count": null,
      "metadata": {
        "id": "4Yg5XqUhuI1c",
        "outputId": "2d60abc9-6ffd-42e5-ea31-0fe8ac43d480"
      },
      "outputs": [],
      "source": [
        "2 - 0.48"
      ]
    },
    {
      "cell_type": "code",
      "execution_count": null,
      "metadata": {
        "id": "6144Gkz5uI1c",
        "outputId": "d2f270a0-f1a4-48d0-cbde-5bc785293d62"
      },
      "outputs": [],
      "source": [
        "1.9855 - 0.46"
      ]
    },
    {
      "cell_type": "markdown",
      "metadata": {
        "id": "2D3_TBcGuI1c"
      },
      "source": [
        "## Loss Bit for M = 3"
      ]
    },
    {
      "cell_type": "code",
      "execution_count": null,
      "metadata": {
        "id": "Qgdbl8PauI1c"
      },
      "outputs": [],
      "source": [
        "n = 1       # 0 to 0 \n",
        "o = 0       # 0 to 1\n",
        "p = 0.1     # 1 to 0 \n",
        "q = 0.9     # 1 to 1\n",
        "M = 3\n",
        "K = 2**M\n",
        "\n",
        "# Conditional probability matrix [P(Y|X)]\n",
        "# Consider the flip bit case for M = 3 \n",
        "P_XY = np.array([ [n*n*n, n*n*o, n*o*n, n*o*o, o*n*n, o*n*o, o*o*n, o*o*o],\n",
        "                  [n*n*p, n*n*q, n*o*p, n*o*q, o*n*p, o*n*q, o*o*p, o*o*q],\n",
        "                  [n*p*n, n*p*o, n*q*n, n*p*o, o*p*n, o*p*o, o*q*n, o*q*o],\n",
        "                  [n*p*p, n*p*q, n*q*p, n*q*q, o*p*p, o*p*q, o*q*p, o*q*q],\n",
        "                  [p*n*n, p*n*o, p*o*n, p*o*o, q*n*n, q*n*o, q*o*n, q*o*o],\n",
        "                  [p*n*p, p*n*q, p*o*p, p*o*q, q*n*p, q*n*q, q*o*p, q*o*q],\n",
        "\n",
        "                  [p*p*n, p*p*o, p*q*n, p*q*o, q*p*n, q*p*o, q*q*n, q*q*o],\n",
        "                  [p*p*p, p*p*q, p*q*p, p*q*q, q*p*p, q*p*q, q*q*p, q*q*q]]) * 1/ (K)\n",
        "\n",
        "PX = np.sum(P_XY, axis=1)\n",
        "PY = np.sum(P_XY, axis=0)\n",
        "\n",
        "# Calculate Joint Probability Matrix [P(X,Y)]\n",
        "P_Y_X = P_XY / PX [:, np.newaxis]  # Adjust dimensions for proper broadcasting division\n",
        "P_X_Y = P_XY / PY\n",
        "\n",
        "# Entropy\n",
        "HX = -np.sum(PX * np.log2(PX))\n",
        "HY = -np.sum(PY * np.log2(PY))\n",
        "H_XY = -np.sum(P_XY * np.log2(P_XY + 1e-10))\n",
        "H_X_Y = -np.sum(P_XY * np.log2(P_X_Y + 1e-10), axis=0).sum()\n",
        "H_Y_X = -np.sum(P_XY * np.log2(P_Y_X + 1e-10), axis=0).sum()\n",
        "\n",
        "# Mutual Information\n",
        "MI = HX - H_X_Y\n",
        "\n",
        "# Mutual Information per Photon\n",
        "MIperPhoton = MI / (M/2)"
      ]
    },
    {
      "cell_type": "code",
      "execution_count": null,
      "metadata": {
        "id": "UvCt0AGtuI1c",
        "outputId": "18eddd62-7286-4ad8-af0c-96da4ae5ba05"
      },
      "outputs": [
        {
          "name": "stdout",
          "output_type": "stream",
          "text": [
            "Loss Bit for M = 3\n",
            "Number of Time Bin 3\n",
            "Probability P(X): [0.125 0.125 0.125 0.125 0.125 0.125 0.125 0.125]\n",
            "Probability P(Y): [0.166375 0.136125 0.136125 0.111375 0.136125 0.111375 0.111375 0.091125]\n",
            "Joint Probability P(X,Y):\n",
            "[[0.125    0.       0.       0.       0.       0.       0.       0.      ]\n",
            " [0.0125   0.1125   0.       0.       0.       0.       0.       0.      ]\n",
            " [0.0125   0.       0.1125   0.       0.       0.       0.       0.      ]\n",
            " [0.00125  0.01125  0.01125  0.10125  0.       0.       0.       0.      ]\n",
            " [0.0125   0.       0.       0.       0.1125   0.       0.       0.      ]\n",
            " [0.00125  0.01125  0.       0.       0.01125  0.10125  0.       0.      ]\n",
            " [0.00125  0.       0.01125  0.       0.01125  0.       0.10125  0.      ]\n",
            " [0.000125 0.001125 0.001125 0.010125 0.001125 0.010125 0.010125 0.091125]]\n",
            "Entropy H(X): 3.0\n",
            "Entropy H(Y): 2.978323361963425\n",
            "Conditional Entropy H(X|Y): 0.7251700278832555\n",
            "Conditional Entropy H(Y|X): 0.7034933898970123\n",
            "Mutual Information I(X;Y)): 2.2748299721167444\n",
            "Mutual Information per Photon I(X;Y)/(M/2)): 1.5165533147444963\n"
          ]
        }
      ],
      "source": [
        "print('Loss Bit for M = 3')\n",
        "print('Number of Time Bin', M)\n",
        "\n",
        "print('Probability P(X):', PX)\n",
        "print('Probability P(Y):', PY)\n",
        "\n",
        "print('Joint Probability P(X,Y):')\n",
        "print(P_XY)\n",
        "\n",
        "# print('Conditional Probability P(X|Y):')\n",
        "# print(P_X_Y)\n",
        "# print('Conditional Probability P(Y|X):')\n",
        "# print(P_Y_X)\n",
        "\n",
        "\n",
        "print('Entropy H(X):', HX)\n",
        "print('Entropy H(Y):', HY)\n",
        "\n",
        "# print('Joint Entropy H(X,Y):')\n",
        "# print(H_XY)\n",
        "\n",
        "print('Conditional Entropy H(X|Y):', H_X_Y)\n",
        "print('Conditional Entropy H(Y|X):', H_Y_X)\n",
        "\n",
        "print('Mutual Information I(X;Y)):', MI)\n",
        "print('Mutual Information per Photon I(X;Y)/(M/2)):', MIperPhoton)"
      ]
    },
    {
      "cell_type": "markdown",
      "metadata": {
        "id": "Xl71FQ2juI1c"
      },
      "source": [
        "# I have not checked the codes below yet"
      ]
    },
    {
      "cell_type": "code",
      "execution_count": null,
      "metadata": {
        "id": "TPHx4CfluI1c"
      },
      "outputs": [],
      "source": []
    },
    {
      "cell_type": "code",
      "execution_count": null,
      "metadata": {
        "id": "HGynGZ0RuI1c"
      },
      "outputs": [],
      "source": []
    },
    {
      "cell_type": "code",
      "execution_count": null,
      "metadata": {
        "id": "1-RgE54ruI1c"
      },
      "outputs": [],
      "source": []
    },
    {
      "cell_type": "code",
      "execution_count": null,
      "metadata": {
        "id": "KIap2QAAuI1c"
      },
      "outputs": [],
      "source": []
    },
    {
      "cell_type": "markdown",
      "metadata": {
        "id": "uqCZb9aoEqI2"
      },
      "source": [
        "# Another Way of Calculation starting from Joint Probability"
      ]
    },
    {
      "cell_type": "markdown",
      "metadata": {
        "id": "qFXINbACEqI3"
      },
      "source": [
        "## Marginal Probability P(X), P(Y), Conditional Probability P(X|Y), P(Y|X)"
      ]
    },
    {
      "cell_type": "code",
      "execution_count": null,
      "metadata": {
        "id": "2vQxeQ92EqI3"
      },
      "outputs": [],
      "source": [
        "# Calculate the column sums, probability P(X)\n",
        "def P_X(P_XY):\n",
        "    column_sums = np.sum(P_XY, axis=1)\n",
        "    return column_sums \n",
        "\n",
        "# Calculate the column sums, probability P(Y)\n",
        "def P_Y(P_XY):\n",
        "    row_sums = np.sum(P_XY, axis=0)\n",
        "    return row_sums\n",
        "\n",
        "# Calculate the conditional probability matrix\n",
        "def P_Y_X(P_XY, P_X): \n",
        "    P_YbyX = P_XY / P_X\n",
        "    return P_YbyX\n",
        "\n",
        "def P_X_Y(P_XY, P_Y):\n",
        "    P_XbyY = P_XY / P_Y\n",
        "    return P_XbyY\n",
        "\n",
        "def M(P_XY): \n",
        "    return np.shape(P_XY)[0] / 2"
      ]
    },
    {
      "cell_type": "markdown",
      "metadata": {
        "id": "xxggwmA7uI1d"
      },
      "source": []
    },
    {
      "cell_type": "markdown",
      "metadata": {
        "id": "Vil5UnalEqI3"
      },
      "source": [
        "## Marginal Entropy H(X), H(Y), Joint Entropy H(X,Y), Conditional Entropy H(X|Y), H(Y|X), Mutual Information"
      ]
    },
    {
      "cell_type": "code",
      "execution_count": null,
      "metadata": {
        "id": "W0g2X0B8EqI3"
      },
      "outputs": [],
      "source": [
        "def H_X(P_X):\n",
        "    HX = np.sum(-(P_X) * np.log2(P_X))\n",
        "    return HX\n",
        "\n",
        "def H_Y(P_Y):\n",
        "    HY = np.sum(-(P_Y) * np.log2(P_Y))\n",
        "    return HY\n",
        "\n",
        "# Calculate the joint entropy H(X,Y)\n",
        "def H_XY(P_XY):\n",
        "    HXY = -np.sum(P_XY * np.log2(P_XY + 1e-10), axis=0).sum()\n",
        "    return HXY\n",
        "\n",
        "# Calculate the conditional entropy H(Y|X)\n",
        "def H_Y_X(P_Y_X): \n",
        "    H_YbyX = -np.sum(P_XY * np.log2(P_Y_X + 1e-10), axis=0).sum()\n",
        "    return H_YbyX\n",
        "\n",
        "def H_X_Y(P_X_Y): \n",
        "    H_XbyY = -np.sum(P_XY * np.log2(P_X_Y + 1e-10), axis=0).sum()\n",
        "    return H_XbyY\n",
        "\n",
        "def MutualInformation(H_Y, H_Y_X):\n",
        "    MI = H_Y - H_Y_X\n",
        "    return MI \n",
        "\n",
        "def MIperPhoton(MutualInformation, M):\n",
        "    return MutualInformation / (M/2)"
      ]
    },
    {
      "cell_type": "markdown",
      "metadata": {
        "id": "2YEZ6vjOEqI4"
      },
      "source": [
        "## Number into Fraction"
      ]
    },
    {
      "cell_type": "code",
      "execution_count": null,
      "metadata": {
        "id": "Jzhc5iCIEqI4"
      },
      "outputs": [],
      "source": [
        "from fractions import Fraction\n",
        "fraction_HX = Fraction(H_X(P_X(P_XY))).limit_denominator()\n",
        "fraction_HY = Fraction(H_Y(P_Y(P_XY))).limit_denominator()\n",
        "fraction_HXY = Fraction(H_XY((P_XY))).limit_denominator()\n",
        "fraction_HXbyY = Fraction(H_X_Y(P_X_Y(P_XY, P_Y(P_XY)))).limit_denominator()\n",
        "fraction_HYbyX = Fraction(H_Y_X(P_Y_X(P_XY, P_X(P_XY)))).limit_denominator()\n",
        "fraction_MI = Fraction(MutualInformation(H_Y(P_Y(P_XY)), H_Y_X(P_Y_X(P_XY, P_X(P_XY))))).limit_denominator()"
      ]
    },
    {
      "cell_type": "markdown",
      "metadata": {
        "id": "_ivxpNJTuI1j"
      },
      "source": [
        "## Flip Bit Joint Probability of OOK for M = 1 "
      ]
    },
    {
      "cell_type": "code",
      "execution_count": null,
      "metadata": {
        "id": "oxMNf16_uI1j"
      },
      "outputs": [],
      "source": [
        "P_XY = np.array([[0.45, 0.05],\n",
        "                [0.05, 0.45]])"
      ]
    },
    {
      "cell_type": "code",
      "execution_count": null,
      "metadata": {
        "id": "YxsQ6EO4uI1j",
        "outputId": "1f77c6b3-7ede-40eb-e206-8a59501465a3"
      },
      "outputs": [],
      "source": [
        "M(P_XY)"
      ]
    },
    {
      "cell_type": "code",
      "execution_count": null,
      "metadata": {
        "id": "llnSyJSeuI1j",
        "outputId": "da072cff-e4d4-4d0f-b8ec-f0eb005f0278"
      },
      "outputs": [],
      "source": [
        "print('Flip Bit for M = 1')\n",
        "print('Number of Time Bin', M(P_XY))\n",
        "print('Probability P(X):', P_X(P_XY))\n",
        "print('Probability P(Y):', P_Y(P_XY))\n",
        "\n",
        "print('Joint Probability P(X, Y):')\n",
        "print(P_XY)\n",
        "print('Conditional Probability P(X|Y):')\n",
        "print(P_X_Y(P_XY, P_Y(P_XY)))\n",
        "print('Conditional Probability P(Y|X):')\n",
        "print(P_Y_X(P_XY, P_X(P_XY)))\n",
        "\n",
        "print('Entropy H(X):', H_X(P_X(P_XY)), fraction_HX)\n",
        "print('Entropy H(Y):', H_Y(P_Y(P_XY)), fraction_HY)\n",
        "print('Joint Entropy H(X,Y):', H_XY(P_XY), fraction_HXY)\n",
        "print('Conditional Entropy H(X|Y):', H_X_Y((P_X_Y(P_XY, P_Y(P_XY)))), fraction_HXbyY)\n",
        "print('Conditional Entropy H(Y|X):', H_Y_X((P_Y_X(P_XY, P_X(P_XY)))), fraction_HYbyX)\n",
        "\n",
        "print('Mutual Information I(X;Y)):', MutualInformation(H_Y(P_Y(P_XY)), H_Y_X((P_Y_X(P_XY, P_X(P_XY))))))\n",
        "print('Mutual Information per Photon I(X;Y) / (M/2)):', MIperPhoton(MutualInformation(H_Y(P_Y(P_XY)), H_Y_X((P_Y_X(P_XY, P_X(P_XY))))), M(P_XY)))"
      ]
    },
    {
      "cell_type": "code",
      "execution_count": null,
      "metadata": {
        "id": "ggZL5gicuI1j"
      },
      "outputs": [],
      "source": [
        "# Flip Bit Joint Prbability of OOK for M = 2\n",
        "P_XY = np.array([[0.2025, 0.0225, 0.0225, 0.0025],\n",
        "                 [0.0225, 0.2025, 0.0025, 0.0225],\n",
        "                 [0.0225, 0.0025, 0.2025, 0.0225],\n",
        "                 [0.0025, 0.0225, 0.0225, 0.2025]])"
      ]
    },
    {
      "cell_type": "code",
      "execution_count": null,
      "metadata": {
        "id": "ygikSxMguI1j",
        "outputId": "ace70ef3-3a5a-403e-bb97-a4a68b01911f"
      },
      "outputs": [],
      "source": [
        "print('Flip Bit for M = 2')\n",
        "print('Number of Time Bin', M(P_XY))\n",
        "print('Probability P(X):', P_X(P_XY))\n",
        "print('Probability P(Y):', P_Y(P_XY))\n",
        "\n",
        "print('Joint Probability P(X, Y):')\n",
        "print(P_XY)\n",
        "print('Conditional Probability P(X|Y):')\n",
        "print(P_X_Y(P_XY, P_Y(P_XY)))\n",
        "print('Conditional Probability P(Y|X):')\n",
        "print(P_Y_X(P_XY, P_X(P_XY)))\n",
        "\n",
        "print('Entropy H(X):', H_X(P_X(P_XY)), fraction_HX)\n",
        "print('Entropy H(Y):', H_Y(P_Y(P_XY)), fraction_HY)\n",
        "print('Joint Entropy H(X,Y):', H_XY(P_XY), fraction_HXY)\n",
        "print('Conditional Entropy H(X|Y):', H_X_Y((P_X_Y(P_XY, P_Y(P_XY)))), fraction_HXbyY)\n",
        "print('Conditional Entropy H(Y|X):', H_Y_X((P_Y_X(P_XY, P_X(P_XY)))), fraction_HYbyX)\n",
        "\n",
        "print('Mutual Information I(X;Y)):', MutualInformation(H_Y(P_Y(P_XY)), H_Y_X((P_Y_X(P_XY, P_X(P_XY))))))\n",
        "print('Mutual Information per Photon I(X;Y) / (M/2)):', MIperPhoton(MutualInformation(H_Y(P_Y(P_XY)), H_Y_X((P_Y_X(P_XY, P_X(P_XY))))), M(P_XY)))"
      ]
    },
    {
      "cell_type": "code",
      "execution_count": null,
      "metadata": {
        "id": "Ru-a_xhPuI1j"
      },
      "outputs": [],
      "source": [
        "# Loss Bit Joint Prbability of OOK for M = 1\n",
        "# P_XY = np.array([[0.5, 0],\n",
        "#                  [0.05, 0.45]])\n",
        "\n",
        "P_XY = np.array([[1, 0], \n",
        "                 [0.1, 0.9]]) * 1/2"
      ]
    },
    {
      "cell_type": "code",
      "execution_count": null,
      "metadata": {
        "id": "2um3lCyQuI1k",
        "outputId": "5b33e78c-ac8e-4596-ab41-a07fb19522d1"
      },
      "outputs": [],
      "source": [
        "M(P_XY)"
      ]
    },
    {
      "cell_type": "code",
      "execution_count": null,
      "metadata": {
        "id": "I372c_ZouI1k",
        "outputId": "a8a50fdf-7e0e-4e9f-e332-65b4801620c7"
      },
      "outputs": [],
      "source": [
        "print('Loss Bit for M = 1')\n",
        "print('Number of Time Bin', M(P_XY))\n",
        "print('Probability P(X):', P_X(P_XY))\n",
        "print('Probability P(Y):', P_Y(P_XY))\n",
        "\n",
        "print('Joint Probability P(X, Y):')\n",
        "print(P_XY)\n",
        "print('Conditional Probability P(X|Y):')\n",
        "print(P_X_Y(P_XY, P_Y(P_XY)))\n",
        "print('Conditional Probability P(Y|X):')\n",
        "print(P_Y_X(P_XY, P_X(P_XY)))\n",
        "\n",
        "print('Entropy H(X):', H_X(P_X(P_XY)), fraction_HX)\n",
        "print('Entropy H(Y):', H_Y(P_Y(P_XY)), fraction_HY)\n",
        "print('Joint Entropy H(X,Y):', H_XY(P_XY), fraction_HXY)\n",
        "print('Conditional Entropy H(X|Y):', H_X_Y((P_X_Y(P_XY, P_Y(P_XY)))), fraction_HXbyY)\n",
        "print('Conditional Entropy H(Y|X):', H_Y_X((P_Y_X(P_XY, P_X(P_XY)))), fraction_HYbyX)\n",
        "\n",
        "print('Mutual Information I(X;Y)):', MutualInformation(H_Y(P_Y(P_XY)), H_Y_X((P_Y_X(P_XY, P_X(P_XY))))))\n",
        "print('Mutual Information per Photon I(X;Y) / (M/2)):', MIperPhoton(MutualInformation(H_Y(P_Y(P_XY)), H_Y_X((P_Y_X(P_XY, P_X(P_XY))))), M(P_XY)))"
      ]
    },
    {
      "cell_type": "code",
      "execution_count": null,
      "metadata": {
        "id": "-FCve8eauI1k",
        "outputId": "f9aafce4-bb88-4a00-87d1-facd1ad97a19"
      },
      "outputs": [],
      "source": [
        "- (0.55 * np.log2(0.55) + 0.45 * np.log2(0.45))"
      ]
    },
    {
      "cell_type": "code",
      "execution_count": null,
      "metadata": {
        "id": "apI979xquI1k",
        "outputId": "3075f6d8-f681-4d23-c9b2-c2c10e7b8970"
      },
      "outputs": [],
      "source": [
        "-(0.5 * np.log2(0.5) + 0 + 0.05 * np.log2(0.05) + 0.45 * np.log2(0.45))"
      ]
    },
    {
      "cell_type": "code",
      "execution_count": null,
      "metadata": {
        "id": "gL3M_V7huI1k"
      },
      "outputs": [],
      "source": [
        "# Loss Bit Joint Prbability of OOK for M = 2\n",
        "P_XY = np.array([[0.25, 0, 0, 0],\n",
        "                [0.025, 0.225, 0, 0],\n",
        "                [0.025, 0, 0.225, 0],\n",
        "                [0.0025, 0.00225, 0.225, 0.2025]])\n"
      ]
    },
    {
      "cell_type": "code",
      "execution_count": null,
      "metadata": {
        "id": "SSu_4cATuI1k",
        "outputId": "6f610441-6415-42f8-a7f2-28ba6dc25006"
      },
      "outputs": [],
      "source": [
        "print('Flip Bit for M = 2')\n",
        "print('Number of Time Bin', M(P_XY))\n",
        "print('Probability P(X):', P_X(P_XY))\n",
        "print('Probability P(Y):', P_Y(P_XY))\n",
        "\n",
        "print('Conditional Probability P(X|Y):')\n",
        "print(P_XY)\n",
        "print('Conditional Probability P(X|Y):')\n",
        "print(P_X_Y(P_XY, P_Y(P_XY)))\n",
        "print('Conditional Probability P(Y|X):')\n",
        "print(P_Y_X(P_XY, P_X(P_XY)))\n",
        "\n",
        "print('Entropy H(X):', H_X(P_X(P_XY)), fraction_HX)\n",
        "print('Entropy H(Y):', H_Y(P_Y(P_XY)), fraction_HY)\n",
        "print('Joint Entropy H(X,Y):', H_XY(P_XY), fraction_HXY)\n",
        "print('Conditional Entropy H(X|Y):', H_X_Y((P_X_Y(P_XY, P_Y(P_XY)))), fraction_HXbyY)\n",
        "print('Conditional Entropy H(Y|X):', H_Y_X((P_Y_X(P_XY, P_X(P_XY)))), fraction_HYbyX)\n",
        "\n",
        "print('Mutual Information I(X;Y)):', MutualInformation(H_Y(P_Y(P_XY)), H_Y_X((P_Y_X(P_XY, P_X(P_XY))))))\n",
        "print('Mutual Information per Photon I(X;Y) / (M/2)):', MIperPhoton(MutualInformation(H_Y(P_Y(P_XY)), H_Y_X((P_Y_X(P_XY, P_X(P_XY))))), M(P_XY)))"
      ]
    },
    {
      "cell_type": "code",
      "execution_count": null,
      "metadata": {
        "id": "vWjE_DJWuI1k"
      },
      "outputs": [],
      "source": []
    },
    {
      "cell_type": "markdown",
      "metadata": {
        "id": "6OyDxmLFuI1k"
      },
      "source": [
        "## Other Calculation"
      ]
    },
    {
      "cell_type": "code",
      "execution_count": null,
      "metadata": {
        "id": "xhVotWuguI1k"
      },
      "outputs": [],
      "source": [
        "# Example from Textbook Elements of Information Theory Chapter 2\n",
        "P_XY = np.array([[1/8, 1/16, 1/32, 1/32],\n",
        "                 [1/16, 1/8, 1/32, 1/32],\n",
        "                 [1/16, 1/16, 1/16, 1/16],\n",
        "                 [1/4, 0, 0, 0]])"
      ]
    },
    {
      "cell_type": "code",
      "execution_count": null,
      "metadata": {
        "id": "8PQUNqjluI1k",
        "outputId": "6d7bfd84-1fbb-4d75-92dc-d9b9cd71c6b3"
      },
      "outputs": [],
      "source": [
        "print('Number of Time Bin', M(P_XY))\n",
        "print('Probability P(X):', P_X(P_XY))\n",
        "print('Probability P(Y):', P_Y(P_XY))\n",
        "\n",
        "print('Conditional Probability P(X|Y):')\n",
        "print(P_XY)\n",
        "print('Conditional Probability P(X|Y):')\n",
        "print(P_X_Y(P_XY, P_Y(P_XY)))\n",
        "print('Conditional Probability P(Y|X):')\n",
        "print(P_Y_X(P_XY, P_X(P_XY)))\n",
        "\n",
        "print('Entropy H(X):', H_X(P_X(P_XY)), fraction_HX)\n",
        "print('Entropy H(Y):', H_Y(P_Y(P_XY)), fraction_HY)\n",
        "print('Joint Entropy H(X,Y):', H_XY(P_XY), fraction_HXY)\n",
        "print('Conditional Entropy H(X|Y):', H_X_Y((P_X_Y(P_XY, P_Y(P_XY)))), fraction_HXbyY)\n",
        "print('Conditional Entropy H(Y|X):', H_Y_X((P_Y_X(P_XY, P_X(P_XY)))), fraction_HYbyX)\n",
        "\n",
        "print('Mutual Information I(X;Y)):', MutualInformation(H_Y(P_Y(P_XY)), H_Y_X((P_Y_X(P_XY, P_X(P_XY))))))\n",
        "print('Mutual Information per Photon I(X;Y) / (M/2)):', MIperPhoton(MutualInformation(H_Y(P_Y(P_XY)), H_Y_X((P_Y_X(P_XY, P_X(P_XY))))), M(P_XY)))"
      ]
    },
    {
      "cell_type": "code",
      "execution_count": null,
      "metadata": {
        "id": "kNt-XUNiuI1l",
        "outputId": "da0824c9-1ff6-4a57-a1cb-117f7200cb1a"
      },
      "outputs": [],
      "source": [
        "-(0.5 * np.log2(0.5) + 0.25 * np.log2(0.25) + 0.125 * np.log2(0.125) + 0.125 * np.log2(0.125))"
      ]
    },
    {
      "cell_type": "code",
      "execution_count": null,
      "metadata": {
        "id": "-uL-5JUmuI1l",
        "outputId": "02052c24-ca14-4449-cf34-31fb3f4b8da9"
      },
      "outputs": [],
      "source": [
        "-(0.25 * np.log2(0.25) + 0.25 * np.log2(0.25) + 0.25 * np.log2(0.25) + 0.25 * np.log2(0.25))"
      ]
    },
    {
      "cell_type": "code",
      "execution_count": null,
      "metadata": {
        "id": "NIWcnmuluI1l",
        "outputId": "9a8096d9-5878-4449-e8e2-cceefda9cc78"
      },
      "outputs": [],
      "source": [
        "1/16"
      ]
    },
    {
      "cell_type": "code",
      "execution_count": null,
      "metadata": {
        "id": "VuhjyJFfuI1l",
        "outputId": "6fc9f0e9-2116-437a-d5eb-b56c1aad68ba"
      },
      "outputs": [],
      "source": [
        "0.0625 / 0.25"
      ]
    },
    {
      "cell_type": "code",
      "execution_count": null,
      "metadata": {
        "id": "3ajLDCZnuI1l",
        "outputId": "eccca143-058b-42fe-bd08-56ba277855e7"
      },
      "outputs": [],
      "source": [
        "0.03125 / 0.25"
      ]
    },
    {
      "cell_type": "code",
      "execution_count": null,
      "metadata": {
        "id": "G_NA4TAFuI1l",
        "outputId": "4876520b-e64a-4b4e-e4f2-0be5bce560cf"
      },
      "outputs": [],
      "source": [
        "1/32"
      ]
    },
    {
      "cell_type": "code",
      "execution_count": null,
      "metadata": {
        "id": "fGflYrFSuI1l",
        "outputId": "c1b73065-9925-497a-b7de-7664bfaedd6c"
      },
      "outputs": [],
      "source": [
        "-(0.125 * np.log2(0.5) + 0.0625 * np.log2(0.25) + 0.03125 * np.log2(0.125) + 0.03125 * np.log2(0.125) + 0.0625 * np.log2(0.25) + 0.125 * np.log2(0.5) +  0.0625* np.log2(0.125) + 0.25  * np.log2(0.25))"
      ]
    },
    {
      "cell_type": "code",
      "execution_count": null,
      "metadata": {
        "id": "qJ8pEytQuI1l",
        "outputId": "5f14e0c1-5ac2-4602-fc3c-105d63447158"
      },
      "outputs": [],
      "source": [
        "1.75 - 1.375"
      ]
    },
    {
      "cell_type": "code",
      "execution_count": null,
      "metadata": {
        "id": "PqfBEdLHuI1l"
      },
      "outputs": [],
      "source": []
    }
  ],
  "metadata": {
    "colab": {
      "provenance": []
    },
    "kernelspec": {
      "display_name": "Python 3",
      "language": "python",
      "name": "python3"
    },
    "language_info": {
      "codemirror_mode": {
        "name": "ipython",
        "version": 3
      },
      "file_extension": ".py",
      "mimetype": "text/x-python",
      "name": "python",
      "nbconvert_exporter": "python",
      "pygments_lexer": "ipython3",
      "version": "3.8.2"
    },
    "orig_nbformat": 4
  },
  "nbformat": 4,
  "nbformat_minor": 0
}
