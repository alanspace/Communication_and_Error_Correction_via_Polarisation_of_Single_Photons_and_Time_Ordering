{
 "cells": [
  {
   "cell_type": "markdown",
   "metadata": {
    "id": "TKVsrOKtUhEv"
   },
   "source": [
    "# Reed Solomon Code\n",
    "https://pypi.org/project/reedsolo/#table-of-contents \n",
    "\n",
    "Reed-Solomon codes are the subclass of non-binary BCH codes introduced by Irving S.Reed and Gustacvae Solomon.\n",
    "RS code can operates on multiple bits rather than individual bits. RS codes help in recovering corrupted messages that are being transferred over a network with encoder and decoder.\n",
    "\n",
    "Encoder receives data, and before transferring it over the noisy network it adds some parity bits with origianl data bits. Decoder detects corrupted messages and recovers them from error."
   ]
  },
  {
   "cell_type": "markdown",
   "metadata": {},
   "source": [
    "## Parameters:\n",
    "1. (n,k) code can encode m-bit symbols.\n",
    "2. BLock length n is given by 2m-1 symbols.\n",
    "3. Message size is given by (n-2t) where t is the number of errors corrected.\n",
    "4. Parity check size is given by (n-k) or 2t symbols.\n",
    "5. Minimum distance d is given by (2t+1).\n",
    "6. Message size is of k bits."
   ]
  },
  {
   "cell_type": "markdown",
   "metadata": {},
   "source": [
    "## Generator Function\n",
    "The generator function is generated using a special polynomial. All valid codewords are exactly divisible by the generator polynomial given as follow:\n",
    "$$ g(x) = (x-\\alpha)(x-\\alpha^2)(x-\\alpha^3)(x-\\alpha^4)\\dots (x-\\alpha^{2t})$$"
   ]
  },
  {
   "cell_type": "markdown",
   "metadata": {},
   "source": [
    "## Encoding\n",
    "A RS code with n block size, k message size, q symbols in bits can encode the message as a polynomial p(x) and then multiply it with a code generator polynomial g(x).\n",
    "\n",
    "We then map the mssage vector $[x_1, x_2, ...., x_k]$ to a polynomial p(x) of degree < k s.t. \n",
    "$$p_x(\\alpha_i) = x_i$$ for all i = 1,2,3,...., k\n",
    "Polynomial can be done using Lagrange interpolation. \n",
    "Sender calculates \n",
    "$$s(x) = p(x) \\times g(x)$$\n",
    "and then sends over the coefficients of $s(x)$"
   ]
  },
  {
   "cell_type": "markdown",
   "metadata": {},
   "source": [
    "## Decoding\n",
    "The receiver receives r(x) at the receiver end. \n",
    "If $s(x) == r(x)$, then \\frac{r(x)}{g(x)} has no remainder.\n",
    "If it has remainder, then $r(x) = p(x) \\times g(x) + e(x)$, where e(x) is an error polynomial."
   ]
  },
  {
   "cell_type": "markdown",
   "metadata": {},
   "source": [
    "It can protect your data from errors and bitrot. This burst-type implementation supports any Galois field higher than $2^3$, but not binary streams. Burst errors are non-random errors that more often happen on data storage mediums such as hard drive, hense this library is better suited for data storage protection, and less for streams noise correction. Although it work for the purpose but with a bit overhead (it works on bytes, but not bits.)"
   ]
  },
  {
   "cell_type": "code",
   "execution_count": 1,
   "metadata": {
    "colab": {
     "base_uri": "https://localhost:8080/"
    },
    "executionInfo": {
     "elapsed": 5740,
     "status": "ok",
     "timestamp": 1676403057171,
     "user": {
      "displayName": "ericsson shek",
      "userId": "08913320947741528300"
     },
     "user_tz": -60
    },
    "id": "hnhatzU-Tp6o",
    "outputId": "a7064d30-10b6-443d-b659-d57bcbe8f86c"
   },
   "outputs": [
    {
     "name": "stdout",
     "output_type": "stream",
     "text": [
      "Collecting reedsolo\n",
      "  Downloading reedsolo-1.7.0-py3-none-any.whl (32 kB)\n",
      "Installing collected packages: reedsolo\n",
      "Successfully installed reedsolo-1.7.0\n",
      "\n",
      "\u001b[1m[\u001b[0m\u001b[34;49mnotice\u001b[0m\u001b[1;39;49m]\u001b[0m\u001b[39;49m A new release of pip available: \u001b[0m\u001b[31;49m22.3.1\u001b[0m\u001b[39;49m -> \u001b[0m\u001b[32;49m23.0\u001b[0m\n",
      "\u001b[1m[\u001b[0m\u001b[34;49mnotice\u001b[0m\u001b[1;39;49m]\u001b[0m\u001b[39;49m To update, run: \u001b[0m\u001b[32;49mpip install --upgrade pip\u001b[0m\n",
      "Note: you may need to restart the kernel to use updated packages.\n"
     ]
    }
   ],
   "source": [
    "pip install --upgrade reedsolo"
   ]
  },
  {
   "cell_type": "markdown",
   "metadata": {
    "id": "QABnZzcTVMLm"
   },
   "source": [
    "# Initialization"
   ]
  },
  {
   "cell_type": "code",
   "execution_count": 2,
   "metadata": {
    "executionInfo": {
     "elapsed": 4,
     "status": "ok",
     "timestamp": 1676403059656,
     "user": {
      "displayName": "ericsson shek",
      "userId": "08913320947741528300"
     },
     "user_tz": -60
    },
    "id": "Fx0NKdgrURXl"
   },
   "outputs": [],
   "source": [
    "from reedsolo import RSCodec, ReedSolomonError"
   ]
  },
  {
   "cell_type": "code",
   "execution_count": 3,
   "metadata": {
    "executionInfo": {
     "elapsed": 361,
     "status": "ok",
     "timestamp": 1676403077626,
     "user": {
      "displayName": "ericsson shek",
      "userId": "08913320947741528300"
     },
     "user_tz": -60
    },
    "id": "h0zTBWI5VNr3"
   },
   "outputs": [],
   "source": [
    "rsc = RSCodec(10) # 10 error correction code (ecc) symbols "
   ]
  },
  {
   "cell_type": "markdown",
   "metadata": {
    "id": "wrREfiYrVTM_"
   },
   "source": [
    "# Encoding"
   ]
  },
  {
   "cell_type": "code",
   "execution_count": 4,
   "metadata": {
    "colab": {
     "base_uri": "https://localhost:8080/"
    },
    "executionInfo": {
     "elapsed": 505,
     "status": "ok",
     "timestamp": 1676403089526,
     "user": {
      "displayName": "ericsson shek",
      "userId": "08913320947741528300"
     },
     "user_tz": -60
    },
    "id": "GFniJSzoVTeD",
    "outputId": "ad7d9f3f-6d77-4e1d-b297-a60721ad39e3"
   },
   "outputs": [
    {
     "data": {
      "text/plain": [
       "bytearray(b'\\x01\\x02\\x03\\x04,\\x9d\\x1c+=\\xf8h\\xfa\\x98M')"
      ]
     },
     "execution_count": 4,
     "metadata": {},
     "output_type": "execute_result"
    }
   ],
   "source": [
    "# just a list of numbers/symbols:\n",
    "rsc.encode([1,2,3,4])"
   ]
  },
  {
   "cell_type": "code",
   "execution_count": 5,
   "metadata": {
    "colab": {
     "base_uri": "https://localhost:8080/"
    },
    "executionInfo": {
     "elapsed": 5,
     "status": "ok",
     "timestamp": 1676403089992,
     "user": {
      "displayName": "ericsson shek",
      "userId": "08913320947741528300"
     },
     "user_tz": -60
    },
    "id": "Muj7ZDY8VXCN",
    "outputId": "433c24ce-d3a9-483e-cf88-3397b23938a9"
   },
   "outputs": [
    {
     "data": {
      "text/plain": [
       "bytearray(b'\\x01\\x02\\x03\\x04,\\x9d\\x1c+=\\xf8h\\xfa\\x98M')"
      ]
     },
     "execution_count": 5,
     "metadata": {},
     "output_type": "execute_result"
    }
   ],
   "source": [
    "# bytearrays are accepted and the output will be matched:\n",
    "rsc.encode(bytearray([1,2,3,4]))"
   ]
  },
  {
   "cell_type": "code",
   "execution_count": 6,
   "metadata": {
    "colab": {
     "base_uri": "https://localhost:8080/"
    },
    "executionInfo": {
     "elapsed": 5,
     "status": "ok",
     "timestamp": 1676403089993,
     "user": {
      "displayName": "ericsson shek",
      "userId": "08913320947741528300"
     },
     "user_tz": -60
    },
    "id": "Z7ul73trVciJ",
    "outputId": "425ef11b-af51-4335-923b-9e04829508ed"
   },
   "outputs": [
    {
     "data": {
      "text/plain": [
       "bytearray(b'hello world\\xed%T\\xc4\\xfd\\xfd\\x89\\xf3\\xa8\\xaa')"
      ]
     },
     "execution_count": 6,
     "metadata": {},
     "output_type": "execute_result"
    }
   ],
   "source": [
    "# encoding a byte string is as easy:\n",
    "rsc.encode(b'hello world')\n",
    "# Note: strings of any length, even if longer than the Galois field, will be encoded as well using transparent chunking."
   ]
  },
  {
   "cell_type": "markdown",
   "metadata": {
    "id": "RDrstd2yVyAb"
   },
   "source": [
    "# Decoding (repairing)"
   ]
  },
  {
   "cell_type": "markdown",
   "metadata": {},
   "source": [
    "## String"
   ]
  },
  {
   "cell_type": "code",
   "execution_count": 7,
   "metadata": {
    "colab": {
     "base_uri": "https://localhost:8080/"
    },
    "executionInfo": {
     "elapsed": 3,
     "status": "ok",
     "timestamp": 1676403091964,
     "user": {
      "displayName": "ericsson shek",
      "userId": "08913320947741528300"
     },
     "user_tz": -60
    },
    "id": "_fJDsURHVqZ2",
    "outputId": "33704e77-c00d-4987-b081-38399af5398c"
   },
   "outputs": [
    {
     "data": {
      "text/plain": [
       "bytearray(b'hello world')"
      ]
     },
     "execution_count": 7,
     "metadata": {},
     "output_type": "execute_result"
    }
   ],
   "source": [
    "rsc.decode(b'hello world\\xed%T\\xc4\\xfd\\xfd\\x89\\xf3\\xa8\\xaa')[0]  # original"
   ]
  },
  {
   "cell_type": "code",
   "execution_count": 8,
   "metadata": {
    "colab": {
     "base_uri": "https://localhost:8080/"
    },
    "executionInfo": {
     "elapsed": 2,
     "status": "ok",
     "timestamp": 1676403091964,
     "user": {
      "displayName": "ericsson shek",
      "userId": "08913320947741528300"
     },
     "user_tz": -60
    },
    "id": "uVFookZyV0Ha",
    "outputId": "14d528e0-cb28-4575-830a-ea2698940e22"
   },
   "outputs": [
    {
     "data": {
      "text/plain": [
       "bytearray(b'hello world')"
      ]
     },
     "execution_count": 8,
     "metadata": {},
     "output_type": "execute_result"
    }
   ],
   "source": [
    "rsc.decode(b'heXlo worXd\\xed%T\\xc4\\xfdX\\x89\\xf3\\xa8\\xaa')[0]     # 3 errors out of 10 alephabts: hello world --> heXlo worXd"
   ]
  },
  {
   "cell_type": "code",
   "execution_count": 9,
   "metadata": {
    "colab": {
     "base_uri": "https://localhost:8080/"
    },
    "executionInfo": {
     "elapsed": 5,
     "status": "ok",
     "timestamp": 1676403092378,
     "user": {
      "displayName": "ericsson shek",
      "userId": "08913320947741528300"
     },
     "user_tz": -60
    },
    "id": "SnIUhfxDV3mU",
    "outputId": "de859971-5360-4582-ad8b-ed4fdf6393ae"
   },
   "outputs": [
    {
     "data": {
      "text/plain": [
       "bytearray(b'hello world')"
      ]
     },
     "execution_count": 9,
     "metadata": {},
     "output_type": "execute_result"
    }
   ],
   "source": [
    "rsc.decode(b'hXXXo worXd\\xed%T\\xc4\\xfdX\\x89\\xf3\\xa8\\xaa')[0]     # 5 errors: hello world --> hXXXO worXd "
   ]
  },
  {
   "cell_type": "code",
   "execution_count": 10,
   "metadata": {
    "executionInfo": {
     "elapsed": 4,
     "status": "ok",
     "timestamp": 1676403092378,
     "user": {
      "displayName": "ericsson shek",
      "userId": "08913320947741528300"
     },
     "user_tz": -60
    },
    "id": "_sEQgPACV8It"
   },
   "outputs": [],
   "source": [
    "# rsc.decode(b'hXXXo worXd\\xed%T\\xc4\\xfdXX\\xf3\\xa8\\xaa')[0]        # 6 errors - fail hello world --> hXXXo worXd"
   ]
  },
  {
   "cell_type": "code",
   "execution_count": 44,
   "metadata": {
    "colab": {
     "base_uri": "https://localhost:8080/"
    },
    "executionInfo": {
     "elapsed": 4,
     "status": "ok",
     "timestamp": 1676403092378,
     "user": {
      "displayName": "ericsson shek",
      "userId": "08913320947741528300"
     },
     "user_tz": -60
    },
    "id": "qrSks7Hqb2K1",
    "outputId": "61118fd1-ca7b-44dd-d37f-48b9005d3b25"
   },
   "outputs": [
    {
     "data": {
      "text/plain": [
       "bytearray(b'How are you?X~\\xa4[\\xce\\x14@\\x91Q\\xc7\\xd2dJ\\xadR\\xb7?\\x85\\x85\\xb5')"
      ]
     },
     "execution_count": 44,
     "metadata": {},
     "output_type": "execute_result"
    }
   ],
   "source": [
    "rsc.encode(b'How are you?')"
   ]
  },
  {
   "cell_type": "code",
   "execution_count": 46,
   "metadata": {
    "colab": {
     "base_uri": "https://localhost:8080/"
    },
    "executionInfo": {
     "elapsed": 4,
     "status": "ok",
     "timestamp": 1676403092775,
     "user": {
      "displayName": "ericsson shek",
      "userId": "08913320947741528300"
     },
     "user_tz": -60
    },
    "id": "5q0gqNfzcFO6",
    "outputId": "5cff81d7-835e-4cad-c68a-46f10d5bcea5"
   },
   "outputs": [
    {
     "data": {
      "text/plain": [
       "bytearray(b'How are you?')"
      ]
     },
     "execution_count": 46,
     "metadata": {},
     "output_type": "execute_result"
    }
   ],
   "source": [
    "rsc.decode(b'How are you?X~\\xa4[\\xce\\x14@\\x91Q\\xc7\\xd2dJ\\xadR\\xb7?\\x85\\x85\\xb5')[0]  # original"
   ]
  },
  {
   "cell_type": "code",
   "execution_count": 49,
   "metadata": {
    "colab": {
     "base_uri": "https://localhost:8080/"
    },
    "executionInfo": {
     "elapsed": 3,
     "status": "ok",
     "timestamp": 1676403092775,
     "user": {
      "displayName": "ericsson shek",
      "userId": "08913320947741528300"
     },
     "user_tz": -60
    },
    "id": "7RkkOqKGcUqY",
    "outputId": "f8c4df8a-7097-4065-9915-7400dd94542b"
   },
   "outputs": [
    {
     "data": {
      "text/plain": [
       "bytearray(b'How are you?')"
      ]
     },
     "execution_count": 49,
     "metadata": {},
     "output_type": "execute_result"
    }
   ],
   "source": [
    "rsc.decode(b'HXw axe yYu?X~\\xa4[\\xce\\x14@\\x91Q\\xc7\\xd2dJ\\xadR\\xb7?\\x85\\x85\\xb5')[0] # 3 errors out of 9 alphabets"
   ]
  },
  {
   "cell_type": "markdown",
   "metadata": {},
   "source": [
    "## List"
   ]
  },
  {
   "cell_type": "code",
   "execution_count": 52,
   "metadata": {
    "colab": {
     "base_uri": "https://localhost:8080/"
    },
    "executionInfo": {
     "elapsed": 4,
     "status": "ok",
     "timestamp": 1676403093967,
     "user": {
      "displayName": "ericsson shek",
      "userId": "08913320947741528300"
     },
     "user_tz": -60
    },
    "id": "5Nk5xTVZZyX8",
    "outputId": "1ba99237-1f73-4681-ecdc-527b148700f7"
   },
   "outputs": [
    {
     "data": {
      "text/plain": [
       "bytearray(b'[1,2,4,7,12]h\\xf4\\x1e\\xc9q\\xc8\\xa4\\xe4\\x7f\\xd9\\x00\\x12u\\xb5\\x82TLnfQ')"
      ]
     },
     "execution_count": 52,
     "metadata": {},
     "output_type": "execute_result"
    }
   ],
   "source": [
    "rsc.encode(b'[1,2,4,7,12]')"
   ]
  },
  {
   "cell_type": "code",
   "execution_count": 55,
   "metadata": {
    "colab": {
     "base_uri": "https://localhost:8080/"
    },
    "executionInfo": {
     "elapsed": 6,
     "status": "ok",
     "timestamp": 1676403132269,
     "user": {
      "displayName": "ericsson shek",
      "userId": "08913320947741528300"
     },
     "user_tz": -60
    },
    "id": "jp7NfpYTaUMG",
    "outputId": "f6c7c18f-fd8d-4dc4-93eb-dd6fc0d11399"
   },
   "outputs": [
    {
     "data": {
      "text/plain": [
       "bytearray(b'[1,2,4,7,12]')"
      ]
     },
     "execution_count": 55,
     "metadata": {},
     "output_type": "execute_result"
    }
   ],
   "source": [
    "rsc.decode(b'[1,2,4,7,12]h\\xf4\\x1e\\xc9q\\xc8\\xa4\\xe4\\x7f\\xd9\\x00\\x12u\\xb5\\x82TLnfQ')[0]"
   ]
  },
  {
   "cell_type": "code",
   "execution_count": 57,
   "metadata": {
    "colab": {
     "base_uri": "https://localhost:8080/"
    },
    "executionInfo": {
     "elapsed": 6,
     "status": "ok",
     "timestamp": 1676403171454,
     "user": {
      "displayName": "ericsson shek",
      "userId": "08913320947741528300"
     },
     "user_tz": -60
    },
    "id": "ynPZWV9ZadeN",
    "outputId": "a0aede54-55bf-4e6c-8a18-31bc07333295"
   },
   "outputs": [
    {
     "data": {
      "text/plain": [
       "bytearray(b'[1,2,4,7,12]')"
      ]
     },
     "execution_count": 57,
     "metadata": {},
     "output_type": "execute_result"
    }
   ],
   "source": [
    "rsc.decode(b'[1,2,5,8,12]h\\xf4\\x1e\\xc9q\\xc8\\xa4\\xe4\\x7f\\xd9\\x00\\x12u\\xb5\\x82TLnfQ')[0] \n",
    "# 1 error corrected 7->8"
   ]
  },
  {
   "cell_type": "code",
   "execution_count": 60,
   "metadata": {},
   "outputs": [
    {
     "data": {
      "text/plain": [
       "bytearray(b'[1,2,4,7,12]')"
      ]
     },
     "execution_count": 60,
     "metadata": {},
     "output_type": "execute_result"
    }
   ],
   "source": [
    "rsc.decode(b'[1,2,5,8,34]h\\xf4\\x1e\\xc9q\\xc8\\xa4\\xe4\\x7f\\xd9\\x00\\x12u\\xb5\\x82TLnfQ')[0] \n",
    "# 2 error corrected 12->34"
   ]
  },
  {
   "cell_type": "code",
   "execution_count": 64,
   "metadata": {},
   "outputs": [
    {
     "data": {
      "text/plain": [
       "bytearray(b'[1,2,4,7,12]')"
      ]
     },
     "execution_count": 64,
     "metadata": {},
     "output_type": "execute_result"
    }
   ],
   "source": [
    "rsc.decode(b'[1,2,5,8134]h\\xf4\\x1e\\xc9q\\xc8\\xa4\\xe4\\x7f\\xd9\\x00\\x12u\\xb5\\x82TLnfQ')[0] \n",
    "# 4 error corrected 7->8, ,->1, 12->34"
   ]
  },
  {
   "cell_type": "markdown",
   "metadata": {},
   "source": [
    "# Number and Letter"
   ]
  },
  {
   "cell_type": "code",
   "execution_count": 14,
   "metadata": {
    "colab": {
     "base_uri": "https://localhost:8080/"
    },
    "executionInfo": {
     "elapsed": 8,
     "status": "ok",
     "timestamp": 1676403093605,
     "user": {
      "displayName": "ericsson shek",
      "userId": "08913320947741528300"
     },
     "user_tz": -60
    },
    "id": "OhbFZ6ZvfM8S",
    "outputId": "2bc2eb68-1f75-46bd-aff0-8a4444e660e1"
   },
   "outputs": [
    {
     "data": {
      "text/plain": [
       "bytearray(b'[HH0H000H000000V00000000000]I\\xa1&\\xd2C\\nV`\\xc7\\xc4')"
      ]
     },
     "execution_count": 14,
     "metadata": {},
     "output_type": "execute_result"
    }
   ],
   "source": [
    "rsc.encode(b'[HH0H000H000000V00000000000]') #1,2,4,7, 12"
   ]
  },
  {
   "cell_type": "code",
   "execution_count": 15,
   "metadata": {
    "colab": {
     "base_uri": "https://localhost:8080/"
    },
    "executionInfo": {
     "elapsed": 7,
     "status": "ok",
     "timestamp": 1676403093606,
     "user": {
      "displayName": "ericsson shek",
      "userId": "08913320947741528300"
     },
     "user_tz": -60
    },
    "id": "jMJUmjGxfM_D",
    "outputId": "9d9f0d90-4717-4c56-ce74-277af9961f9a"
   },
   "outputs": [
    {
     "data": {
      "text/plain": [
       "bytearray(b'[HH0H000H000000V00000000000]')"
      ]
     },
     "execution_count": 15,
     "metadata": {},
     "output_type": "execute_result"
    }
   ],
   "source": [
    "rsc.decode(b'[HH0H000H000000V00000000000]I\\xa1&\\xd2C\\nV`\\xc7\\xc4')[0]  \n",
    "# original"
   ]
  },
  {
   "cell_type": "code",
   "execution_count": 65,
   "metadata": {
    "executionInfo": {
     "elapsed": 725,
     "status": "ok",
     "timestamp": 1676410295407,
     "user": {
      "displayName": "ericsson shek",
      "userId": "08913320947741528300"
     },
     "user_tz": -60
    },
    "id": "Ml4feoCZf9ti"
   },
   "outputs": [],
   "source": [
    "# rsc.decode(b'[H00H000H000000V00000000000]Shx\\x016\\xa5\\xa8\\xf6\"\\xb5')[0]  \n",
    "# original #1,2,4,7 --> 3,4,7,12 it will give an error\n",
    "# becasue this code can only detect the difference but cannot detecf the loss or add error"
   ]
  },
  {
   "cell_type": "markdown",
   "metadata": {
    "id": "mqjbhYKjWvAa"
   },
   "source": [
    "# RSCodec.decode() returns 3 variables:\n",
    "1. the decoded (corrected) message\n",
    "2. the decoded message and error correction code (which is itself also correctd)\n",
    "3. and the list of position of the errata (errors and erasures)\n"
   ]
  },
  {
   "cell_type": "code",
   "execution_count": 23,
   "metadata": {
    "executionInfo": {
     "elapsed": 504,
     "status": "ok",
     "timestamp": 1676410389918,
     "user": {
      "displayName": "ericsson shek",
      "userId": "08913320947741528300"
     },
     "user_tz": -60
    },
    "id": "YSnyRTd6Wqlf"
   },
   "outputs": [],
   "source": [
    "tampered_msg = b'heXlo worXd\\xed%T\\xc4\\xfdX\\x89\\xf3\\xa8\\xaa' # from the reference ecc symbols \\xed%T\\xc4\\xfdX\\x89\\xf3\\xa8\\xaa\n",
    "decoded_msg, decoded_msgecc, errata_pos = rsc.decode(tampered_msg)"
   ]
  },
  {
   "cell_type": "markdown",
   "metadata": {},
   "source": [
    "### decoded/corrected message"
   ]
  },
  {
   "cell_type": "code",
   "execution_count": 24,
   "metadata": {
    "colab": {
     "base_uri": "https://localhost:8080/"
    },
    "executionInfo": {
     "elapsed": 410,
     "status": "ok",
     "timestamp": 1676410395445,
     "user": {
      "displayName": "ericsson shek",
      "userId": "08913320947741528300"
     },
     "user_tz": -60
    },
    "id": "YdW0pUzTXSG-",
    "outputId": "c05e614f-11cc-41c7-f002-20b99d7b7ee8"
   },
   "outputs": [
    {
     "name": "stdout",
     "output_type": "stream",
     "text": [
      "bytearray(b'hello world')\n"
     ]
    }
   ],
   "source": [
    "print(decoded_msg) "
   ]
  },
  {
   "cell_type": "markdown",
   "metadata": {},
   "source": [
    "### decoded/corrected message and ecc symbols"
   ]
  },
  {
   "cell_type": "code",
   "execution_count": 25,
   "metadata": {
    "colab": {
     "base_uri": "https://localhost:8080/"
    },
    "executionInfo": {
     "elapsed": 5,
     "status": "ok",
     "timestamp": 1676385517396,
     "user": {
      "displayName": "ericsson shek",
      "userId": "08913320947741528300"
     },
     "user_tz": -60
    },
    "id": "pdN4nDuXXG0r",
    "outputId": "2d6c4511-e17b-4159-fbc1-97d9f30f5f5e"
   },
   "outputs": [
    {
     "name": "stdout",
     "output_type": "stream",
     "text": [
      "bytearray(b'hello world\\xed%T\\xc4\\xfd\\xfd\\x89\\xf3\\xa8\\xaa')\n"
     ]
    }
   ],
   "source": [
    "print(decoded_msgecc) "
   ]
  },
  {
   "cell_type": "markdown",
   "metadata": {},
   "source": [
    "### the list of position of the errata (errors and erasures)"
   ]
  },
  {
   "cell_type": "code",
   "execution_count": 26,
   "metadata": {
    "colab": {
     "base_uri": "https://localhost:8080/"
    },
    "executionInfo": {
     "elapsed": 6,
     "status": "ok",
     "timestamp": 1676385537811,
     "user": {
      "displayName": "ericsson shek",
      "userId": "08913320947741528300"
     },
     "user_tz": -60
    },
    "id": "aDgKMrd1XPya",
    "outputId": "ca97f209-b727-4a5f-9a2c-6a9e7b7c24ff"
   },
   "outputs": [
    {
     "name": "stdout",
     "output_type": "stream",
     "text": [
      "bytearray(b'\\x10\\t\\x02')\n"
     ]
    }
   ],
   "source": [
    "print(errata_pos)  # errata_pos is returned as a bytearray, hardly intelligible"
   ]
  },
  {
   "cell_type": "code",
   "execution_count": 27,
   "metadata": {
    "colab": {
     "base_uri": "https://localhost:8080/"
    },
    "executionInfo": {
     "elapsed": 6,
     "status": "ok",
     "timestamp": 1676385545651,
     "user": {
      "displayName": "ericsson shek",
      "userId": "08913320947741528300"
     },
     "user_tz": -60
    },
    "id": "3jiy04zuXUyX",
    "outputId": "8f61431b-dc88-4579-8f33-828b402da3e5"
   },
   "outputs": [
    {
     "name": "stdout",
     "output_type": "stream",
     "text": [
      "[16, 9, 2]\n"
     ]
    }
   ],
   "source": [
    "print(list(errata_pos))  # convert to a list to get the errata positions as integer indices\n",
    "# errors happen at the 9th and 2nd position"
   ]
  },
  {
   "cell_type": "markdown",
   "metadata": {
    "id": "wNmHTPW1Xc_E"
   },
   "source": [
    "Since we failed to decode with 6 errors with a codec set with 10 error correction code (ecc) symbols, let’s try to use a bigger codec, with 12 ecc symbols."
   ]
  },
  {
   "cell_type": "code",
   "execution_count": 75,
   "metadata": {
    "executionInfo": {
     "elapsed": 424,
     "status": "ok",
     "timestamp": 1676410728868,
     "user": {
      "displayName": "ericsson shek",
      "userId": "08913320947741528300"
     },
     "user_tz": -60
    },
    "id": "r-QnSkDyXWq8"
   },
   "outputs": [],
   "source": [
    "rsc = RSCodec(12)  # using 2 more ecc symbols (to correct max 6 errors or 12 erasures)"
   ]
  },
  {
   "cell_type": "code",
   "execution_count": 76,
   "metadata": {
    "colab": {
     "base_uri": "https://localhost:8080/"
    },
    "executionInfo": {
     "elapsed": 10,
     "status": "ok",
     "timestamp": 1676410585193,
     "user": {
      "displayName": "ericsson shek",
      "userId": "08913320947741528300"
     },
     "user_tz": -60
    },
    "id": "AWTC1uuDXfqH",
    "outputId": "d3d1b8e4-1ecb-4c5b-d1d2-f21784df9867"
   },
   "outputs": [
    {
     "data": {
      "text/plain": [
       "bytearray(b'hello world?Ay\\xb2\\xbc\\xdc\\x01q\\xb9\\xe3\\xe2=')"
      ]
     },
     "execution_count": 76,
     "metadata": {},
     "output_type": "execute_result"
    }
   ],
   "source": [
    "rsc.encode(b'hello world')"
   ]
  },
  {
   "cell_type": "code",
   "execution_count": 77,
   "metadata": {
    "colab": {
     "base_uri": "https://localhost:8080/"
    },
    "executionInfo": {
     "elapsed": 8,
     "status": "ok",
     "timestamp": 1676410585194,
     "user": {
      "displayName": "ericsson shek",
      "userId": "08913320947741528300"
     },
     "user_tz": -60
    },
    "id": "_-KlmE2DXiEF",
    "outputId": "a64702a7-8323-4afd-fc46-e52995bce6a4"
   },
   "outputs": [
    {
     "data": {
      "text/plain": [
       "bytearray(b'hello world')"
      ]
     },
     "execution_count": 77,
     "metadata": {},
     "output_type": "execute_result"
    }
   ],
   "source": [
    "rsc.decode(b'hello worXXXXy\\xb2XX\\x01q\\xb9\\xe3\\xe2=')[0]"
   ]
  },
  {
   "cell_type": "code",
   "execution_count": 79,
   "metadata": {
    "colab": {
     "base_uri": "https://localhost:8080/"
    },
    "executionInfo": {
     "elapsed": 726,
     "status": "ok",
     "timestamp": 1676411211797,
     "user": {
      "displayName": "ericsson shek",
      "userId": "08913320947741528300"
     },
     "user_tz": -60
    },
    "id": "Pk3vWUU7XlAj",
    "outputId": "9439f1db-12a0-46db-c337-ab5db17f53a0"
   },
   "outputs": [
    {
     "data": {
      "text/plain": [
       "bytearray(b'hello world')"
      ]
     },
     "execution_count": 79,
     "metadata": {},
     "output_type": "execute_result"
    }
   ],
   "source": [
    "rsc.decode(b'helXXXXXXXXXXy\\xb2XX\\x01q\\xb9\\xe3\\xe2=', erase_pos=[3, 4, 5, 6, 7, 8, 9, 10, 11, 12, 15, 16])[0]  \n",
    "# 12 erasures - OK"
   ]
  },
  {
   "cell_type": "markdown",
   "metadata": {
    "id": "YZc52aceYVD-"
   },
   "source": [
    "This shows that we can decode twice as many erasures (where we provide the location of errors ourselves) than errors (with unknown locations). This is the cost of error correction compared to erasure correction. \n",
    "\n",
    "\\\n",
    "\n",
    "To get the maximum number of errors or erasures that can be independently corrected (ie, not simultaneously):\n"
   ]
  },
  {
   "cell_type": "code",
   "execution_count": 80,
   "metadata": {
    "colab": {
     "base_uri": "https://localhost:8080/"
    },
    "executionInfo": {
     "elapsed": 401,
     "status": "ok",
     "timestamp": 1676386151955,
     "user": {
      "displayName": "ericsson shek",
      "userId": "08913320947741528300"
     },
     "user_tz": -60
    },
    "id": "N1YMyukQXoOj",
    "outputId": "1d5e537b-47e7-4408-ff61-97b603b7b94a"
   },
   "outputs": [
    {
     "name": "stdout",
     "output_type": "stream",
     "text": [
      "This codec can correct up to 6 errors and 12 erasures independently\n"
     ]
    }
   ],
   "source": [
    "maxerrors, maxerasures = rsc.maxerrata(verbose=True)"
   ]
  },
  {
   "cell_type": "code",
   "execution_count": 81,
   "metadata": {
    "colab": {
     "base_uri": "https://localhost:8080/"
    },
    "executionInfo": {
     "elapsed": 448,
     "status": "ok",
     "timestamp": 1676386167524,
     "user": {
      "displayName": "ericsson shek",
      "userId": "08913320947741528300"
     },
     "user_tz": -60
    },
    "id": "RcPTgPSOZpOD",
    "outputId": "07514916-b200-4403-c1d5-0711c9430489"
   },
   "outputs": [],
   "source": [
    "# print(maxerrors, maxerasures)"
   ]
  },
  {
   "cell_type": "markdown",
   "metadata": {
    "id": "LfU1nxTKZwTO"
   },
   "source": [
    "To get the maximum number of errors and erasures that can be simultaneously corrected, you need to specify the number of errors or erasures you expect:"
   ]
  },
  {
   "cell_type": "code",
   "execution_count": 82,
   "metadata": {
    "colab": {
     "base_uri": "https://localhost:8080/"
    },
    "executionInfo": {
     "elapsed": 2,
     "status": "ok",
     "timestamp": 1676386184913,
     "user": {
      "displayName": "ericsson shek",
      "userId": "08913320947741528300"
     },
     "user_tz": -60
    },
    "id": "o_PHG3I8ZudF",
    "outputId": "113aa6b0-a9fa-4b80-a7e2-76fb7dc860d4"
   },
   "outputs": [
    {
     "name": "stdout",
     "output_type": "stream",
     "text": [
      "This codec can correct up to 3 errors and 6 erasures simultaneously\n"
     ]
    }
   ],
   "source": [
    "maxerrors, maxerasures = rsc.maxerrata(erasures=6, verbose=True)  # we know the number of erasures, will calculate how many errors we can afford"
   ]
  },
  {
   "cell_type": "code",
   "execution_count": 83,
   "metadata": {
    "colab": {
     "base_uri": "https://localhost:8080/"
    },
    "executionInfo": {
     "elapsed": 5,
     "status": "ok",
     "timestamp": 1676386197776,
     "user": {
      "displayName": "ericsson shek",
      "userId": "08913320947741528300"
     },
     "user_tz": -60
    },
    "id": "vl3ZB2HdZyqt",
    "outputId": "32c0b6b0-0f23-47ec-cb95-c3c095880f08"
   },
   "outputs": [
    {
     "name": "stdout",
     "output_type": "stream",
     "text": [
      "3 6\n"
     ]
    }
   ],
   "source": [
    "print(maxerrors, maxerasures)"
   ]
  },
  {
   "cell_type": "code",
   "execution_count": 84,
   "metadata": {
    "colab": {
     "base_uri": "https://localhost:8080/"
    },
    "executionInfo": {
     "elapsed": 3,
     "status": "ok",
     "timestamp": 1676386206624,
     "user": {
      "displayName": "ericsson shek",
      "userId": "08913320947741528300"
     },
     "user_tz": -60
    },
    "id": "WLGG7uVhZ1y0",
    "outputId": "4b970eb3-8b9b-4e8d-c6a6-acd13dafbabb"
   },
   "outputs": [
    {
     "name": "stdout",
     "output_type": "stream",
     "text": [
      "This codec can correct up to 5 errors and 2 erasures simultaneously\n"
     ]
    }
   ],
   "source": [
    "maxerrors, maxerasures = rsc.maxerrata(errors=5, verbose=True)  # we know the number of errors, will calculate how many erasures we can afford"
   ]
  },
  {
   "cell_type": "code",
   "execution_count": 85,
   "metadata": {
    "colab": {
     "base_uri": "https://localhost:8080/"
    },
    "executionInfo": {
     "elapsed": 6,
     "status": "ok",
     "timestamp": 1676386217278,
     "user": {
      "displayName": "ericsson shek",
      "userId": "08913320947741528300"
     },
     "user_tz": -60
    },
    "id": "1Qm1OSpaZ35H",
    "outputId": "d405deb1-2314-44ab-b850-f199f8c7cb58"
   },
   "outputs": [
    {
     "name": "stdout",
     "output_type": "stream",
     "text": [
      "5 2\n"
     ]
    }
   ],
   "source": [
    "print(maxerrors, maxerasures)"
   ]
  },
  {
   "cell_type": "markdown",
   "metadata": {},
   "source": [
    "Note that if a chunk has more errors and erasures than the Singleton Bound as calculated by the maxerrata() method, the codec will try to raise a `ReedSolomonError`exception, but may very well not detect any error either (this is a theoretical limitation of error correction codes). In other words, error correction codes are unreliable to detect if a chunk of a message is corrupted beyond the Singleton Bound. If you want more reliability in errata detection, use a checksum or hash such as SHA or MD5 on your message, these are much more reliable and have no bounds on the number of errata (the only potential issue is with collision but the probability is very very low)."
   ]
  },
  {
   "cell_type": "code",
   "execution_count": 86,
   "metadata": {},
   "outputs": [],
   "source": [
    "from reedsolo import ReedSolomonError"
   ]
  },
  {
   "cell_type": "markdown",
   "metadata": {},
   "source": [
    "To check if a message is tampered given its error correction symbols, without decoding, use the check() method:"
   ]
  },
  {
   "cell_type": "code",
   "execution_count": 41,
   "metadata": {
    "colab": {
     "base_uri": "https://localhost:8080/"
    },
    "executionInfo": {
     "elapsed": 5,
     "status": "ok",
     "timestamp": 1676386296163,
     "user": {
      "displayName": "ericsson shek",
      "userId": "08913320947741528300"
     },
     "user_tz": -60
    },
    "id": "GEBrMFFdaNVO",
    "outputId": "07cd185e-4b7f-48ef-a638-6ce38f7c9d2f"
   },
   "outputs": [
    {
     "data": {
      "text/plain": [
       "[False]"
      ]
     },
     "execution_count": 41,
     "metadata": {},
     "output_type": "execute_result"
    }
   ],
   "source": [
    "rsc.check(b'hello worXXXXy\\xb2XX\\x01q\\xb9\\xe3\\xe2=')"
   ]
  },
  {
   "cell_type": "code",
   "execution_count": 88,
   "metadata": {
    "id": "6vrrcDgcaN5H"
   },
   "outputs": [],
   "source": [
    "rmes, rmesecc, errata_pos = rsc.decode(b'hello worXXXXy\\xb2XX\\x01q\\xb9\\xe3\\xe2=')"
   ]
  },
  {
   "cell_type": "code",
   "execution_count": 89,
   "metadata": {
    "colab": {
     "base_uri": "https://localhost:8080/"
    },
    "executionInfo": {
     "elapsed": 2,
     "status": "ok",
     "timestamp": 1676386322448,
     "user": {
      "displayName": "ericsson shek",
      "userId": "08913320947741528300"
     },
     "user_tz": -60
    },
    "id": "S7CrumyraRaL",
    "outputId": "73a41f2f-e584-4b29-ecf4-a39e78d5cb89"
   },
   "outputs": [
    {
     "data": {
      "text/plain": [
       "[True]"
      ]
     },
     "execution_count": 89,
     "metadata": {},
     "output_type": "execute_result"
    }
   ],
   "source": [
    "rsc.check(rmesecc)  # Corrected or untampered message will return True"
   ]
  },
  {
   "cell_type": "code",
   "execution_count": 90,
   "metadata": {
    "colab": {
     "base_uri": "https://localhost:8080/"
    },
    "executionInfo": {
     "elapsed": 5,
     "status": "ok",
     "timestamp": 1676386338773,
     "user": {
      "displayName": "ericsson shek",
      "userId": "08913320947741528300"
     },
     "user_tz": -60
    },
    "id": "qY1gWoFaaUTX",
    "outputId": "50926cd3-8e30-45e4-cd20-d64e085f37fb"
   },
   "outputs": [
    {
     "name": "stdout",
     "output_type": "stream",
     "text": [
      "Number of detected errors and erasures: 6, their positions: [16, 15, 12, 11, 10, 9]\n"
     ]
    }
   ],
   "source": [
    "print('Number of detected errors and erasures: %i, their positions: %s' % (len(errata_pos), list(errata_pos)))"
   ]
  },
  {
   "cell_type": "markdown",
   "metadata": {
    "id": "d47pODx1ae1N"
   },
   "source": [
    "By default, most Reed-Solomon codecs are limited to characters that can be encoded in 256 bits and with a length of maximum 256 characters. But this codec is universal, you can reduce or increase the length and maximum character value by increasing the Galois Field:"
   ]
  },
  {
   "cell_type": "code",
   "execution_count": 91,
   "metadata": {
    "colab": {
     "base_uri": "https://localhost:8080/"
    },
    "executionInfo": {
     "elapsed": 5,
     "status": "ok",
     "timestamp": 1676386413945,
     "user": {
      "displayName": "ericsson shek",
      "userId": "08913320947741528300"
     },
     "user_tz": -60
    },
    "id": "iS_8VBfRaWcj",
    "outputId": "02c7c209-4a9c-452f-8e59-9e7bf56968e8"
   },
   "outputs": [
    {
     "data": {
      "text/plain": [
       "[False]"
      ]
     },
     "execution_count": 91,
     "metadata": {},
     "output_type": "execute_result"
    }
   ],
   "source": [
    "# To use longer chunks or bigger values than 255 (may be very slow)\n",
    "rsc = RSCodec(12, nsize=4095)  # always use a power of 2 minus 1\n",
    "rsc = RSCodec(12, c_exp=12)  # alternative way to set nsize=4095\n",
    "mes = 'a' * (4095-12)\n",
    "mesecc = rsc.encode(mes)\n",
    "mesecc[2] = 1\n",
    "mesecc[-1] = 1\n",
    "rmes, rmesecc, errata_pos = rsc.decode(mesecc)\n",
    "rsc.check(mesecc)"
   ]
  },
  {
   "cell_type": "code",
   "execution_count": 92,
   "metadata": {
    "colab": {
     "base_uri": "https://localhost:8080/"
    },
    "executionInfo": {
     "elapsed": 2,
     "status": "ok",
     "timestamp": 1676386423280,
     "user": {
      "displayName": "ericsson shek",
      "userId": "08913320947741528300"
     },
     "user_tz": -60
    },
    "id": "T6MGXbPqaqh5",
    "outputId": "0fec0873-bacb-4a16-c97e-98bfcdae8a79"
   },
   "outputs": [
    {
     "data": {
      "text/plain": [
       "[True]"
      ]
     },
     "execution_count": 92,
     "metadata": {},
     "output_type": "execute_result"
    }
   ],
   "source": [
    "rsc.check(rmesecc)"
   ]
  },
  {
   "cell_type": "markdown",
   "metadata": {},
   "source": [
    "# Low-level usage via direct access to math functions"
   ]
  },
  {
   "cell_type": "code",
   "execution_count": 93,
   "metadata": {},
   "outputs": [],
   "source": [
    "import reedsolo as rs"
   ]
  },
  {
   "cell_type": "code",
   "execution_count": 94,
   "metadata": {},
   "outputs": [
    {
     "data": {
      "text/plain": [
       "[bytearray(b'\\x00\\x00\\x01\\x19\\x022\\x1a\\xc6\\x03\\xdf3\\xee\\x1bh\\xc7K\\x04d\\xe0\\x0e4\\x8d\\xef\\x81\\x1c\\xc1i\\xf8\\xc8\\x08Lq\\x05\\x8ae/\\xe1$\\x0f!5\\x93\\x8e\\xda\\xf0\\x12\\x82E\\x1d\\xb5\\xc2}j\\'\\xf9\\xb9\\xc9\\x9a\\txM\\xe4r\\xa6\\x06\\xbf\\x8bbf\\xdd0\\xfd\\xe2\\x98%\\xb3\\x10\\x91\"\\x886\\xd0\\x94\\xce\\x8f\\x96\\xdb\\xbd\\xf1\\xd2\\x13\\\\\\x838F@\\x1eB\\xb6\\xa3\\xc3H~nk:(T\\xfa\\x85\\xba=\\xca^\\x9b\\x9f\\n\\x15y+N\\xd4\\xe5\\xacs\\xf3\\xa7W\\x07p\\xc0\\xf7\\x8c\\x80c\\rgJ\\xde\\xed1\\xc5\\xfe\\x18\\xe3\\xa5\\x99w&\\xb8\\xb4|\\x11D\\x92\\xd9# \\x89.7?\\xd1[\\x95\\xbc\\xcf\\xcd\\x90\\x87\\x97\\xb2\\xdc\\xfc\\xbea\\xf2V\\xd3\\xab\\x14*]\\x9e\\x84<9SGmA\\xa2\\x1f-C\\xd8\\xb7{\\xa4v\\xc4\\x17I\\xec\\x7f\\x0co\\xf6l\\xa1;R)\\x9dU\\xaa\\xfb`\\x86\\xb1\\xbb\\xcc>Z\\xcbY_\\xb0\\x9c\\xa9\\xa0Q\\x0b\\xf5\\x16\\xebzu,\\xd7O\\xae\\xd5\\xe9\\xe6\\xe7\\xad\\xe8t\\xd6\\xf4\\xea\\xa8PX\\xaf'),\n",
       " bytearray(b'\\x01\\x02\\x04\\x08\\x10 @\\x80\\x1d:t\\xe8\\xcd\\x87\\x13&L\\x98-Z\\xb4u\\xea\\xc9\\x8f\\x03\\x06\\x0c\\x180`\\xc0\\x9d\\'N\\x9c%J\\x945j\\xd4\\xb5w\\xee\\xc1\\x9f#F\\x8c\\x05\\n\\x14(P\\xa0]\\xbai\\xd2\\xb9o\\xde\\xa1_\\xbea\\xc2\\x99/^\\xbce\\xca\\x89\\x0f\\x1e<x\\xf0\\xfd\\xe7\\xd3\\xbbk\\xd6\\xb1\\x7f\\xfe\\xe1\\xdf\\xa3[\\xb6q\\xe2\\xd9\\xafC\\x86\\x11\"D\\x88\\r\\x1a4h\\xd0\\xbdg\\xce\\x81\\x1f>|\\xf8\\xed\\xc7\\x93;v\\xec\\xc5\\x973f\\xcc\\x85\\x17.\\\\\\xb8m\\xda\\xa9O\\x9e!B\\x84\\x15*T\\xa8M\\x9a)R\\xa4U\\xaaI\\x929r\\xe4\\xd5\\xb7s\\xe6\\xd1\\xbfc\\xc6\\x91?~\\xfc\\xe5\\xd7\\xb3{\\xf6\\xf1\\xff\\xe3\\xdb\\xabK\\x961b\\xc4\\x957n\\xdc\\xa5W\\xaeA\\x82\\x192d\\xc8\\x8d\\x07\\x0e\\x1c8p\\xe0\\xdd\\xa7S\\xa6Q\\xa2Y\\xb2y\\xf2\\xf9\\xef\\xc3\\x9b+V\\xacE\\x8a\\t\\x12$H\\x90=z\\xf4\\xf5\\xf7\\xf3\\xfb\\xeb\\xcb\\x8b\\x0b\\x16,X\\xb0}\\xfa\\xe9\\xcf\\x83\\x1b6l\\xd8\\xadG\\x8e\\x01\\x02\\x04\\x08\\x10 @\\x80\\x1d:t\\xe8\\xcd\\x87\\x13&L\\x98-Z\\xb4u\\xea\\xc9\\x8f\\x03\\x06\\x0c\\x180`\\xc0\\x9d\\'N\\x9c%J\\x945j\\xd4\\xb5w\\xee\\xc1\\x9f#F\\x8c\\x05\\n\\x14(P\\xa0]\\xbai\\xd2\\xb9o\\xde\\xa1_\\xbea\\xc2\\x99/^\\xbce\\xca\\x89\\x0f\\x1e<x\\xf0\\xfd\\xe7\\xd3\\xbbk\\xd6\\xb1\\x7f\\xfe\\xe1\\xdf\\xa3[\\xb6q\\xe2\\xd9\\xafC\\x86\\x11\"D\\x88\\r\\x1a4h\\xd0\\xbdg\\xce\\x81\\x1f>|\\xf8\\xed\\xc7\\x93;v\\xec\\xc5\\x973f\\xcc\\x85\\x17.\\\\\\xb8m\\xda\\xa9O\\x9e!B\\x84\\x15*T\\xa8M\\x9a)R\\xa4U\\xaaI\\x929r\\xe4\\xd5\\xb7s\\xe6\\xd1\\xbfc\\xc6\\x91?~\\xfc\\xe5\\xd7\\xb3{\\xf6\\xf1\\xff\\xe3\\xdb\\xabK\\x961b\\xc4\\x957n\\xdc\\xa5W\\xaeA\\x82\\x192d\\xc8\\x8d\\x07\\x0e\\x1c8p\\xe0\\xdd\\xa7S\\xa6Q\\xa2Y\\xb2y\\xf2\\xf9\\xef\\xc3\\x9b+V\\xacE\\x8a\\t\\x12$H\\x90=z\\xf4\\xf5\\xf7\\xf3\\xfb\\xeb\\xcb\\x8b\\x0b\\x16,X\\xb0}\\xfa\\xe9\\xcf\\x83\\x1b6l\\xd8\\xadG\\x8e'),\n",
       " 255]"
      ]
     },
     "execution_count": 94,
     "metadata": {},
     "output_type": "execute_result"
    }
   ],
   "source": [
    "rs.init_tables(0x11d)"
   ]
  },
  {
   "cell_type": "code",
   "execution_count": 95,
   "metadata": {},
   "outputs": [],
   "source": [
    "prim = rs.find_prime_polys(c_exp=12, fast_primes=True, single=True)"
   ]
  },
  {
   "cell_type": "code",
   "execution_count": 96,
   "metadata": {},
   "outputs": [
    {
     "data": {
      "text/plain": [
       "[array('i', [0, 0, 1, 3825, 2, 3555, 3826, 1600, 3, 1330, 3556, 822, 3827, 1222, 1601, 3285, 4, 3015, 1331, 339, 3557, 3200, 823, 952, 3828, 2091, 1223, 1060, 1602, 552, 3286, 590, 5, 320, 3016, 2822, 1332, 394, 340, 282, 3558, 2666, 3201, 1821, 824, 790, 953, 852, 3829, 2422, 2092, 2745, 1224, 69, 1061, 2516, 1603, 682, 553, 3119, 3287, 566, 591, 2930, 6, 2660, 321, 531, 3017, 1644, 2823, 296, 1333, 1779, 395, 412, 341, 2849, 283, 3691, 3559, 2444, 2667, 2152, 3202, 2475, 1822, 1948, 825, 2246, 791, 207, 954, 2190, 853, 3894, 3830, 3112, 2423, 50, 2093, 2552, 2746, 807, 1225, 12, 70, 705, 1062, 642, 2517, 124, 1604, 582, 683, 3974, 554, 3190, 3120, 520, 3288, 1939, 567, 2396, 592, 1551, 2931, 2044, 7, 1774, 2661, 1325, 322, 21, 532, 1281, 3018, 1286, 1645, 1669, 2824, 2126, 297, 1006, 1334, 3985, 1780, 312, 396, 3704, 413, 4022, 342, 250, 2850, 1812, 284, 941, 3692, 2920, 3560, 624, 2445, 2842, 2668, 3875, 2153, 3099, 3203, 537, 2476, 2981, 1823, 1161, 1949, 2282, 826, 3949, 2247, 2166, 792, 3313, 208, 372, 955, 1728, 2191, 3837, 854, 435, 3895, 1302, 3831, 1988, 3113, 2390, 2424, 261, 51, 1561, 2094, 26, 2553, 3260, 2747, 2452, 808, 1374, 1226, 3421, 13, 1047, 71, 1259, 706, 2579, 1063, 1412, 643, 1509, 2518, 142, 125, 171, 1605, 3624, 583, 2913, 684, 500, 3975, 1920, 555, 327, 3191, 1976, 3121, 4032, 521, 3132, 3289, 1745, 1940, 2174, 568, 1882, 2397, 2955, 593, 1678, 1552, 1994, 2932, 2357, 2045, 2205, 8, 1935, 1775, 2242, 2662, 678, 1326, 2087, 323, 1674, 22, 1408, 533, 1724, 1282, 246, 3019, 2305, 1287, 1475, 1646, 1904, 1670, 2681, 2825, 2685, 2127, 98, 298, 3748, 1007, 1612, 1335, 1788, 3986, 3354, 1781, 2643, 313, 617, 397, 1650, 3705, 3770, 414, 1582, 4023, 230, 343, 2862, 251, 3488, 2851, 2407, 1813, 3762, 285, 1908, 942, 57, 3693, 1706, 2921, 724, 3561, 87, 625, 1718, 2446, 2120, 2843, 1216, 2669, 1291, 3876, 695, 2154, 631, 3100, 4086, 3204, 1104, 538, 3738, 2477, 1180, 2982, 2182, 1824, 1479, 1162, 3851, 1950, 2990, 2283, 1038, 827, 3996, 3950, 652, 2248, 3144, 2167, 3967, 793, 3023, 3314, 1142, 209, 1239, 373, 3539, 956, 3071, 1729, 3151, 2192, 777, 3838, 998, 855, 2309, 436, 1567, 3896, 3644, 1303, 989, 3832, 1807, 1989, 1504, 3114, 1055, 2391, 202, 2425, 1011, 262, 3239, 52, 93, 1562, 3846, 2095, 736, 27, 3790, 2554, 3941, 3261, 1856, 2748, 1616, 2453, 1016, 809, 1399, 1375, 3631, 1227, 2650, 3422, 1965, 14, 3548, 1048, 671, 72, 302, 1260, 4075, 707, 1542, 2580, 1388, 1064, 2562, 1413, 3715, 644, 42, 1510, 4044, 2519, 3752, 143, 2430, 126, 2273, 172, 3434, 1606, 1032, 3625, 3037, 584, 3888, 2914, 165, 685, 2131, 501, 1458, 3976, 3567, 1921, 3861, 556, 929, 328, 3679, 3192, 1896, 1977, 2062, 3122, 102, 4033, 3244, 522, 753, 3133, 3043, 3290, 3338, 1746, 354, 1941, 2572, 2175, 2055, 569, 2829, 1883, 2074, 2398, 1196, 2956, 3605, 594, 2012, 1679, 2255, 1553, 157, 1995, 891, 2933, 2689, 2358, 267, 2046, 2711, 2206, 3379, 9, 3109, 1936, 579, 1776, 2657, 2243, 2441, 2663, 317, 679, 2419, 1327, 4092, 2088, 3012, 324, 3621, 1675, 1742, 23, 1985, 1409, 3418, 534, 621, 1725, 3946, 1283, 1771, 247, 3982, 3020, 3993, 2306, 3068, 1288, 84, 1476, 1101, 1647, 1785, 1905, 2859, 1671, 1932, 2682, 2302, 2826, 3335, 2686, 2009, 2128, 1029, 99, 926, 299, 2647, 3749, 2559, 1008, 1804, 1613, 733, 1336, 2770, 1789, 762, 3987, 2767, 3355, 3588, 1782, 3990, 2644, 3332, 314, 3106, 618, 3618, 398, 3591, 1651, 1115, 3706, 3161, 3771, 3297, 415, 3358, 1583, 1861, 4024, 1188, 231, 3573, 344, 2773, 2863, 4052, 252, 451, 3489, 483, 2852, 1339, 2408, 3927, 1814, 2974, 3763, 4068, 286, 765, 1909, 659, 943, 3409, 58, 3813, 3694, 1792, 1707, 3266, 2922, 716, 725, 1626, 3562, 1191, 88, 1537, 626, 1234, 1719, 1577, 2447, 4027, 2121, 1156, 2844, 637, 1217, 785, 2670, 3576, 1292, 2601, 3877, 2613, 696, 3918, 2155, 234, 632, 741, 3101, 2969, 4087, 1927, 3205, 3361, 1105, 3055, 539, 1361, 3739, 1129, 2478, 418, 1181, 1346, 2983, 746, 2183, 135, 1825, 1864, 1480, 466, 1163, 3520, 3852, 1841, 1951, 1586, 2991, 2100, 2284, 2533, 1039, 3671, 828, 3164, 3997, 2029, 3951, 460, 653, 2003, 2249, 3709, 3145, 3482, 2168, 2160, 3968, 2739, 794, 3300, 3024, 2292, 3315, 3445, 1143, 3345, 210, 3774, 1240, 3795, 374, 1353, 3540, 3867, 957, 3594, 3072, 2380, 1730, 1695, 3152, 2466, 2193, 401, 778, 3005, 3839, 239, 999, 3278, 856, 1118, 2310, 3957, 437, 3398, 1568, 1272, 3897, 1654, 3645, 32, 1304, 3805, 990, 512, 3833, 2977, 1808, 1665, 1990, 1972, 1505, 3256, 3115, 1817, 1056, 818, 2392, 701, 203, 408, 2426, 4071, 1012, 3235, 263, 2070, 3240, 1454, 53, 3766, 94, 1404, 1563, 1138, 3847, 691, 2096, 1342, 737, 1152, 28, 3001, 3791, 3478, 2555, 2855, 3942, 2415, 3262, 3923, 1857, 3328, 2749, 3930, 1617, 2035, 2454, 1205, 1017, 4012, 810, 2411, 1400, 814, 1376, 2902, 3632, 1634, 1228, 454, 2651, 2761, 3423, 1442, 1966, 1436, 15, 255, 3549, 1638, 1049, 3882, 672, 2114, 73, 486, 303, 2592, 1261, 3218, 4076, 1753, 708, 3492, 1543, 3636, 2581, 2485, 1389, 2137, 1065, 2776, 2563, 1518, 1414, 3084, 3716, 2224, 645, 347, 43, 2906, 1511, 2618, 4045, 2373, 2520, 4055, 3753, 4003, 144, 604, 2431, 1312, 127, 2866, 2274, 1380, 173, 3500, 3435, 2806, 1607, 719, 1033, 984, 3626, 3429, 3038, 3374, 585, 2925, 3889, 2039, 2915, 1297, 166, 2200, 686, 1629, 2132, 2801, 502, 2881, 1459, 905, 3977, 728, 3568, 1621, 1922, 3666, 3862, 507, 557, 1795, 930, 3726, 329, 382, 3680, 2943, 3193, 3697, 1897, 3934, 1978, 2606, 2063, 2874, 3123, 3269, 103, 3170, 4034, 2338, 3245, 969, 523, 1710, 754, 2753, 3134, 872, 3044, 2886, 3291, 3412, 3339, 3912, 1747, 1448, 355, 899, 1942, 946, 2573, 4016, 2176, 2675, 2056, 1850, 570, 3816, 2830, 2541, 1884, 114, 2075, 361, 2399, 61, 1197, 1021, 2957, 425, 3606, 1464, 595, 768, 2013, 2625, 1680, 1527, 2256, 2720, 1554, 289, 158, 1209, 1996, 3581, 892, 1429, 2934, 662, 2690, 834, 2359, 3468, 268, 1490, 2047, 1912, 2712, 2458, 2207, 3458, 3380, 910, 10, 640, 3110, 2550, 1937, 1549, 580, 3188, 1777, 2847, 2658, 1642, 2244, 2188, 2442, 2473, 2664, 788, 318, 392, 680, 564, 2420, 67, 1328, 1220, 4093, 3553, 2089, 550, 3013, 3198, 325, 4030, 3622, 498, 1676, 2355, 1743, 1880, 24, 2450, 1986, 259, 1410, 140, 3419, 1257, 535, 1159, 622, 3873, 1726, 433, 3947, 3311, 1284, 2124, 1772, 19, 248, 939, 3983, 3702, 3021, 1237, 3994, 3142, 2307, 3642, 3069, 775, 1289, 629, 85, 2118, 1477, 2988, 1102, 1178, 1648, 1580, 1786, 2641, 1906, 1704, 2860, 2405, 1672, 1722, 1933, 676, 2683, 3746, 2303, 1902, 2827, 1194, 3336, 2570, 2687, 2709, 2010, 155, 2129, 3565, 1030, 3886, 100, 751, 927, 1894, 300, 1540, 2648, 3546, 3750, 2271, 2560, 40, 1009, 91, 1805, 1053, 1614, 1397, 734, 3939, 1337, 2972, 2771, 449, 1790, 714, 763, 3407, 3988, 3104, 2768, 2765, 3356, 1186, 3589, 3159, 1783, 1930, 3991, 82, 2645, 1802, 3333, 1027, 315, 4090, 3107, 2655, 619, 1769, 3619, 1983, 399, 237, 3592, 1693, 1652, 3803, 1116, 3396, 3707, 2158, 3162, 458, 3772, 1351, 3298, 3443, 416, 744, 3359, 1359, 1584, 2531, 1862, 3518, 4025, 635, 1189, 1232, 232, 2967, 3574, 2611, 345, 2616, 2774, 3082, 2864, 3498, 4053, 602, 253, 3880, 452, 1440, 3490, 2483, 484, 3216, 2853, 3921, 1340, 2999, 2409, 2900, 3928, 1203, 1815, 699, 2975, 1970, 3764, 1136, 4069, 2068, 287, 3579, 766, 1525, 1910, 3456, 660, 3466, 944, 2673, 3410, 1446, 59, 423, 3814, 112, 3695, 2604, 1793, 380, 1708, 870, 3267, 2336, 2923, 1295, 717, 3427, 726, 3664, 1627, 2879, 3563, 749, 1192, 2707, 89, 1395, 1538, 2269, 627, 2986, 1235, 3640, 1720, 3744, 1578, 1702, 2448, 138, 4028, 2353, 2122, 937, 1157, 431, 2845, 2186, 638, 1547, 1218, 548, 786, 562, 2671, 421, 3577, 3454, 1293, 3662, 2602, 868, 3878, 2481, 2614, 3496, 697, 1134, 3919, 2898, 2156, 1349, 235, 3801, 633, 2965, 742, 2529, 3102, 1184, 2970, 712, 4088, 1767, 1928, 1800, 3206, 1364, 3362, 880, 1106, 2143, 3056, 2632, 540, 542, 1362, 2141, 3740, 544, 1130, 1763, 2479, 1132, 419, 3660, 1182, 1765, 1347, 2963, 2984, 3742, 747, 1393, 2184, 546, 136, 935, 1826, 3364, 1865, 1072, 1481, 882, 467, 2320, 1164, 3208, 3521, 2489, 3853, 1366, 1842, 2731, 1952, 3058, 1587, 1246, 2992, 2634, 2101, 3653, 2285, 1108, 2534, 2585, 1040, 2145, 3672, 3731, 829, 2536, 3165, 2796, 3998, 2587, 2030, 3230, 3952, 2287, 461, 2596, 654, 1110, 2004, 1737, 2250, 3674, 3710, 3785, 3146, 3733, 3483, 1470, 2169, 1042, 2161, 307, 3969, 2147, 2740, 334, 795, 1589, 3301, 2506, 3025, 1248, 2293, 843, 3316, 1954, 3446, 490, 1144, 3060, 3346, 2814, 211, 2103, 3775, 3780, 1241, 3655, 3796, 2348, 375, 2994, 1354, 77, 3541, 2636, 3868, 387, 958, 3523, 3595, 184, 3073, 2491, 2381, 2020, 1731, 1166, 1696, 1757, 3153, 3210, 2467, 1172, 2194, 1844, 402, 2108, 779, 2733, 3006, 3612, 3840, 3855, 240, 4080, 1000, 1368, 3279, 3685, 857, 1867, 1119, 2783, 2311, 1074, 3958, 2215, 438, 1828, 3399, 3222, 1569, 3366, 1273, 194, 3898, 469, 1655, 216, 3646, 2322, 33, 2329, 1305, 1483, 3806, 1265, 991, 884, 513, 2948, 3834, 2163, 2978, 2839, 1809, 309, 1666, 1322, 1991, 2171, 1973, 2910, 1506, 1044, 3257, 2387, 3116, 2742, 1818, 2819, 1057, 336, 819, 3822, 2393, 3971, 702, 47, 204, 2149, 409, 528, 2427, 3712, 4072, 1962, 1013, 3787, 3236, 1501, 264, 2252, 2071, 351, 3241, 3676, 1455, 3034, 54, 3485, 3767, 3351, 95, 1472, 1405, 2239, 1564, 3148, 1139, 649, 3848, 3735, 692, 1715, 2097, 463, 1343, 3052, 738, 2598, 1153, 1534, 29, 3954, 3002, 2377, 3792, 2289, 3479, 2026, 2556, 2006, 2856, 3065, 3943, 1739, 2416, 576, 3263, 656, 3924, 4049, 1858, 1112, 3329, 759, 2750, 3167, 3931, 3723, 1618, 2798, 2036, 981, 2455, 831, 1206, 2622, 1018, 2538, 4013, 3909, 811, 2032, 2412, 1149, 1401, 3232, 815, 1662, 1377, 4000, 2903, 1515, 3633, 2589, 1635, 2758, 1229, 1356, 455, 1690, 2652, 79, 2762, 446, 3424, 377, 1443, 1522, 1967, 2996, 1437, 3079, 16, 3870, 256, 495, 3550, 389, 1639, 2547, 1050, 3543, 3883, 2567, 673, 2638, 2115, 3139, 74, 3777, 487, 2503, 304, 3782, 2593, 2793, 1262, 213, 3219, 2780, 4077, 2105, 1754, 181, 709, 3798, 3493, 3451, 1544, 2350, 3637, 2704, 2582, 1243, 2486, 1069, 1390, 3657, 2138, 877, 1066, 3448, 2777, 2500, 2564, 492, 1519, 1687, 1415, 3318, 3085, 2228, 3717, 1956, 2225, 2497, 646, 3348, 348, 1959, 44, 2816, 2907, 2836, 1512, 1146, 2619, 3720, 4046, 3062, 2374, 3049, 2521, 3303, 4056, 2231, 3754, 2508, 4004, 918, 145, 797, 605, 3088, 2432, 1591, 1313, 3179, 128, 2295, 2867, 3321, 2275, 845, 1381, 223, 174, 3027, 3501, 1418, 3436, 1250, 2807, 2891, 1608, 242, 720, 226, 1034, 4082, 985, 3535, 3627, 3842, 3430, 1384, 3039, 3857, 3375, 3601, 586, 3281, 2926, 848, 3890, 3687, 2040, 120, 2916, 1002, 1298, 2278, 167, 1370, 2201, 3128, 687, 404, 1630, 3324, 2133, 2110, 2802, 2369, 503, 2196, 2882, 2870, 1460, 1846, 906, 1425, 3978, 3008, 729, 2298, 3569, 3614, 1622, 4064, 1923, 781, 3667, 131, 3863, 2735, 508, 3274, 558, 1698, 1796, 2894, 931, 1759, 3727, 2727, 330, 1733, 383, 2810, 3681, 1168, 2944, 190, 3194, 2469, 3698, 1253, 1898, 1174, 3935, 1890, 1979, 3155, 2607, 3439, 2064, 3212, 2875, 108, 3124, 3597, 3270, 1421, 104, 186, 3171, 1083, 4035, 960, 2339, 3504, 3246, 3525, 970, 1087, 524, 2383, 1711, 3030, 755, 2022, 2754, 3905, 3135, 3075, 873, 177, 3045, 2493, 2887, 3175, 3292, 3808, 3413, 921, 3340, 1267, 3913, 1836, 1748, 1307, 1449, 4007, 356, 1485, 900, 964, 1943, 515, 947, 2511, 2574, 2950, 4017, 367, 2177, 993, 2676, 3757, 2057, 886, 1851, 4039, 571, 1657, 3817, 2234, 2831, 218, 2542, 2699, 1885, 3900, 115, 4059, 2076, 471, 362, 3508, 2400, 35, 62, 3306, 1198, 2331, 1022, 3513, 2958, 3648, 426, 2524, 3607, 2324, 1465, 2343, 596, 3401, 769, 3182, 2014, 3224, 2626, 2263, 1681, 440, 1528, 1316, 2257, 1830, 2721, 3529, 1555, 1275, 290, 1594, 159, 196, 1210, 2081, 1997, 1571, 3582, 2435, 893, 3368, 1430, 3250, 2935, 1121, 663, 3091, 2691, 2785, 835, 3388, 2360, 859, 3469, 608, 269, 1869, 1491, 1091, 2048, 3960, 1913, 800, 2713, 2217, 2459, 476, 2208, 2313, 3459, 148, 3381, 1076, 911, 974, 11, 704, 641, 123, 3111, 49, 2551, 806, 1938, 2395, 1550, 2043, 581, 3973, 3189, 519, 1778, 411, 2848, 3690, 2659, 530, 1643, 295, 2245, 206, 2189, 3893, 2443, 2151, 2474, 1947, 2665, 1820, 789, 851, 319, 2821, 393, 281, 681, 3118, 565, 2929, 2421, 2744, 68, 2515, 1329, 821, 1221, 3284, 4094, 3824, 3554, 1599, 2090, 1059, 551, 589, 3014, 338, 3199, 951, 326, 1975, 4031, 3131, 3623, 2912, 499, 1919, 1677, 1993, 2356, 2204, 1744, 2173, 1881, 2954, 25, 3259, 2451, 1373, 1987, 2389, 260, 1560, 1411, 1508, 141, 170, 3420, 1046, 1258, 2578, 536, 2980, 1160, 2281, 623, 2841, 3874, 3098, 1727, 3836, 434, 1301, 3948, 2165, 3312, 371, 1285, 1668, 2125, 1005, 1773, 1324, 20, 1280, 249, 1811, 940, 2919, 3984, 311, 3703, 4021, 3022, 1141, 1238, 3538, 3995, 651, 3143, 3966, 2308, 1566, 3643, 988, 3070, 3150, 776, 997, 1290, 694, 630, 4085, 86, 1717, 2119, 1215, 1478, 3850, 2989, 1037, 1103, 3737, 1179, 2181, 1649, 3769, 1581, 229, 1787, 3353, 2642, 616, 1907, 56, 1705, 723, 2861, 3487, 2406, 3761, 1673, 1407, 1723, 245, 1934, 2241, 677, 2086, 2684, 97, 3747, 1611, 2304, 1474, 1903, 2680, 2828, 2073, 1195, 3604, 3337, 353, 2571, 2054, 2688, 266, 2710, 3378, 2011, 2254, 156, 890, 2130, 1457, 3566, 3860, 1031, 3036, 3887, 164, 101, 3243, 752, 3042, 928, 3678, 1895, 2061, 301, 4074, 1541, 1387, 2649, 1964, 3547, 670, 3751, 2429, 2272, 3433, 2561, 3714, 41, 4043, 1010, 3238, 92, 3845, 1806, 1503, 1054, 201, 1615, 1015, 1398, 3630, 735, 3789, 3940, 1855, 1338, 3926, 2973, 4067, 2772, 4051, 450, 482, 1791, 3265, 715, 1625, 764, 658, 3408, 3812, 3989, 3331, 3105, 3617, 2769, 761, 2766, 3587, 3357, 1860, 1187, 3572, 3590, 1114, 3160, 3296, 1784, 2858, 1931, 2301, 3992, 3067, 83, 1100, 2646, 2558, 1803, 732, 3334, 2008, 1028, 925, 316, 2418, 4091, 3011, 3108, 578, 2656, 2440, 620, 3945, 1770, 3981, 3620, 1741, 1984, 3417, 400, 3004, 238, 3277, 3593, 2379, 1694, 2465, 1653, 31, 3804, 511, 1117, 3956, 3397, 1271, 3708, 3481, 2159, 2738, 3163, 2028, 459, 2002, 3773, 3794, 1352, 3866, 3299, 2291, 3444, 3344, 417, 1345, 745, 134, 3360, 3054, 1360, 1128, 1585, 2099, 2532, 3670, 1863, 465, 3519, 1840, 4026, 1155, 636, 784, 1190, 1536, 1233, 1576, 233, 740, 2968, 1926, 3575, 2600, 2612, 3917, 346, 2905, 2617, 2372, 2775, 1517, 3083, 2223, 2865, 1379, 3499, 2805, 4054, 4002, 603, 1311, 254, 1637, 3881, 2113, 453, 2760, 1441, 1435, 3491, 3635, 2484, 2136, 485, 2591, 3217, 1752, 2854, 2414, 3922, 3327, 1341, 1151, 3000, 3477, 2410, 813, 2901, 1633, 3929, 2034, 1204, 4011, 1816, 817, 700, 407, 2976, 1664, 1971, 3255, 3765, 1403, 1137, 690, 4070, 3234, 2069, 1453, 288, 1208, 3580, 1428, 767, 2624, 1526, 2719, 1911, 2457, 3457, 909, 661, 833, 3467, 1489, 945, 4015, 2674, 1849, 3411, 3911, 1447, 898, 60, 1020, 424, 1463, 3815, 2540, 113, 360, 3696, 3933, 2605, 2873, 1794, 3725, 381, 2942, 1709, 2752, 871, 2885, 3268, 3169, 2337, 968, 2924, 2038, 1296, 2199, 718, 983, 3428, 3373, 727, 1620, 3665, 506, 1628, 2800, 2880, 904, 3564, 3885, 750, 1893, 1193, 2569, 2708, 154, 90, 1052, 1396, 3938, 1539, 3545, 2270, 39, 628, 2117, 2987, 1177, 1236, 3141, 3641, 774, 1721, 675, 3745, 1901, 1579, 2640, 1703, 2404, 2449, 258, 139, 1256, 4029, 497, 2354, 1879, 2123, 18, 938, 3701, 1158, 3872, 432, 3310, 2846, 1641, 2187, 2472, 639, 2549, 1548, 3187, 1219, 3552, 549, 3197, 787, 391, 563, 66, 2672, 1445, 422, 111, 3578, 1524, 3455, 3465, 1294, 3426, 3663, 2878, 2603, 379, 869, 2335, 3879, 1439, 2482, 3215, 2615, 3081, 3497, 601, 698, 1969, 1135, 2067, 3920, 2998, 2899, 1202, 2157, 457, 1350, 3442, 236, 1692, 3802, 3395, 634, 1231, 2966, 2610, 743, 1358, 2530, 3517, 3103, 2764, 1185, 3158, 2971, 448, 713, 3406, 4089, 2654, 1768, 1982, 1929, 81, 1801, 1026, 3207, 2488, 1365, 2730, 3363, 1071, 881, 2319, 1107, 2584, 2144, 3730, 3057, 1245, 2633, 3652, 541, 2140, 543, 1762, 1363, 879, 2142, 2631, 3741, 1392, 545, 934, 1131, 3659, 1764, 2962, 2480, 3495, 1133, 2897, 420, 3453, 3661, 867, 1183, 711, 1766, 1799, 1348, 3800, 2964, 2528, 2985, 3639, 3743, 1701, 748, 2706, 1394, 2268, 2185, 1546, 547, 561, 137, 2352, 936, 430, 1827, 3221, 3365, 193, 1866, 2782, 1073, 2214, 1482, 1264, 883, 2947, 468, 215, 2321, 2328, 1165, 1756, 3209, 1171, 3522, 183, 2490, 2019, 3854, 4079, 1367, 3684, 1843, 2107, 2732, 3611, 1953, 489, 3059, 2813, 1588, 2505, 1247, 842, 2993, 76, 2635, 386, 2102, 3779, 3654, 2347, 2286, 2595, 1109, 1736, 2535, 2795, 2586, 3229, 1041, 306, 2146, 333, 3673, 3784, 3732, 1469, 830, 2621, 2537, 3908, 3166, 3722, 2797, 980, 3999, 1514, 2588, 2757, 2031, 1148, 3231, 1661, 3953, 2376, 2288, 2025, 462, 3051, 2597, 1533, 655, 4048, 1111, 758, 2005, 3064, 1738, 575, 2251, 350, 3675, 3033, 3711, 1961, 3786, 1500, 3147, 648, 3734, 1714, 3484, 3350, 1471, 2238, 2170, 2909, 1043, 2386, 2162, 2838, 308, 1321, 3970, 46, 2148, 527, 2741, 2818, 335, 3821, 796, 3087, 1590, 3178, 3302, 2230, 2507, 917, 3026, 1417, 1249, 2890, 2294, 3320, 844, 222, 3317, 2227, 1955, 2496, 3447, 2499, 491, 1686, 1145, 3719, 3061, 3048, 3347, 1958, 2815, 2835, 212, 2779, 2104, 180, 3776, 2502, 3781, 2792, 1242, 1068, 3656, 876, 3797, 3450, 2349, 2703, 376, 1521, 2995, 3078, 1355, 1689, 78, 445, 3542, 2566, 2637, 3138, 3869, 494, 388, 2546, 959, 3503, 3524, 1086, 3596, 1420, 185, 1082, 3074, 176, 2492, 3174, 2382, 3029, 2021, 3904, 1732, 2809, 1167, 189, 1697, 2893, 1758, 2726, 3154, 3438, 3211, 107, 2468, 1252, 1173, 1889, 2195, 2869, 1845, 1424, 403, 3323, 2109, 2368, 780, 130, 2734, 3273, 3007, 2297, 3613, 4063, 3841, 1383, 3856, 3600, 241, 225, 4081, 3534, 1001, 2277, 1369, 3127, 3280, 847, 3686, 119, 858, 607, 1868, 1090, 1120, 3090, 2784, 3387, 2312, 147, 1075, 973, 3959, 799, 2216, 475, 439, 1315, 1829, 3528, 3400, 3181, 3223, 2262, 1570, 2434, 3367, 3249, 1274, 1593, 195, 2080, 3899, 4058, 470, 3507, 1656, 2233, 217, 2698, 3647, 2523, 2323, 2342, 34, 3305, 2330, 3512, 1306, 4006, 1484, 963, 3807, 920, 1266, 1835, 992, 3756, 885, 4038, 514, 2510, 2949, 366, 3835, 1300, 2164, 370, 2979, 2280, 2840, 3097, 1810, 2918, 310, 4020, 1667, 1004, 1323, 1279, 1992, 2203, 2172, 2953, 1974, 3130, 2911, 1918, 1507, 169, 1045, 2577, 3258, 1372, 2388, 1559, 3117, 2928, 2743, 2514, 1819, 850, 2820, 280, 1058, 588, 337, 950, 820, 3283, 3823, 1598, 2394, 2042, 3972, 518, 703, 122, 48, 805, 205, 3892, 2150, 1946, 410, 3689, 529, 294, 2428, 3432, 3713, 4042, 4073, 1386, 1963, 669, 1014, 3629, 3788, 1854, 3237, 3844, 1502, 200, 265, 3377, 2253, 889, 2072, 3603, 352, 2053, 3242, 3041, 3677, 2060, 1456, 3859, 3035, 163, 55, 722, 3486, 3760, 3768, 228, 3352, 615, 96, 1610, 1473, 2679, 1406, 244, 2240, 2085, 1565, 987, 3149, 996, 1140, 3537, 650, 3965, 3849, 1036, 3736, 2180, 693, 4084, 1716, 1214, 2098, 3669, 464, 1839, 1344, 133, 3053, 1127, 739, 1925, 2599, 3916, 1154, 783, 1535, 1575, 30, 510, 3955, 1270, 3003, 3276, 2378, 2464, 3793, 3865, 2290, 3343, 3480, 2737, 2027, 2001, 2557, 731, 2007, 924, 2857, 2300, 3066, 1099, 3944, 3980, 1740, 3416, 2417, 3010, 577, 2439, 3264, 1624, 657, 3811, 3925, 4066, 4050, 481, 1859, 3571, 1113, 3295, 3330, 3616, 760, 3586, 2751, 2884, 3168, 967, 3932, 2872, 3724, 2941, 1619, 505, 2799, 903, 2037, 2198, 982, 3372, 2456, 908, 832, 1488, 1207, 1427, 2623, 2718, 1019, 1462, 2539, 359, 4014, 1848, 3910, 897, 812, 1632, 2033, 4010, 2413, 3326, 1150, 3476, 1402, 689, 3233, 1452, 816, 406, 1663, 3254, 1378, 2804, 4001, 1310, 2904, 2371, 1516, 2222, 3634, 2135, 2590, 1751, 1636, 2112, 2759, 1434, 1230, 2609, 1357, 3516, 456, 3441, 1691, 3394, 2653, 1981, 80, 1025, 2763, 3157, 447, 3405, 3425, 2877, 378, 2334, 1444, 110, 1523, 3464, 1968, 2066, 2997, 1201, 1438, 3214, 3080, 600, 17, 3700, 3871, 3309, 257, 1255, 496, 1878, 3551, 3196, 390, 65, 1640, 2471, 2548, 3186, 1051, 3937, 3544, 38, 3884, 1892, 2568, 153, 674, 1900, 2639, 2403, 2116, 1176, 3140, 773, 75, 385, 3778, 2346, 488, 2812, 2504, 841, 305, 332, 3783, 1468, 2594, 1735, 2794, 3228, 1263, 2946, 214, 2327, 3220, 192, 2781, 2213, 4078, 3683, 2106, 3610, 1755, 1170, 182, 2018, 710, 1798, 3799, 2527, 3494, 2896, 3452, 866, 1545, 560, 2351, 429, 3638, 1700, 2705, 2267, 2583, 3729, 1244, 3651, 2487, 2729, 1070, 2318, 1391, 933, 3658, 2961, 2139, 1761, 878, 2630, 1067, 875, 3449, 2702, 2778, 179, 2501, 2791, 2565, 3137, 493, 2545, 1520, 3077, 1688, 444, 1416, 2889, 3319, 221, 3086, 3177, 2229, 916, 3718, 3047, 1957, 2834, 2226, 2495, 2498, 1685, 647, 1713, 3349, 2237, 349, 3032, 1960, 1499, 45, 526, 2817, 3820, 2908, 2385, 2837, 1320, 1513, 2756, 1147, 1660, 2620, 3907, 3721, 979, 4047, 757, 3063, 574, 2375, 2024, 3050, 1532, 2522, 2341, 3304, 3511, 4057, 3506, 2232, 2697, 3755, 4037, 2509, 365, 4005, 962, 919, 1834, 146, 972, 798, 474, 606, 1089, 3089, 3386, 2433, 3248, 1592, 2079, 1314, 3527, 3180, 2261, 129, 3272, 2296, 4062, 2868, 1423, 3322, 2367, 2276, 3126, 846, 118, 1382, 3599, 224, 3533, 175, 3173, 3028, 3903, 3502, 1085, 1419, 1081, 3437, 106, 1251, 1888, 2808, 188, 2892, 2725, 1609, 2678, 243, 2084, 721, 3759, 227, 614, 1035, 2179, 4083, 1213, 986, 995, 3536, 3964, 3628, 1853, 3843, 199, 3431, 4041, 1385, 668, 3040, 2059, 3858, 162, 3376, 888, 3602, 2052, 587, 949, 3282, 1597, 2927, 2513, 849, 279, 3891, 1945, 3688, 293, 2041, 517, 121, 804, 2917, 4019, 1003, 1278, 1299, 369, 2279, 3096, 168, 2576, 1371, 1558, 2202, 2952, 3129, 1917, 688, 1451, 405, 3253, 1631, 4009, 3325, 3475, 2134, 1750, 2111, 1433, 2803, 1309, 2370, 2221, 504, 902, 2197, 3371, 2883, 966, 2871, 2940, 1461, 358, 1847, 896, 907, 1487, 1426, 2717, 3979, 3415, 3009, 2438, 730, 923, 2299, 1098, 3570, 3294, 3615, 3585, 1623, 3810, 4065, 480, 1924, 3915, 782, 1574, 3668, 1838, 132, 1126, 3864, 3342, 2736, 2000, 509, 1269, 3275, 2463, 559, 428, 1699, 2266, 1797, 2526, 2895, 865, 932, 2960, 1760, 2629, 3728, 3650, 2728, 2317, 331, 1467, 1734, 3227, 384, 2345, 2811, 840, 3682, 3609, 1169, 2017, 2945, 2326, 191, 2212, 3195, 64, 2470, 3185, 3699, 3308, 1254, 1877, 1899, 2402, 1175, 772, 3936, 37, 1891, 152, 1980, 1024, 3156, 3404, 2608, 3515, 3440, 3393, 2065, 1200, 3213, 599, 2876, 2333, 109, 3463, 3125, 117, 3598, 3532, 3271, 4061, 1422, 2366, 105, 1887, 187, 2724, 3172, 3902, 1084, 1080, 4036, 364, 961, 1833, 2340, 3510, 3505, 2696, 3247, 2078, 3526, 2260, 971, 473, 1088, 3385, 525, 3819, 2384, 1319, 1712, 2236, 3031, 1498, 756, 573, 2023, 1531, 2755, 1659, 3906, 978, 3136, 2544, 3076, 443, 874, 2701, 178, 2790, 3046, 2833, 2494, 1684, 2888, 220, 3176, 915, 3293, 3584, 3809, 479, 3414, 2437, 922, 1097, 3341, 1999, 1268, 2462, 3914, 1573, 1837, 1125, 1749, 1432, 1308, 2220, 1450, 3252, 4008, 3474, 357, 895, 1486, 2716, 901, 3370, 965, 2939, 1944, 292, 516, 803, 948, 1596, 2512, 278, 2575, 1557, 2951, 1916, 4018, 1277, 368, 3095, 2178, 1212, 994, 3963, 2677, 2083, 3758, 613, 2058, 161, 887, 2051, 1852, 198, 4040, 667, 572, 1530, 1658, 977, 3818, 1318, 2235, 1497, 2832, 1683, 219, 914, 2543, 442, 2700, 2789, 1886, 2723, 3901, 1079, 116, 3531, 4060, 2365, 2077, 2259, 472, 3384, 363, 1832, 3509, 2695, 2401, 771, 36, 151, 63, 3184, 3307, 1876, 1199, 598, 2332, 3462, 1023, 3403, 3514, 3392, 2959, 2628, 3649, 2316, 427, 2265, 2525, 864, 3608, 2016, 2325, 2211, 1466, 3226, 2344, 839, 597, 3461, 3402, 3391, 770, 150, 3183, 1875, 2015, 2210, 3225, 838, 2627, 2315, 2264, 863, 1682, 913, 441, 2788, 1529, 976, 1317, 1496, 2258, 3383, 1831, 2694, 2722, 1078, 3530, 2364, 1556, 1915, 1276, 3094, 291, 802, 1595, 277, 160, 2050, 197, 666, 1211, 3962, 2082, 612, 1998, 2461, 1572, 1124, 3583, 478, 2436, 1096, 894, 2715, 3369, 2938, 1431, 2219, 3251, 3473, 2936, 3471, 1122, 1094, 664, 610, 3092, 275, 2692, 2362, 2786, 1494, 836, 861, 3389, 1873, 2361, 1493, 860, 1872, 3470, 1093, 609, 274, 270, 271, 1870, 272, 1492, 1871, 1092, 273, 2049, 665, 3961, 611, 1914, 3093, 801, 276, 2714, 2937, 2218, 3472, 2460, 1123, 477, 1095, 2209, 837, 2314, 862, 3460, 3390, 149, 1874, 3382, 2693, 1077, 2363, 912, 2787, 975, 1495]),\n",
       " array('i', [1, 2, 4, 8, 16, 32, 64, 128, 256, 512, 1024, 2048, 105, 210, 420, 840, 1680, 3360, 2601, 1083, 2166, 133, 266, 532, 1064, 2128, 201, 402, 804, 1608, 3216, 2377, 763, 1526, 3052, 1969, 3938, 3757, 3379, 2575, 1143, 2286, 437, 874, 1748, 3496, 2873, 1563, 3126, 2053, 99, 198, 396, 792, 1584, 3168, 2217, 315, 630, 1260, 2520, 985, 1970, 3940, 3745, 3371, 2623, 1047, 2094, 53, 106, 212, 424, 848, 1696, 3392, 2793, 1467, 2934, 1669, 3338, 2685, 1171, 2342, 549, 1098, 2196, 321, 642, 1284, 2568, 1145, 2290, 397, 794, 1588, 3176, 2233, 283, 566, 1132, 2264, 473, 946, 1892, 3784, 3577, 2971, 1887, 3774, 3349, 2627, 1263, 2526, 981, 1962, 3924, 3777, 3563, 3007, 1815, 3630, 3125, 2051, 111, 222, 444, 888, 1776, 3552, 2985, 1851, 3702, 3205, 2403, 687, 1374, 2748, 1297, 2594, 1069, 2138, 221, 442, 884, 1768, 3536, 3017, 2043, 4086, 3973, 3939, 3759, 3383, 2567, 1127, 2254, 501, 1002, 2004, 4008, 3897, 3611, 3167, 2263, 455, 910, 1820, 3640, 3097, 2139, 223, 446, 892, 1784, 3568, 2953, 1915, 3830, 3461, 2915, 1711, 3422, 2773, 1475, 2950, 1893, 3786, 3581, 2963, 1871, 3742, 3413, 2755, 1519, 3038, 2005, 4010, 3901, 3603, 3151, 2295, 391, 782, 1564, 3128, 2073, 91, 182, 364, 728, 1456, 2912, 1705, 3410, 2765, 1523, 3046, 1957, 3914, 3837, 3475, 2895, 1783, 3566, 2997, 1795, 3590, 3173, 2211, 303, 606, 1212, 2424, 665, 1330, 2660, 1185, 2370, 749, 1498, 2996, 1793, 3586, 3181, 2227, 271, 542, 1084, 2168, 153, 306, 612, 1224, 2448, 841, 1682, 3364, 2593, 1067, 2134, 197, 394, 788, 1576, 3152, 2249, 507, 1014, 2028, 4056, 4057, 4059, 4063, 4055, 4039, 4071, 4007, 3879, 3623, 3111, 2087, 39, 78, 156, 312, 624, 1248, 2496, 1001, 2002, 4004, 3873, 3627, 3135, 2071, 71, 142, 284, 568, 1136, 2272, 425, 850, 1700, 3400, 2809, 1435, 2870, 1541, 3082, 2173, 147, 294, 588, 1176, 2352, 521, 1042, 2084, 33, 66, 132, 264, 528, 1056, 2112, 233, 466, 932, 1864, 3728, 3401, 2811, 1439, 2878, 1557, 3114, 2109, 19, 38, 76, 152, 304, 608, 1216, 2432, 873, 1746, 3492, 2849, 1579, 3158, 2245, 483, 966, 1932, 3864, 3673, 3291, 2527, 983, 1966, 3932, 3793, 3531, 3071, 1943, 3886, 3637, 3075, 2159, 183, 366, 732, 1464, 2928, 1673, 3346, 2637, 1267, 2534, 933, 1866, 3732, 3393, 2795, 1471, 2942, 1685, 3370, 2621, 1043, 2086, 37, 74, 148, 296, 592, 1184, 2368, 745, 1490, 2980, 1825, 3650, 3309, 2483, 783, 1566, 3132, 2065, 75, 150, 300, 600, 1200, 2400, 681, 1362, 2724, 1313, 2626, 1261, 2522, 989, 1978, 3956, 3713, 3435, 2751, 1303, 2606, 1077, 2154, 189, 378, 756, 1512, 3024, 1993, 3986, 3917, 3827, 3471, 2935, 1671, 3342, 2677, 1155, 2310, 613, 1226, 2452, 833, 1666, 3332, 2657, 1195, 2390, 709, 1418, 2836, 1601, 3202, 2413, 691, 1382, 2764, 1521, 3042, 1965, 3930, 3805, 3539, 3023, 2039, 4078, 4021, 3843, 3695, 3255, 2311, 615, 1230, 2460, 849, 1698, 3396, 2785, 1451, 2902, 1733, 3466, 2941, 1683, 3366, 2597, 1059, 2118, 229, 458, 916, 1832, 3664, 3273, 2555, 927, 1854, 3708, 3217, 2379, 767, 1534, 3068, 1937, 3874, 3629, 3123, 2063, 119, 238, 476, 952, 1904, 3808, 3497, 2875, 1567, 3134, 2069, 67, 134, 268, 536, 1072, 2144, 169, 338, 676, 1352, 2704, 1353, 2706, 1357, 2714, 1373, 2746, 1309, 2618, 1053, 2106, 29, 58, 116, 232, 464, 928, 1856, 3712, 3433, 2747, 1311, 2622, 1045, 2090, 61, 122, 244, 488, 976, 1952, 3904, 3817, 3515, 2847, 1623, 3246, 2357, 515, 1030, 2060, 113, 226, 452, 904, 1808, 3616, 3113, 2107, 31, 62, 124, 248, 496, 992, 1984, 3968, 3945, 3771, 3359, 2647, 1223, 2446, 885, 1770, 3540, 3009, 2027, 4054, 4037, 4067, 4015, 3895, 3591, 3175, 2215, 295, 590, 1180, 2360, 537, 1074, 2148, 161, 322, 644, 1288, 2576, 1097, 2194, 333, 666, 1332, 2664, 1209, 2418, 653, 1306, 2612, 1025, 2050, 109, 218, 436, 872, 1744, 3488, 2857, 1595, 3190, 2181, 355, 710, 1420, 2840, 1625, 3250, 2317, 627, 1254, 2508, 1009, 2018, 4036, 4065, 4011, 3903, 3607, 3143, 2279, 423, 846, 1692, 3384, 2585, 1115, 2230, 261, 522, 1044, 2088, 57, 114, 228, 456, 912, 1824, 3648, 3305, 2491, 799, 1598, 3196, 2193, 331, 662, 1324, 2648, 1241, 2482, 781, 1562, 3124, 2049, 107, 214, 428, 856, 1712, 3424, 2729, 1339, 2678, 1157, 2314, 637, 1274, 2548, 897, 1794, 3588, 3169, 2219, 319, 638, 1276, 2552, 921, 1842, 3684, 3233, 2347, 575, 1150, 2300, 401, 802, 1604, 3208, 2425, 667, 1334, 2668, 1201, 2402, 685, 1370, 2740, 1281, 2562, 1133, 2266, 477, 954, 1908, 3816, 3513, 2843, 1631, 3262, 2325, 579, 1158, 2316, 625, 1250, 2500, 993, 1986, 3972, 3937, 3755, 3391, 2583, 1095, 2190, 373, 746, 1492, 2984, 1849, 3698, 3213, 2419, 655, 1310, 2620, 1041, 2082, 45, 90, 180, 360, 720, 1440, 2880, 1769, 3538, 3021, 2035, 4070, 4005, 3875, 3631, 3127, 2055, 103, 206, 412, 824, 1648, 3296, 2473, 827, 1654, 3308, 2481, 779, 1558, 3116, 2097, 11, 22, 44, 88, 176, 352, 704, 1408, 2816, 1641, 3282, 2509, 1011, 2022, 4044, 4081, 3979, 3967, 3735, 3399, 2791, 1447, 2894, 1781, 3562, 3005, 1811, 3622, 3109, 2083, 47, 94, 188, 376, 752, 1504, 3008, 2025, 4050, 4045, 4083, 3983, 3959, 3719, 3431, 2727, 1319, 2638, 1269, 2538, 957, 1914, 3828, 3457, 2923, 1727, 3454, 2709, 1347, 2694, 1381, 2762, 1533, 3066, 1949, 3898, 3613, 3155, 2255, 503, 1006, 2012, 4024, 3865, 3675, 3295, 2519, 967, 1934, 3868, 3665, 3275, 2559, 919, 1838, 3676, 3281, 2507, 1023, 2046, 4092, 3985, 3915, 3839, 3479, 2887, 1767, 3534, 3061, 1923, 3846, 3685, 3235, 2351, 567, 1134, 2268, 465, 930, 1860, 3720, 3449, 2715, 1375, 2750, 1301, 2602, 1085, 2170, 157, 314, 628, 1256, 2512, 969, 1938, 3876, 3617, 3115, 2111, 23, 46, 92, 184, 368, 736, 1472, 2944, 1897, 3794, 3533, 3059, 1935, 3870, 3669, 3267, 2543, 951, 1902, 3804, 3537, 3019, 2047, 4094, 3989, 3907, 3823, 3511, 2823, 1639, 3278, 2549, 899, 1798, 3596, 3185, 2187, 383, 766, 1532, 3064, 1945, 3890, 3597, 3187, 2191, 375, 750, 1500, 3000, 1817, 3634, 3085, 2163, 143, 286, 572, 1144, 2288, 393, 786, 1572, 3144, 2297, 411, 822, 1644, 3288, 2521, 987, 1974, 3948, 3761, 3339, 2687, 1175, 2350, 565, 1130, 2260, 449, 898, 1796, 3592, 3193, 2203, 351, 702, 1404, 2808, 1433, 2866, 1549, 3098, 2141, 211, 422, 844, 1688, 3376, 2569, 1147, 2294, 389, 778, 1556, 3112, 2105, 27, 54, 108, 216, 432, 864, 1728, 3456, 2921, 1723, 3446, 2693, 1379, 2758, 1509, 3018, 2045, 4090, 3997, 3923, 3791, 3575, 2951, 1895, 3790, 3573, 2947, 1903, 3806, 3541, 3011, 2031, 4062, 4053, 4035, 4079, 4023, 3847, 3687, 3239, 2343, 551, 1102, 2204, 337, 674, 1348, 2696, 1401, 2802, 1421, 2842, 1629, 3258, 2333, 595, 1190, 2380, 753, 1506, 3012, 2017, 4034, 4077, 4019, 3855, 3703, 3207, 2407, 679, 1358, 2716, 1361, 2722, 1325, 2650, 1245, 2490, 797, 1594, 3188, 2177, 363, 726, 1452, 2904, 1753, 3506, 2829, 1651, 3302, 2469, 803, 1606, 3212, 2417, 651, 1302, 2604, 1073, 2146, 173, 346, 692, 1384, 2768, 1481, 2962, 1869, 3738, 3421, 2771, 1487, 2974, 1877, 3754, 3389, 2579, 1103, 2206, 341, 682, 1364, 2728, 1337, 2674, 1165, 2330, 605, 1210, 2420, 641, 1282, 2564, 1121, 2242, 493, 986, 1972, 3944, 3769, 3355, 2655, 1239, 2478, 821, 1642, 3284, 2497, 1003, 2006, 4012, 3889, 3595, 3199, 2199, 327, 654, 1308, 2616, 1049, 2098, 13, 26, 52, 104, 208, 416, 832, 1664, 3328, 2665, 1211, 2422, 645, 1290, 2580, 1089, 2178, 365, 730, 1460, 2920, 1721, 3442, 2701, 1395, 2790, 1445, 2890, 1789, 3578, 2973, 1875, 3750, 3365, 2595, 1071, 2142, 213, 426, 852, 1704, 3408, 2761, 1531, 3062, 1925, 3850, 3709, 3219, 2383, 759, 1518, 3036, 2001, 4002, 3885, 3635, 3087, 2167, 135, 270, 540, 1080, 2160, 137, 274, 548, 1096, 2192, 329, 658, 1316, 2632, 1273, 2546, 909, 1818, 3636, 3073, 2155, 191, 382, 764, 1528, 3056, 1929, 3858, 3661, 3315, 2447, 887, 1774, 3548, 3025, 1995, 3990, 3909, 3811, 3503, 2871, 1543, 3086, 2165, 131, 262, 524, 1048, 2096, 9, 18, 36, 72, 144, 288, 576, 1152, 2304, 617, 1234, 2468, 801, 1602, 3204, 2401, 683, 1366, 2732, 1329, 2658, 1197, 2394, 733, 1466, 2932, 1665, 3330, 2669, 1203, 2406, 677, 1354, 2708, 1345, 2690, 1389, 2778, 1501, 3002, 1821, 3642, 3101, 2131, 207, 414, 828, 1656, 3312, 2441, 891, 1782, 3564, 2993, 1803, 3606, 3141, 2275, 431, 862, 1724, 3448, 2713, 1371, 2742, 1285, 2570, 1149, 2298, 413, 826, 1652, 3304, 2489, 795, 1590, 3180, 2225, 267, 534, 1068, 2136, 217, 434, 868, 1736, 3472, 2889, 1787, 3574, 2949, 1891, 3782, 3557, 2979, 1839, 3678, 3285, 2499, 1007, 2014, 4028, 3857, 3659, 3327, 2455, 839, 1678, 3356, 2641, 1227, 2454, 837, 1674, 3348, 2625, 1259, 2518, 965, 1930, 3860, 3649, 3307, 2495, 791, 1582, 3164, 2257, 459, 918, 1836, 3672, 3289, 2523, 991, 1982, 3964, 3729, 3403, 2815, 1431, 2862, 1589, 3178, 2237, 275, 550, 1100, 2200, 345, 690, 1380, 2760, 1529, 3058, 1933, 3866, 3677, 3283, 2511, 1015, 2030, 4060, 4049, 4043, 4095, 3991, 3911, 3815, 3495, 2855, 1575, 3150, 2293, 387, 774, 1548, 3096, 2137, 219, 438, 876, 1752, 3504, 2825, 1659, 3318, 2437, 867, 1734, 3468, 2929, 1675, 3350, 2629, 1251, 2502, 997, 1994, 3988, 3905, 3819, 3519, 2839, 1607, 3214, 2421, 643, 1286, 2572, 1137, 2274, 429, 858, 1716, 3432, 2745, 1307, 2614, 1029, 2058, 125, 250, 500, 1000, 2000, 4000, 3881, 3643, 3103, 2135, 199, 398, 796, 1592, 3184, 2185, 379, 758, 1516, 3032, 2009, 4018, 3853, 3699, 3215, 2423, 647, 1294, 2588, 1105, 2210, 301, 602, 1204, 2408, 697, 1394, 2788, 1441, 2882, 1773, 3546, 3037, 2003, 4006, 3877, 3619, 3119, 2103, 7, 14, 28, 56, 112, 224, 448, 896, 1792, 3584, 3177, 2235, 287, 574, 1148, 2296, 409, 818, 1636, 3272, 2553, 923, 1846, 3692, 3249, 2315, 639, 1278, 2556, 913, 1826, 3652, 3297, 2475, 831, 1662, 3324, 2449, 843, 1686, 3372, 2609, 1035, 2070, 69, 138, 276, 552, 1104, 2208, 297, 594, 1188, 2376, 761, 1522, 3044, 1953, 3906, 3821, 3507, 2831, 1655, 3310, 2485, 771, 1542, 3084, 2161, 139, 278, 556, 1112, 2224, 265, 530, 1060, 2120, 249, 498, 996, 1992, 3984, 3913, 3835, 3487, 2903, 1735, 3470, 2933, 1667, 3334, 2661, 1187, 2374, 741, 1482, 2964, 1857, 3714, 3437, 2739, 1295, 2590, 1109, 2218, 317, 634, 1268, 2536, 953, 1906, 3812, 3489, 2859, 1599, 3198, 2197, 323, 646, 1292, 2584, 1113, 2226, 269, 538, 1076, 2152, 185, 370, 740, 1480, 2960, 1865, 3730, 3405, 2803, 1423, 2846, 1621, 3242, 2365, 531, 1062, 2124, 241, 482, 964, 1928, 3856, 3657, 3323, 2463, 855, 1710, 3420, 2769, 1483, 2966, 1861, 3722, 3453, 2707, 1359, 2718, 1365, 2730, 1341, 2682, 1181, 2362, 541, 1082, 2164, 129, 258, 516, 1032, 2064, 73, 146, 292, 584, 1168, 2336, 553, 1106, 2212, 289, 578, 1156, 2312, 633, 1266, 2532, 929, 1858, 3716, 3425, 2731, 1343, 2686, 1173, 2346, 573, 1146, 2292, 385, 770, 1540, 3080, 2169, 155, 310, 620, 1240, 2480, 777, 1554, 3108, 2081, 43, 86, 172, 344, 688, 1376, 2752, 1513, 3026, 1997, 3994, 3933, 3795, 3535, 3063, 1927, 3854, 3701, 3203, 2415, 695, 1390, 2780, 1489, 2978, 1837, 3674, 3293, 2515, 975, 1950, 3900, 3601, 3147, 2303, 407, 814, 1628, 3256, 2329, 603, 1206, 2412, 689, 1378, 2756, 1505, 3010, 2029, 4058, 4061, 4051, 4047, 4087, 3975, 3943, 3751, 3367, 2599, 1063, 2126, 245, 490, 980, 1960, 3920, 3785, 3579, 2975, 1879, 3758, 3381, 2563, 1135, 2270, 469, 938, 1876, 3752, 3385, 2587, 1119, 2238, 277, 554, 1108, 2216, 313, 626, 1252, 2504, 1017, 2034, 4068, 4001, 3883, 3647, 3095, 2119, 231, 462, 924, 1848, 3696, 3209, 2427, 671, 1342, 2684, 1169, 2338, 557, 1114, 2228, 257, 514, 1028, 2056, 121, 242, 484, 968, 1936, 3872, 3625, 3131, 2079, 87, 174, 348, 696, 1392, 2784, 1449, 2898, 1741, 3482, 2909, 1747, 3494, 2853, 1571, 3142, 2277, 419, 838, 1676, 3352, 2649, 1243, 2486, 773, 1546, 3092, 2113, 235, 470, 940, 1880, 3760, 3337, 2683, 1183, 2366, 533, 1066, 2132, 193, 386, 772, 1544, 3088, 2121, 251, 502, 1004, 2008, 4016, 3849, 3707, 3231, 2391, 711, 1422, 2844, 1617, 3234, 2349, 563, 1126, 2252, 497, 994, 1988, 3976, 3961, 3739, 3423, 2775, 1479, 2958, 1909, 3818, 3517, 2835, 1615, 3230, 2389, 707, 1414, 2828, 1649, 3298, 2477, 819, 1638, 3276, 2545, 907, 1814, 3628, 3121, 2059, 127, 254, 508, 1016, 2032, 4064, 4009, 3899, 3615, 3159, 2247, 487, 974, 1948, 3896, 3609, 3163, 2271, 471, 942, 1884, 3768, 3353, 2651, 1247, 2494, 789, 1578, 3156, 2241, 491, 982, 1964, 3928, 3801, 3547, 3039, 2007, 4014, 3893, 3587, 3183, 2231, 263, 526, 1052, 2104, 25, 50, 100, 200, 400, 800, 1600, 3200, 2409, 699, 1398, 2796, 1457, 2914, 1709, 3418, 2781, 1491, 2982, 1829, 3658, 3325, 2451, 847, 1694, 3388, 2577, 1099, 2198, 325, 650, 1300, 2600, 1081, 2162, 141, 282, 564, 1128, 2256, 457, 914, 1828, 3656, 3321, 2459, 863, 1726, 3452, 2705, 1355, 2710, 1349, 2698, 1405, 2810, 1437, 2874, 1565, 3130, 2077, 83, 166, 332, 664, 1328, 2656, 1193, 2386, 717, 1434, 2868, 1537, 3074, 2157, 179, 358, 716, 1432, 2864, 1545, 3090, 2125, 243, 486, 972, 1944, 3888, 3593, 3195, 2207, 343, 686, 1372, 2744, 1305, 2610, 1037, 2074, 93, 186, 372, 744, 1488, 2976, 1833, 3666, 3277, 2547, 911, 1822, 3644, 3089, 2123, 255, 510, 1020, 2040, 4080, 3977, 3963, 3743, 3415, 2759, 1511, 3022, 2037, 4074, 4029, 3859, 3663, 3319, 2439, 871, 1742, 3484, 2897, 1739, 3478, 2885, 1763, 3526, 3045, 1955, 3910, 3813, 3491, 2863, 1591, 3182, 2229, 259, 518, 1036, 2072, 89, 178, 356, 712, 1424, 2848, 1577, 3154, 2253, 499, 998, 1996, 3992, 3929, 3803, 3551, 3031, 1991, 3982, 3957, 3715, 3439, 2743, 1287, 2574, 1141, 2282, 445, 890, 1780, 3560, 3001, 1819, 3638, 3077, 2147, 175, 350, 700, 1400, 2800, 1417, 2834, 1613, 3226, 2397, 723, 1446, 2892, 1777, 3554, 2989, 1843, 3686, 3237, 2339, 559, 1118, 2236, 273, 546, 1092, 2184, 377, 754, 1508, 3016, 2041, 4082, 3981, 3955, 3727, 3447, 2695, 1383, 2766, 1525, 3050, 1981, 3962, 3741, 3411, 2767, 1527, 3054, 1973, 3946, 3773, 3347, 2639, 1271, 2542, 949, 1898, 3796, 3521, 3051, 1983, 3966, 3733, 3395, 2799, 1463, 2926, 1717, 3434, 2749, 1299, 2598, 1061, 2122, 253, 506, 1012, 2024, 4048, 4041, 4091, 3999, 3927, 3783, 3559, 2983, 1831, 3662, 3317, 2435, 879, 1758, 3516, 2833, 1611, 3222, 2373, 739, 1478, 2956, 1905, 3810, 3501, 2867, 1551, 3102, 2133, 195, 390, 780, 1560, 3120, 2057, 123, 246, 492, 984, 1968, 3936, 3753, 3387, 2591, 1111, 2222, 309, 618, 1236, 2472, 825, 1650, 3300, 2465, 811, 1622, 3244, 2353, 523, 1046, 2092, 49, 98, 196, 392, 784, 1568, 3136, 2281, 443, 886, 1772, 3544, 3033, 2011, 4022, 3845, 3683, 3247, 2359, 519, 1038, 2076, 81, 162, 324, 648, 1296, 2592, 1065, 2130, 205, 410, 820, 1640, 3280, 2505, 1019, 2038, 4076, 4017, 3851, 3711, 3223, 2375, 743, 1486, 2972, 1873, 3746, 3373, 2611, 1039, 2078, 85, 170, 340, 680, 1360, 2720, 1321, 2642, 1229, 2458, 861, 1722, 3444, 2689, 1387, 2774, 1477, 2954, 1917, 3834, 3485, 2899, 1743, 3486, 2901, 1731, 3462, 2917, 1699, 3398, 2789, 1443, 2886, 1765, 3530, 3069, 1939, 3878, 3621, 3107, 2095, 55, 110, 220, 440, 880, 1760, 3520, 3049, 1979, 3958, 3717, 3427, 2735, 1335, 2670, 1205, 2410, 701, 1402, 2804, 1409, 2818, 1645, 3290, 2525, 979, 1958, 3916, 3825, 3467, 2943, 1687, 3374, 2613, 1027, 2054, 101, 202, 404, 808, 1616, 3232, 2345, 571, 1142, 2284, 433, 866, 1732, 3464, 2937, 1691, 3382, 2565, 1123, 2246, 485, 970, 1940, 3880, 3641, 3099, 2143, 215, 430, 860, 1720, 3440, 2697, 1403, 2806, 1413, 2826, 1661, 3322, 2461, 851, 1702, 3404, 2801, 1419, 2838, 1605, 3210, 2429, 659, 1318, 2636, 1265, 2530, 941, 1882, 3764, 3329, 2667, 1215, 2430, 661, 1322, 2644, 1217, 2434, 877, 1754, 3508, 2817, 1643, 3286, 2501, 995, 1990, 3980, 3953, 3723, 3455, 2711, 1351, 2702, 1397, 2794, 1469, 2938, 1693, 3386, 2589, 1107, 2214, 293, 586, 1172, 2344, 569, 1138, 2276, 417, 834, 1668, 3336, 2681, 1179, 2358, 517, 1034, 2068, 65, 130, 260, 520, 1040, 2080, 41, 82, 164, 328, 656, 1312, 2624, 1257, 2514, 973, 1946, 3892, 3585, 3179, 2239, 279, 558, 1116, 2232, 281, 562, 1124, 2248, 505, 1010, 2020, 4040, 4089, 3995, 3935, 3799, 3527, 3047, 1959, 3918, 3829, 3459, 2927, 1719, 3438, 2741, 1283, 2566, 1125, 2250, 509, 1018, 2036, 4072, 4025, 3867, 3679, 3287, 2503, 999, 1998, 3996, 3921, 3787, 3583, 2967, 1863, 3726, 3445, 2691, 1391, 2782, 1493, 2986, 1853, 3706, 3229, 2387, 719, 1438, 2876, 1553, 3106, 2093, 51, 102, 204, 408, 816, 1632, 3264, 2537, 955, 1910, 3820, 3505, 2827, 1663, 3326, 2453, 835, 1670, 3340, 2673, 1163, 2326, 581, 1162, 2324, 577, 1154, 2308, 609, 1218, 2436, 865, 1730, 3460, 2913, 1707, 3414, 2757, 1507, 3014, 2021, 4042, 4093, 3987, 3919, 3831, 3463, 2919, 1703, 3406, 2805, 1411, 2822, 1637, 3274, 2557, 915, 1830, 3660, 3313, 2443, 895, 1790, 3580, 2961, 1867, 3734, 3397, 2787, 1455, 2910, 1749, 3498, 2877, 1555, 3110, 2085, 35, 70, 140, 280, 560, 1120, 2240, 489, 978, 1956, 3912, 3833, 3483, 2911, 1751, 3502, 2869, 1539, 3078, 2149, 163, 326, 652, 1304, 2608, 1033, 2066, 77, 154, 308, 616, 1232, 2464, 809, 1618, 3236, 2337, 555, 1110, 2220, 305, 610, 1220, 2440, 889, 1778, 3556, 2977, 1835, 3670, 3269, 2531, 943, 1886, 3772, 3345, 2635, 1279, 2558, 917, 1834, 3668, 3265, 2539, 959, 1918, 3836, 3473, 2891, 1791, 3582, 2965, 1859, 3718, 3429, 2723, 1327, 2654, 1237, 2474, 829, 1658, 3316, 2433, 875, 1750, 3500, 2865, 1547, 3094, 2117, 227, 454, 908, 1816, 3632, 3081, 2171, 159, 318, 636, 1272, 2544, 905, 1810, 3620, 3105, 2091, 63, 126, 252, 504, 1008, 2016, 4032, 4073, 4027, 3871, 3671, 3271, 2535, 935, 1870, 3740, 3409, 2763, 1535, 3070, 1941, 3882, 3645, 3091, 2127, 247, 494, 988, 1976, 3952, 3721, 3451, 2719, 1367, 2734, 1333, 2666, 1213, 2426, 669, 1338, 2676, 1153, 2306, 621, 1242, 2484, 769, 1538, 3076, 2145, 171, 342, 684, 1368, 2736, 1289, 2578, 1101, 2202, 349, 698, 1396, 2792, 1465, 2930, 1677, 3354, 2653, 1235, 2470, 805, 1610, 3220, 2369, 747, 1494, 2988, 1841, 3682, 3245, 2355, 527, 1054, 2108, 17, 34, 68, 136, 272, 544, 1088, 2176, 361, 722, 1444, 2888, 1785, 3570, 2957, 1907, 3814, 3493, 2851, 1583, 3166, 2261, 451, 902, 1804, 3608, 3161, 2267, 479, 958, 1916, 3832, 3481, 2907, 1759, 3518, 2837, 1603, 3206, 2405, 675, 1350, 2700, 1393, 2786, 1453, 2906, 1757, 3514, 2845, 1619, 3238, 2341, 547, 1094, 2188, 369, 738, 1476, 2952, 1913, 3826, 3469, 2931, 1679, 3358, 2645, 1219, 2438, 869, 1738, 3476, 2881, 1771, 3542, 3013, 2019, 4038, 4069, 4003, 3887, 3639, 3079, 2151, 167, 334, 668, 1336, 2672, 1161, 2322, 589, 1178, 2356, 513, 1026, 2052, 97, 194, 388, 776, 1552, 3104, 2089, 59, 118, 236, 472, 944, 1888, 3776, 3561, 3003, 1823, 3646, 3093, 2115, 239, 478, 956, 1912, 3824, 3465, 2939, 1695, 3390, 2581, 1091, 2182, 357, 714, 1428, 2856, 1593, 3186, 2189, 371, 742, 1484, 2968, 1881, 3762, 3341, 2675, 1167, 2334, 597, 1194, 2388, 705, 1410, 2820, 1633, 3266, 2541, 947, 1894, 3788, 3569, 2955, 1919, 3838, 3477, 2883, 1775, 3550, 3029, 1987, 3974, 3941, 3747, 3375, 2615, 1031, 2062, 117, 234, 468, 936, 1872, 3744, 3369, 2619, 1055, 2110, 21, 42, 84, 168, 336, 672, 1344, 2688, 1385, 2770, 1485, 2970, 1885, 3770, 3357, 2643, 1231, 2462, 853, 1706, 3412, 2753, 1515, 3030, 1989, 3978, 3965, 3731, 3407, 2807, 1415, 2830, 1653, 3306, 2493, 787, 1574, 3148, 2289, 395, 790, 1580, 3160, 2265, 475, 950, 1900, 3800, 3545, 3035, 2015, 4030, 3861, 3651, 3311, 2487, 775, 1550, 3100, 2129, 203, 406, 812, 1624, 3248, 2313, 635, 1270, 2540, 945, 1890, 3780, 3553, 2987, 1855, 3710, 3221, 2371, 751, 1502, 3004, 1809, 3618, 3117, 2099, 15, 30, 60, 120, 240, 480, 960, 1920, 3840, 3689, 3259, 2335, 599, 1198, 2396, 721, 1442, 2884, 1761, 3522, 3053, 1971, 3942, 3749, 3363, 2607, 1079, 2158, 181, 362, 724, 1448, 2896, 1737, 3474, 2893, 1779, 3558, 2981, 1827, 3654, 3301, 2467, 815, 1630, 3260, 2321, 587, 1174, 2348, 561, 1122, 2244, 481, 962, 1924, 3848, 3705, 3227, 2399, 727, 1454, 2908, 1745, 3490, 2861, 1587, 3174, 2213, 291, 582, 1164, 2328, 601, 1202, 2404, 673, 1346, 2692, 1377, 2754, 1517, 3034, 2013, 4026, 3869, 3667, 3279, 2551, 903, 1806, 3612, 3153, 2251, 511, 1022, 2044, 4088, 3993, 3931, 3807, 3543, 3015, 2023, 4046, 4085, 3971, 3951, 3767, 3335, 2663, 1191, 2382, 757, 1514, 3028, 1985, 3970, 3949, 3763, 3343, 2679, 1159, 2318, 629, 1258, 2516, 961, 1922, 3844, 3681, 3243, 2367, 535, 1070, 2140, 209, 418, 836, 1672, 3344, 2633, 1275, 2550, 901, 1802, 3604, 3137, 2283, 447, 894, 1788, 3576, 2969, 1883, 3766, 3333, 2659, 1199, 2398, 725, 1450, 2900, 1729, 3458, 2925, 1715, 3430, 2725, 1315, 2630, 1253, 2506, 1021, 2042, 4084, 3969, 3947, 3775, 3351, 2631, 1255, 2510, 1013, 2026, 4052, 4033, 4075, 4031, 3863, 3655, 3303, 2471, 807, 1614, 3228, 2385, 715, 1430, 2860, 1585, 3170, 2221, 307, 614, 1228, 2456, 857, 1714, 3428, 2721, 1323, 2646, 1221, 2442, 893, 1786, 3572, 2945, 1899, 3798, 3525, 3043, 1967, 3934, 3797, 3523, 3055, 1975, 3950, 3765, 3331, 2671, 1207, 2414, 693, 1386, 2772, 1473, 2946, 1901, 3802, 3549, 3027, 1999, 3998, 3925, 3779, 3567, 2999, 1799, 3598, 3189, 2179, 367, 734, 1468, 2936, 1689, 3378, 2573, 1139, 2278, 421, 842, 1684, 3368, 2617, 1051, 2102, 5, 10, 20, 40, 80, 160, 320, 640, 1280, 2560, 1129, 2258, 461, 922, 1844, 3688, 3257, 2331, 607, 1214, 2428, 657, 1314, 2628, 1249, 2498, 1005, 2010, 4020, 3841, 3691, 3263, 2327, 583, 1166, 2332, 593, 1186, 2372, 737, 1474, 2948, 1889, 3778, 3565, 2995, 1807, 3614, 3157, 2243, 495, 990, 1980, 3960, 3737, 3419, 2783, 1495, 2990, 1845, 3690, 3261, 2323, 591, 1182, 2364, 529, 1058, 2116, 225, 450, 900, 1800, 3600, 3145, 2299, 415, 830, 1660, 3320, 2457, 859, 1718, 3436, 2737, 1291, 2582, 1093, 2186, 381, 762, 1524, 3048, 1977, 3954, 3725, 3443, 2703, 1399, 2798, 1461, 2922, 1725, 3450, 2717, 1363, 2726, 1317, 2634, 1277, 2554, 925, 1850, 3700, 3201, 2411, 703, 1406, 2812, 1425, 2850, 1581, 3162, 2269, 467, 934, 1868, 3736, 3417, 2779, 1503, 3006, 1813, 3626, 3133, 2067, 79, 158, 316, 632, 1264, 2528, 937, 1874, 3748, 3361, 2603, 1087, 2174, 149, 298, 596, 1192, 2384, 713, 1426, 2852, 1569, 3138, 2285, 435, 870, 1740, 3480, 2905, 1755, 3510, 2821, 1635, 3270, 2533, 931, 1862, 3724, 3441, 2699, 1407, 2814, 1429, 2858, 1597, 3194, 2205, 339, 678, 1356, 2712, 1369, 2738, 1293, 2586, 1117, 2234, 285, 570, 1140, 2280, 441, 882, 1764, 3528, 3065, 1947, 3894, 3589, 3171, 2223, 311, 622, 1244, 2488, 793, 1586, 3172, 2209, 299, 598, 1196, 2392, 729, 1458, 2916, 1697, 3394, 2797, 1459, 2918, 1701, 3402, 2813, 1427, 2854, 1573, 3146, 2301, 403, 806, 1612, 3224, 2393, 731, 1462, 2924, 1713, 3426, 2733, 1331, 2662, 1189, 2378, 765, 1530, 3060, 1921, 3842, 3693, 3251, 2319, 631, 1262, 2524, 977, 1954, 3908, 3809, 3499, 2879, 1559, 3118, 2101, 3, 6, 12, 24, 48, 96, 192, 384, 768, 1536, 3072, 2153, 187, 374, 748, 1496, 2992, 1801, 3602, 3149, 2291, 399, 798, 1596, 3192, 2201, 347, 694, 1388, 2776, 1497, 2994, 1805, 3610, 3165, 2259, 463, 926, 1852, 3704, 3225, 2395, 735, 1470, 2940, 1681, 3362, 2605, 1075, 2150, 165, 330, 660, 1320, 2640, 1225, 2450, 845, 1690, 3380, 2561, 1131, 2262, 453, 906, 1812, 3624, 3129, 2075, 95, 190, 380, 760, 1520, 3040, 1961, 3922, 3789, 3571, 2959, 1911, 3822, 3509, 2819, 1647, 3294, 2517, 963, 1926, 3852, 3697, 3211, 2431, 663, 1326, 2652, 1233, 2466, 813, 1626, 3252, 2305, 619, 1238, 2476, 817, 1634, 3268, 2529, 939, 1878, 3756, 3377, 2571, 1151, 2302, 405, 810, 1620, 3240, 2361, 539, 1078, 2156, 177, 354, 708, 1416, 2832, 1609, 3218, 2381, 755, 1510, 3020, 2033, 4066, 4013, 3891, 3599, 3191, 2183, 359, 718, 1436, 2872, 1561, 3122, 2061, 115, 230, 460, 920, 1840, 3680, 3241, 2363, 543, 1086, 2172, 145, 290, 580, 1160, 2320, 585, 1170, 2340, 545, 1090, 2180, 353, 706, 1412, 2824, 1657, 3314, 2445, 883, 1766, 3532, 3057, 1931, 3862, 3653, 3299, 2479, 823, 1646, 3292, 2513, 971, 1942, 3884, 3633, 3083, 2175, 151, 302, 604, 1208, 2416, 649, 1298, 2596, 1057, 2114, 237, 474, 948, 1896, 3792, 3529, 3067, 1951, 3902, 3605, 3139, 2287, 439, 878, 1756, 3512, 2841, 1627, 3254, 2309, 611, 1222, 2444, 881, 1762, 3524, 3041, 1963, 3926, 3781, 3555, 2991, 1847, 3694, 3253, 2307, 623, 1246, 2492, 785, 1570, 3140, 2273, 427, 854, 1708, 3416, 2777, 1499, 2998, 1797, 3594, 3197, 2195, 335, 670, 1340, 2680, 1177, 2354, 525, 1050, 2100, 1, 2, 4, 8, 16, 32, 64, 128, 256, 512, 1024, 2048, 105, 210, 420, 840, 1680, 3360, 2601, 1083, 2166, 133, 266, 532, 1064, 2128, 201, 402, 804, 1608, 3216, 2377, 763, 1526, 3052, 1969, 3938, 3757, 3379, 2575, 1143, 2286, 437, 874, 1748, 3496, 2873, 1563, 3126, 2053, 99, 198, 396, 792, 1584, 3168, 2217, 315, 630, 1260, 2520, 985, 1970, 3940, 3745, 3371, 2623, 1047, 2094, 53, 106, 212, 424, 848, 1696, 3392, 2793, 1467, 2934, 1669, 3338, 2685, 1171, 2342, 549, 1098, 2196, 321, 642, 1284, 2568, 1145, 2290, 397, 794, 1588, 3176, 2233, 283, 566, 1132, 2264, 473, 946, 1892, 3784, 3577, 2971, 1887, 3774, 3349, 2627, 1263, 2526, 981, 1962, 3924, 3777, 3563, 3007, 1815, 3630, 3125, 2051, 111, 222, 444, 888, 1776, 3552, 2985, 1851, 3702, 3205, 2403, 687, 1374, 2748, 1297, 2594, 1069, 2138, 221, 442, 884, 1768, 3536, 3017, 2043, 4086, 3973, 3939, 3759, 3383, 2567, 1127, 2254, 501, 1002, 2004, 4008, 3897, 3611, 3167, 2263, 455, 910, 1820, 3640, 3097, 2139, 223, 446, 892, 1784, 3568, 2953, 1915, 3830, 3461, 2915, 1711, 3422, 2773, 1475, 2950, 1893, 3786, 3581, 2963, 1871, 3742, 3413, 2755, 1519, 3038, 2005, 4010, 3901, 3603, 3151, 2295, 391, 782, 1564, 3128, 2073, 91, 182, 364, 728, 1456, 2912, 1705, 3410, 2765, 1523, 3046, 1957, 3914, 3837, 3475, 2895, 1783, 3566, 2997, 1795, 3590, 3173, 2211, 303, 606, 1212, 2424, 665, 1330, 2660, 1185, 2370, 749, 1498, 2996, 1793, 3586, 3181, 2227, 271, 542, 1084, 2168, 153, 306, 612, 1224, 2448, 841, 1682, 3364, 2593, 1067, 2134, 197, 394, 788, 1576, 3152, 2249, 507, 1014, 2028, 4056, 4057, 4059, 4063, 4055, 4039, 4071, 4007, 3879, 3623, 3111, 2087, 39, 78, 156, 312, 624, 1248, 2496, 1001, 2002, 4004, 3873, 3627, 3135, 2071, 71, 142, 284, 568, 1136, 2272, 425, 850, 1700, 3400, 2809, 1435, 2870, 1541, 3082, 2173, 147, 294, 588, 1176, 2352, 521, 1042, 2084, 33, 66, 132, 264, 528, 1056, 2112, 233, 466, 932, 1864, 3728, 3401, 2811, 1439, 2878, 1557, 3114, 2109, 19, 38, 76, 152, 304, 608, 1216, 2432, 873, 1746, 3492, 2849, 1579, 3158, 2245, 483, 966, 1932, 3864, 3673, 3291, 2527, 983, 1966, 3932, 3793, 3531, 3071, 1943, 3886, 3637, 3075, 2159, 183, 366, 732, 1464, 2928, 1673, 3346, 2637, 1267, 2534, 933, 1866, 3732, 3393, 2795, 1471, 2942, 1685, 3370, 2621, 1043, 2086, 37, 74, 148, 296, 592, 1184, 2368, 745, 1490, 2980, 1825, 3650, 3309, 2483, 783, 1566, 3132, 2065, 75, 150, 300, 600, 1200, 2400, 681, 1362, 2724, 1313, 2626, 1261, 2522, 989, 1978, 3956, 3713, 3435, 2751, 1303, 2606, 1077, 2154, 189, 378, 756, 1512, 3024, 1993, 3986, 3917, 3827, 3471, 2935, 1671, 3342, 2677, 1155, 2310, 613, 1226, 2452, 833, 1666, 3332, 2657, 1195, 2390, 709, 1418, 2836, 1601, 3202, 2413, 691, 1382, 2764, 1521, 3042, 1965, 3930, 3805, 3539, 3023, 2039, 4078, 4021, 3843, 3695, 3255, 2311, 615, 1230, 2460, 849, 1698, 3396, 2785, 1451, 2902, 1733, 3466, 2941, 1683, 3366, 2597, 1059, 2118, 229, 458, 916, 1832, 3664, 3273, 2555, 927, 1854, 3708, 3217, 2379, 767, 1534, 3068, 1937, 3874, 3629, 3123, 2063, 119, 238, 476, 952, 1904, 3808, 3497, 2875, 1567, 3134, 2069, 67, 134, 268, 536, 1072, 2144, 169, 338, 676, 1352, 2704, 1353, 2706, 1357, 2714, 1373, 2746, 1309, 2618, 1053, 2106, 29, 58, 116, 232, 464, 928, 1856, 3712, 3433, 2747, 1311, 2622, 1045, 2090, 61, 122, 244, 488, 976, 1952, 3904, 3817, 3515, 2847, 1623, 3246, 2357, 515, 1030, 2060, 113, 226, 452, 904, 1808, 3616, 3113, 2107, 31, 62, 124, 248, 496, 992, 1984, 3968, 3945, 3771, 3359, 2647, 1223, 2446, 885, 1770, 3540, 3009, 2027, 4054, 4037, 4067, 4015, 3895, 3591, 3175, 2215, 295, 590, 1180, 2360, 537, 1074, 2148, 161, 322, 644, 1288, 2576, 1097, 2194, 333, 666, 1332, 2664, 1209, 2418, 653, 1306, 2612, 1025, 2050, 109, 218, 436, 872, 1744, 3488, 2857, 1595, 3190, 2181, 355, 710, 1420, 2840, 1625, 3250, 2317, 627, 1254, 2508, 1009, 2018, 4036, 4065, 4011, 3903, 3607, 3143, 2279, 423, 846, 1692, 3384, 2585, 1115, 2230, 261, 522, 1044, 2088, 57, 114, 228, 456, 912, 1824, 3648, 3305, 2491, 799, 1598, 3196, 2193, 331, 662, 1324, 2648, 1241, 2482, 781, 1562, 3124, 2049, 107, 214, 428, 856, 1712, 3424, 2729, 1339, 2678, 1157, 2314, 637, 1274, 2548, 897, 1794, 3588, 3169, 2219, 319, 638, 1276, 2552, 921, 1842, 3684, 3233, 2347, 575, 1150, 2300, 401, 802, 1604, 3208, 2425, 667, 1334, 2668, 1201, 2402, 685, 1370, 2740, 1281, 2562, 1133, 2266, 477, 954, 1908, 3816, 3513, 2843, 1631, 3262, 2325, 579, 1158, 2316, 625, 1250, 2500, 993, 1986, 3972, 3937, 3755, 3391, 2583, 1095, 2190, 373, 746, 1492, 2984, 1849, 3698, 3213, 2419, 655, 1310, 2620, 1041, 2082, 45, 90, 180, 360, 720, 1440, 2880, 1769, 3538, 3021, 2035, 4070, 4005, 3875, 3631, 3127, 2055, 103, 206, 412, 824, 1648, 3296, 2473, 827, 1654, 3308, 2481, 779, 1558, 3116, 2097, 11, 22, 44, 88, 176, 352, 704, 1408, 2816, 1641, 3282, 2509, 1011, 2022, 4044, 4081, 3979, 3967, 3735, 3399, 2791, 1447, 2894, 1781, 3562, 3005, 1811, 3622, 3109, 2083, 47, 94, 188, 376, 752, 1504, 3008, 2025, 4050, 4045, 4083, 3983, 3959, 3719, 3431, 2727, 1319, 2638, 1269, 2538, 957, 1914, 3828, 3457, 2923, 1727, 3454, 2709, 1347, 2694, 1381, 2762, 1533, 3066, 1949, 3898, 3613, 3155, 2255, 503, 1006, 2012, 4024, 3865, 3675, 3295, 2519, 967, 1934, 3868, 3665, 3275, 2559, 919, 1838, 3676, 3281, 2507, 1023, 2046, 4092, 3985, 3915, 3839, 3479, 2887, 1767, 3534, 3061, 1923, 3846, 3685, 3235, 2351, 567, 1134, 2268, 465, 930, 1860, 3720, 3449, 2715, 1375, 2750, 1301, 2602, 1085, 2170, 157, 314, 628, 1256, 2512, 969, 1938, 3876, 3617, 3115, 2111, 23, 46, 92, 184, 368, 736, 1472, 2944, 1897, 3794, 3533, 3059, 1935, 3870, 3669, 3267, 2543, 951, 1902, 3804, 3537, 3019, 2047, 4094, 3989, 3907, 3823, 3511, 2823, 1639, 3278, 2549, 899, 1798, 3596, 3185, 2187, 383, 766, 1532, 3064, 1945, 3890, 3597, 3187, 2191, 375, 750, 1500, 3000, 1817, 3634, 3085, 2163, 143, 286, 572, 1144, 2288, 393, 786, 1572, 3144, 2297, 411, 822, 1644, 3288, 2521, 987, 1974, 3948, 3761, 3339, 2687, 1175, 2350, 565, 1130, 2260, 449, 898, 1796, 3592, 3193, 2203, 351, 702, 1404, 2808, 1433, 2866, 1549, 3098, 2141, 211, 422, 844, 1688, 3376, 2569, 1147, 2294, 389, 778, 1556, 3112, 2105, 27, 54, 108, 216, 432, 864, 1728, 3456, 2921, 1723, 3446, 2693, 1379, 2758, 1509, 3018, 2045, 4090, 3997, 3923, 3791, 3575, 2951, 1895, 3790, 3573, 2947, 1903, 3806, 3541, 3011, 2031, 4062, 4053, 4035, 4079, 4023, 3847, 3687, 3239, 2343, 551, 1102, 2204, 337, 674, 1348, 2696, 1401, 2802, 1421, 2842, 1629, 3258, 2333, 595, 1190, 2380, 753, 1506, 3012, 2017, 4034, 4077, 4019, 3855, 3703, 3207, 2407, 679, 1358, 2716, 1361, 2722, 1325, 2650, 1245, 2490, 797, 1594, 3188, 2177, 363, 726, 1452, 2904, 1753, 3506, 2829, 1651, 3302, 2469, 803, 1606, 3212, 2417, 651, 1302, 2604, 1073, 2146, 173, 346, 692, 1384, 2768, 1481, 2962, 1869, 3738, 3421, 2771, 1487, 2974, 1877, 3754, 3389, 2579, 1103, 2206, 341, 682, 1364, 2728, 1337, 2674, 1165, 2330, 605, 1210, 2420, 641, 1282, 2564, 1121, 2242, 493, 986, 1972, 3944, 3769, 3355, 2655, 1239, 2478, 821, 1642, 3284, 2497, 1003, 2006, 4012, 3889, 3595, 3199, 2199, 327, 654, 1308, 2616, 1049, 2098, 13, 26, 52, 104, 208, 416, 832, 1664, 3328, 2665, 1211, 2422, 645, 1290, 2580, 1089, 2178, 365, 730, 1460, 2920, 1721, 3442, 2701, 1395, 2790, 1445, 2890, 1789, 3578, 2973, 1875, 3750, 3365, 2595, 1071, 2142, 213, 426, 852, 1704, 3408, 2761, 1531, 3062, 1925, 3850, 3709, 3219, 2383, 759, 1518, 3036, 2001, 4002, 3885, 3635, 3087, 2167, 135, 270, 540, 1080, 2160, 137, 274, 548, 1096, 2192, 329, 658, 1316, 2632, 1273, 2546, 909, 1818, 3636, 3073, 2155, 191, 382, 764, 1528, 3056, 1929, 3858, 3661, 3315, 2447, 887, 1774, 3548, 3025, 1995, 3990, 3909, 3811, 3503, 2871, 1543, 3086, 2165, 131, 262, 524, 1048, 2096, 9, 18, 36, 72, 144, 288, 576, 1152, 2304, 617, 1234, 2468, 801, 1602, 3204, 2401, 683, 1366, 2732, 1329, 2658, 1197, 2394, 733, 1466, 2932, 1665, 3330, 2669, 1203, 2406, 677, 1354, 2708, 1345, 2690, 1389, 2778, 1501, 3002, 1821, 3642, 3101, 2131, 207, 414, 828, 1656, 3312, 2441, 891, 1782, 3564, 2993, 1803, 3606, 3141, 2275, 431, 862, 1724, 3448, 2713, 1371, 2742, 1285, 2570, 1149, 2298, 413, 826, 1652, 3304, 2489, 795, 1590, 3180, 2225, 267, 534, 1068, 2136, 217, 434, 868, 1736, 3472, 2889, 1787, 3574, 2949, 1891, 3782, 3557, 2979, 1839, 3678, 3285, 2499, 1007, 2014, 4028, 3857, 3659, 3327, 2455, 839, 1678, 3356, 2641, 1227, 2454, 837, 1674, 3348, 2625, 1259, 2518, 965, 1930, 3860, 3649, 3307, 2495, 791, 1582, 3164, 2257, 459, 918, 1836, 3672, 3289, 2523, 991, 1982, 3964, 3729, 3403, 2815, 1431, 2862, 1589, 3178, 2237, 275, 550, 1100, 2200, 345, 690, 1380, 2760, 1529, 3058, 1933, 3866, 3677, 3283, 2511, 1015, 2030, 4060, 4049, 4043, 4095, 3991, 3911, 3815, 3495, 2855, 1575, 3150, 2293, 387, 774, 1548, 3096, 2137, 219, 438, 876, 1752, 3504, 2825, 1659, 3318, 2437, 867, 1734, 3468, 2929, 1675, 3350, 2629, 1251, 2502, 997, 1994, 3988, 3905, 3819, 3519, 2839, 1607, 3214, 2421, 643, 1286, 2572, 1137, 2274, 429, 858, 1716, 3432, 2745, 1307, 2614, 1029, 2058, 125, 250, 500, 1000, 2000, 4000, 3881, 3643, 3103, 2135, 199, 398, 796, 1592, 3184, 2185, 379, 758, 1516, 3032, 2009, 4018, 3853, 3699, 3215, 2423, 647, 1294, 2588, 1105, 2210, 301, 602, 1204, 2408, 697, 1394, 2788, 1441, 2882, 1773, 3546, 3037, 2003, 4006, 3877, 3619, 3119, 2103, 7, 14, 28, 56, 112, 224, 448, 896, 1792, 3584, 3177, 2235, 287, 574, 1148, 2296, 409, 818, 1636, 3272, 2553, 923, 1846, 3692, 3249, 2315, 639, 1278, 2556, 913, 1826, 3652, 3297, 2475, 831, 1662, 3324, 2449, 843, 1686, 3372, 2609, 1035, 2070, 69, 138, 276, 552, 1104, 2208, 297, 594, 1188, 2376, 761, 1522, 3044, 1953, 3906, 3821, 3507, 2831, 1655, 3310, 2485, 771, 1542, 3084, 2161, 139, 278, 556, 1112, 2224, 265, 530, 1060, 2120, 249, 498, 996, 1992, 3984, 3913, 3835, 3487, 2903, 1735, 3470, 2933, 1667, 3334, 2661, 1187, 2374, 741, 1482, 2964, 1857, 3714, 3437, 2739, 1295, 2590, 1109, 2218, 317, 634, 1268, 2536, 953, 1906, 3812, 3489, 2859, 1599, 3198, 2197, 323, 646, 1292, 2584, 1113, 2226, 269, 538, 1076, 2152, 185, 370, 740, 1480, 2960, 1865, 3730, 3405, 2803, 1423, 2846, 1621, 3242, 2365, 531, 1062, 2124, 241, 482, 964, 1928, 3856, 3657, 3323, 2463, 855, 1710, 3420, 2769, 1483, 2966, 1861, 3722, 3453, 2707, 1359, 2718, 1365, 2730, 1341, 2682, 1181, 2362, 541, 1082, 2164, 129, 258, 516, 1032, 2064, 73, 146, 292, 584, 1168, 2336, 553, 1106, 2212, 289, 578, 1156, 2312, 633, 1266, 2532, 929, 1858, 3716, 3425, 2731, 1343, 2686, 1173, 2346, 573, 1146, 2292, 385, 770, 1540, 3080, 2169, 155, 310, 620, 1240, 2480, 777, 1554, 3108, 2081, 43, 86, 172, 344, 688, 1376, 2752, 1513, 3026, 1997, 3994, 3933, 3795, 3535, 3063, 1927, 3854, 3701, 3203, 2415, 695, 1390, 2780, 1489, 2978, 1837, 3674, 3293, 2515, 975, 1950, 3900, 3601, 3147, 2303, 407, 814, 1628, 3256, 2329, 603, 1206, 2412, 689, 1378, 2756, 1505, 3010, 2029, 4058, 4061, 4051, 4047, 4087, 3975, 3943, 3751, 3367, 2599, 1063, 2126, 245, 490, 980, 1960, 3920, 3785, 3579, 2975, 1879, 3758, 3381, 2563, 1135, 2270, 469, 938, 1876, 3752, 3385, 2587, 1119, 2238, 277, 554, 1108, 2216, 313, 626, 1252, 2504, 1017, 2034, 4068, 4001, 3883, 3647, 3095, 2119, 231, 462, 924, 1848, 3696, 3209, 2427, 671, 1342, 2684, 1169, 2338, 557, 1114, 2228, 257, 514, 1028, 2056, 121, 242, 484, 968, 1936, 3872, 3625, 3131, 2079, 87, 174, 348, 696, 1392, 2784, 1449, 2898, 1741, 3482, 2909, 1747, 3494, 2853, 1571, 3142, 2277, 419, 838, 1676, 3352, 2649, 1243, 2486, 773, 1546, 3092, 2113, 235, 470, 940, 1880, 3760, 3337, 2683, 1183, 2366, 533, 1066, 2132, 193, 386, 772, 1544, 3088, 2121, 251, 502, 1004, 2008, 4016, 3849, 3707, 3231, 2391, 711, 1422, 2844, 1617, 3234, 2349, 563, 1126, 2252, 497, 994, 1988, 3976, 3961, 3739, 3423, 2775, 1479, 2958, 1909, 3818, 3517, 2835, 1615, 3230, 2389, 707, 1414, 2828, 1649, 3298, 2477, 819, 1638, 3276, 2545, 907, 1814, 3628, 3121, 2059, 127, 254, 508, 1016, 2032, 4064, 4009, 3899, 3615, 3159, 2247, 487, 974, 1948, 3896, 3609, 3163, 2271, 471, 942, 1884, 3768, 3353, 2651, 1247, 2494, 789, 1578, 3156, 2241, 491, 982, 1964, 3928, 3801, 3547, 3039, 2007, 4014, 3893, 3587, 3183, 2231, 263, 526, 1052, 2104, 25, 50, 100, 200, 400, 800, 1600, 3200, 2409, 699, 1398, 2796, 1457, 2914, 1709, 3418, 2781, 1491, 2982, 1829, 3658, 3325, 2451, 847, 1694, 3388, 2577, 1099, 2198, 325, 650, 1300, 2600, 1081, 2162, 141, 282, 564, 1128, 2256, 457, 914, 1828, 3656, 3321, 2459, 863, 1726, 3452, 2705, 1355, 2710, 1349, 2698, 1405, 2810, 1437, 2874, 1565, 3130, 2077, 83, 166, 332, 664, 1328, 2656, 1193, 2386, 717, 1434, 2868, 1537, 3074, 2157, 179, 358, 716, 1432, 2864, 1545, 3090, 2125, 243, 486, 972, 1944, 3888, 3593, 3195, 2207, 343, 686, 1372, 2744, 1305, 2610, 1037, 2074, 93, 186, 372, 744, 1488, 2976, 1833, 3666, 3277, 2547, 911, 1822, 3644, 3089, 2123, 255, 510, 1020, 2040, 4080, 3977, 3963, 3743, 3415, 2759, 1511, 3022, 2037, 4074, 4029, 3859, 3663, 3319, 2439, 871, 1742, 3484, 2897, 1739, 3478, 2885, 1763, 3526, 3045, 1955, 3910, 3813, 3491, 2863, 1591, 3182, 2229, 259, 518, 1036, 2072, 89, 178, 356, 712, 1424, 2848, 1577, 3154, 2253, 499, 998, 1996, 3992, 3929, 3803, 3551, 3031, 1991, 3982, 3957, 3715, 3439, 2743, 1287, 2574, 1141, 2282, 445, 890, 1780, 3560, 3001, 1819, 3638, 3077, 2147, 175, 350, 700, 1400, 2800, 1417, 2834, 1613, 3226, 2397, 723, 1446, 2892, 1777, 3554, 2989, 1843, 3686, 3237, 2339, 559, 1118, 2236, 273, 546, 1092, 2184, 377, 754, 1508, 3016, 2041, 4082, 3981, 3955, 3727, 3447, 2695, 1383, 2766, 1525, 3050, 1981, 3962, 3741, 3411, 2767, 1527, 3054, 1973, 3946, 3773, 3347, 2639, 1271, 2542, 949, 1898, 3796, 3521, 3051, 1983, 3966, 3733, 3395, 2799, 1463, 2926, 1717, 3434, 2749, 1299, 2598, 1061, 2122, 253, 506, 1012, 2024, 4048, 4041, 4091, 3999, 3927, 3783, 3559, 2983, 1831, 3662, 3317, 2435, 879, 1758, 3516, 2833, 1611, 3222, 2373, 739, 1478, 2956, 1905, 3810, 3501, 2867, 1551, 3102, 2133, 195, 390, 780, 1560, 3120, 2057, 123, 246, 492, 984, 1968, 3936, 3753, 3387, 2591, 1111, 2222, 309, 618, 1236, 2472, 825, 1650, 3300, 2465, 811, 1622, 3244, 2353, 523, 1046, 2092, 49, 98, 196, 392, 784, 1568, 3136, 2281, 443, 886, 1772, 3544, 3033, 2011, 4022, 3845, 3683, 3247, 2359, 519, 1038, 2076, 81, 162, 324, 648, 1296, 2592, 1065, 2130, 205, 410, 820, 1640, 3280, 2505, 1019, 2038, 4076, 4017, 3851, 3711, 3223, 2375, 743, 1486, 2972, 1873, 3746, 3373, 2611, 1039, 2078, 85, 170, 340, 680, 1360, 2720, 1321, 2642, 1229, 2458, 861, 1722, 3444, 2689, 1387, 2774, 1477, 2954, 1917, 3834, 3485, 2899, 1743, 3486, 2901, 1731, 3462, 2917, 1699, 3398, 2789, 1443, 2886, 1765, 3530, 3069, 1939, 3878, 3621, 3107, 2095, 55, 110, 220, 440, 880, 1760, 3520, 3049, 1979, 3958, 3717, 3427, 2735, 1335, 2670, 1205, 2410, 701, 1402, 2804, 1409, 2818, 1645, 3290, 2525, 979, 1958, 3916, 3825, 3467, 2943, 1687, 3374, 2613, 1027, 2054, 101, 202, 404, 808, 1616, 3232, 2345, 571, 1142, 2284, 433, 866, 1732, 3464, 2937, 1691, 3382, 2565, 1123, 2246, 485, 970, 1940, 3880, 3641, 3099, 2143, 215, 430, 860, 1720, 3440, 2697, 1403, 2806, 1413, 2826, 1661, 3322, 2461, 851, 1702, 3404, 2801, 1419, 2838, 1605, 3210, 2429, 659, 1318, 2636, 1265, 2530, 941, 1882, 3764, 3329, 2667, 1215, 2430, 661, 1322, 2644, 1217, 2434, 877, 1754, 3508, 2817, 1643, 3286, 2501, 995, 1990, 3980, 3953, 3723, 3455, 2711, 1351, 2702, 1397, 2794, 1469, 2938, 1693, 3386, 2589, 1107, 2214, 293, 586, 1172, 2344, 569, 1138, 2276, 417, 834, 1668, 3336, 2681, 1179, 2358, 517, 1034, 2068, 65, 130, 260, 520, 1040, 2080, 41, 82, 164, 328, 656, 1312, 2624, 1257, 2514, 973, 1946, 3892, 3585, 3179, 2239, 279, 558, 1116, 2232, 281, 562, 1124, 2248, 505, 1010, 2020, 4040, 4089, 3995, 3935, 3799, 3527, 3047, 1959, 3918, 3829, 3459, 2927, 1719, 3438, 2741, 1283, 2566, 1125, 2250, 509, 1018, 2036, 4072, 4025, 3867, 3679, 3287, 2503, 999, 1998, 3996, 3921, 3787, 3583, 2967, 1863, 3726, 3445, 2691, 1391, 2782, 1493, 2986, 1853, 3706, 3229, 2387, 719, 1438, 2876, 1553, 3106, 2093, 51, 102, 204, 408, 816, 1632, 3264, 2537, 955, 1910, 3820, 3505, 2827, 1663, 3326, 2453, 835, 1670, 3340, 2673, 1163, 2326, 581, 1162, 2324, 577, 1154, 2308, 609, 1218, 2436, 865, 1730, 3460, 2913, 1707, 3414, 2757, 1507, 3014, 2021, 4042, 4093, 3987, 3919, 3831, 3463, 2919, 1703, 3406, 2805, 1411, 2822, 1637, 3274, 2557, 915, 1830, 3660, 3313, 2443, 895, 1790, 3580, 2961, 1867, 3734, 3397, 2787, 1455, 2910, 1749, 3498, 2877, 1555, 3110, 2085, 35, 70, 140, 280, 560, 1120, 2240, 489, 978, 1956, 3912, 3833, 3483, 2911, 1751, 3502, 2869, 1539, 3078, 2149, 163, 326, 652, 1304, 2608, 1033, 2066, 77, 154, 308, 616, 1232, 2464, 809, 1618, 3236, 2337, 555, 1110, 2220, 305, 610, 1220, 2440, 889, 1778, 3556, 2977, 1835, 3670, 3269, 2531, 943, 1886, 3772, 3345, 2635, 1279, 2558, 917, 1834, 3668, 3265, 2539, 959, 1918, 3836, 3473, 2891, 1791, 3582, 2965, 1859, 3718, 3429, 2723, 1327, 2654, 1237, 2474, 829, 1658, 3316, 2433, 875, 1750, 3500, 2865, 1547, 3094, 2117, 227, 454, 908, 1816, 3632, 3081, 2171, 159, 318, 636, 1272, 2544, 905, 1810, 3620, 3105, 2091, 63, 126, 252, 504, 1008, 2016, 4032, 4073, 4027, 3871, 3671, 3271, 2535, 935, 1870, 3740, 3409, 2763, 1535, 3070, 1941, 3882, 3645, 3091, 2127, 247, 494, 988, 1976, 3952, 3721, 3451, 2719, 1367, 2734, 1333, 2666, 1213, 2426, 669, 1338, 2676, 1153, 2306, 621, 1242, 2484, 769, 1538, 3076, 2145, 171, 342, 684, 1368, 2736, 1289, 2578, 1101, 2202, 349, 698, 1396, 2792, 1465, 2930, 1677, 3354, 2653, 1235, 2470, 805, 1610, 3220, 2369, 747, 1494, 2988, 1841, 3682, 3245, 2355, 527, 1054, 2108, 17, 34, 68, 136, 272, 544, 1088, 2176, 361, 722, 1444, 2888, 1785, 3570, 2957, 1907, 3814, 3493, 2851, 1583, 3166, 2261, 451, 902, 1804, 3608, 3161, 2267, 479, 958, 1916, 3832, 3481, 2907, 1759, 3518, 2837, 1603, 3206, 2405, 675, 1350, 2700, 1393, 2786, 1453, 2906, 1757, 3514, 2845, 1619, 3238, 2341, 547, 1094, 2188, 369, 738, 1476, 2952, 1913, 3826, 3469, 2931, 1679, 3358, 2645, 1219, 2438, 869, 1738, 3476, 2881, 1771, 3542, 3013, 2019, 4038, 4069, 4003, 3887, 3639, 3079, 2151, 167, 334, 668, 1336, 2672, 1161, 2322, 589, 1178, 2356, 513, 1026, 2052, 97, 194, 388, 776, 1552, 3104, 2089, 59, 118, 236, 472, 944, 1888, 3776, 3561, 3003, 1823, 3646, 3093, 2115, 239, 478, 956, 1912, 3824, 3465, 2939, 1695, 3390, 2581, 1091, 2182, 357, 714, 1428, 2856, 1593, 3186, 2189, 371, 742, 1484, 2968, 1881, 3762, 3341, 2675, 1167, 2334, 597, 1194, 2388, 705, 1410, 2820, 1633, 3266, 2541, 947, 1894, 3788, 3569, 2955, 1919, 3838, 3477, 2883, 1775, 3550, 3029, 1987, 3974, 3941, 3747, 3375, 2615, 1031, 2062, 117, 234, 468, 936, 1872, 3744, 3369, 2619, 1055, 2110, 21, 42, 84, 168, 336, 672, 1344, 2688, 1385, 2770, 1485, 2970, 1885, 3770, 3357, 2643, 1231, 2462, 853, 1706, 3412, 2753, 1515, 3030, 1989, 3978, 3965, 3731, 3407, 2807, 1415, 2830, 1653, 3306, 2493, 787, 1574, 3148, 2289, 395, 790, 1580, 3160, 2265, 475, 950, 1900, 3800, 3545, 3035, 2015, 4030, 3861, 3651, 3311, 2487, 775, 1550, 3100, 2129, 203, 406, 812, 1624, 3248, 2313, 635, 1270, 2540, 945, 1890, 3780, 3553, 2987, 1855, 3710, 3221, 2371, 751, 1502, 3004, 1809, 3618, 3117, 2099, 15, 30, 60, 120, 240, 480, 960, 1920, 3840, 3689, 3259, 2335, 599, 1198, 2396, 721, 1442, 2884, 1761, 3522, 3053, 1971, 3942, 3749, 3363, 2607, 1079, 2158, 181, 362, 724, 1448, 2896, 1737, 3474, 2893, 1779, 3558, 2981, 1827, 3654, 3301, 2467, 815, 1630, 3260, 2321, 587, 1174, 2348, 561, 1122, 2244, 481, 962, 1924, 3848, 3705, 3227, 2399, 727, 1454, 2908, 1745, 3490, 2861, 1587, 3174, 2213, 291, 582, 1164, 2328, 601, 1202, 2404, 673, 1346, 2692, 1377, 2754, 1517, 3034, 2013, 4026, 3869, 3667, 3279, 2551, 903, 1806, 3612, 3153, 2251, 511, 1022, 2044, 4088, 3993, 3931, 3807, 3543, 3015, 2023, 4046, 4085, 3971, 3951, 3767, 3335, 2663, 1191, 2382, 757, 1514, 3028, 1985, 3970, 3949, 3763, 3343, 2679, 1159, 2318, 629, 1258, 2516, 961, 1922, 3844, 3681, 3243, 2367, 535, 1070, 2140, 209, 418, 836, 1672, 3344, 2633, 1275, 2550, 901, 1802, 3604, 3137, 2283, 447, 894, 1788, 3576, 2969, 1883, 3766, 3333, 2659, 1199, 2398, 725, 1450, 2900, 1729, 3458, 2925, 1715, 3430, 2725, 1315, 2630, 1253, 2506, 1021, 2042, 4084, 3969, 3947, 3775, 3351, 2631, 1255, 2510, 1013, 2026, 4052, 4033, 4075, 4031, 3863, 3655, 3303, 2471, 807, 1614, 3228, 2385, 715, 1430, 2860, 1585, 3170, 2221, 307, 614, 1228, 2456, 857, 1714, 3428, 2721, 1323, 2646, 1221, 2442, 893, 1786, 3572, 2945, 1899, 3798, 3525, 3043, 1967, 3934, 3797, 3523, 3055, 1975, 3950, 3765, 3331, 2671, 1207, 2414, 693, 1386, 2772, 1473, 2946, 1901, 3802, 3549, 3027, 1999, 3998, 3925, 3779, 3567, 2999, 1799, 3598, 3189, 2179, 367, 734, 1468, 2936, 1689, 3378, 2573, 1139, 2278, 421, 842, 1684, 3368, 2617, 1051, 2102, 5, 10, 20, 40, 80, 160, 320, 640, 1280, 2560, 1129, 2258, 461, 922, 1844, 3688, 3257, 2331, 607, 1214, 2428, 657, 1314, 2628, 1249, 2498, 1005, 2010, 4020, 3841, 3691, 3263, 2327, 583, 1166, 2332, 593, 1186, 2372, 737, 1474, 2948, 1889, 3778, 3565, 2995, 1807, 3614, 3157, 2243, 495, 990, 1980, 3960, 3737, 3419, 2783, 1495, 2990, 1845, 3690, 3261, 2323, 591, 1182, 2364, 529, 1058, 2116, 225, 450, 900, 1800, 3600, 3145, 2299, 415, 830, 1660, 3320, 2457, 859, 1718, 3436, 2737, 1291, 2582, 1093, 2186, 381, 762, 1524, 3048, 1977, 3954, 3725, 3443, 2703, 1399, 2798, 1461, 2922, 1725, 3450, 2717, 1363, 2726, 1317, 2634, 1277, 2554, 925, 1850, 3700, 3201, 2411, 703, 1406, 2812, 1425, 2850, 1581, 3162, 2269, 467, 934, 1868, 3736, 3417, 2779, 1503, 3006, 1813, 3626, 3133, 2067, 79, 158, 316, 632, 1264, 2528, 937, 1874, 3748, 3361, 2603, 1087, 2174, 149, 298, 596, 1192, 2384, 713, 1426, 2852, 1569, 3138, 2285, 435, 870, 1740, 3480, 2905, 1755, 3510, 2821, 1635, 3270, 2533, 931, 1862, 3724, 3441, 2699, 1407, 2814, 1429, 2858, 1597, 3194, 2205, 339, 678, 1356, 2712, 1369, 2738, 1293, 2586, 1117, 2234, 285, 570, 1140, 2280, 441, 882, 1764, 3528, 3065, 1947, 3894, 3589, 3171, 2223, 311, 622, 1244, 2488, 793, 1586, 3172, 2209, 299, 598, 1196, 2392, 729, 1458, 2916, 1697, 3394, 2797, 1459, 2918, 1701, 3402, 2813, 1427, 2854, 1573, 3146, 2301, 403, 806, 1612, 3224, 2393, 731, 1462, 2924, 1713, 3426, 2733, 1331, 2662, 1189, 2378, 765, 1530, 3060, 1921, 3842, 3693, 3251, 2319, 631, 1262, 2524, 977, 1954, 3908, 3809, 3499, 2879, 1559, 3118, 2101, 3, 6, 12, 24, 48, 96, 192, 384, 768, 1536, 3072, 2153, 187, 374, 748, 1496, 2992, 1801, 3602, 3149, 2291, 399, 798, 1596, 3192, 2201, 347, 694, 1388, 2776, 1497, 2994, 1805, 3610, 3165, 2259, 463, 926, 1852, 3704, 3225, 2395, 735, 1470, 2940, 1681, 3362, 2605, 1075, 2150, 165, 330, 660, 1320, 2640, 1225, 2450, 845, 1690, 3380, 2561, 1131, 2262, 453, 906, 1812, 3624, 3129, 2075, 95, 190, 380, 760, 1520, 3040, 1961, 3922, 3789, 3571, 2959, 1911, 3822, 3509, 2819, 1647, 3294, 2517, 963, 1926, 3852, 3697, 3211, 2431, 663, 1326, 2652, 1233, 2466, 813, 1626, 3252, 2305, 619, 1238, 2476, 817, 1634, 3268, 2529, 939, 1878, 3756, 3377, 2571, 1151, 2302, 405, 810, 1620, 3240, 2361, 539, 1078, 2156, 177, 354, 708, 1416, 2832, 1609, 3218, 2381, 755, 1510, 3020, 2033, 4066, 4013, 3891, 3599, 3191, 2183, 359, 718, 1436, 2872, 1561, 3122, 2061, 115, 230, 460, 920, 1840, 3680, 3241, 2363, 543, 1086, 2172, 145, 290, 580, 1160, 2320, 585, 1170, 2340, 545, 1090, 2180, 353, 706, 1412, 2824, 1657, 3314, 2445, 883, 1766, 3532, 3057, 1931, 3862, 3653, 3299, 2479, 823, 1646, 3292, 2513, 971, 1942, 3884, 3633, 3083, 2175, 151, 302, 604, 1208, 2416, 649, 1298, 2596, 1057, 2114, 237, 474, 948, 1896, 3792, 3529, 3067, 1951, 3902, 3605, 3139, 2287, 439, 878, 1756, 3512, 2841, 1627, 3254, 2309, 611, 1222, 2444, 881, 1762, 3524, 3041, 1963, 3926, 3781, 3555, 2991, 1847, 3694, 3253, 2307, 623, 1246, 2492, 785, 1570, 3140, 2273, 427, 854, 1708, 3416, 2777, 1499, 2998, 1797, 3594, 3197, 2195, 335, 670, 1340, 2680, 1177, 2354, 525, 1050, 2100]),\n",
       " 4095]"
      ]
     },
     "execution_count": 96,
     "metadata": {},
     "output_type": "execute_result"
    }
   ],
   "source": [
    "rs.init_tables(c_exp=12, prim=prim)"
   ]
  },
  {
   "cell_type": "markdown",
   "metadata": {
    "id": "2ru7zTzGj9xj"
   },
   "source": [
    "# Reference\n",
    "\n",
    "1. https://en.wikipedia.org/wiki/Reed%E2%80%93Solomon_error_correction\n",
    "https://pypi.org/project/reedsolo/#table-of-contents\n",
    "\n",
    "2. https://www.geeksforgeeks.org/what-is-reed-solomon-code/\n",
    "\n",
    "3. https://pypi.org/project/unireedsolomon/\n",
    "\n",
    "4. https://studybuff.com/how-do-you-create-a-reed-solomon-code/\n",
    "\n",
    "5. https://en.wikiversity.org/wiki/Reed%E2%80%93Solomon_codes_for_coders\n",
    "\n",
    "6. https://books.google.fr/books?id=eQs2i-R9-oYC&lpg=PR11&ots=atCPQJm3OJ&dq=%22Algebraic%20codes%20for%20data%20transmission%22%2C%20Blahut%2C%20Richard%20E.%2C%202003%2C%20Cambridge%20university%20press.&lr&hl=fr&pg=PA193#v=onepage&q=%22Algebraic%20codes%20for%20data%20transmission%22,%20Blahut,%20Richard%20E.,%202003,%20Cambridge%20university%20press.&f=false\n",
    "\n",
    "7. https://math.stackexchange.com/questions/187302/reed-solomon-code-calculation\n",
    "\n",
    "8. https://stackoverflow.com/questions/32355713/how-to-detect-errors-for-reed-solomon-code\n",
    "\n",
    "9. https://github.com/brownan/Reed-Solomon\n",
    "\n",
    "10. https://www.youtube.com/watch?v=b3NxrZOu_CE\n",
    "\n",
    "11. https://www.youtube.com/watch?v=GvjLPJFAUOw&list=PLkvhuSoxwjI_UudECvFYArvG0cLbFlzSr&index=21\n",
    "\n",
    "12. https://en.wikiversity.org/wiki/Reed%E2%80%93Solomon_codes_for_coders\n"
   ]
  }
 ],
 "metadata": {
  "colab": {
   "authorship_tag": "ABX9TyNSK0Ts/Skc/IOr3HMQUJ/6",
   "provenance": []
  },
  "kernelspec": {
   "display_name": "Python 3",
   "language": "python",
   "name": "python3"
  },
  "language_info": {
   "codemirror_mode": {
    "name": "ipython",
    "version": 3
   },
   "file_extension": ".py",
   "mimetype": "text/x-python",
   "name": "python",
   "nbconvert_exporter": "python",
   "pygments_lexer": "ipython3",
   "version": "3.8.5"
  }
 },
 "nbformat": 4,
 "nbformat_minor": 4
}
