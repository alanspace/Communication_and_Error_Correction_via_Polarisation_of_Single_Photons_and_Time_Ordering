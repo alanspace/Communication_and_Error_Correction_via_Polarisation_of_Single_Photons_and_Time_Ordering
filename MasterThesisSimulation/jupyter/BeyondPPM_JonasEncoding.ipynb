{
 "cells": [
  {
   "cell_type": "markdown",
   "metadata": {
    "id": "mYjJc9-9S0an"
   },
   "source": [
    "# Installation and Import of packages, mount the drive"
   ]
  },
  {
   "cell_type": "code",
   "execution_count": null,
   "metadata": {
    "colab": {
     "background_save": true
    },
    "id": "j7W-LDJHS1Gs"
   },
   "outputs": [
    {
     "ename": "KeyboardInterrupt",
     "evalue": "ignored",
     "output_type": "error",
     "traceback": [
      "\u001b[0;31m---------------------------------------------------------------------------\u001b[0m",
      "\u001b[0;31mKeyboardInterrupt\u001b[0m                         Traceback (most recent call last)",
      "\u001b[0;32m<ipython-input-1-d5df0069828e>\u001b[0m in \u001b[0;36m<module>\u001b[0;34m\u001b[0m\n\u001b[1;32m      1\u001b[0m \u001b[0;32mfrom\u001b[0m \u001b[0mgoogle\u001b[0m\u001b[0;34m.\u001b[0m\u001b[0mcolab\u001b[0m \u001b[0;32mimport\u001b[0m \u001b[0mdrive\u001b[0m\u001b[0;34m\u001b[0m\u001b[0;34m\u001b[0m\u001b[0m\n\u001b[0;32m----> 2\u001b[0;31m \u001b[0mdrive\u001b[0m\u001b[0;34m.\u001b[0m\u001b[0mmount\u001b[0m\u001b[0;34m(\u001b[0m\u001b[0;34m'/content/drive'\u001b[0m\u001b[0;34m)\u001b[0m\u001b[0;34m\u001b[0m\u001b[0;34m\u001b[0m\u001b[0m\n\u001b[0m",
      "\u001b[0;32m/usr/local/lib/python3.8/dist-packages/google/colab/drive.py\u001b[0m in \u001b[0;36mmount\u001b[0;34m(mountpoint, force_remount, timeout_ms, readonly)\u001b[0m\n\u001b[1;32m     98\u001b[0m \u001b[0;32mdef\u001b[0m \u001b[0mmount\u001b[0m\u001b[0;34m(\u001b[0m\u001b[0mmountpoint\u001b[0m\u001b[0;34m,\u001b[0m \u001b[0mforce_remount\u001b[0m\u001b[0;34m=\u001b[0m\u001b[0;32mFalse\u001b[0m\u001b[0;34m,\u001b[0m \u001b[0mtimeout_ms\u001b[0m\u001b[0;34m=\u001b[0m\u001b[0;36m120000\u001b[0m\u001b[0;34m,\u001b[0m \u001b[0mreadonly\u001b[0m\u001b[0;34m=\u001b[0m\u001b[0;32mFalse\u001b[0m\u001b[0;34m)\u001b[0m\u001b[0;34m:\u001b[0m\u001b[0;34m\u001b[0m\u001b[0;34m\u001b[0m\u001b[0m\n\u001b[1;32m     99\u001b[0m   \u001b[0;34m\"\"\"Mount your Google Drive at the specified mountpoint path.\"\"\"\u001b[0m\u001b[0;34m\u001b[0m\u001b[0;34m\u001b[0m\u001b[0m\n\u001b[0;32m--> 100\u001b[0;31m   return _mount(\n\u001b[0m\u001b[1;32m    101\u001b[0m       \u001b[0mmountpoint\u001b[0m\u001b[0;34m,\u001b[0m\u001b[0;34m\u001b[0m\u001b[0;34m\u001b[0m\u001b[0m\n\u001b[1;32m    102\u001b[0m       \u001b[0mforce_remount\u001b[0m\u001b[0;34m=\u001b[0m\u001b[0mforce_remount\u001b[0m\u001b[0;34m,\u001b[0m\u001b[0;34m\u001b[0m\u001b[0;34m\u001b[0m\u001b[0m\n",
      "\u001b[0;32m/usr/local/lib/python3.8/dist-packages/google/colab/drive.py\u001b[0m in \u001b[0;36m_mount\u001b[0;34m(mountpoint, force_remount, timeout_ms, ephemeral, readonly)\u001b[0m\n\u001b[1;32m    121\u001b[0m       'TBE_EPHEM_CREDS_ADDR'] if ephemeral else _os.environ['TBE_CREDS_ADDR']\n\u001b[1;32m    122\u001b[0m   \u001b[0;32mif\u001b[0m \u001b[0mephemeral\u001b[0m\u001b[0;34m:\u001b[0m\u001b[0;34m\u001b[0m\u001b[0;34m\u001b[0m\u001b[0m\n\u001b[0;32m--> 123\u001b[0;31m     _message.blocking_request(\n\u001b[0m\u001b[1;32m    124\u001b[0m         'request_auth', request={'authType': 'dfs_ephemeral'}, timeout_sec=None)\n\u001b[1;32m    125\u001b[0m \u001b[0;34m\u001b[0m\u001b[0m\n",
      "\u001b[0;32m/usr/local/lib/python3.8/dist-packages/google/colab/_message.py\u001b[0m in \u001b[0;36mblocking_request\u001b[0;34m(request_type, request, timeout_sec, parent)\u001b[0m\n\u001b[1;32m    169\u001b[0m   request_id = send_request(\n\u001b[1;32m    170\u001b[0m       request_type, request, parent=parent, expect_reply=True)\n\u001b[0;32m--> 171\u001b[0;31m   \u001b[0;32mreturn\u001b[0m \u001b[0mread_reply_from_input\u001b[0m\u001b[0;34m(\u001b[0m\u001b[0mrequest_id\u001b[0m\u001b[0;34m,\u001b[0m \u001b[0mtimeout_sec\u001b[0m\u001b[0;34m)\u001b[0m\u001b[0;34m\u001b[0m\u001b[0;34m\u001b[0m\u001b[0m\n\u001b[0m",
      "\u001b[0;32m/usr/local/lib/python3.8/dist-packages/google/colab/_message.py\u001b[0m in \u001b[0;36mread_reply_from_input\u001b[0;34m(message_id, timeout_sec)\u001b[0m\n\u001b[1;32m     95\u001b[0m     \u001b[0mreply\u001b[0m \u001b[0;34m=\u001b[0m \u001b[0m_read_next_input_message\u001b[0m\u001b[0;34m(\u001b[0m\u001b[0;34m)\u001b[0m\u001b[0;34m\u001b[0m\u001b[0;34m\u001b[0m\u001b[0m\n\u001b[1;32m     96\u001b[0m     \u001b[0;32mif\u001b[0m \u001b[0mreply\u001b[0m \u001b[0;34m==\u001b[0m \u001b[0m_NOT_READY\u001b[0m \u001b[0;32mor\u001b[0m \u001b[0;32mnot\u001b[0m \u001b[0misinstance\u001b[0m\u001b[0;34m(\u001b[0m\u001b[0mreply\u001b[0m\u001b[0;34m,\u001b[0m \u001b[0mdict\u001b[0m\u001b[0;34m)\u001b[0m\u001b[0;34m:\u001b[0m\u001b[0;34m\u001b[0m\u001b[0;34m\u001b[0m\u001b[0m\n\u001b[0;32m---> 97\u001b[0;31m       \u001b[0mtime\u001b[0m\u001b[0;34m.\u001b[0m\u001b[0msleep\u001b[0m\u001b[0;34m(\u001b[0m\u001b[0;36m0.025\u001b[0m\u001b[0;34m)\u001b[0m\u001b[0;34m\u001b[0m\u001b[0;34m\u001b[0m\u001b[0m\n\u001b[0m\u001b[1;32m     98\u001b[0m       \u001b[0;32mcontinue\u001b[0m\u001b[0;34m\u001b[0m\u001b[0;34m\u001b[0m\u001b[0m\n\u001b[1;32m     99\u001b[0m     if (reply.get('type') == 'colab_reply' and\n",
      "\u001b[0;31mKeyboardInterrupt\u001b[0m: "
     ]
    }
   ],
   "source": [
    "from google.colab import drive\n",
    "drive.mount('/content/drive')"
   ]
  },
  {
   "cell_type": "code",
   "execution_count": null,
   "metadata": {
    "id": "6YWbuKlkS1EM"
   },
   "outputs": [],
   "source": [
    "# Import the packages \n",
    "import math\n",
    "import pandas as pd\n",
    "import matplotlib.pyplot as plt\n",
    "import numpy as np\n",
    "from pandas.plotting import table\n",
    "#import dataframe_image as dfi"
   ]
  },
  {
   "cell_type": "markdown",
   "metadata": {
    "id": "1IQnFXv_UZ3Q"
   },
   "source": [
    "## Sequence to design the length of time slot / time bin\n",
    "We can generate the desired number of sequence we want from the below code.\n",
    "\n",
    "A010672\t\tA B_2 sequence: a(n) = least value such that sequence increases and pairwise sums of distinct elements are all distinct. \\\\\n",
    "Author: \tDan Hoey\n",
    "\n",
    "1. https://oeis.org/A010672\n",
    "2. https://oeis.org/A011185\n",
    "3. https://oeis.org/A010672\n",
    "\n",
    "The below function generates a list of 100 sequences."
   ]
  },
  {
   "cell_type": "code",
   "execution_count": null,
   "metadata": {
    "id": "xK753gRuS1JE"
   },
   "outputs": [],
   "source": []
  },
  {
   "cell_type": "code",
   "execution_count": null,
   "metadata": {
    "id": "Lbr3Bi5Mg5nM"
   },
   "outputs": [],
   "source": [
    "photon = [1,2,4,7]"
   ]
  },
  {
   "cell_type": "code",
   "execution_count": null,
   "metadata": {
    "colab": {
     "base_uri": "https://localhost:8080/"
    },
    "executionInfo": {
     "elapsed": 3,
     "status": "ok",
     "timestamp": 1676451762769,
     "user": {
      "displayName": "ericsson shek",
      "userId": "08913320947741528300"
     },
     "user_tz": -60
    },
    "id": "GrFSelU3hDAd",
    "outputId": "a24d6773-9210-45df-b9cd-db153d646703"
   },
   "outputs": [
    {
     "name": "stdout",
     "output_type": "stream",
     "text": [
      "1 2 4 7\n"
     ]
    }
   ],
   "source": [
    "print(photon[0], photon[1], photon[2], photon[3])"
   ]
  },
  {
   "cell_type": "code",
   "execution_count": null,
   "metadata": {
    "colab": {
     "base_uri": "https://localhost:8080/"
    },
    "executionInfo": {
     "elapsed": 2,
     "status": "ok",
     "timestamp": 1676451777605,
     "user": {
      "displayName": "ericsson shek",
      "userId": "08913320947741528300"
     },
     "user_tz": -60
    },
    "id": "pbB5IwtaM_cF",
    "outputId": "0779067d-733c-4226-efbb-b175b582b328"
   },
   "outputs": [
    {
     "name": "stdout",
     "output_type": "stream",
     "text": [
      "['', '0', '000', '000000']\n"
     ]
    }
   ],
   "source": [
    "for i in range(len(photon)):\n",
    "  photon_to_digit = [(i-1)*\"0\" for i in photon]\n",
    "\n",
    "  #photon.append(['h'])\n",
    "\n",
    "print(photon_to_digit)\n",
    "  #print(photon[i]+'H', photon[i+1])"
   ]
  },
  {
   "cell_type": "code",
   "execution_count": null,
   "metadata": {
    "colab": {
     "base_uri": "https://localhost:8080/",
     "height": 35
    },
    "executionInfo": {
     "elapsed": 6,
     "status": "ok",
     "timestamp": 1676411528441,
     "user": {
      "displayName": "ericsson shek",
      "userId": "08913320947741528300"
     },
     "user_tz": -60
    },
    "id": "T-5Bd2OTRJxH",
    "outputId": "018f882b-22a0-4f4a-894f-78c0f7842e03"
   },
   "outputs": [
    {
     "data": {
      "application/vnd.google.colaboratory.intrinsic+json": {
       "type": "string"
      },
      "text/plain": [
       "''"
      ]
     },
     "execution_count": 60,
     "metadata": {},
     "output_type": "execute_result"
    }
   ],
   "source": [
    "photon_to_digit[0]"
   ]
  },
  {
   "cell_type": "code",
   "execution_count": null,
   "metadata": {
    "colab": {
     "base_uri": "https://localhost:8080/",
     "height": 35
    },
    "executionInfo": {
     "elapsed": 7,
     "status": "ok",
     "timestamp": 1676411529313,
     "user": {
      "displayName": "ericsson shek",
      "userId": "08913320947741528300"
     },
     "user_tz": -60
    },
    "id": "ngmwHkRqRNr3",
    "outputId": "7d37d914-2eed-4ee4-e83c-cab21c2678df"
   },
   "outputs": [
    {
     "data": {
      "application/vnd.google.colaboratory.intrinsic+json": {
       "type": "string"
      },
      "text/plain": [
       "'0'"
      ]
     },
     "execution_count": 61,
     "metadata": {},
     "output_type": "execute_result"
    }
   ],
   "source": [
    "photon_to_digit[1]"
   ]
  },
  {
   "cell_type": "code",
   "execution_count": null,
   "metadata": {
    "colab": {
     "base_uri": "https://localhost:8080/",
     "height": 35
    },
    "executionInfo": {
     "elapsed": 4,
     "status": "ok",
     "timestamp": 1676411530353,
     "user": {
      "displayName": "ericsson shek",
      "userId": "08913320947741528300"
     },
     "user_tz": -60
    },
    "id": "gXSQFROxRRKZ",
    "outputId": "c15cebc7-f540-472d-e5c1-20b28f162864"
   },
   "outputs": [
    {
     "data": {
      "application/vnd.google.colaboratory.intrinsic+json": {
       "type": "string"
      },
      "text/plain": [
       "'000'"
      ]
     },
     "execution_count": 62,
     "metadata": {},
     "output_type": "execute_result"
    }
   ],
   "source": [
    "photon_to_digit[2]"
   ]
  },
  {
   "cell_type": "code",
   "execution_count": null,
   "metadata": {
    "colab": {
     "base_uri": "https://localhost:8080/"
    },
    "executionInfo": {
     "elapsed": 6,
     "status": "ok",
     "timestamp": 1676411531536,
     "user": {
      "displayName": "ericsson shek",
      "userId": "08913320947741528300"
     },
     "user_tz": -60
    },
    "id": "40zRkEvLRUqO",
    "outputId": "92e6ca95-30ee-4a36-e09d-0ee243556742"
   },
   "outputs": [
    {
     "data": {
      "text/plain": [
       "3"
      ]
     },
     "execution_count": 63,
     "metadata": {},
     "output_type": "execute_result"
    }
   ],
   "source": [
    "len(photon_to_digit[2])"
   ]
  },
  {
   "cell_type": "code",
   "execution_count": null,
   "metadata": {
    "colab": {
     "base_uri": "https://localhost:8080/"
    },
    "executionInfo": {
     "elapsed": 281,
     "status": "ok",
     "timestamp": 1676413777809,
     "user": {
      "displayName": "ericsson shek",
      "userId": "08913320947741528300"
     },
     "user_tz": -60
    },
    "id": "tDAWHRKbLiRm",
    "outputId": "ed33359f-026b-4723-ce55-45e796f1bf9b"
   },
   "outputs": [
    {
     "data": {
      "text/plain": [
       "['0', '000', '000000']"
      ]
     },
     "execution_count": 101,
     "metadata": {},
     "output_type": "execute_result"
    }
   ],
   "source": [
    "#def Hpolarization_to_beginning(s, start='H'):\n",
    "#  return start + s\n",
    "\n",
    "#def Vpolarization_to_beginning(s, start='V'):\n",
    "#  return start + s \n",
    "\n",
    "#for i in range(len(photon)):\n",
    "  #if len(photon_to_digit[i]) > len(photon_to_digit[i-1]):\n",
    "a = list(filter(None, photon_to_digit))\n",
    "\n",
    "    #H_updated_list = list(map(lambda s: 'H'+ s, photon_to_digit))\n",
    "    #H_updated_list = list(map(Hpolarization_to_beginning, photon_to_digit))\n",
    "#else:\n",
    "#    H_updated_list = photon_to_digit\n",
    "\n",
    "#for i in range(len(photon)):\n",
    "#  if len(photon_to_digit[i]) < len(photon_to_digit[i-1]):\n",
    "#    V_updated_list = list(map(Vpolarization_to_beginning, H_updated_list))\n",
    "#  else:\n",
    "#    V_updated_list = H_updated_list\n",
    "\n",
    "#if len(photon_to_digit[1]) > len(photon_to_digit[-1]):\n",
    "#  last_list = list(map(Hpolarization_to_beginning, V_updated_list[-1]))\n",
    "#else:\n",
    "#  last_list = list(map(Vpolarization_to_beginning, V_updated_list[-1]))\n",
    "#print(H_updated_list)\n",
    "#print(last_list)   \n",
    "\n",
    "#for i in range(len(photon)):\n",
    "  #if len(photon_to_digit[i]) < len(photon_to_digit[-1]):\n",
    "#V_updated_list = list(filter(len(photon_to_digit[i]) < len(photon_to_digit[-1]))).(map(lambda s: 'V'+ s, H_updated_list))\n",
    "\n",
    "#print(V_updated_list)\n",
    "#def polarization_to_beginning(s, start='H'):\n",
    "#  return start + s\n",
    "\n",
    "\n",
    "#photon_with_polarization = list(map(polarization_to_beginning, magic(photon)))\n",
    "a"
   ]
  },
  {
   "cell_type": "code",
   "execution_count": null,
   "metadata": {
    "id": "V5A5EEuydfom"
   },
   "outputs": [],
   "source": [
    "draw = ['', '00000', '00', '0000', '0000000000000']\n",
    "\n",
    "def W_to_beginning(s, start='W'):\n",
    "  return start + s\n",
    "\n",
    "def L_to_beginning(s, start='L'):\n",
    "  return start + s \n",
    "\n",
    "for i in range(len(draw)):\n",
    "  if len(draw[i]) > len(draw[i-1]):\n",
    "    list(map(W_to_beginning, draw[i]))  #only the list fulfill the condiiton add a W, expect to have ['W', '00000', 'W00', 'W0000', '0000000000000']\n",
    "  else:\n",
    "    pass # no change to the list draw\n",
    "\n",
    "for i in range(len(draw)):\n",
    "  if len(draw[i]) < len(draw[i-1]):\n",
    "    list(map(L_to_beginning, draw)) #only the list fulfill the condiiton add a W. The list should have run through the first for loop. expect to have ['W, 'L00000', 'W00', 'W0000', '0000000000000']\n",
    "  else:\n",
    "    pass # no change to the list draw. The list should have run through the first for loop\n",
    "\n",
    "if len(draw[1]) > len(draw[-1]):\n",
    "  list(map(W_to_beginning, draw[-1])) \n",
    "else:\n",
    "  list(map(L_to_beginning, draw[-1])) #expect to have expect to have ['W, 'L00000', 'W00', 'W0000', 'L0000000000000']"
   ]
  },
  {
   "cell_type": "code",
   "execution_count": null,
   "metadata": {
    "id": "i8AdPGOmQr_n"
   },
   "outputs": [],
   "source": [
    "draw = ['', '00000', '00', '0000', '0000000000000']\n",
    "\n",
    "def W_to_beginning(s, start='W'):\n",
    "  return start + s\n",
    "\n",
    "def L_to_beginning(s, start='L'):\n",
    "  return start + s \n",
    "\n",
    "for i in range(len(draw)):\n",
    "  if len(draw[i]) > len(draw[i-1]):\n",
    "    list(map(W_to_beginning, draw[i]))  #only the list fulfill the condiiton add a W, expect to have ['W', '00000', 'W00', 'W0000', '0000000000000']\n",
    "  else:\n",
    "    pass # no change to the list draw"
   ]
  },
  {
   "cell_type": "code",
   "execution_count": null,
   "metadata": {
    "id": "IdfK0ydBhvNN"
   },
   "outputs": [],
   "source": [
    " #Over-explaining a bit:\n",
    "def convert_to_one_string(numList):         # [1,2,3]\n",
    "    s = map(str, numList)   # ['1','2','3']\n",
    "    s = ''.join(s)          # '123'\n",
    "    #s = int(s)              # 123\n",
    "    return s"
   ]
  },
  {
   "cell_type": "code",
   "execution_count": null,
   "metadata": {
    "id": "j2XUU5_ChzJY"
   },
   "outputs": [],
   "source": [
    "convert_to_one_string(photon_to_digit)"
   ]
  },
  {
   "cell_type": "code",
   "execution_count": null,
   "metadata": {
    "id": "RAwY5zFgLaxJ"
   },
   "outputs": [],
   "source": [
    "def add_to_beginning(s, start='to_'):\n",
    "    return start + s\n",
    "\n",
    "lst = ['South', 'North']\n",
    "\n",
    "result = list(map(add_to_beginning, lst))\n",
    "print(result)"
   ]
  },
  {
   "cell_type": "code",
   "execution_count": null,
   "metadata": {
    "id": "SGjaKZipKI4o"
   },
   "outputs": [],
   "source": [
    "a=[1,3,3,6,3,5,5,7]\n",
    "\n",
    "b=a[0:1]\n",
    "for i in range(len(a)-1):\n",
    "    print (a[i],a[i+1])\n",
    "    if a[i]!=a[i+1]:\n",
    "        b.append(a[i+1])\n",
    "a=b"
   ]
  },
  {
   "cell_type": "code",
   "execution_count": null,
   "metadata": {
    "id": "uogYzTHlhMQ-"
   },
   "outputs": [],
   "source": [
    "photon = [1,2,4,7]\n",
    "for i in range(len(photon)):\n",
    "  photon.append(['h'])\n",
    "\n",
    "print(photon)\n",
    "  #print(photon[i]+'H', photon[i+1])\n",
    "# output_list = [(i-1)*\"0\" for i in photon]\n",
    "\n",
    "#print(output_list)"
   ]
  },
  {
   "cell_type": "code",
   "execution_count": null,
   "metadata": {
    "id": "gNqsvpIIh5wU"
   },
   "outputs": [],
   "source": [
    "179\n",
    "\n",
    "\n",
    "\n",
    "\n",
    "\n",
    "# How I'd probably write it:\n",
    "def magic(numList):\n",
    "    s = ''.join(map(str, numList))\n",
    "    return int(s)\n",
    "\n",
    "\n",
    "# As a one-liner  \n",
    "num = int(''.join(map(str,numList)))\n",
    "\n",
    "\n",
    "# Functionally:\n",
    "s = reduce(lambda x,y: x+str(y), numList, '')\n",
    "num = int(s)\n",
    "\n",
    "\n",
    "# Using some oft-forgotten built-ins:\n",
    "s = filter(str.isdigit, repr(numList))\n",
    "num = int(s)"
   ]
  },
  {
   "cell_type": "markdown",
   "metadata": {
    "id": "s79FOFxajjy_"
   },
   "source": [
    "# Reference\n",
    "https://www.geeksforgeeks.org/apply-function-to-each-element-of-a-list-python/\n",
    "https://www.w3schools.com/python/ref_func_list.asp\n",
    "https://www.youtube.com/watch?v=hUes6y2b--0\n",
    "https://www.youtube.com/watch?v=QtwhlHP_tqc\n",
    "https://www.youtube.com/watch?v=25ovCm9jKfA\n",
    "https://www.youtube.com/watch?v=AhSvKGTh28Q\n",
    "\n",
    "https://realpython.com/python-map-function/\n",
    "https://www.freecodecamp.org/news/python-map-explained-with-examples/\n",
    "\n",
    "https://basicpython.org/ifthen/\n",
    "\n",
    "https://realpython.com/python-conditional-statements/\n",
    "\n",
    "https://theprogrammingexpert.com/python-if-do-nothing/\n",
    "\n",
    "https://stackoverflow.com/questions/930397/how-do-i-get-the-last-element-of-a-list\n",
    "\n",
    "\n",
    "https://stackoverflow.com/questions/46126797/compare-the-elements-of-a-list-in-python\n",
    "\n",
    "\n",
    "https://stackoverflow.com/questions/54728672/python-append-a-string-with-if-else\n",
    "\n",
    "https://stackoverflow.com/questions/53632318/add-string-to-every-element-of-a-python-list\n",
    "\n",
    "https://stackoverflow.com/questions/19664116/python-append-lists-into-lists\n",
    "\n",
    "https://stackoverflow.com/questions/46126797/compare-the-elements-of-a-list-in-python\n",
    "\n",
    "https://stackoverflow.com/questions/489999/convert-list-of-ints-to-one-number\n"
   ]
  },
  {
   "cell_type": "code",
   "execution_count": null,
   "metadata": {
    "id": "gylkxpxUjk2K"
   },
   "outputs": [],
   "source": []
  }
 ],
 "metadata": {
  "colab": {
   "authorship_tag": "ABX9TyOKt2sRYtPcMV8fDAuIlAui",
   "name": "",
   "version": ""
  },
  "kernelspec": {
   "display_name": "Python 3",
   "language": "python",
   "name": "python3"
  },
  "language_info": {
   "codemirror_mode": {
    "name": "ipython",
    "version": 3
   },
   "file_extension": ".py",
   "mimetype": "text/x-python",
   "name": "python",
   "nbconvert_exporter": "python",
   "pygments_lexer": "ipython3",
   "version": "3.8.5"
  }
 },
 "nbformat": 4,
 "nbformat_minor": 4
}
