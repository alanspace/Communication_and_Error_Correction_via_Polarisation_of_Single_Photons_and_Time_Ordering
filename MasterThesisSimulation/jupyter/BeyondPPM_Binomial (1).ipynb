{
 "cells": [
  {
   "cell_type": "markdown",
   "metadata": {
    "id": "npX2qMVzYGfO"
   },
   "source": [
    "# Installation and Import of packages, mount the drive"
   ]
  },
  {
   "cell_type": "code",
   "execution_count": 5,
   "metadata": {
    "executionInfo": {
     "elapsed": 597,
     "status": "ok",
     "timestamp": 1676457753844,
     "user": {
      "displayName": "ericsson shek",
      "userId": "08913320947741528300"
     },
     "user_tz": -60
    },
    "id": "XOngQN3hYEIL"
   },
   "outputs": [],
   "source": [
    "#from google.colab import drive\n",
    "#drive.mount('/content/drive')"
   ]
  },
  {
   "cell_type": "code",
   "execution_count": 6,
   "metadata": {
    "executionInfo": {
     "elapsed": 1989,
     "status": "ok",
     "timestamp": 1676457757669,
     "user": {
      "displayName": "ericsson shek",
      "userId": "08913320947741528300"
     },
     "user_tz": -60
    },
    "id": "cuOHnMc4L1J2"
   },
   "outputs": [],
   "source": [
    "#!pip install scipy\n",
    "import pandas as pd\n",
    "from pandas.plotting import table\n",
    "import math\n",
    "from scipy.stats import binom\n",
    "import numpy as np\n",
    "from sympy import *\n",
    "from sympy.stats import *\n",
    "import matplotlib.pyplot as plt\n",
    "from matplotlib import pyplot\n",
    "%matplotlib inline\n",
    "#import dataframe_image as dfi"
   ]
  },
  {
   "cell_type": "markdown",
   "metadata": {
    "id": "FD7CBpXcJBEZ"
   },
   "source": [
    "# Combination\n",
    "\n",
    "$$\\binom{n}{r} = \\frac{n!}{r!(n-r)!}$$\n",
    "\n",
    "Suppose we have a list [1,2,4], 3 photons with length of time bins 7.\n",
    "The ways we can organize them is $3!$, and a selection of these 3 photons from a collection of this 7 time bins in which the order of selection does not matter is $\\binom{n}{r}$. \\\\\n",
    "\n",
    "https://www.math.net/combination\n",
    "\n"
   ]
  },
  {
   "cell_type": "code",
   "execution_count": 7,
   "metadata": {
    "colab": {
     "base_uri": "https://localhost:8080/"
    },
    "executionInfo": {
     "elapsed": 8,
     "status": "ok",
     "timestamp": 1676457763669,
     "user": {
      "displayName": "ericsson shek",
      "userId": "08913320947741528300"
     },
     "user_tz": -60
    },
    "id": "NC3rTmetMJtD",
    "outputId": "064775d4-b3cc-4ef2-97db-486b0fe10c04"
   },
   "outputs": [
    {
     "data": {
      "text/plain": [
       "35.0"
      ]
     },
     "execution_count": 7,
     "metadata": {},
     "output_type": "execute_result"
    }
   ],
   "source": [
    "def combination(n,r):\n",
    "  return math.factorial(n) / (math.factorial(n-r)*math.factorial(r))\n",
    "\n",
    "combination(7,3)"
   ]
  },
  {
   "cell_type": "markdown",
   "metadata": {
    "id": "u0qpIiUsL6qq"
   },
   "source": [
    "## Binomial Distribution of Loss Error\n",
    "There are n photons in a time bin. The total probability of lossing $l$ photons and not losing $n-l$ photons\n",
    "\n",
    "$$P(n, l, P_l) = \\binom{n}{l} P_l^l(1-P_l)^{n-l} $$\n",
    "\n",
    "$n$ is the number of photon. \\\\\n",
    "$l$ is the number of loss photon. \\\\\n",
    "$P_l$ is the probability of loss error. \\\\"
   ]
  },
  {
   "cell_type": "code",
   "execution_count": 10,
   "metadata": {
    "executionInfo": {
     "elapsed": 5,
     "status": "ok",
     "timestamp": 1676457763669,
     "user": {
      "displayName": "ericsson shek",
      "userId": "08913320947741528300"
     },
     "user_tz": -60
    },
    "id": "6pgKIV_ZL7Ip"
   },
   "outputs": [],
   "source": [
    "def LossDistribute(n,l,P_l):\n",
    "  return combination(n,l)*(P_l)**l*(1-P_l)**(n-l)"
   ]
  },
  {
   "cell_type": "code",
   "execution_count": 11,
   "metadata": {
    "colab": {
     "base_uri": "https://localhost:8080/"
    },
    "executionInfo": {
     "elapsed": 5,
     "status": "ok",
     "timestamp": 1676457763669,
     "user": {
      "displayName": "ericsson shek",
      "userId": "08913320947741528300"
     },
     "user_tz": -60
    },
    "id": "Ru-L05trL-tJ",
    "outputId": "b6f996c0-4f4e-495f-b97d-f24c720a3438"
   },
   "outputs": [
    {
     "data": {
      "text/plain": [
       "0.4409999999999999"
      ]
     },
     "execution_count": 11,
     "metadata": {},
     "output_type": "execute_result"
    }
   ],
   "source": [
    "LossDistribute(3,1,0.3)"
   ]
  },
  {
   "cell_type": "markdown",
   "metadata": {
    "id": "5Ysfa2aWMJTB"
   },
   "source": [
    "#Binomial Distribution of Error Probability\n",
    "\n",
    "$$\\text{ Binomail Distribution of Error} = \\text{Binomial Distribution of Loss Error} \\times \\text{Binomial Distribution of Added Error} $$\n",
    "\n",
    "\\\\\n",
    "\n",
    "$$Prob(l, a, n, N, P_l, P_a) = \\binom{n}{l} P_l^l(1-P_l)^{n-l} \\times \\binom{N-n}{a} P_a^a (1-P_a)^{N-n-a}$$\n",
    "\n",
    "$n$ = number of photon \\\\\n",
    "$l$ = number of photon lost \\\\\n",
    "$a$ = number of photon added \\\\\n",
    "$N$ = length of time bin \\\\\n",
    "$P_l$ = probability of lost error \\\\\n",
    "$P_a$ = probability of added error \\\\"
   ]
  },
  {
   "cell_type": "code",
   "execution_count": 12,
   "metadata": {
    "executionInfo": {
     "elapsed": 3,
     "status": "ok",
     "timestamp": 1676457763670,
     "user": {
      "displayName": "ericsson shek",
      "userId": "08913320947741528300"
     },
     "user_tz": -60
    },
    "id": "t8tnJHLkMLix"
   },
   "outputs": [],
   "source": [
    "def LossDistribute(n,l,P_l):\n",
    "  return combination(n,l)*(P_l)**l*(1-P_l)**(n-l)"
   ]
  },
  {
   "cell_type": "code",
   "execution_count": 13,
   "metadata": {
    "colab": {
     "base_uri": "https://localhost:8080/"
    },
    "executionInfo": {
     "elapsed": 7,
     "status": "ok",
     "timestamp": 1676457764131,
     "user": {
      "displayName": "ericsson shek",
      "userId": "08913320947741528300"
     },
     "user_tz": -60
    },
    "id": "b-ims8p3MNf9",
    "outputId": "39f00aa3-4a2b-49b8-d465-ee0405dda6a2"
   },
   "outputs": [
    {
     "data": {
      "text/plain": [
       "0.3840000000000001"
      ]
     },
     "execution_count": 13,
     "metadata": {},
     "output_type": "execute_result"
    }
   ],
   "source": [
    "LossDistribute(3,1,0.2)"
   ]
  },
  {
   "cell_type": "code",
   "execution_count": 14,
   "metadata": {
    "executionInfo": {
     "elapsed": 5,
     "status": "ok",
     "timestamp": 1676457764132,
     "user": {
      "displayName": "ericsson shek",
      "userId": "08913320947741528300"
     },
     "user_tz": -60
    },
    "id": "ywr8jPteMMd2"
   },
   "outputs": [],
   "source": [
    "def AddDistribute(N, n, a, P_a):\n",
    "  return combination(N-n,a)*(P_a)**a*(1-P_a)**(N-n-a)"
   ]
  },
  {
   "cell_type": "code",
   "execution_count": 15,
   "metadata": {
    "colab": {
     "base_uri": "https://localhost:8080/"
    },
    "executionInfo": {
     "elapsed": 4,
     "status": "ok",
     "timestamp": 1676457764132,
     "user": {
      "displayName": "ericsson shek",
      "userId": "08913320947741528300"
     },
     "user_tz": -60
    },
    "id": "tsq4Sl7aMOaU",
    "outputId": "0469d630-6184-4eb1-ed46-d307787e19c1"
   },
   "outputs": [
    {
     "data": {
      "text/plain": [
       "0.40960000000000013"
      ]
     },
     "execution_count": 15,
     "metadata": {},
     "output_type": "execute_result"
    }
   ],
   "source": [
    "AddDistribute(7,3,1,0.2)"
   ]
  },
  {
   "cell_type": "code",
   "execution_count": 18,
   "metadata": {
    "executionInfo": {
     "elapsed": 5,
     "status": "ok",
     "timestamp": 1676457764558,
     "user": {
      "displayName": "ericsson shek",
      "userId": "08913320947741528300"
     },
     "user_tz": -60
    },
    "id": "TQqLf0tSMPTR"
   },
   "outputs": [],
   "source": [
    "def Perr(N,n,l,a, P_l, P_a):\n",
    "  return combination(n,l) * (P_l)**l*(1-P_l)**(n-l) * combination(N-n,a) * math.factorial(a) * (P_a)**a*(1-P_a)**(N-n-a) "
   ]
  },
  {
   "cell_type": "code",
   "execution_count": 15,
   "metadata": {
    "colab": {
     "base_uri": "https://localhost:8080/"
    },
    "executionInfo": {
     "elapsed": 746,
     "status": "ok",
     "timestamp": 1676457765300,
     "user": {
      "displayName": "ericsson shek",
      "userId": "08913320947741528300"
     },
     "user_tz": -60
    },
    "id": "Vd6KYBszMTbp",
    "outputId": "2475e04b-7591-4a04-b6c6-35c653ba56ca"
   },
   "outputs": [
    {
     "data": {
      "text/plain": [
       "0.1572864000000001"
      ]
     },
     "execution_count": 15,
     "metadata": {},
     "output_type": "execute_result"
    }
   ],
   "source": [
    "Perr(7,3,1,1, 0.2, 0.2)"
   ]
  },
  {
   "cell_type": "markdown",
   "metadata": {
    "id": "7TcWGGoCPxnC"
   },
   "source": [
    "# SymPy"
   ]
  },
  {
   "cell_type": "code",
   "execution_count": 16,
   "metadata": {
    "executionInfo": {
     "elapsed": 4,
     "status": "ok",
     "timestamp": 1676457765300,
     "user": {
      "displayName": "ericsson shek",
      "userId": "08913320947741528300"
     },
     "user_tz": -60
    },
    "id": "x6wgWJu7Ppdp"
   },
   "outputs": [],
   "source": [
    "import sympy as sy\n",
    "#import sympy as *\n",
    "#import numpy.random.binomial "
   ]
  },
  {
   "cell_type": "code",
   "execution_count": 17,
   "metadata": {
    "executionInfo": {
     "elapsed": 3,
     "status": "ok",
     "timestamp": 1676457765300,
     "user": {
      "displayName": "ericsson shek",
      "userId": "08913320947741528300"
     },
     "user_tz": -60
    },
    "id": "qgtlC5-zPmc2"
   },
   "outputs": [],
   "source": [
    "# Perr(N,n,l,a, P_l, P_a)\n",
    "N,n,l,a,P_l, P_a = sy.symbols('N,n,l,a,P_l, P_a')"
   ]
  },
  {
   "cell_type": "code",
   "execution_count": 18,
   "metadata": {
    "executionInfo": {
     "elapsed": 885,
     "status": "ok",
     "timestamp": 1676457766182,
     "user": {
      "displayName": "ericsson shek",
      "userId": "08913320947741528300"
     },
     "user_tz": -60
    },
    "id": "0QijWg1qP2OC"
   },
   "outputs": [],
   "source": [
    "# make a general expression for Binomial Distribution of Loss Error\n",
    "# (math.factorial(n) / (math.factorial(n-l)*math.factorial(l)))*(P_l)**l*(1-P_l)**(n-l)\n",
    "# n,l,P_l\n",
    "n, l, P_l = sy.symbols('n,l,P_l')\n",
    "#binomial(N,K)\n",
    "loss = binomial(n,l)*(P_l)**l*(1-P_l)**(n-l)"
   ]
  },
  {
   "cell_type": "code",
   "execution_count": 19,
   "metadata": {
    "executionInfo": {
     "elapsed": 4,
     "status": "ok",
     "timestamp": 1676457766183,
     "user": {
      "displayName": "ericsson shek",
      "userId": "08913320947741528300"
     },
     "user_tz": -60
    },
    "id": "NsgFjFujQwhG"
   },
   "outputs": [],
   "source": [
    "# make a general expression for Binomial Distribution of Add Error\n",
    "# (math.factorial(N-n) / (math.factorial(N-n-a)*math.factorial(a)))*(P_a)**a*(1-P_a)**(N-n-a)\n",
    "# N, n, a, P_a\n",
    "N, n, a, P_a = sy.symbols('N, n, a, P_a')\n",
    "add = binomial(N-n,a)*(P_a)**a*(1-P_a)**(N-n-a)"
   ]
  },
  {
   "cell_type": "code",
   "execution_count": 20,
   "metadata": {
    "executionInfo": {
     "elapsed": 2,
     "status": "ok",
     "timestamp": 1676457767015,
     "user": {
      "displayName": "ericsson shek",
      "userId": "08913320947741528300"
     },
     "user_tz": -60
    },
    "id": "80tVALF5Q97Y"
   },
   "outputs": [],
   "source": [
    "# substitute to get z_4 in parallel with z_{n-1} = z_n \n",
    "Loss = loss.subs([(n,n),(l,l), (P_l,P)])\n",
    "Add = add.subs([(N,N),(n,n), (a,a), (P_a,P)])"
   ]
  },
  {
   "cell_type": "code",
   "execution_count": 21,
   "metadata": {
    "colab": {
     "base_uri": "https://localhost:8080/",
     "height": 58
    },
    "executionInfo": {
     "elapsed": 380,
     "status": "ok",
     "timestamp": 1676457767393,
     "user": {
      "displayName": "ericsson shek",
      "userId": "08913320947741528300"
     },
     "user_tz": -60
    },
    "id": "aShGunChglgY",
    "outputId": "554d9bd8-8ddc-4a92-f074-f70e618bfdbf"
   },
   "outputs": [
    {
     "data": {
      "text/latex": [
       "$\\displaystyle P_{l}^{l} \\left(1 - P_{l}\\right)^{- l + n} {\\binom{n}{l}}$"
      ],
      "text/plain": [
       "P_l**l*(1 - P_l)**(-l + n)*binomial(n, l)"
      ]
     },
     "execution_count": 21,
     "metadata": {},
     "output_type": "execute_result"
    }
   ],
   "source": [
    "Loss"
   ]
  },
  {
   "cell_type": "code",
   "execution_count": 22,
   "metadata": {
    "colab": {
     "base_uri": "https://localhost:8080/",
     "height": 58
    },
    "executionInfo": {
     "elapsed": 12,
     "status": "ok",
     "timestamp": 1676457767394,
     "user": {
      "displayName": "ericsson shek",
      "userId": "08913320947741528300"
     },
     "user_tz": -60
    },
    "id": "qlFFefQgglgY",
    "outputId": "55ddda7d-682f-4fae-8a9a-ca6813bd1a95"
   },
   "outputs": [
    {
     "data": {
      "text/latex": [
       "$\\displaystyle P_{a}^{a} \\left(1 - P_{a}\\right)^{N - a - n} {\\binom{N - n}{a}}$"
      ],
      "text/plain": [
       "P_a**a*(1 - P_a)**(N - a - n)*binomial(N - n, a)"
      ]
     },
     "execution_count": 22,
     "metadata": {},
     "output_type": "execute_result"
    }
   ],
   "source": [
    "Add"
   ]
  },
  {
   "cell_type": "code",
   "execution_count": 23,
   "metadata": {
    "colab": {
     "base_uri": "https://localhost:8080/",
     "height": 58
    },
    "executionInfo": {
     "elapsed": 11,
     "status": "ok",
     "timestamp": 1676457767394,
     "user": {
      "displayName": "ericsson shek",
      "userId": "08913320947741528300"
     },
     "user_tz": -60
    },
    "id": "4Nzp5YMSglgY",
    "outputId": "3101b54d-9fbd-4388-ad4a-1f8b9bc5de69"
   },
   "outputs": [
    {
     "data": {
      "text/latex": [
       "$\\displaystyle P_{a}^{a} P_{l}^{l} \\left(1 - P_{a}\\right)^{N - a - n} \\left(1 - P_{l}\\right)^{- l + n} {\\binom{n}{l}} {\\binom{N - n}{a}}$"
      ],
      "text/plain": [
       "P_a**a*P_l**l*(1 - P_a)**(N - a - n)*(1 - P_l)**(-l + n)*binomial(n, l)*binomial(N - n, a)"
      ]
     },
     "execution_count": 23,
     "metadata": {},
     "output_type": "execute_result"
    }
   ],
   "source": [
    "Perr = Loss*Add\n",
    "Perr"
   ]
  },
  {
   "cell_type": "markdown",
   "metadata": {
    "id": "T8rOjNAgkTF5"
   },
   "source": [
    "# [1,2,4], 3 photons, 7 in length of the time bin"
   ]
  },
  {
   "cell_type": "code",
   "execution_count": 24,
   "metadata": {
    "executionInfo": {
     "elapsed": 9,
     "status": "ok",
     "timestamp": 1676457767970,
     "user": {
      "displayName": "ericsson shek",
      "userId": "08913320947741528300"
     },
     "user_tz": -60
    },
    "id": "JvHHQj99glgY"
   },
   "outputs": [],
   "source": [
    "Perr_1 = Perr.subs([(N,7),(n,3), (l, 0), (a, 0), (P_l, P), (P_a,P)])\n",
    "Perr_2 = Perr.subs([(N,7),(n,3), (l, 1), (a, 0), (P_l, P), (P_a,P)])\n",
    "Perr_3 = Perr.subs([(N,7),(n,3), (l, 0), (a, 1), (P_l, P), (P_a,P)])\n",
    "#Perr_plot0 = Perr_plot.args[0].args[1]\n",
    "#Perr_plot1 = Perr_plot.args[0].args[2]\n",
    "#p = plot(Perr_plot, show = False)"
   ]
  },
  {
   "cell_type": "code",
   "execution_count": 25,
   "metadata": {
    "colab": {
     "base_uri": "https://localhost:8080/",
     "height": 39
    },
    "executionInfo": {
     "elapsed": 9,
     "status": "ok",
     "timestamp": 1676457767971,
     "user": {
      "displayName": "ericsson shek",
      "userId": "08913320947741528300"
     },
     "user_tz": -60
    },
    "id": "xt0vEv5gglgY",
    "outputId": "0528bc87-cea2-4f3a-b690-8702b6cb801e"
   },
   "outputs": [
    {
     "data": {
      "text/latex": [
       "$\\displaystyle 4 P_{a} \\left(1 - P_{a}\\right)^{3} \\left(1 - P_{l}\\right)^{3} + 3 P_{l} \\left(1 - P_{a}\\right)^{4} \\left(1 - P_{l}\\right)^{2} + \\left(1 - P_{a}\\right)^{4} \\left(1 - P_{l}\\right)^{3}$"
      ],
      "text/plain": [
       "4*P_a*(1 - P_a)**3*(1 - P_l)**3 + 3*P_l*(1 - P_a)**4*(1 - P_l)**2 + (1 - P_a)**4*(1 - P_l)**3"
      ]
     },
     "execution_count": 25,
     "metadata": {},
     "output_type": "execute_result"
    }
   ],
   "source": [
    "P_Success = Perr_1 + Perr_2 + Perr_3\n",
    "P_Success"
   ]
  },
  {
   "cell_type": "code",
   "execution_count": 26,
   "metadata": {
    "colab": {
     "base_uri": "https://localhost:8080/",
     "height": 39
    },
    "executionInfo": {
     "elapsed": 9,
     "status": "ok",
     "timestamp": 1676457767972,
     "user": {
      "displayName": "ericsson shek",
      "userId": "08913320947741528300"
     },
     "user_tz": -60
    },
    "id": "Ov36JuKyglgZ",
    "outputId": "189f511a-25bd-40b6-dda8-9cbb713f5c52"
   },
   "outputs": [
    {
     "data": {
      "text/latex": [
       "$\\displaystyle - 4 P_{a} \\left(1 - P_{a}\\right)^{3} \\left(1 - P_{l}\\right)^{3} - 3 P_{l} \\left(1 - P_{a}\\right)^{4} \\left(1 - P_{l}\\right)^{2} - \\left(1 - P_{a}\\right)^{4} \\left(1 - P_{l}\\right)^{3} + 1$"
      ],
      "text/plain": [
       "-4*P_a*(1 - P_a)**3*(1 - P_l)**3 - 3*P_l*(1 - P_a)**4*(1 - P_l)**2 - (1 - P_a)**4*(1 - P_l)**3 + 1"
      ]
     },
     "execution_count": 26,
     "metadata": {},
     "output_type": "execute_result"
    }
   ],
   "source": [
    "P_Detect = 1 - P_Success\n",
    "P_Detect"
   ]
  },
  {
   "cell_type": "code",
   "execution_count": 1,
   "metadata": {
    "colab": {
     "base_uri": "https://localhost:8080/",
     "height": 339
    },
    "executionInfo": {
     "elapsed": 894,
     "status": "error",
     "timestamp": 1676457769274,
     "user": {
      "displayName": "ericsson shek",
      "userId": "08913320947741528300"
     },
     "user_tz": -60
    },
    "id": "BK4xs87YglgZ",
    "outputId": "d2d62348-2c8a-4e43-b8d0-eb1b399e28b4"
   },
   "outputs": [],
   "source": [
    "# p1 = sy.plotting.plot(P_Success, show = False)\n",
    "# #p2 = plot(P, show = False)\n",
    "# #p1.append(p2[0])\n",
    "# p1.show()"
   ]
  },
  {
   "cell_type": "code",
   "execution_count": null,
   "metadata": {},
   "outputs": [],
   "source": []
  },
  {
   "cell_type": "code",
   "execution_count": 22,
   "metadata": {},
   "outputs": [],
   "source": [
    "import matplotlib.pyplot as plt\n",
    "import pylab as p"
   ]
  },
  {
   "cell_type": "code",
   "execution_count": 19,
   "metadata": {},
   "outputs": [],
   "source": [
    "def Perr(N,n,l,a, P_l, P_a):\n",
    "  return combination(n,l) * (P_l)**l*(1-P_l)**(n-l) * combination(N-n,a) * math.factorial(a) * (P_a)**a*(1-P_a)**(N-n-a) "
   ]
  },
  {
   "cell_type": "code",
   "execution_count": 27,
   "metadata": {},
   "outputs": [
    {
     "ename": "AttributeError",
     "evalue": "module 'numpy' has no attribute 'Perr'",
     "output_type": "error",
     "traceback": [
      "\u001b[0;31m---------------------------------------------------------------------------\u001b[0m",
      "\u001b[0;31mAttributeError\u001b[0m                            Traceback (most recent call last)",
      "\u001b[0;32m<ipython-input-27-bee66d26c314>\u001b[0m in \u001b[0;36m<module>\u001b[0;34m\u001b[0m\n\u001b[1;32m      1\u001b[0m \u001b[0mP_a\u001b[0m \u001b[0;34m=\u001b[0m \u001b[0mnp\u001b[0m\u001b[0;34m.\u001b[0m\u001b[0mlinspace\u001b[0m\u001b[0;34m(\u001b[0m\u001b[0;36m0\u001b[0m\u001b[0;34m,\u001b[0m\u001b[0;36m0.2\u001b[0m\u001b[0;34m,\u001b[0m\u001b[0;36m1\u001b[0m\u001b[0;34m,\u001b[0m \u001b[0mendpoint\u001b[0m \u001b[0;34m=\u001b[0m \u001b[0;32mFalse\u001b[0m\u001b[0;34m)\u001b[0m\u001b[0;34m\u001b[0m\u001b[0;34m\u001b[0m\u001b[0m\n\u001b[0;32m----> 2\u001b[0;31m \u001b[0my1\u001b[0m \u001b[0;34m=\u001b[0m \u001b[0mnp\u001b[0m\u001b[0;34m.\u001b[0m\u001b[0mPerr\u001b[0m\u001b[0;34m(\u001b[0m\u001b[0;36m7\u001b[0m\u001b[0;34m,\u001b[0m\u001b[0;36m3\u001b[0m\u001b[0;34m,\u001b[0m\u001b[0;36m0\u001b[0m\u001b[0;34m,\u001b[0m\u001b[0;36m0\u001b[0m\u001b[0;34m,\u001b[0m\u001b[0;36m0.2\u001b[0m\u001b[0;34m,\u001b[0m\u001b[0mP_a\u001b[0m\u001b[0;34m)\u001b[0m\u001b[0;34m\u001b[0m\u001b[0;34m\u001b[0m\u001b[0m\n\u001b[0m\u001b[1;32m      3\u001b[0m \u001b[0mp\u001b[0m\u001b[0;34m.\u001b[0m\u001b[0mplot\u001b[0m\u001b[0;34m(\u001b[0m\u001b[0mP_a\u001b[0m\u001b[0;34m,\u001b[0m \u001b[0my1\u001b[0m\u001b[0;34m,\u001b[0m \u001b[0;34m'*'\u001b[0m\u001b[0;34m)\u001b[0m\u001b[0;34m\u001b[0m\u001b[0;34m\u001b[0m\u001b[0m\n\u001b[1;32m      4\u001b[0m \u001b[0mp\u001b[0m\u001b[0;34m.\u001b[0m\u001b[0mxlim\u001b[0m\u001b[0;34m(\u001b[0m\u001b[0;36m0\u001b[0m\u001b[0;34m,\u001b[0m \u001b[0;36m1\u001b[0m\u001b[0;34m)\u001b[0m\u001b[0;34m\u001b[0m\u001b[0;34m\u001b[0m\u001b[0m\n",
      "\u001b[0;32m~/opt/anaconda3/lib/python3.8/site-packages/numpy/__init__.py\u001b[0m in \u001b[0;36m__getattr__\u001b[0;34m(attr)\u001b[0m\n\u001b[1;32m    313\u001b[0m             \u001b[0;32mreturn\u001b[0m \u001b[0mTester\u001b[0m\u001b[0;34m\u001b[0m\u001b[0;34m\u001b[0m\u001b[0m\n\u001b[1;32m    314\u001b[0m \u001b[0;34m\u001b[0m\u001b[0m\n\u001b[0;32m--> 315\u001b[0;31m         raise AttributeError(\"module {!r} has no attribute \"\n\u001b[0m\u001b[1;32m    316\u001b[0m                              \"{!r}\".format(__name__, attr))\n\u001b[1;32m    317\u001b[0m \u001b[0;34m\u001b[0m\u001b[0m\n",
      "\u001b[0;31mAttributeError\u001b[0m: module 'numpy' has no attribute 'Perr'"
     ]
    }
   ],
   "source": [
    " \n",
    "P_a = np.linspace(0,0.2,1, endpoint = False)\n",
    "y1 = np.Perr(7,3,0,0,0.2,P_a)\n",
    "p.plot(P_a, y1, '*')\n",
    "p.xlim(0, 1)"
   ]
  },
  {
   "cell_type": "code",
   "execution_count": null,
   "metadata": {},
   "outputs": [],
   "source": []
  },
  {
   "cell_type": "code",
   "execution_count": null,
   "metadata": {},
   "outputs": [],
   "source": []
  },
  {
   "cell_type": "code",
   "execution_count": null,
   "metadata": {
    "executionInfo": {
     "elapsed": 9,
     "status": "aborted",
     "timestamp": 1676457769275,
     "user": {
      "displayName": "ericsson shek",
      "userId": "08913320947741528300"
     },
     "user_tz": -60
    },
    "id": "3inLXv-3qUec"
   },
   "outputs": [],
   "source": [
    "p1 = sy.plotting.plot(y, show = False)\n",
    "p2 = \n",
    "\n"
   ]
  },
  {
   "cell_type": "code",
   "execution_count": 28,
   "metadata": {
    "executionInfo": {
     "elapsed": 9,
     "status": "ok",
     "timestamp": 1676457769275,
     "user": {
      "displayName": "ericsson shek",
      "userId": "08913320947741528300"
     },
     "user_tz": -60
    },
    "id": "nXFfgu9xglgZ"
   },
   "outputs": [],
   "source": [
    "#loss = (P, binomial(3,1)*(P)**1*(1-P)**(3-1))\n",
    "#add = (P, binomial(7-3,1)*(P)**1*(1-P)**(7-3-1))\n",
    "\n",
    "#p = plot_parametric(loss, add, (p,0,1), line_color = 'blue')"
   ]
  },
  {
   "cell_type": "code",
   "execution_count": 29,
   "metadata": {
    "colab": {
     "base_uri": "https://localhost:8080/",
     "height": 200
    },
    "executionInfo": {
     "elapsed": 380,
     "status": "error",
     "timestamp": 1676457769646,
     "user": {
      "displayName": "ericsson shek",
      "userId": "08913320947741528300"
     },
     "user_tz": -60
    },
    "id": "_EqKIBVNglgZ",
    "outputId": "1d9de551-0fe3-42ac-c040-f3346a018092"
   },
   "outputs": [
    {
     "ename": "NameError",
     "evalue": "ignored",
     "output_type": "error",
     "traceback": [
      "\u001b[0;31m---------------------------------------------------------------------------\u001b[0m",
      "\u001b[0;31mNameError\u001b[0m                                 Traceback (most recent call last)",
      "\u001b[0;32m<ipython-input-29-1cde47b373ec>\u001b[0m in \u001b[0;36m<module>\u001b[0;34m\u001b[0m\n\u001b[0;32m----> 1\u001b[0;31m \u001b[0mz_plot\u001b[0m \u001b[0;34m=\u001b[0m \u001b[0mZrl\u001b[0m\u001b[0;34m.\u001b[0m\u001b[0msubs\u001b[0m\u001b[0;34m(\u001b[0m \u001b[0;34m[\u001b[0m\u001b[0;34m(\u001b[0m\u001b[0mL\u001b[0m\u001b[0;34m,\u001b[0m\u001b[0;36m1.\u001b[0m\u001b[0;34m)\u001b[0m\u001b[0;34m,\u001b[0m\u001b[0;34m(\u001b[0m\u001b[0mC\u001b[0m\u001b[0;34m,\u001b[0m\u001b[0;36m1.\u001b[0m\u001b[0;34m)\u001b[0m\u001b[0;34m]\u001b[0m\u001b[0;34m)\u001b[0m\u001b[0;34m\u001b[0m\u001b[0;34m\u001b[0m\u001b[0m\n\u001b[0m\u001b[1;32m      2\u001b[0m \u001b[0mz_plot0\u001b[0m \u001b[0;34m=\u001b[0m \u001b[0mz_plot\u001b[0m\u001b[0;34m.\u001b[0m\u001b[0margs\u001b[0m\u001b[0;34m[\u001b[0m\u001b[0;36m0\u001b[0m\u001b[0;34m]\u001b[0m\u001b[0;34m.\u001b[0m\u001b[0margs\u001b[0m\u001b[0;34m[\u001b[0m\u001b[0;36m0\u001b[0m\u001b[0;34m]\u001b[0m\u001b[0;34m\u001b[0m\u001b[0;34m\u001b[0m\u001b[0m\n\u001b[1;32m      3\u001b[0m \u001b[0mz_plot1\u001b[0m \u001b[0;34m=\u001b[0m \u001b[0mz_plot\u001b[0m\u001b[0;34m.\u001b[0m\u001b[0margs\u001b[0m\u001b[0;34m[\u001b[0m\u001b[0;36m0\u001b[0m\u001b[0;34m]\u001b[0m\u001b[0;34m.\u001b[0m\u001b[0margs\u001b[0m\u001b[0;34m[\u001b[0m\u001b[0;36m1\u001b[0m\u001b[0;34m]\u001b[0m\u001b[0;34m\u001b[0m\u001b[0;34m\u001b[0m\u001b[0m\n",
      "\u001b[0;31mNameError\u001b[0m: name 'Zrl' is not defined"
     ]
    }
   ],
   "source": [
    "z_plot = Zrl.subs( [(L,1.),(C,1.)])\n",
    "z_plot0 = z_plot.args[0].args[0]\n",
    "z_plot1 = z_plot.args[0].args[1]"
   ]
  },
  {
   "cell_type": "code",
   "execution_count": 30,
   "metadata": {
    "colab": {
     "base_uri": "https://localhost:8080/",
     "height": 131
    },
    "executionInfo": {
     "elapsed": 4,
     "status": "error",
     "timestamp": 1676457770012,
     "user": {
      "displayName": "ericsson shek",
      "userId": "08913320947741528300"
     },
     "user_tz": -60
    },
    "id": "CXd9KTrmglgZ",
    "outputId": "f406e021-5d4e-4271-84b0-35678e3473a7"
   },
   "outputs": [
    {
     "ename": "SyntaxError",
     "evalue": "ignored",
     "output_type": "error",
     "traceback": [
      "\u001b[0;36m  File \u001b[0;32m\"<ipython-input-30-aae635081ba8>\"\u001b[0;36m, line \u001b[0;32m1\u001b[0m\n\u001b[0;31m    p0 = sy.plot(sy.(z_plot0),(w,0,4.), show=False, line_color='C0', label='Re Z', legend=True,\u001b[0m\n\u001b[0m                    ^\u001b[0m\n\u001b[0;31mSyntaxError\u001b[0m\u001b[0;31m:\u001b[0m invalid syntax\n"
     ]
    }
   ],
   "source": [
    "p0 = sy.plot(sy.(z_plot0),(w,0,4.), show=False, line_color='C0', label='Re Z', legend=True,\n",
    "            xlabel='$\\omega L$', ylabel='$Z / Z_c$', title='first solution[0]')"
   ]
  },
  {
   "cell_type": "markdown",
   "metadata": {
    "id": "kPjlAjyeQRTW"
   },
   "source": [
    "# Draft"
   ]
  },
  {
   "cell_type": "code",
   "execution_count": null,
   "metadata": {
    "executionInfo": {
     "elapsed": 2776,
     "status": "aborted",
     "timestamp": 1676457746961,
     "user": {
      "displayName": "ericsson shek",
      "userId": "08913320947741528300"
     },
     "user_tz": -60
    },
    "id": "22KUvn_4NPH2"
   },
   "outputs": [],
   "source": [
    "# substitute to get z_4 in parallel with z_{n-1} = z_n \n",
    "Zp_4n = parallel.subs([(a,Z4),(b,Zn)])\n",
    "Zs_34n = series.subs([(c,Z3),(d,Zp_4n)])\n",
    "\n",
    "Zp_234n = parallel.subs([(a,Z2),(b,Zs_34n)])\n",
    "Zs_1234n = series.subs([(c,Z1),(d,Zp_234n)])\n",
    "\n",
    "\n",
    "L, C, w = sy.symbols('L, C, w')\n",
    "Zrl = Zn.subs( [ (Z1,sy.I*w*L), (Z2,1/(sy.I*w*C)),(Z3,sy.I*2*w*L), (Z4,1/(sy.I*2*w*C))  ] )\n",
    "Zrl\n",
    "\n",
    "z_plot = Zrl.subs( [(L,1.),(C,1.)])\n",
    "z_plot0 = z_plot.args[0].args[0]\n",
    "z_plot1 = z_plot.args[0].args[1]\n",
    "\n",
    "p0 = sy.plot(sy.re(z_plot0),(w,0,4.), show=False, line_color='C0', label='Re Z', legend=True,\n",
    "            xlabel='$\\omega L$', ylabel='$Z / Z_c$', title='first solution[0]')\n",
    "p0im = sy.plot(sy.im(z_plot0),(w,0,4.), show=False, line_color='C1', label='Im Z', legend=True)\n",
    "\n",
    "p1 = sy.plot(sy.re(z_plot1),(w,0,4.), show=False, line_color='C0', label='Re Z', legend=True,\n",
    "            xlabel='$\\omega L$', ylabel='$Z / Z_c$', title='second solution[1]')\n",
    "p1im = sy.plot(sy.im(z_plot1),(w,0,4.), show=False, line_color='C1', label='Im Z', legend=True)\n",
    "\n",
    "p0.extend(p0im)\n",
    "p1.extend(p1im)\n",
    "\n",
    "p0.show()\n",
    "p1.show()"
   ]
  },
  {
   "cell_type": "code",
   "execution_count": null,
   "metadata": {
    "executionInfo": {
     "elapsed": 2770,
     "status": "aborted",
     "timestamp": 1676457746961,
     "user": {
      "displayName": "ericsson shek",
      "userId": "08913320947741528300"
     },
     "user_tz": -60
    },
    "id": "QxDHFoGvL8kc"
   },
   "outputs": [],
   "source": [
    "n = 3\n",
    "k = 1\n",
    "p = 0.3\n",
    "binom.pmf(k, n, p)"
   ]
  },
  {
   "cell_type": "code",
   "execution_count": null,
   "metadata": {
    "executionInfo": {
     "elapsed": 2768,
     "status": "aborted",
     "timestamp": 1676457746961,
     "user": {
      "displayName": "ericsson shek",
      "userId": "08913320947741528300"
     },
     "user_tz": -60
    },
    "id": "WLEWuV72MRQy"
   },
   "outputs": [],
   "source": [
    "# for N in range (1, 7):\n",
    "#   for n in range(1,4):\n",
    "#     (n,N)\n",
    "# print(n,N)"
   ]
  },
  {
   "cell_type": "code",
   "execution_count": null,
   "metadata": {
    "executionInfo": {
     "elapsed": 2767,
     "status": "aborted",
     "timestamp": 1676457746962,
     "user": {
      "displayName": "ericsson shek",
      "userId": "08913320947741528300"
     },
     "user_tz": -60
    },
    "id": "O_DJdxdBMQQH"
   },
   "outputs": [],
   "source": [
    "# for N in range (1, 7):\n",
    "#   for n in range(1,3):\n",
    "#     for l in range(1,3):\n",
    "#       X = Perr(N,n,l,a, P_l, P_a)\n",
    "# binDist = density(X).dict"
   ]
  },
  {
   "cell_type": "code",
   "execution_count": null,
   "metadata": {
    "executionInfo": {
     "elapsed": 4,
     "status": "aborted",
     "timestamp": 1676457747403,
     "user": {
      "displayName": "ericsson shek",
      "userId": "08913320947741528300"
     },
     "user_tz": -60
    },
    "id": "lj3J_RdeMUpW"
   },
   "outputs": [],
   "source": [
    "from sympy.abc import x, y\n",
    "from sympy import solve"
   ]
  },
  {
   "cell_type": "code",
   "execution_count": null,
   "metadata": {
    "executionInfo": {
     "elapsed": 4,
     "status": "aborted",
     "timestamp": 1676457747403,
     "user": {
      "displayName": "ericsson shek",
      "userId": "08913320947741528300"
     },
     "user_tz": -60
    },
    "id": "2h4Lrcs1MVlH"
   },
   "outputs": [],
   "source": [
    "solve(x**2 - y, x, dict=True)"
   ]
  },
  {
   "cell_type": "code",
   "execution_count": null,
   "metadata": {
    "executionInfo": {
     "elapsed": 4,
     "status": "aborted",
     "timestamp": 1676457747403,
     "user": {
      "displayName": "ericsson shek",
      "userId": "08913320947741528300"
     },
     "user_tz": -60
    },
    "id": "SdHUjo7QMWiS"
   },
   "outputs": [],
   "source": [
    "from sympy import * \n",
    "  \n",
    "N = 7\n",
    "K = 3 \n",
    "print(\"N = {}, K = {}\".format(N, K))\n",
    "   \n",
    "# Use sympy.binomial() method \n",
    "comb = binomial(N, K)  \n",
    "      \n",
    "print(\"N choose K : {}\".format(comb)) "
   ]
  },
  {
   "cell_type": "code",
   "execution_count": null,
   "metadata": {
    "executionInfo": {
     "elapsed": 5,
     "status": "aborted",
     "timestamp": 1676457747404,
     "user": {
      "displayName": "ericsson shek",
      "userId": "08913320947741528300"
     },
     "user_tz": -60
    },
    "id": "_VjcIh5gMXaL"
   },
   "outputs": [],
   "source": [
    "from sympy import * \n",
    "  \n",
    "N, K = symbols('A B')\n",
    "  \n",
    "print(\"N = {}, K = {}\".format(N, K))\n",
    "   \n",
    "# Use sympy.binomial() method \n",
    "comb = binomial(N, K)  \n",
    "      \n",
    "print(\"N choose K : {}\".format(comb))"
   ]
  },
  {
   "cell_type": "code",
   "execution_count": null,
   "metadata": {
    "executionInfo": {
     "elapsed": 5,
     "status": "aborted",
     "timestamp": 1676457747404,
     "user": {
      "displayName": "ericsson shek",
      "userId": "08913320947741528300"
     },
     "user_tz": -60
    },
    "id": "-tCoSbLJMYt4"
   },
   "outputs": [],
   "source": [
    "# Import sympy, Binomial, density\n",
    "from sympy.stats import Binomial, density\n",
    "\n",
    "# Using sympy.stats.Binomial() method\n",
    "X = Binomial('X', 4, 1 / 3)\n",
    "binDist = density(X).dict\n",
    "\n",
    "print(binDist)\n"
   ]
  },
  {
   "cell_type": "code",
   "execution_count": null,
   "metadata": {
    "executionInfo": {
     "elapsed": 5,
     "status": "aborted",
     "timestamp": 1676457747404,
     "user": {
      "displayName": "ericsson shek",
      "userId": "08913320947741528300"
     },
     "user_tz": -60
    },
    "id": "spG_sjjUMZks"
   },
   "outputs": [],
   "source": [
    "d = density(X)\n",
    "u = np.arange(0,100)\n",
    "v = [d(i) for i in u]\n",
    "\n",
    "pyplot.plot(u,v)"
   ]
  },
  {
   "cell_type": "code",
   "execution_count": null,
   "metadata": {
    "executionInfo": {
     "elapsed": 5,
     "status": "aborted",
     "timestamp": 1676457747404,
     "user": {
      "displayName": "ericsson shek",
      "userId": "08913320947741528300"
     },
     "user_tz": -60
    },
    "id": "JjapX8kqMafu"
   },
   "outputs": [],
   "source": [
    "# Using sympy.stats.Binomial() method\n",
    "Error = Binomial('X', 4, 1 / 3)\n",
    "binDist = density(X).dict\n",
    "\n",
    "print(binDist)"
   ]
  },
  {
   "cell_type": "code",
   "execution_count": null,
   "metadata": {
    "executionInfo": {
     "elapsed": 6,
     "status": "aborted",
     "timestamp": 1676457747405,
     "user": {
      "displayName": "ericsson shek",
      "userId": "08913320947741528300"
     },
     "user_tz": -60
    },
    "id": "K72az0m1MbjR"
   },
   "outputs": [],
   "source": [
    "\n",
    "\n",
    "X = Binomial('X', 100 ,  S.Half, 1, 0)\n",
    "\n",
    "d = density(X)\n",
    "u = np.arange(0,100)\n",
    "v1 = [d(i) for i in u]\n",
    "\n",
    "pyplot.plot(u,v1)"
   ]
  },
  {
   "cell_type": "code",
   "execution_count": null,
   "metadata": {
    "executionInfo": {
     "elapsed": 6,
     "status": "aborted",
     "timestamp": 1676457747405,
     "user": {
      "displayName": "ericsson shek",
      "userId": "08913320947741528300"
     },
     "user_tz": -60
    },
    "id": "Z7gSYbGYMfgV"
   },
   "outputs": [],
   "source": [
    "n = [1, 2, 4, 7, 12, 20, 29, 38, 52, 73, 94, 127, 151, 181, 211] \n",
    "T = [1, 3, 7, 14, 26, 46, 75, 113, 165, 238, 332, 459, 610, 791, 1002]\n",
    "\n",
    "#number of loss\n",
    "l = np.arange(0,4)\n",
    "#number of photon\n",
    "for n in range(2,7):\n",
    "  #number of time bin\n",
    "  #TimeBin = T[n-1]\n",
    "  v1 = [LossDistribute(TimeBin, i, 0.3) for i in l]\n",
    "\n",
    "pyplot.plot(l,v1)\n"
   ]
  },
  {
   "cell_type": "code",
   "execution_count": null,
   "metadata": {
    "executionInfo": {
     "elapsed": 6,
     "status": "aborted",
     "timestamp": 1676457747405,
     "user": {
      "displayName": "ericsson shek",
      "userId": "08913320947741528300"
     },
     "user_tz": -60
    },
    "id": "1ph_kj3WMnGR"
   },
   "outputs": [],
   "source": [
    "# Using sympy.stats.Binomial() method\n",
    "Error = Binomial('X', 4, 1 / 3)\n",
    "binDist = density(X).dict\n",
    "\n",
    "print(binDist)"
   ]
  },
  {
   "cell_type": "code",
   "execution_count": null,
   "metadata": {
    "executionInfo": {
     "elapsed": 5,
     "status": "aborted",
     "timestamp": 1676457747405,
     "user": {
      "displayName": "ericsson shek",
      "userId": "08913320947741528300"
     },
     "user_tz": -60
    },
    "id": "1K5x57GEMoLL"
   },
   "outputs": [],
   "source": [
    "l = [1,2,3]\n",
    "p_l = []\n",
    "for l in range (0,5):\n",
    "  for P_l in range (0,2):\n",
    "    print(LossDistribute(7,n,P_l))\n",
    "\n",
    "\n",
    "\n",
    "    "
   ]
  },
  {
   "cell_type": "code",
   "execution_count": null,
   "metadata": {
    "executionInfo": {
     "elapsed": 6,
     "status": "aborted",
     "timestamp": 1676457747406,
     "user": {
      "displayName": "ericsson shek",
      "userId": "08913320947741528300"
     },
     "user_tz": -60
    },
    "id": "_gx5zyeqMpWw"
   },
   "outputs": [],
   "source": [
    "from scipy.stats import binom\n",
    "# setting the values\n",
    "# of n and p\n",
    "n = 6\n",
    "p = 0.6\n",
    "# defining the list of r values\n",
    "r_values = list(range(n + 1))\n",
    "# obtaining the mean and variance\n",
    "mean, var = binom.stats(n, p)\n",
    "# list of pmf values\n",
    "dist = [binom.pmf(r, n, p) for r in r_values ]\n",
    "# printing the table\n",
    "print(\"r\\tp(r)\")\n",
    "for i in range(n + 1):\n",
    "\tprint(str(r_values[i]) + \"\\t\" + str(dist[i]))\n",
    "# printing mean and variance\n",
    "print(\"mean = \"+str(mean))\n",
    "print(\"variance = \"+str(var))\n"
   ]
  },
  {
   "cell_type": "code",
   "execution_count": null,
   "metadata": {
    "executionInfo": {
     "elapsed": 6,
     "status": "aborted",
     "timestamp": 1676457747406,
     "user": {
      "displayName": "ericsson shek",
      "userId": "08913320947741528300"
     },
     "user_tz": -60
    },
    "id": "VwTSBeB-MqzP"
   },
   "outputs": [],
   "source": [
    "from scipy.stats import binom\n",
    "import matplotlib.pyplot as plt\n",
    "# setting the values\n",
    "# of n and p\n",
    "n = 6\n",
    "p = 0.6\n",
    "# defining list of r values\n",
    "r_values = list(range(n + 1))\n",
    "# list of pmf values\n",
    "dist = [binom.pmf(r, n, p) for r in r_values ]\n",
    "# plotting the graph\n",
    "plt.bar(r_values, dist)\n",
    "plt.show()\n"
   ]
  },
  {
   "cell_type": "code",
   "execution_count": null,
   "metadata": {
    "executionInfo": {
     "elapsed": 6,
     "status": "aborted",
     "timestamp": 1676457747406,
     "user": {
      "displayName": "ericsson shek",
      "userId": "08913320947741528300"
     },
     "user_tz": -60
    },
    "id": "QB61EPxCMr1U"
   },
   "outputs": [],
   "source": []
  }
 ],
 "metadata": {
  "colab": {
   "provenance": []
  },
  "kernelspec": {
   "display_name": "Python 3",
   "language": "python",
   "name": "python3"
  },
  "language_info": {
   "codemirror_mode": {
    "name": "ipython",
    "version": 3
   },
   "file_extension": ".py",
   "mimetype": "text/x-python",
   "name": "python",
   "nbconvert_exporter": "python",
   "pygments_lexer": "ipython3",
   "version": "3.8.5"
  }
 },
 "nbformat": 4,
 "nbformat_minor": 4
}
