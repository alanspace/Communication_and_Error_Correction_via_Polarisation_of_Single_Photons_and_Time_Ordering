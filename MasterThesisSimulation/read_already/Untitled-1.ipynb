{
 "cells": [
  {
   "cell_type": "code",
   "execution_count": 1,
   "metadata": {},
   "outputs": [],
   "source": [
    "import numpy as np\n",
    "import matplotlib.pyplot as plt\n",
    "import itertools\n",
    "import math\n",
    "from pyparsing import python_style_comment\n",
    "from itertools import islice\n",
    "import scipy.sparse as sps\n",
    "from scipy.sparse import diags\n",
    "from functools import lru_cache\n",
    "import pandas as pd"
   ]
  },
  {
   "cell_type": "code",
   "execution_count": 25,
   "metadata": {},
   "outputs": [],
   "source": [
    "comb_cache = {}\n",
    "comb_n_cache = {}\n",
    "comb_n_M_minus_n_cache = {}\n",
    "\n",
    "def compute_M_OOK(n_OOK):\n",
    "  M_OOK = n_OOK * 2\n",
    "  return M_OOK\n",
    "\n",
    "#we need combination to calculate Loss_Disitribution, Add_Distribution, P_err\n",
    "# define a separate function for computing the sequence of terms used in N\n",
    "# def combination_OOK(n_OOK, M_OOK):\n",
    "#     M_OOK = n_OOK * 2\n",
    "#     return math.factorial((M_OOK)) // (math.factorial((M_OOK - n_OOK)) * math.factorial((n_OOK)))\n",
    "\n",
    "def combination_OOK(n, r):\n",
    "    if (n, r) in comb_cache:\n",
    "        return comb_cache[(n, r)]\n",
    "    else:\n",
    "        comb = math.factorial(n) // (math.factorial(n-r) * math.factorial(r))\n",
    "        comb_cache[(n, r)] = comb\n",
    "        return comb\n",
    "    \n",
    "# We need LossDisitribution, AddDistribution, Perr to calculate PSuccess0, PSuccess1, PSuccess2 and so on\n",
    "# define a separate function for computing the loss distribution\n",
    "\n",
    "def Loss_Distribute_OOK(n_OOK, P_l, l):\n",
    "    return combination_OOK(n_OOK, l) * (P_l)**l * (1 - P_l)**(n_OOK - l)\n",
    "\n",
    "def Add_Distribute_OOK(n_OOK, M_OOK, P_a, a):\n",
    "    return combination_OOK(M_OOK - n_OOK, a) * (P_a)**a * (1 - P_a)**(M_OOK - n_OOK - a)\n",
    "\n",
    "# define a separate function for computing the probability of error\n",
    "def P_err_OOK(n_OOK, M_OOK, P_l, P_a,l,a):\n",
    "  return Loss_Distribute_OOK(n_OOK,P_l,l) * Add_Distribute_OOK(n_OOK, M_OOK, P_a, a)\n",
    "\n",
    "def P_Success_OOK_0(n_OOK,M_OOK, P_l,P_a,l,a):\n",
    "  return P_err_OOK(n_OOK,M_OOK, P_l, P_a, l=0, a=0) \n",
    "\n",
    "def P_Success_OOK_1(n_OOK,M_OOK, P_l,P_a,l,a):\n",
    "  P0 = P_Success_OOK_0(n_OOK,M_OOK, P_l,P_a,l,a)\n",
    "  P1 = P_err_OOK(n_OOK,M_OOK, P_l, P_a, l=0, a=1)  + P_err_OOK(n_OOK,M_OOK, P_l, P_a, l=1, a=0) \n",
    "  return P0 + P1\n",
    "\n",
    "def P_D_OOK(n_OOK,M_OOK, P_l,P_a, l=0,a=0):\n",
    "  return 1 - P_Success_OOK_1(n_OOK,M_OOK, P_l,P_a, l, a)\n",
    "\n",
    "def P_AB_OOK_diagonal(n_OOK, P_D_OOK) :\n",
    "    M_OOK = n_OOK * 2\n",
    "    diag_data = ( 1 / (2**M_OOK) ) # * (P_D_OOK ** n_OOK)  #    #  1/ (2**n_OOK) # probability\n",
    "    return diag_data\n",
    "\n",
    "# sum over the elements in rows in the probability matrix P_AB\n",
    "def P_A_OOK_diagonal(P_AB_OOK_diagonal, P_D_OOK):\n",
    "    if P_D_OOK == 1:\n",
    "        return [1 for row in P_AB_OOK_diagonal]\n",
    "    else:\n",
    "        return [sum(row) for row in P_AB_OOK_diagonal] \n",
    "    \n",
    "# sum over the elements in columns in the probability matrix P_AB\n",
    "def P_B_OOK_diagonal(P_AB_OOK_diagonal, P_D_OOK):\n",
    "    if P_D_OOK == 1:\n",
    "        return [1 for col in zip(*P_AB_OOK_diagonal)]\n",
    "    else:\n",
    "        return [sum(col) for col in zip(*P_AB_OOK_diagonal)]\n",
    "\n",
    "def H_AB_OOK_diagonal(P_AB_OOK_diagonal, n_OOK):\n",
    "    P_AB_OOK_diagonal = np.where(P_AB_OOK_diagonal == 0, 1e-9, P_AB_OOK_diagonal)  # replace zero values with 1e-9\n",
    "    H_OOK = - (P_AB_OOK_diagonal * np.log2(P_AB_OOK_diagonal)).sum() # 2**n_OOK *\n",
    "    return H_OOK\n",
    "\n",
    "def I_AB_OOK_diagonal(P_AB_OOK_diagonal, n_OOK, P_D_OOK):\n",
    "    M_OOK = n_OOK * 2\n",
    "    H_AB_OOK_diag = H_AB_OOK_diagonal(P_AB_OOK_diagonal, n_OOK)\n",
    "    I_AB =  (2**M_OOK) * H_AB_OOK_diag *(1-P_D_OOK) \n",
    "    return I_AB"
   ]
  },
  {
   "cell_type": "code",
   "execution_count": 26,
   "metadata": {},
   "outputs": [],
   "source": [
    "I_AB_OOK_list_0 = []\n",
    "I_AB_OOK_list_0_1 = []\n",
    "\n",
    "IperPhoton_AB_OOK_list_0 = []\n",
    "IperTimeBin_AB_OOK_list_0 = []\n",
    "IperPhotonTimeBin_AB_OOK_list_0 = []\n",
    "\n",
    "IperPhoton_AB_OOK_list_0_1 = []\n",
    "IperTimeBin_AB_OOK_list_0_1 = []\n",
    "IperPhotonTimeBin_AB_OOK_list_0_1 = []\n",
    "\n",
    "TimeBin_OOK_list_0 = []\n",
    "TimeBin_OOK_list_0_1 = []\n",
    "\n",
    "# for n_OOK in range(3,167):\n",
    "n_OOK = 1\n",
    "P = 0\n",
    "M_OOK = compute_M_OOK(n_OOK)\n",
    "TimeBin_OOK_list_0.append(M_OOK)\n",
    "P_D_OOK_val = P_D_OOK(n_OOK, M_OOK, P, 0, 0, 0)\n",
    "P_AB_OOK_val = P_AB_OOK_diagonal(n_OOK, P_D_OOK_val)\n",
    "H_AB_OOK_val = H_AB_OOK_diagonal(P_AB_OOK_val, n_OOK)\n",
    "I_AB_OOK_val = I_AB_OOK_diagonal(P_AB_OOK_val, n_OOK, P_D_OOK_val)\n",
    "I_AB_OOK_list_0.append(I_AB_OOK_val)\n",
    "\n",
    "IperPhoton_AB_OOK_val = I_AB_OOK_diagonal(P_AB_OOK_val, n_OOK, P_D_OOK_val) / n_OOK\n",
    "IperPhoton_AB_OOK_list_0.append(IperPhoton_AB_OOK_val)\n",
    "\n",
    "IperTimeBin_AB_OOK_val = I_AB_OOK_diagonal(P_AB_OOK_val, n_OOK, P_D_OOK_val) / M_OOK\n",
    "IperTimeBin_AB_OOK_list_0.append(IperTimeBin_AB_OOK_val)\n",
    "\n",
    "IperPhotonTimeBin_AB_OOK_val = I_AB_OOK_diagonal(P_AB_OOK_val, n_OOK, P_D_OOK_val)/ (n_OOK * M_OOK)\n",
    "IperPhotonTimeBin_AB_OOK_list_0.append(IperPhotonTimeBin_AB_OOK_val)\n",
    "\n",
    "# for n_OOK in range(3, 167):\n",
    "n_OOK =  1\n",
    "P = 0.1\n",
    "M_OOK = compute_M_OOK(n_OOK)\n",
    "TimeBin_OOK_list_0_1.append(M_OOK)\n",
    "P_D_OOK_val = P_D_OOK(n_OOK, M_OOK, P, 0, 0, 0)\n",
    "P_AB_OOK_val = P_AB_OOK_diagonal(n_OOK, P_D_OOK_val)\n",
    "H_AB_OOK_val = H_AB_OOK_diagonal(P_AB_OOK_val, n_OOK)\n",
    "I_AB_OOK_val = I_AB_OOK_diagonal(P_AB_OOK_val, n_OOK, P_D_OOK_val)\n",
    "I_AB_OOK_list_0_1.append(I_AB_OOK_val)\n",
    "\n",
    "IperPhoton_AB_OOK_val = I_AB_OOK_diagonal(P_AB_OOK_val, n_OOK, P_D_OOK_val) / n_OOK\n",
    "IperPhoton_AB_OOK_list_0_1.append(IperPhoton_AB_OOK_val)\n",
    "\n",
    "IperTimeBin_AB_OOK_val = I_AB_OOK_diagonal(P_AB_OOK_val, n_OOK, P_D_OOK_val) / M_OOK\n",
    "IperTimeBin_AB_OOK_list_0_1.append(IperTimeBin_AB_OOK_val)\n",
    "\n",
    "IperPhotonTimeBin_AB_OOK_val = I_AB_OOK_diagonal(P_AB_OOK_val, n_OOK, P_D_OOK_val)/ (n_OOK * M_OOK)\n",
    "IperPhotonTimeBin_AB_OOK_list_0_1.append(IperPhotonTimeBin_AB_OOK_val)"
   ]
  },
  {
   "cell_type": "code",
   "execution_count": 27,
   "metadata": {},
   "outputs": [
    {
     "name": "stdout",
     "output_type": "stream",
     "text": [
      "[2]\n",
      "2\n"
     ]
    },
    {
     "data": {
      "text/plain": [
       "(None, None)"
      ]
     },
     "execution_count": 27,
     "metadata": {},
     "output_type": "execute_result"
    }
   ],
   "source": [
    "print(TimeBin_OOK_list_0), print(TimeBin_OOK_list_0[-1])"
   ]
  },
  {
   "cell_type": "code",
   "execution_count": 28,
   "metadata": {},
   "outputs": [
    {
     "name": "stdout",
     "output_type": "stream",
     "text": [
      "[2]\n",
      "2\n"
     ]
    },
    {
     "data": {
      "text/plain": [
       "(None, None)"
      ]
     },
     "execution_count": 28,
     "metadata": {},
     "output_type": "execute_result"
    }
   ],
   "source": [
    "print(TimeBin_OOK_list_0_1), print(TimeBin_OOK_list_0[-1])"
   ]
  },
  {
   "cell_type": "code",
   "execution_count": 29,
   "metadata": {},
   "outputs": [
    {
     "data": {
      "text/plain": [
       "Text(2, 2.0, '2.0')"
      ]
     },
     "execution_count": 29,
     "metadata": {},
     "output_type": "execute_result"
    },
    {
     "data": {
      "image/png": "[encoded data removed]",
      "text/plain": [
       "<Figure size 2000x1000 with 1 Axes>"
      ]
     },
     "metadata": {},
     "output_type": "display_data"
    }
   ],
   "source": [
    "figure, axis = plt.subplots(1,1,figsize=(20,10))\n",
    "\n",
    "plt.scatter(TimeBin_OOK_list_0, IperPhoton_AB_OOK_list_0, label='I_AB_OOK per Photonat at P = 0', color ='blue', linewidth=3, alpha=1)\n",
    "plt.scatter(TimeBin_OOK_list_0_1, IperPhoton_AB_OOK_list_0_1, label='I_AB_OOK per Photon at P = 0.1', color ='red', linewidth=3, alpha=1)\n",
    "plt.title('Mutual Information per Photon of OOK  (3 \\u2264 n \\u2264 166) Vs. Number of Time Bin per Code Word at P = 0, 0.1', fontsize='x-large')\n",
    "plt.xlabel('M (s) ', fontsize = 14)\n",
    "plt.ylabel('mutual Information per Photon (Bit/Joule)', fontsize = 14)\n",
    "plt.grid(True)\n",
    "plt.legend(fontsize=14)\n",
    "\n",
    "plt.text(TimeBin_OOK_list_0[0], IperPhoton_AB_OOK_list_0[0], IperPhoton_AB_OOK_list_0[0], size=12)\n",
    "plt.text(TimeBin_OOK_list_0_1[0], IperPhoton_AB_OOK_list_0_1[0], IperPhoton_AB_OOK_list_0_1[0], size=12)\n",
    "#for index in range(0,21): # len(TimeBin_OOK_list_0)\n",
    "# plt.text(TimeBin_OOK_list_0[index], IperPhoton_AB_OOK_list_0[index], round(IperPhoton_AB_OOK_list_0[index],1), size=12)\n",
    "\n",
    "# for index in range(0,21): # (len(TimeBin_OOK_list_0_1)\n",
    "# plt.text(TimeBin_OOK_list_0_1[index], IperPhoton_AB_OOK_list_0_1[index], round(IperPhoton_AB_OOK_list_0_1[index],1), size=12)"
   ]
  },
  {
   "attachments": {},
   "cell_type": "markdown",
   "metadata": {},
   "source": [
    "Transition Probability in Markov Chain  "
   ]
  },
  {
   "cell_type": "code",
   "execution_count": 32,
   "metadata": {},
   "outputs": [
    {
     "ename": "TypeError",
     "evalue": "ord() expected a character, but string of length 2 found",
     "output_type": "error",
     "traceback": [
      "\u001b[1;31m---------------------------------------------------------------------------\u001b[0m",
      "\u001b[1;31mTypeError\u001b[0m                                 Traceback (most recent call last)",
      "Cell \u001b[1;32mIn[32], line 6\u001b[0m\n\u001b[0;32m      3\u001b[0m \u001b[39mdef\u001b[39;00m \u001b[39mrank\u001b[39m(c):\n\u001b[0;32m      4\u001b[0m     \u001b[39mreturn\u001b[39;00m \u001b[39mord\u001b[39m(c) \u001b[39m-\u001b[39m \u001b[39mord\u001b[39m(\u001b[39m'\u001b[39m\u001b[39mA\u001b[39m\u001b[39m'\u001b[39m)\n\u001b[1;32m----> 6\u001b[0m T \u001b[39m=\u001b[39m [rank(c) \u001b[39mfor\u001b[39;00m c \u001b[39min\u001b[39;00m transitions]\n\u001b[0;32m      8\u001b[0m \u001b[39m#create matrix of zeros\u001b[39;00m\n\u001b[0;32m     10\u001b[0m M \u001b[39m=\u001b[39m [[\u001b[39m0\u001b[39m]\u001b[39m*\u001b[39m\u001b[39m4\u001b[39m \u001b[39mfor\u001b[39;00m _ \u001b[39min\u001b[39;00m \u001b[39mrange\u001b[39m(\u001b[39m4\u001b[39m)]\n",
      "Cell \u001b[1;32mIn[32], line 6\u001b[0m, in \u001b[0;36m<listcomp>\u001b[1;34m(.0)\u001b[0m\n\u001b[0;32m      3\u001b[0m \u001b[39mdef\u001b[39;00m \u001b[39mrank\u001b[39m(c):\n\u001b[0;32m      4\u001b[0m     \u001b[39mreturn\u001b[39;00m \u001b[39mord\u001b[39m(c) \u001b[39m-\u001b[39m \u001b[39mord\u001b[39m(\u001b[39m'\u001b[39m\u001b[39mA\u001b[39m\u001b[39m'\u001b[39m)\n\u001b[1;32m----> 6\u001b[0m T \u001b[39m=\u001b[39m [rank(c) \u001b[39mfor\u001b[39;00m c \u001b[39min\u001b[39;00m transitions]\n\u001b[0;32m      8\u001b[0m \u001b[39m#create matrix of zeros\u001b[39;00m\n\u001b[0;32m     10\u001b[0m M \u001b[39m=\u001b[39m [[\u001b[39m0\u001b[39m]\u001b[39m*\u001b[39m\u001b[39m4\u001b[39m \u001b[39mfor\u001b[39;00m _ \u001b[39min\u001b[39;00m \u001b[39mrange\u001b[39m(\u001b[39m4\u001b[39m)]\n",
      "Cell \u001b[1;32mIn[32], line 4\u001b[0m, in \u001b[0;36mrank\u001b[1;34m(c)\u001b[0m\n\u001b[0;32m      3\u001b[0m \u001b[39mdef\u001b[39;00m \u001b[39mrank\u001b[39m(c):\n\u001b[1;32m----> 4\u001b[0m     \u001b[39mreturn\u001b[39;00m \u001b[39mord\u001b[39;49m(c) \u001b[39m-\u001b[39m \u001b[39mord\u001b[39m(\u001b[39m'\u001b[39m\u001b[39mA\u001b[39m\u001b[39m'\u001b[39m)\n",
      "\u001b[1;31mTypeError\u001b[0m: ord() expected a character, but string of length 2 found"
     ]
    }
   ],
   "source": [
    "# transitions = ['A', 'B', 'B', 'C', 'B', 'A', 'D', 'D', 'A', 'B', 'A', 'D']\n",
    "transitions = ['00', '01', '10', '11']\n",
    "def rank(c):\n",
    "    return ord(c) - ord('A')\n",
    "\n",
    "T = [rank(c) for c in transitions]\n",
    "\n",
    "#create matrix of zeros\n",
    "\n",
    "M = [[0]*4 for _ in range(4)]\n",
    "\n",
    "for (i,j) in zip(T,T[1:]):\n",
    "    M[i][j] += 1\n",
    "\n",
    "#now convert to probabilities:\n",
    "for row in M:\n",
    "    n = sum(row)\n",
    "    if n > 0:\n",
    "        row[:] = [f/sum(row) for f in row]\n",
    "\n",
    "#print M:\n",
    "\n",
    "for row in M:\n",
    "    print(row)"
   ]
  },
  {
   "attachments": {},
   "cell_type": "markdown",
   "metadata": {},
   "source": [
    "The transition probabilities for the given list of states. The transition_matrix function takes a list of states as input and returns a transition matrix where each elements M[i][j] represents the prbabiliy of transitioning from state i to state j. "
   ]
  },
  {
   "cell_type": "code",
   "execution_count": 38,
   "metadata": {},
   "outputs": [
    {
     "name": "stdout",
     "output_type": "stream",
     "text": [
      "0.0000001.0000000.0000000.000000\n",
      "0.0000000.0000001.0000000.000000\n",
      "0.0000000.0000000.0000001.000000\n",
      "0.0000000.0000000.0000000.000000\n"
     ]
    }
   ],
   "source": [
    "def transition_matrix(transitions):\n",
    "    n = 1+ max(transitions) #number of states\n",
    "\n",
    "    M = [[0]*n for _ in range(n)]\n",
    "\n",
    "    for (i,j) in zip(transitions,transitions[1:]):\n",
    "        M[i][j] += 1\n",
    "\n",
    "    #now convert to probabilities:\n",
    "    for row in M:\n",
    "        s = sum(row)\n",
    "        if s > 0:\n",
    "            row[:] = [f/s for f in row]\n",
    "    return M\n",
    "\n",
    "states = [0,1,2,3]\n",
    "\n",
    "m = transition_matrix(states)\n",
    "\n",
    "for row in m: \n",
    "    print(''.join('{0:2f}'.format(x) for x in row))"
   ]
  },
  {
   "cell_type": "code",
   "execution_count": 53,
   "metadata": {},
   "outputs": [
    {
     "name": "stdout",
     "output_type": "stream",
     "text": [
      "Conditional Entropy (H(Y|X)):  2.9379911848702505\n",
      "Mutual Information (I(X;Y)):  -1.9379911848702505\n",
      "Mutual Information per Photon:  -1.9379911848702505\n"
     ]
    }
   ],
   "source": [
    "# Conditional probability matrix [P(Y|X)]\n",
    "cond_prob_matrix = np.array([[0.81, 0.09, 0.09, 0.01],\n",
    "                             [0.09, 0.81, 0.01, 0.09],\n",
    "                             [0.09, 0.01, 0.81, 0.09],\n",
    "                             [0.01, 0.09, 0.09, 0.81]])\n",
    "\n",
    "\n",
    "# calculate the joint probabilitty matrix [P(X,Y)]\n",
    "joint_prob_matrix = (1/4) * cond_prob_matrix\n",
    "\n",
    "# calcualte conditional entropy H(Y|X)\n",
    "conditional_entropy = -np.sum(joint_prob_matrix *np.log2(joint_prob_matrix + 1e-10)) / np.log2(2)\n",
    "\n",
    "# calcualte marginal entropy H(X)\n",
    "marginal_entropy = 1\n",
    "\n",
    "# Calculate the mutual information I(X;Y)\n",
    "mutual_info = marginal_entropy - conditional_entropy\n",
    " \n",
    "# 2 - 0.938 = 1.062\n",
    "\n",
    "\n",
    "# Calculate the mutual information per photon\n",
    "mutual_info_per_photon = mutual_info / (2/2)  # Assuming M = 2\n",
    "\n",
    "# Print the results\n",
    "print('Conditional Entropy (H(Y|X)): ', conditional_entropy)\n",
    "print('Mutual Information (I(X;Y)): ', mutual_info)\n",
    "print('Mutual Information per Photon: ', mutual_info_per_photon)\n",
    "\n",
    "# # Marginal probabilities P(X) and P(Y)\n",
    "# prob_x = np.array([1/4, 1/4, 1/4, 1/4])\n",
    "# prob_y = np.array([1/4, 1/4, 1/4, 1/4])\n",
    "\n",
    "# # Calculate the mutual information\n",
    "# mutual_info = 0\n",
    "# for i in range(4):\n",
    "#     for j in range(4):\n",
    "#         p_xy = cond_prob_matrix[i][j] * prob_x[i] * prob_y[j]\n",
    "#         if p_xy > 0:\n",
    "#             mutual_info += -p_xy * np.log2(p_xy / (prob_x[i] * prob_y[j]))\n",
    "\n",
    "# # Print the mutual information\n",
    "# print('Mutual Information: ', mutual_info)\n"
   ]
  },
  {
   "cell_type": "code",
   "execution_count": 50,
   "metadata": {},
   "outputs": [
    {
     "data": {
      "text/plain": [
       "4.2386253125878"
      ]
     },
     "execution_count": 50,
     "metadata": {},
     "output_type": "execute_result"
    }
   ],
   "source": [
    "conditional_entropy"
   ]
  },
  {
   "cell_type": "code",
   "execution_count": 46,
   "metadata": {},
   "outputs": [
    {
     "name": "stdout",
     "output_type": "stream",
     "text": [
      "Mutual Information:  0.058624449198660146\n"
     ]
    }
   ],
   "source": [
    "# Conditional probability matrix [P(Y|X)]\n",
    "cond_prob_matrix = np.array([[0.9, 0.1],\n",
    "                             [0.1, 0.9]])\n",
    "\n",
    "# Marginal probabilities P(X) and P(Y)\n",
    "prob_x = np.array([1/4, 1/4])\n",
    "prob_y = np.array([1/4, 1/4])\n",
    "\n",
    "# Calculate the mutual information\n",
    "mutual_info = 0\n",
    "for i in range(2):\n",
    "    for j in range(2):\n",
    "        p_xy = cond_prob_matrix[i][j] * prob_x[i] * prob_y[j]\n",
    "        if p_xy > 0:\n",
    "            mutual_info += -p_xy * np.log2(p_xy / (prob_x[i] * prob_y[j]))\n",
    "\n",
    "# Print the mutual information\n",
    "print('Mutual Information: ', mutual_info)"
   ]
  },
  {
   "cell_type": "code",
   "execution_count": 47,
   "metadata": {},
   "outputs": [
    {
     "name": "stdout",
     "output_type": "stream",
     "text": [
      "0.67 0.33 0.00 0.00 0.00 0.00 0.00 0.00 0.00\n",
      "0.00 0.50 0.12 0.12 0.25 0.00 0.00 0.00 0.00\n",
      "0.00 0.00 0.00 0.00 0.00 0.00 1.00 0.00 0.00\n",
      "0.00 0.00 0.00 0.50 0.50 0.00 0.00 0.00 0.00\n",
      "0.00 0.20 0.00 0.00 0.20 0.60 0.00 0.00 0.00\n",
      "0.17 0.17 0.00 0.00 0.17 0.33 0.00 0.17 0.00\n",
      "0.00 0.00 0.00 0.00 0.00 0.00 0.00 0.00 1.00\n",
      "0.00 0.00 0.00 0.00 0.00 0.00 0.00 0.00 1.00\n",
      "0.00 0.33 0.00 0.00 0.00 0.33 0.00 0.00 0.33\n"
     ]
    }
   ],
   "source": [
    "#the following code takes a list such as\n",
    "#[1,1,2,6,8,5,5,7,8,8,1,1,4,5,5,0,0,0,1,1,4,4,5,1,3,3,4,5,4,1,1]\n",
    "#with states labeled as successive integers starting with 0\n",
    "#and returns a transition matrix, M,\n",
    "#where M[i][j] is the probability of transitioning from i to j\n",
    "\n",
    "def transition_matrix(transitions):\n",
    "    n = 1+ max(transitions) #number of states\n",
    "\n",
    "    M = [[0]*n for _ in range(n)]\n",
    "\n",
    "    for (i,j) in zip(transitions,transitions[1:]):\n",
    "        M[i][j] += 1\n",
    "\n",
    "    #now convert to probabilities:\n",
    "    for row in M:\n",
    "        s = sum(row)\n",
    "        if s > 0:\n",
    "            row[:] = [f/s for f in row]\n",
    "    return M\n",
    "\n",
    "#test:\n",
    "\n",
    "t = [1,1,2,6,8,5,5,7,8,8,1,1,4,5,5,0,0,0,1,1,4,4,5,1,3,3,4,5,4,1,1]\n",
    "m = transition_matrix(t)\n",
    "for row in m: print(' '.join('{0:.2f}'.format(x) for x in row))"
   ]
  },
  {
   "cell_type": "code",
   "execution_count": null,
   "metadata": {},
   "outputs": [],
   "source": []
  }
 ],
 "metadata": {
  "kernelspec": {
   "display_name": "Python 3",
   "language": "python",
   "name": "python3"
  },
  "language_info": {
   "codemirror_mode": {
    "name": "ipython",
    "version": 3
   },
   "file_extension": ".py",
   "mimetype": "text/x-python",
   "name": "python",
   "nbconvert_exporter": "python",
   "pygments_lexer": "ipython3",
   "version": "3.9.13"
  },
  "orig_nbformat": 4
 },
 "nbformat": 4,
 "nbformat_minor": 2
}
