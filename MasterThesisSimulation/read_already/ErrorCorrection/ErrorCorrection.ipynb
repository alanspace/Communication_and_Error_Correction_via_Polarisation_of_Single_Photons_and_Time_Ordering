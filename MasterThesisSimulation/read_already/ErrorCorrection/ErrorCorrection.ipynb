{
  "cells": [
    {
      "cell_type": "code",
      "execution_count": null,
      "metadata": {
        "id": "5RA4PIljHU41"
      },
      "outputs": [],
      "source": [
        "# Import the packages \n",
        "import math\n",
        "import pandas as pd\n",
        "import matplotlib.pyplot as plt\n",
        "import numpy as np\n",
        "from pandas.plotting import table\n",
        "from itertools import permutations \n",
        "# import dataframe_image as dfi\n",
        "import matplotlib.pyplot as plt\n",
        "from io import BytesIO\n",
        "from PIL import Image\n",
        "from prettytable import PrettyTable\n",
        "from tabulate import tabulate\n",
        "#from tabulate import table"
      ]
    },
    {
      "cell_type": "code",
      "execution_count": null,
      "metadata": {
        "id": "Tq4WUwsSHD2C"
      },
      "outputs": [],
      "source": [
        "def get_permutations(numbers):\n",
        "    return list(permutations(numbers))\n",
        "\n",
        "def convert_to_0s(photon):\n",
        "    digit_to_0s = [(i-1)*\"0\" for i in photon]\n",
        "    return digit_to_0s\n",
        "    \n",
        "def AddPolarization(digit_to_0s):\n",
        "    result = ['']\n",
        "    prev_non_empty = None\n",
        "    \n",
        "    for i, elem in enumerate(digit_to_0s):\n",
        "        if i == 0:\n",
        "            prev_non_empty = elem\n",
        "            result.append(elem)\n",
        "            continue\n",
        "        \n",
        "        if elem.count('0') > prev_non_empty.count('0'):\n",
        "            result[-1] = 'H' + result[-1]\n",
        "        elif elem.count('0') < prev_non_empty.count('0'):\n",
        "            result[-1] = 'V' + result[-1]\n",
        "        \n",
        "        result.append(elem)\n",
        "        prev_non_empty = elem\n",
        "    \n",
        "    if len(result[0]) < len(result[-1]):\n",
        "        result[-1] = 'V' + result[-1][1:] + '0'\n",
        "    elif len(result[0]) > len(result[-1]):\n",
        "        result[-1] = 'H' + result[-1][1:] + '0'\n",
        "    elif len(digit_to_0s) == 2:\n",
        "        result[-1] = 'H'\n",
        "    \n",
        "    if len(digit_to_0s) > 1:\n",
        "        last_digit_zeros = digit_to_0s[-1].count('0')\n",
        "        second_last_digit_zeros = digit_to_0s[-2].count('0')\n",
        "        if last_digit_zeros == 0:\n",
        "            if second_last_digit_zeros > 0:\n",
        "                result[-1] = result[-1][:-1] + 'H'\n",
        "            else:\n",
        "                result[-1] += 'H'\n",
        "        elif result[-1][-1] == '1':\n",
        "            if last_digit_zeros > second_last_digit_zeros:\n",
        "                result[-1] = result[-1][:-1] + 'V'\n",
        "            elif second_last_digit_zeros > last_digit_zeros:\n",
        "                result[-1] = result[-1][:-1] + 'H'\n",
        "            else:\n",
        "                result[-1] = result[-1][:-1] + 'V' if result[-2][-1] == 'H' else result[-1][:-1] + 'H'\n",
        "    \n",
        "    return ''.join(result)      # Join the result list into a single string\n",
        "\n",
        "def convert_to_one_string(numList):         # [1,2,3]\n",
        "      s = map(str, numList)   # ['1','2','3']\n",
        "      s = ''.join(s)          # '123'\n",
        "      s = f'{s}'\n",
        "      #s = int(s)              # 123\n",
        "      return s\n",
        "\n",
        "def flip_polarizations(polarization_string):\n",
        "    output = {polarization_string}\n",
        "    for i in range(1, len(polarization_string) + 1): # loop through all possible flip counts\n",
        "        for j in range(len(polarization_string)): # loop through each polarization\n",
        "            if polarization_string[j] != '0':\n",
        "                output |= {polarization_string[:j] + '0' + polarization_string[j+1:]}\n",
        "                for k in range(j+1, len(polarization_string)):\n",
        "                    if polarization_string[k] != '0':\n",
        "                        new_string = polarization_string[:j] + '0' + polarization_string[j+1:k] + '0' + polarization_string[k+1:]\n",
        "                        output.add(new_string)\n",
        "        if i == len(polarization_string): # stop flipping if there are no more polarizations to flip\n",
        "            break\n",
        "        new_output = set()\n",
        "        for string in output:\n",
        "            for j in range(len(polarization_string)):\n",
        "                if string[j] != '0':\n",
        "                    for k in range(j+1, len(polarization_string)):\n",
        "                        if string[k] != '0':\n",
        "                            new_string = string[:j] + '0' + string[j+1:k] + '0' + string[k+1:]\n",
        "                            new_output.add(new_string)\n",
        "        output |= new_output\n",
        "\n",
        "    output.discard(polarization_string) # remove the original string from the output\n",
        "    return sorted(output) # return a sorted list of polarization strings.\n",
        "\n",
        "\n",
        "photons_2 = get_permutations([1,2]) \n",
        "photons_3 = get_permutations([1,2,4])\n",
        "photons_4 = get_permutations([1, 2, 4, 7]) \n",
        "photons_5 = get_permutations([1, 2, 4, 7, 12]) \n",
        "\n",
        "photons = [photons_2, photons_3, photons_4, photons_5]\n",
        "\n",
        "dictionaries = []\n",
        "\n",
        "for i, photon_set in enumerate(photons, 2):\n",
        "    dictionary = {\"Sent Digits\": photon_set, \"Encoded Words\": []}\n",
        "    flipped_list = []\n",
        "\n",
        "    for j, sub_list in enumerate(photon_set):\n",
        "        elements = convert_to_one_string(AddPolarization(convert_to_0s(sub_list)))\n",
        "        dictionary[\"Encoded Words\"].append(elements)\n",
        "        flipped = flip_polarizations(elements)\n",
        "        flipped_list.append([''.join(f) for f in flipped])\n",
        "    dictionary[f\"Received Loss Errors\"] = flipped_list\n",
        "\n",
        "    dictionaries.append(dictionary)\n",
        "\n",
        "\n",
        "# for i, dictionary in enumerate(dictionaries):\n",
        "#     print(f\"Dictionary of {i+2} photons: {dictionary}\")\n",
        "\n",
        "\n",
        "# Define table headers\n",
        "headers = [\"Sent Digits\", \"Encoded Words\", \"Received Loss Errors\"] #\"Encoded Words with Loss Errors\"\n",
        "\n",
        "# Create table object\n",
        "table = PrettyTable(headers)\n",
        "\n",
        "# # Set the maximum width for each column\n",
        "# table.max_width[\"Sent Digits\"] = 15\n",
        "# table.max_width[\"Encoded Words\"] = 30\n",
        "# table.max_width[\"Received Loss Errors\"] = 30\n",
        "\n",
        "# Add rows to table\n",
        "for d in dictionaries:\n",
        "    # Get photons and sums values from dictionary\n",
        "    photons = d[\"Sent Digits\"]\n",
        "    encoded_words = d[\"Encoded Words\"]\n",
        "    loss_errors = d[\"Received Loss Errors\"]\n",
        "    #encoded_words_with_loss_errors = d[\"Encoded Words with Loss Errors\"]\n",
        "    \n",
        "    # Add rows to the table\n",
        "    for i in range(len(photons)):\n",
        "        row = [photons[i], encoded_words[i], loss_errors[i]] # # encoded_words_with_loss_errors[i]\n",
        "        table.add_row(row)\n",
        "\n",
        "\n",
        "# def check_codeword(codeword, table):\n",
        "#     for row in table._rows:\n",
        "#         sent_digit = row[0]\n",
        "#         encoded_word = row[1]\n",
        "#         received_loss_error = row[2]\n",
        "\n",
        "#         if codeword == received_loss_error:\n",
        "#             print(f\"Your received code word '{codeword}' is incorrect, it should be the coded word '{encoded_word}' from the 'Encoded Words', which corresponds to the sent digit {sent_digit} from the dictionary 'Sent Digits'.\")\n",
        "#             return\n",
        "\n",
        "#     print(\"The provided code word is not found in the 'Received Loss Errors' column in the table.\")\n",
        "\n",
        "# #print(table)"
      ]
    },
    {
      "cell_type": "code",
      "execution_count": null,
      "metadata": {
        "id": "bPajsCC6HITg"
      },
      "outputs": [],
      "source": [
        "# def check_codeword(codeword, table):\n",
        "#     if all(c == '0' for c in codeword):\n",
        "#         print(\"I cannot determine the correct code word. Please check the table.\")\n",
        "#         return\n",
        "\n",
        "#     for row in table._rows:\n",
        "#         sent_digit = row[0]\n",
        "#         encoded_word = row[1]\n",
        "#         received_loss_error = row[2]\n",
        "\n",
        "#         if codeword == encoded_word:\n",
        "#             print(f\"Your received code word '{codeword}' is correct, which corresponds to the sent digit {sent_digit} from the dictionary 'Sent Digits'.\")\n",
        "#             return\n",
        "    \n",
        "#     for row in table._rows:\n",
        "#         sent_digits = row[0]\n",
        "#         encoded_word = row[1]\n",
        "#         received_loss_errors = row[2]\n",
        "\n",
        "#         if codeword in received_loss_errors:\n",
        "#            print(f\"Matching row found:\\nYour received code word is in the Received loss error, which belongs to one of the possibilities: '{received_loss_errors}'\\nPossible Sent Encoded word: {encoded_word}\\nCorresponding Sent digits: {sent_digits}\\n\")   \n",
        "    \n",
        "#     print(\"The provided code word is not found in either 'Encoded Words' or 'Received Loss Errors' columns in the table.\")"
      ]
    },
    {
      "cell_type": "code",
      "source": [
        "def check_codeword(codeword, table):\n",
        "    if all(c == '0' for c in codeword):\n",
        "        print(\"I cannot determine the correct code word. Please check the table.\")\n",
        "        return\n",
        "\n",
        "    found_match = False\n",
        "\n",
        "    for row in table._rows:\n",
        "        sent_digit = row[0]\n",
        "        encoded_word = row[1]\n",
        "        received_loss_error = row[2]\n",
        "\n",
        "        if codeword == encoded_word:\n",
        "            print(f\"Your received code word '{codeword}' is correct, which corresponds to the sent digit {sent_digit} from the dictionary 'Sent Digits'.\")\n",
        "            return\n",
        "    \n",
        "    for row in table._rows:\n",
        "        sent_digits = row[0]\n",
        "        encoded_word = row[1]\n",
        "        received_loss_errors = row[2]\n",
        "\n",
        "        if codeword in received_loss_errors:\n",
        "            found_match = True\n",
        "            print(f\"Matching row found:\\nYour received code word is in the Received loss error, which belongs to one of the possibilities: '{received_loss_errors}'\\nPossible Sent Encoded word: {encoded_word}\\nCorresponding Sent digits: {sent_digits}\\n\")   \n",
        "\n",
        "    if not found_match:\n",
        "        print(\"The provided code word is not found in either 'Encoded Words' or 'Received Loss Errors' columns in the table.\")\n"
      ],
      "metadata": {
        "id": "KtF9Q9rTkc2r"
      },
      "execution_count": null,
      "outputs": []
    },
    {
      "cell_type": "code",
      "source": [
        "print(table[0:2]) # 2! = 2"
      ],
      "metadata": {
        "colab": {
          "base_uri": "https://localhost:8080/"
        },
        "id": "xgmYOfXohB_e",
        "outputId": "f864a802-6790-4c7b-faaa-2db3c2a90377"
      },
      "execution_count": null,
      "outputs": [
        {
          "output_type": "stream",
          "name": "stdout",
          "text": [
            "+-------------+---------------+-----------------------+\n",
            "| Sent Digits | Encoded Words |  Received Loss Errors |\n",
            "+-------------+---------------+-----------------------+\n",
            "|    (1, 2)   |      HV0      | ['000', '0V0', 'H00'] |\n",
            "|    (2, 1)   |      V0H      | ['000', '00H', 'V00'] |\n",
            "+-------------+---------------+-----------------------+\n"
          ]
        }
      ]
    },
    {
      "cell_type": "code",
      "source": [
        "print(table[2:8]) # 3! = 6"
      ],
      "metadata": {
        "colab": {
          "base_uri": "https://localhost:8080/"
        },
        "id": "YyFloOTDhIER",
        "outputId": "03a12259-7e73-4c78-9937-44305d044825"
      },
      "execution_count": null,
      "outputs": [
        {
          "output_type": "stream",
          "name": "stdout",
          "text": [
            "+-------------+---------------+-------------------------------------------------------------------------------+\n",
            "| Sent Digits | Encoded Words |                              Received Loss Errors                             |\n",
            "+-------------+---------------+-------------------------------------------------------------------------------+\n",
            "|  (1, 2, 4)  |    HH0V000    | ['0000000', '000V000', '0H00000', '0H0V000', 'H000000', 'H00V000', 'HH00000'] |\n",
            "|  (1, 4, 2)  |    HV000V0    | ['0000000', '00000V0', '0V00000', '0V000V0', 'H000000', 'H0000V0', 'HV00000'] |\n",
            "|  (2, 1, 4)  |    V0HV000    | ['0000000', '000V000', '00H0000', '00HV000', 'V000000', 'V00V000', 'V0H0000'] |\n",
            "|  (2, 4, 1)  |    H0V000H    | ['0000000', '000000H', '00V0000', '00V000H', 'H000000', 'H00000H', 'H0V0000'] |\n",
            "|  (4, 1, 2)  |    V000HV0    | ['0000000', '00000V0', '0000H00', '0000HV0', 'V000000', 'V0000V0', 'V000H00'] |\n",
            "|  (4, 2, 1)  |    V000V0H    | ['0000000', '000000H', '0000V00', '0000V0H', 'V000000', 'V00000H', 'V000V00'] |\n",
            "+-------------+---------------+-------------------------------------------------------------------------------+\n"
          ]
        }
      ]
    },
    {
      "cell_type": "code",
      "source": [
        "print(table[8:32]) # 4! = 24"
      ],
      "metadata": {
        "colab": {
          "base_uri": "https://localhost:8080/"
        },
        "id": "LtduQtp8hOPa",
        "outputId": "d3e0ce1e-14d0-4aba-80ef-185cff3353e1"
      },
      "execution_count": null,
      "outputs": [
        {
          "output_type": "stream",
          "name": "stdout",
          "text": [
            "+--------------+----------------+--------------------------------------------------------------------------------------------------------------------------------------------------------------------------------------------------------------------------------------------------------------------------------+\n",
            "| Sent Digits  | Encoded Words  |                                                                                                                              Received Loss Errors                                                                                                                              |\n",
            "+--------------+----------------+--------------------------------------------------------------------------------------------------------------------------------------------------------------------------------------------------------------------------------------------------------------------------------+\n",
            "| (1, 2, 4, 7) | HH0H000V000000 | ['00000000000000', '0000000V000000', '000H0000000000', '000H000V000000', '0H000000000000', '0H00000V000000', '0H0H0000000000', '0H0H000V000000', 'H0000000000000', 'H000000V000000', 'H00H0000000000', 'H00H000V000000', 'HH000000000000', 'HH00000V000000', 'HH0H0000000000'] |\n",
            "| (1, 2, 7, 4) | HH0V000000V000 | ['00000000000000', '0000000000V000', '000V0000000000', '000V000000V000', '0H000000000000', '0H00000000V000', '0H0V0000000000', '0H0V000000V000', 'H0000000000000', 'H000000000V000', 'H00V0000000000', 'H00V000000V000', 'HH000000000000', 'HH00000000V000', 'HH0V0000000000'] |\n",
            "| (1, 4, 2, 7) | HV000H0V000000 | ['00000000000000', '0000000V000000', '00000H00000000', '00000H0V000000', '0V000000000000', '0V00000V000000', '0V000H00000000', '0V000H0V000000', 'H0000000000000', 'H000000V000000', 'H0000H00000000', 'H0000H0V000000', 'HV000000000000', 'HV00000V000000', 'HV000H00000000'] |\n",
            "| (1, 4, 7, 2) | HH000V000000V0 | ['00000000000000', '000000000000V0', '00000V00000000', '00000V000000V0', '0H000000000000', '0H0000000000V0', '0H000V00000000', '0H000V000000V0', 'H0000000000000', 'H00000000000V0', 'H0000V00000000', 'H0000V000000V0', 'HH000000000000', 'HH0000000000V0', 'HH000V00000000'] |\n",
            "| (1, 7, 2, 4) | HV000000H0V000 | ['00000000000000', '0000000000V000', '00000000H00000', '00000000H0V000', '0V000000000000', '0V00000000V000', '0V000000H00000', '0V000000H0V000', 'H0000000000000', 'H000000000V000', 'H0000000H00000', 'H0000000H0V000', 'HV000000000000', 'HV00000000V000', 'HV000000H00000'] |\n",
            "| (1, 7, 4, 2) | HV000000V000V0 | ['00000000000000', '000000000000V0', '00000000V00000', '00000000V000V0', '0V000000000000', '0V0000000000V0', '0V000000V00000', '0V000000V000V0', 'H0000000000000', 'H00000000000V0', 'H0000000V00000', 'H0000000V000V0', 'HV000000000000', 'HV0000000000V0', 'HV000000V00000'] |\n",
            "| (2, 1, 4, 7) | V0HH000V000000 | ['00000000000000', '0000000V000000', '000H0000000000', '000H000V000000', '00H00000000000', '00H0000V000000', '00HH0000000000', '00HH000V000000', 'V0000000000000', 'V000000V000000', 'V00H0000000000', 'V00H000V000000', 'V0H00000000000', 'V0H0000V000000', 'V0HH0000000000'] |\n",
            "| (2, 1, 7, 4) | V0HV000000V000 | ['00000000000000', '0000000000V000', '000V0000000000', '000V000000V000', '00H00000000000', '00H0000000V000', '00HV0000000000', '00HV000000V000', 'V0000000000000', 'V000000000V000', 'V00V0000000000', 'V00V000000V000', 'V0H00000000000', 'V0H0000000V000', 'V0HV0000000000'] |\n",
            "| (2, 4, 1, 7) | H0V000HV000000 | ['00000000000000', '0000000V000000', '000000H0000000', '000000HV000000', '00V00000000000', '00V0000V000000', '00V000H0000000', '00V000HV000000', 'H0000000000000', 'H000000V000000', 'H00000H0000000', 'H00000HV000000', 'H0V00000000000', 'H0V0000V000000', 'H0V000H0000000'] |\n",
            "| (2, 4, 7, 1) | H0H000V000000H | ['00000000000000', '0000000000000H', '000000V0000000', '000000V000000H', '00H00000000000', '00H0000000000H', '00H000V0000000', '00H000V000000H', 'H0000000000000', 'H000000000000H', 'H00000V0000000', 'H00000V000000H', 'H0H00000000000', 'H0H0000000000H', 'H0H000V0000000'] |\n",
            "| (2, 7, 1, 4) | H0V000000HV000 | ['00000000000000', '0000000000V000', '000000000H0000', '000000000HV000', '00V00000000000', '00V0000000V000', '00V000000H0000', '00V000000HV000', 'H0000000000000', 'H000000000V000', 'H00000000H0000', 'H00000000HV000', 'H0V00000000000', 'H0V0000000V000', 'H0V000000H0000'] |\n",
            "| (2, 7, 4, 1) | H0V000000V000H | ['00000000000000', '0000000000000H', '000000000V0000', '000000000V000H', '00V00000000000', '00V0000000000H', '00V000000V0000', '00V000000V000H', 'H0000000000000', 'H000000000000H', 'H00000000V0000', 'H00000000V000H', 'H0V00000000000', 'H0V0000000000H', 'H0V000000V0000'] |\n",
            "| (4, 1, 2, 7) | V000HH0V000000 | ['00000000000000', '0000000V000000', '00000H00000000', '00000H0V000000', '0000H000000000', '0000H00V000000', '0000HH00000000', '0000HH0V000000', 'V0000000000000', 'V000000V000000', 'V0000H00000000', 'V0000H0V000000', 'V000H000000000', 'V000H00V000000', 'V000HH00000000'] |\n",
            "| (4, 1, 7, 2) | V000HV000000V0 | ['00000000000000', '000000000000V0', '00000V00000000', '00000V000000V0', '0000H000000000', '0000H0000000V0', '0000HV00000000', '0000HV000000V0', 'V0000000000000', 'V00000000000V0', 'V0000V00000000', 'V0000V000000V0', 'V000H000000000', 'V000H0000000V0', 'V000HV00000000'] |\n",
            "| (4, 2, 1, 7) | V000V0HV000000 | ['00000000000000', '0000000V000000', '000000H0000000', '000000HV000000', '0000V000000000', '0000V00V000000', '0000V0H0000000', '0000V0HV000000', 'V0000000000000', 'V000000V000000', 'V00000H0000000', 'V00000HV000000', 'V000V000000000', 'V000V00V000000', 'V000V0H0000000'] |\n",
            "| (4, 2, 7, 1) | V000H0V000000H | ['00000000000000', '0000000000000H', '000000V0000000', '000000V000000H', '0000H000000000', '0000H00000000H', '0000H0V0000000', '0000H0V000000H', 'V0000000000000', 'V000000000000H', 'V00000V0000000', 'V00000V000000H', 'V000H000000000', 'V000H00000000H', 'V000H0V0000000'] |\n",
            "| (4, 7, 1, 2) | H000V000000HV0 | ['00000000000000', '000000000000V0', '00000000000H00', '00000000000HV0', '0000V000000000', '0000V0000000V0', '0000V000000H00', '0000V000000HV0', 'H0000000000000', 'H00000000000V0', 'H0000000000H00', 'H0000000000HV0', 'H000V000000000', 'H000V0000000V0', 'H000V000000H00'] |\n",
            "| (4, 7, 2, 1) | H000V000000V0H | ['00000000000000', '0000000000000H', '00000000000V00', '00000000000V0H', '0000V000000000', '0000V00000000H', '0000V000000V00', '0000V000000V0H', 'H0000000000000', 'H000000000000H', 'H0000000000V00', 'H0000000000V0H', 'H000V000000000', 'H000V00000000H', 'H000V000000V00'] |\n",
            "| (7, 1, 2, 4) | V000000HH0V000 | ['00000000000000', '0000000000V000', '00000000H00000', '00000000H0V000', '0000000H000000', '0000000H00V000', '0000000HH00000', '0000000HH0V000', 'V0000000000000', 'V000000000V000', 'V0000000H00000', 'V0000000H0V000', 'V000000H000000', 'V000000H00V000', 'V000000HH00000'] |\n",
            "| (7, 1, 4, 2) | V000000HV000V0 | ['00000000000000', '000000000000V0', '00000000V00000', '00000000V000V0', '0000000H000000', '0000000H0000V0', '0000000HV00000', '0000000HV000V0', 'V0000000000000', 'V00000000000V0', 'V0000000V00000', 'V0000000V000V0', 'V000000H000000', 'V000000H0000V0', 'V000000HV00000'] |\n",
            "| (7, 2, 1, 4) | V000000V0HV000 | ['00000000000000', '0000000000V000', '000000000H0000', '000000000HV000', '0000000V000000', '0000000V00V000', '0000000V0H0000', '0000000V0HV000', 'V0000000000000', 'V000000000V000', 'V00000000H0000', 'V00000000HV000', 'V000000V000000', 'V000000V00V000', 'V000000V0H0000'] |\n",
            "| (7, 2, 4, 1) | V000000H0V000H | ['00000000000000', '0000000000000H', '000000000V0000', '000000000V000H', '0000000H000000', '0000000H00000H', '0000000H0V0000', '0000000H0V000H', 'V0000000000000', 'V000000000000H', 'V00000000V0000', 'V00000000V000H', 'V000000H000000', 'V000000H00000H', 'V000000H0V0000'] |\n",
            "| (7, 4, 1, 2) | V000000V000HV0 | ['00000000000000', '000000000000V0', '00000000000H00', '00000000000HV0', '0000000V000000', '0000000V0000V0', '0000000V000H00', '0000000V000HV0', 'V0000000000000', 'V00000000000V0', 'V0000000000H00', 'V0000000000HV0', 'V000000V000000', 'V000000V0000V0', 'V000000V000H00'] |\n",
            "| (7, 4, 2, 1) | V000000V000V0H | ['00000000000000', '0000000000000H', '00000000000V00', '00000000000V0H', '0000000V000000', '0000000V00000H', '0000000V000V00', '0000000V000V0H', 'V0000000000000', 'V000000000000H', 'V0000000000V00', 'V0000000000V0H', 'V000000V000000', 'V000000V00000H', 'V000000V000V00'] |\n",
            "+--------------+----------------+--------------------------------------------------------------------------------------------------------------------------------------------------------------------------------------------------------------------------------------------------------------------------------+\n"
          ]
        }
      ]
    },
    {
      "cell_type": "code",
      "execution_count": null,
      "metadata": {
        "colab": {
          "base_uri": "https://localhost:8080/"
        },
        "id": "iILMDU7dHwVt",
        "outputId": "0a001e62-325e-42e8-af6d-957c64d7784f"
      },
      "outputs": [
        {
          "output_type": "stream",
          "name": "stdout",
          "text": [
            "Matching row found:\n",
            "Your received code word is in the Received loss error, which belongs to one of the possibilities: '['0000000', '000V000', '0H00000', '0H0V000', 'H000000', 'H00V000', 'HH00000']'\n",
            "Possible Sent Encoded word: HH0V000\n",
            "Corresponding Sent digits: (1, 2, 4)\n",
            "\n"
          ]
        }
      ],
      "source": [
        "check_codeword('0H0V000', table)"
      ]
    },
    {
      "cell_type": "code",
      "source": [
        "check_codeword('0000000V0000V0', table)"
      ],
      "metadata": {
        "colab": {
          "base_uri": "https://localhost:8080/"
        },
        "id": "ZSI5BO9lh2ok",
        "outputId": "e12a8279-b3ba-4a01-f92d-d38108b607f6"
      },
      "execution_count": null,
      "outputs": [
        {
          "output_type": "stream",
          "name": "stdout",
          "text": [
            "Matching row found:\n",
            "Your received code word is in the Received loss error, which belongs to one of the possibilities: '['00000000000000', '000000000000V0', '00000000000H00', '00000000000HV0', '0000000V000000', '0000000V0000V0', '0000000V000H00', '0000000V000HV0', 'V0000000000000', 'V00000000000V0', 'V0000000000H00', 'V0000000000HV0', 'V000000V000000', 'V000000V0000V0', 'V000000V000H00']'\n",
            "Possible Sent Encoded word: V000000V000HV0\n",
            "Corresponding Sent digits: (7, 4, 1, 2)\n",
            "\n"
          ]
        }
      ]
    },
    {
      "cell_type": "code",
      "execution_count": null,
      "metadata": {
        "colab": {
          "base_uri": "https://localhost:8080/"
        },
        "id": "DySA5iwlKUYx",
        "outputId": "485a369b-f74c-48e7-ee37-438e4131d54e"
      },
      "outputs": [
        {
          "output_type": "stream",
          "name": "stdout",
          "text": [
            "Your received code word 'V0H' is correct, which corresponds to the sent digit (2, 1) from the dictionary 'Sent Digits'.\n"
          ]
        }
      ],
      "source": [
        "check_codeword('V0H', table)"
      ]
    },
    {
      "cell_type": "code",
      "source": [
        "check_codeword('V000000V000V0H', table)"
      ],
      "metadata": {
        "colab": {
          "base_uri": "https://localhost:8080/"
        },
        "id": "dlC_iqeqhtxn",
        "outputId": "3a52db32-6f36-458e-90a0-54d37aad9378"
      },
      "execution_count": null,
      "outputs": [
        {
          "output_type": "stream",
          "name": "stdout",
          "text": [
            "Your received code word 'V000000V000V0H' is correct, which corresponds to the sent digit (7, 4, 2, 1) from the dictionary 'Sent Digits'.\n"
          ]
        }
      ]
    },
    {
      "cell_type": "code",
      "execution_count": null,
      "metadata": {
        "colab": {
          "base_uri": "https://localhost:8080/"
        },
        "id": "AJq1O3MULcjC",
        "outputId": "588544f5-8815-4ff8-8b3c-969a0c9bc4a6"
      },
      "outputs": [
        {
          "output_type": "stream",
          "name": "stdout",
          "text": [
            "I cannot determine the correct code word. Please check the table.\n"
          ]
        }
      ],
      "source": [
        "check_codeword('00000000', table)"
      ]
    },
    {
      "cell_type": "code",
      "execution_count": null,
      "metadata": {
        "colab": {
          "base_uri": "https://localhost:8080/"
        },
        "id": "QlSO7jY7LjNl",
        "outputId": "a04b1792-3b54-4824-ca24-333a361a4d1c"
      },
      "outputs": [
        {
          "output_type": "stream",
          "name": "stdout",
          "text": [
            "The provided code word is not found in either 'Encoded Words' or 'Received Loss Errors' columns in the table.\n"
          ]
        }
      ],
      "source": [
        "check_codeword('0H0252452', table)"
      ]
    },
    {
      "cell_type": "code",
      "execution_count": null,
      "metadata": {
        "id": "4Wgqq7oHMtVM",
        "colab": {
          "base_uri": "https://localhost:8080/"
        },
        "outputId": "5635de7a-373e-45f7-938c-3289759e7e72"
      },
      "outputs": [
        {
          "output_type": "stream",
          "name": "stdout",
          "text": [
            "Matching row found:\n",
            "Your received code word is in the Received loss error, which belongs to one of the possibilities: '['0000000', '000V000', '00H0000', '00HV000', 'V000000', 'V00V000', 'V0H0000']'\n",
            "Possible Sent Encoded word: V0HV000\n",
            "Corresponding Sent digits: (2, 1, 4)\n",
            "\n",
            "Matching row found:\n",
            "Your received code word is in the Received loss error, which belongs to one of the possibilities: '['0000000', '00000V0', '0000H00', '0000HV0', 'V000000', 'V0000V0', 'V000H00']'\n",
            "Possible Sent Encoded word: V000HV0\n",
            "Corresponding Sent digits: (4, 1, 2)\n",
            "\n",
            "Matching row found:\n",
            "Your received code word is in the Received loss error, which belongs to one of the possibilities: '['0000000', '000000H', '0000V00', '0000V0H', 'V000000', 'V00000H', 'V000V00']'\n",
            "Possible Sent Encoded word: V000V0H\n",
            "Corresponding Sent digits: (4, 2, 1)\n",
            "\n"
          ]
        }
      ],
      "source": [
        "check_codeword('V000000', table)"
      ]
    },
    {
      "cell_type": "code",
      "source": [],
      "metadata": {
        "id": "fa2TCpqr40jN"
      },
      "execution_count": null,
      "outputs": []
    }
  ],
  "metadata": {
    "colab": {
      "provenance": []
    },
    "kernelspec": {
      "display_name": "Python 3",
      "name": "python3"
    },
    "language_info": {
      "name": "python"
    }
  },
  "nbformat": 4,
  "nbformat_minor": 0
}