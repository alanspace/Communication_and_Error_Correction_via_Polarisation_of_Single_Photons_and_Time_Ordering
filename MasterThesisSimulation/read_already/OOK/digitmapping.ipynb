{
 "cells": [
  {
   "cell_type": "code",
   "execution_count": 1,
   "metadata": {},
   "outputs": [],
   "source": [
    "def generate_bit_combinations(n):\n",
    "    combinations = []\n",
    "    for i in range(2**n):\n",
    "        binary = bin(i)[2:].zfill(n)  # Convert the decimal number to binary\n",
    "        combinations.append(binary)\n",
    "    return combinations"
   ]
  },
  {
   "cell_type": "code",
   "execution_count": 2,
   "metadata": {},
   "outputs": [
    {
     "name": "stdout",
     "output_type": "stream",
     "text": [
      "['0', '1']\n"
     ]
    }
   ],
   "source": [
    "n = 1\n",
    "possibilities = generate_bit_combinations(n)\n",
    "print(possibilities)"
   ]
  },
  {
   "cell_type": "code",
   "execution_count": 3,
   "metadata": {},
   "outputs": [
    {
     "data": {
      "text/plain": [
       "[]"
      ]
     },
     "execution_count": 3,
     "metadata": {},
     "output_type": "execute_result"
    }
   ],
   "source": [
    "[]"
   ]
  },
  {
   "cell_type": "code",
   "execution_count": 4,
   "metadata": {},
   "outputs": [
    {
     "name": "stdout",
     "output_type": "stream",
     "text": [
      "['00', '01', '10', '11']\n"
     ]
    }
   ],
   "source": [
    "n = 2\n",
    "possibilities = generate_bit_combinations(n)\n",
    "print(possibilities)"
   ]
  },
  {
   "cell_type": "code",
   "execution_count": 5,
   "metadata": {},
   "outputs": [
    {
     "name": "stdout",
     "output_type": "stream",
     "text": [
      "[[1, 0], [0.1, 0.9]]\n"
     ]
    }
   ],
   "source": [
    "# Generate the 2x2 square matrix\n",
    "\n",
    "m = 1\n",
    "o = 0\n",
    "p = 0.1\n",
    "q = 0.9\n",
    "matrix = [[0, 0], [0, 0]]\n",
    "for i in range(2):\n",
    "    for j in range(2):\n",
    "        binary_i = bin(i)[2:].zfill(1)\n",
    "        binary_j = bin(j)[2:].zfill(1)\n",
    "        index = int(binary_i + binary_j, 2)\n",
    "        if index == 0:\n",
    "            matrix[i][j] = m\n",
    "        elif index == 1:\n",
    "            matrix[i][j] = o\n",
    "        elif index == 2:\n",
    "            matrix[i][j] = p\n",
    "        elif index == 3:\n",
    "            matrix[i][j] = q\n",
    "\n",
    "\n",
    "print(matrix)\n"
   ]
  },
  {
   "attachments": {},
   "cell_type": "markdown",
   "metadata": {},
   "source": [
    "I can generate nxn square matrix based the 2^n possibilities. \n",
    "For example, n = 1, I should have 2x2 square matrix, n = 2, I should have 4x4 square matrix, n = 3, I should have 8x8 square matrix and so on. \n",
    "\n",
    "Also,the elements correspond to specific combination of bits. The values (m=1,o=0,p=0.1,q=0.9) represent the calues associated with each bit combination. Using the mapping, I can determine the corresponding value for each element in the square matrix basedon the binary representation of its row and columnb indices. \n",
    "For example, for n = 1, we have 2^1 possibilities. Based the following code, we have the possbilities \n",
    "\n",
    "def generate_bit_combinations(n):\n",
    "    combinations = []\n",
    "    for i in range(2**n):\n",
    "        binary = bin(i)[2:].zfill(n)  # Convert the decimal number to binary\n",
    "        combinations.append(binary)\n",
    "    return combinations\n",
    "\n",
    "['0', '1']\n",
    "\n",
    "Let us read from digit to digit.\n",
    "\n",
    "For the matrix element 11, the binary representation is from '0' to '0', so we should assign the value of m to this element.\n",
    "\n",
    "For the matrix element 12, the binary representation is from '0' to '1', so we should assign the value of o to this element.\n",
    "\n",
    "For the matrix element 21, the binary representation is from '1' to '0', so we should assign the value of p to this element.\n",
    "\n",
    "For the matrix element 22, the binary representation is from '1' to '1', so we should assign the value of q to this element.\n",
    "\n",
    "Therefore, we should have the following as the square matrix: \n",
    "[[1, 0], [0.1, 0.9]]\n",
    "\n",
    "For n = 2, we have 2^2 possibilities. Based the following code, we have the possbilities \n",
    "\n",
    "['00', '01', '10', '11']\n",
    "\n",
    "Let us read from digit to digit.\n",
    "\n",
    "For the matrix element 11, the binary representation is from 0 to 0 for the first digit and from 0 to 0 for the second digit, so we should assign the value of m * m  = 1 * 1 = 1 to this element.\n",
    "\n",
    "For the matrix element 12, the binary representation is from 0 to 0 for the first digit and from 0 to 1 for the second digit, so we should assign the value of m * o = 1 * 0 = 0 to this element.\n",
    "\n",
    "For the matrix element 13, the binary representation is from 0 to 1 for the first digit and from 0 to 0 for the second digit, so we should assign the value of o * m = 0 * 1 = 0 to this element.\n",
    "\n",
    "For the matrix element 14, the binary representation is from 0 to 1 for the first digit and from 0 to 1 for the second digit, so we should assign the value of o * o = 0 * 0 = 0 to this element.\n",
    "\n",
    "\n",
    "\n",
    "\n",
    "For the matrix element 21, the binary representation is from 0 to 0 for the first digit and from 1 to 0 for the second digit, so we should assign the value of m * p = 1 * 0.1 = 0.1 to this element.\n",
    "\n",
    "For the matrix element 22, the binary representation is from 0 to 0 for the first digit and from 1 to 1 for the second digit, so we should assign the value of m * q = 1 * 0.9 = 0.9 to this element.\n",
    "\n",
    "For the matrix element 23, the binary representation is from 0 to 1 for the first digit and from 1 to 0 for the second digit, so we should assign the value of o * p = 0 * 0.1 = 0 to this element.\n",
    "\n",
    "For the matrix element 24, the binary representation is from 0 to 1 for the first digit and from 1 to 1 for the second digit, so we should assign the value of o * q = 0 * 0.9 = 0 to this element.\n",
    "\n",
    "\n",
    "\n",
    "\n",
    "For the matrix element 31, the binary representation is from 1 to 0 for the first digit and from 0 to 0 for the second digit, so we should assign the value of p * m = 0.1 * 1 = 0.1 to this element.\n",
    "\n",
    "For the matrix element 32, the binary representation is from 1 to 0 for the first digit and from 0 to 1 for the second digit, so we should assign the value of p * o = 0.1 * 0 = 0 to this element.\n",
    "\n",
    "For the matrix element 33, the binary representation is from 1 to 1 for the first digit and from 0 to 0 for the second digit, so we should assign the value of q * m = 0.9 * 1 = 0.9 to this element.\n",
    "\n",
    "For the matrix element 34, the binary representation is from 1 to 1 for the first digit and from 0 to 1 for the second digit, so we should assign the value of q * o = 0.9 * 0 = 0 to this element.\n",
    "\n",
    "\n",
    "\n",
    "\n",
    "\n",
    "For the matrix element 41, the binary representation is from 1 to 0 for the first digit and from 1 to 0 for the second digit, so we should assign the value of p * p = 0.1 * 0.1 = 0.01 to this element.\n",
    "\n",
    "For the matrix element 42, the binary representation is from 1 to 0 for the first digit and from 1 to 1 for the second digit, so we should assign the value of p * q = 0.1 * 0.9 = 0.09 to this element.\n",
    "\n",
    "For the matrix element 43, the binary representation is from 1 to 1 for the first digit and from 1 to 0 for the second digit, so we should assign the value of q * p = 0.9 * 0.1 = 0.09 to this element.\n",
    "\n",
    "For the matrix element 44, the binary representation is from 1 to 1 for the first digit and from 1 to 1 for the second digit, so we should assign the value of q * q = 0.9 * 0.9 = 0.81 to this element.\n",
    "\n",
    "\n",
    "Therefore, we should have the following as the square matrix: \n",
    "[[m * m, m * o, o * m, o * o], [m * p, m * q, o * p, o * q], [p * m, p * o, q * m, q * o], [p * p, p * q, q * p, q * q]]\n",
    "= \n",
    "[[1, 0, 0, 0], [0.1, 0.9, 0, 0], [0.1, 0, 0.9, 0], [0.01, 0.09, 0.09, 0.81]]"
   ]
  },
  {
   "cell_type": "code",
   "execution_count": 6,
   "metadata": {},
   "outputs": [
    {
     "name": "stdout",
     "output_type": "stream",
     "text": [
      "[[1, 0, 0.1, 0.9], [0, 0, 0, 0], [0, 0, 0, 0], [0, 0, 0, 0]]\n"
     ]
    }
   ],
   "source": [
    "m = 1\n",
    "o = 0\n",
    "p = 0.1\n",
    "q = 0.9\n",
    "matrix_size = 2**n\n",
    "\n",
    "n = 2\n",
    "\n",
    "# Generate the square matrix\n",
    "matrix = [[0] * matrix_size for _ in range(matrix_size)]\n",
    "for i in range(matrix_size):\n",
    "    for j in range(matrix_size):\n",
    "        binary_i = bin(i)[2:].zfill(n)\n",
    "        binary_j = bin(j)[2:].zfill(n)\n",
    "        index = int(binary_i + binary_j, 2)\n",
    "        if index == 0:\n",
    "            matrix[i][j] = m\n",
    "        elif index == 1:\n",
    "            matrix[i][j] = o\n",
    "        elif index == 2:\n",
    "            matrix[i][j] = p\n",
    "        elif index == 3:\n",
    "            matrix[i][j] = q\n",
    "        # Add more conditions for additional values as needed\n",
    "\n",
    "\n",
    "print(matrix)\n"
   ]
  },
  {
   "cell_type": "code",
   "execution_count": 7,
   "metadata": {},
   "outputs": [
    {
     "name": "stdout",
     "output_type": "stream",
     "text": [
      "[[1.0, 0.0, 0.0, 0.0], [0.1, 0.9, 0.0, 0.0], [0.1, 0.0, 0.9, 0.0], [0.010000000000000002, 0.09000000000000001, 0.09000000000000001, 0.81]]\n"
     ]
    }
   ],
   "source": [
    "n = 2\n",
    "matrix_size = 2**n\n",
    "\n",
    "\n",
    "matrix = [[0.0] * matrix_size for _ in range(matrix_size)]\n",
    "\n",
    "\n",
    "for i in range(matrix_size):\n",
    "    for j in range(matrix_size):\n",
    "        row_binary = bin(i)[2:].zfill(n)  # Binary representation of row index\n",
    "        col_binary = bin(j)[2:].zfill(n)  # Binary representation of column index\n",
    "\n",
    "\n",
    "        value = 1.0  # Default value for 'm'\n",
    "        for k in range(n):\n",
    "            if row_binary[k] == '0' and col_binary[k] == '1':\n",
    "                value *= 0.0  # Update value to 'o'\n",
    "            elif row_binary[k] == '1' and col_binary[k] == '0':\n",
    "                value *= 0.1  # Update value to 'p'\n",
    "            elif row_binary[k] == '1' and col_binary[k] == '1':\n",
    "                value *= 0.9  # Update value to 'q'\n",
    "\n",
    "\n",
    "        matrix[i][j] = value\n",
    "\n",
    "\n",
    "print(matrix)\n"
   ]
  },
  {
   "cell_type": "code",
   "execution_count": 8,
   "metadata": {},
   "outputs": [
    {
     "data": {
      "text/plain": [
       "[[1.0, 0.0, 0.0, 0.0],\n",
       " [0.1, 0.9, 0.0, 0.0],\n",
       " [0.1, 0.0, 0.9, 0.0],\n",
       " [0.010000000000000002, 0.09000000000000001, 0.09000000000000001, 0.81]]"
      ]
     },
     "execution_count": 8,
     "metadata": {},
     "output_type": "execute_result"
    }
   ],
   "source": [
    "matrix"
   ]
  },
  {
   "cell_type": "code",
   "execution_count": 9,
   "metadata": {},
   "outputs": [
    {
     "name": "stdout",
     "output_type": "stream",
     "text": [
      "['000', '001', '010', '011', '100', '101', '110', '111']\n"
     ]
    }
   ],
   "source": [
    "n = 3\n",
    "possibilities = generate_bit_combinations(n)\n",
    "print(possibilities)"
   ]
  },
  {
   "cell_type": "code",
   "execution_count": 10,
   "metadata": {},
   "outputs": [
    {
     "name": "stdout",
     "output_type": "stream",
     "text": [
      "['0000', '0001', '0010', '0011', '0100', '0101', '0110', '0111', '1000', '1001', '1010', '1011', '1100', '1101', '1110', '1111']\n"
     ]
    }
   ],
   "source": [
    "n = 4\n",
    "possibilities = generate_bit_combinations(n)\n",
    "print(possibilities)"
   ]
  },
  {
   "cell_type": "code",
   "execution_count": 11,
   "metadata": {},
   "outputs": [
    {
     "name": "stdout",
     "output_type": "stream",
     "text": [
      "['00000', '00001', '00010', '00011', '00100', '00101', '00110', '00111', '01000', '01001', '01010', '01011', '01100', '01101', '01110', '01111', '10000', '10001', '10010', '10011', '10100', '10101', '10110', '10111', '11000', '11001', '11010', '11011', '11100', '11101', '11110', '11111']\n"
     ]
    }
   ],
   "source": [
    "n = 5\n",
    "possibilities = generate_bit_combinations(n)\n",
    "print(possibilities)"
   ]
  },
  {
   "cell_type": "code",
   "execution_count": 12,
   "metadata": {},
   "outputs": [
    {
     "name": "stdout",
     "output_type": "stream",
     "text": [
      "['000000', '000001', '000010', '000011', '000100', '000101', '000110', '000111', '001000', '001001', '001010', '001011', '001100', '001101', '001110', '001111', '010000', '010001', '010010', '010011', '010100', '010101', '010110', '010111', '011000', '011001', '011010', '011011', '011100', '011101', '011110', '011111', '100000', '100001', '100010', '100011', '100100', '100101', '100110', '100111', '101000', '101001', '101010', '101011', '101100', '101101', '101110', '101111', '110000', '110001', '110010', '110011', '110100', '110101', '110110', '110111', '111000', '111001', '111010', '111011', '111100', '111101', '111110', '111111']\n"
     ]
    }
   ],
   "source": [
    "n = 6\n",
    "possibilities = generate_bit_combinations(n)\n",
    "print(possibilities)"
   ]
  },
  {
   "cell_type": "code",
   "execution_count": 13,
   "metadata": {},
   "outputs": [
    {
     "name": "stdout",
     "output_type": "stream",
     "text": [
      "['0000000', '0000001', '0000010', '0000011', '0000100', '0000101', '0000110', '0000111', '0001000', '0001001', '0001010', '0001011', '0001100', '0001101', '0001110', '0001111', '0010000', '0010001', '0010010', '0010011', '0010100', '0010101', '0010110', '0010111', '0011000', '0011001', '0011010', '0011011', '0011100', '0011101', '0011110', '0011111', '0100000', '0100001', '0100010', '0100011', '0100100', '0100101', '0100110', '0100111', '0101000', '0101001', '0101010', '0101011', '0101100', '0101101', '0101110', '0101111', '0110000', '0110001', '0110010', '0110011', '0110100', '0110101', '0110110', '0110111', '0111000', '0111001', '0111010', '0111011', '0111100', '0111101', '0111110', '0111111', '1000000', '1000001', '1000010', '1000011', '1000100', '1000101', '1000110', '1000111', '1001000', '1001001', '1001010', '1001011', '1001100', '1001101', '1001110', '1001111', '1010000', '1010001', '1010010', '1010011', '1010100', '1010101', '1010110', '1010111', '1011000', '1011001', '1011010', '1011011', '1011100', '1011101', '1011110', '1011111', '1100000', '1100001', '1100010', '1100011', '1100100', '1100101', '1100110', '1100111', '1101000', '1101001', '1101010', '1101011', '1101100', '1101101', '1101110', '1101111', '1110000', '1110001', '1110010', '1110011', '1110100', '1110101', '1110110', '1110111', '1111000', '1111001', '1111010', '1111011', '1111100', '1111101', '1111110', '1111111']\n"
     ]
    }
   ],
   "source": [
    "n = 7\n",
    "possibilities = generate_bit_combinations(n)\n",
    "print(possibilities)"
   ]
  },
  {
   "cell_type": "code",
   "execution_count": 14,
   "metadata": {},
   "outputs": [
    {
     "name": "stdout",
     "output_type": "stream",
     "text": [
      "['00000000', '00000001', '00000010', '00000011', '00000100', '00000101', '00000110', '00000111', '00001000', '00001001', '00001010', '00001011', '00001100', '00001101', '00001110', '00001111', '00010000', '00010001', '00010010', '00010011', '00010100', '00010101', '00010110', '00010111', '00011000', '00011001', '00011010', '00011011', '00011100', '00011101', '00011110', '00011111', '00100000', '00100001', '00100010', '00100011', '00100100', '00100101', '00100110', '00100111', '00101000', '00101001', '00101010', '00101011', '00101100', '00101101', '00101110', '00101111', '00110000', '00110001', '00110010', '00110011', '00110100', '00110101', '00110110', '00110111', '00111000', '00111001', '00111010', '00111011', '00111100', '00111101', '00111110', '00111111', '01000000', '01000001', '01000010', '01000011', '01000100', '01000101', '01000110', '01000111', '01001000', '01001001', '01001010', '01001011', '01001100', '01001101', '01001110', '01001111', '01010000', '01010001', '01010010', '01010011', '01010100', '01010101', '01010110', '01010111', '01011000', '01011001', '01011010', '01011011', '01011100', '01011101', '01011110', '01011111', '01100000', '01100001', '01100010', '01100011', '01100100', '01100101', '01100110', '01100111', '01101000', '01101001', '01101010', '01101011', '01101100', '01101101', '01101110', '01101111', '01110000', '01110001', '01110010', '01110011', '01110100', '01110101', '01110110', '01110111', '01111000', '01111001', '01111010', '01111011', '01111100', '01111101', '01111110', '01111111', '10000000', '10000001', '10000010', '10000011', '10000100', '10000101', '10000110', '10000111', '10001000', '10001001', '10001010', '10001011', '10001100', '10001101', '10001110', '10001111', '10010000', '10010001', '10010010', '10010011', '10010100', '10010101', '10010110', '10010111', '10011000', '10011001', '10011010', '10011011', '10011100', '10011101', '10011110', '10011111', '10100000', '10100001', '10100010', '10100011', '10100100', '10100101', '10100110', '10100111', '10101000', '10101001', '10101010', '10101011', '10101100', '10101101', '10101110', '10101111', '10110000', '10110001', '10110010', '10110011', '10110100', '10110101', '10110110', '10110111', '10111000', '10111001', '10111010', '10111011', '10111100', '10111101', '10111110', '10111111', '11000000', '11000001', '11000010', '11000011', '11000100', '11000101', '11000110', '11000111', '11001000', '11001001', '11001010', '11001011', '11001100', '11001101', '11001110', '11001111', '11010000', '11010001', '11010010', '11010011', '11010100', '11010101', '11010110', '11010111', '11011000', '11011001', '11011010', '11011011', '11011100', '11011101', '11011110', '11011111', '11100000', '11100001', '11100010', '11100011', '11100100', '11100101', '11100110', '11100111', '11101000', '11101001', '11101010', '11101011', '11101100', '11101101', '11101110', '11101111', '11110000', '11110001', '11110010', '11110011', '11110100', '11110101', '11110110', '11110111', '11111000', '11111001', '11111010', '11111011', '11111100', '11111101', '11111110', '11111111']\n"
     ]
    }
   ],
   "source": [
    "n = 8\n",
    "possibilities = generate_bit_combinations(n)\n",
    "print(possibilities)"
   ]
  },
  {
   "cell_type": "code",
   "execution_count": null,
   "metadata": {},
   "outputs": [],
   "source": []
  }
 ],
 "metadata": {
  "kernelspec": {
   "display_name": "Python 3",
   "language": "python",
   "name": "python3"
  },
  "language_info": {
   "codemirror_mode": {
    "name": "ipython",
    "version": 3
   },
   "file_extension": ".py",
   "mimetype": "text/x-python",
   "name": "python",
   "nbconvert_exporter": "python",
   "pygments_lexer": "ipython3",
   "version": "3.9.13"
  },
  "orig_nbformat": 4
 },
 "nbformat": 4,
 "nbformat_minor": 2
}
