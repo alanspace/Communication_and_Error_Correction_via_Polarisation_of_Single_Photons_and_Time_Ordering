{
  "cells": [
    {
      "cell_type": "code",
      "execution_count": 1,
      "metadata": {
        "id": "H0g2wRWuEqIw"
      },
      "outputs": [],
      "source": [
        "import numpy as np\n",
        "import matplotlib.pyplot as plt\n",
        "import itertools\n",
        "import math\n",
        "from pyparsing import python_style_comment\n",
        "from itertools import islice\n",
        "import scipy.sparse as sps\n",
        "from scipy.sparse import diags\n",
        "from functools import lru_cache\n",
        "import pandas as pd"
      ]
    },
    {
      "cell_type": "markdown",
      "metadata": {
        "id": "fXpCmhdiEqI0"
      },
      "source": [
        "# Working on Mutual Information Starting from Conditional Probability"
      ]
    },
    {
      "attachments": {},
      "cell_type": "markdown",
      "metadata": {},
      "source": [
        "## Flip Bit for M = 1 "
      ]
    },
    {
      "cell_type": "code",
      "execution_count": 137,
      "metadata": {
        "id": "9eI3F5RcEqI0"
      },
      "outputs": [],
      "source": [
        "# Conditional probability matrix [P(Y|X)]\n",
        "p = 0.1\n",
        "q = 0.9\n",
        "\n",
        "# Consider the Flip Bit case for M = 1 \n",
        "P_Y_X = np.array([[q, p],\n",
        "                  [p, q]])\n",
        "\n",
        "M = np.shape(P_Y_X)[0] / 2\n",
        "\n",
        "# Marginal probabilities P(X) and P(Y)\n",
        "# prob_x = np.array([1/4, 1/4])\n",
        "# prob_y = np.array([1/4, 1/4])\n",
        "\n",
        "# PX = np.sum(prob_x, axis = 0).sum()\n",
        "# PY = np.sum(prob_y, axis = 0).sum()\n",
        "PX = 0.5\n",
        "PY = 0.5\n",
        "\n",
        "# Calculate Joint Probability Matrix [P(X,Y)]\n",
        "P_XY = PX * P_Y_X\n",
        "P_X_Y = P_XY / PY\n",
        "\n",
        "# Entropy\n",
        "# HX = np.sum(-(prob_x) * np.log2(prob_x))\n",
        "HX = - np.log2(PX)\n",
        "HY = - np.log2(PY)\n",
        "\n",
        "H_XY = - np.log2(P_XY)\n",
        "H_X_Y = -np.sum(P_XY * np.log2(P_X_Y + 1e-10), axis=0).sum()\n",
        "H_Y_X = -np.sum(P_XY * np.log2(P_Y_X + 1e-10), axis=0).sum()\n",
        "\n",
        "# Mutual Information\n",
        "MI = HX - H_X_Y\n",
        "\n",
        "# Mutual Information per Photon\n",
        "MIperPhoton = MI / (M/2)"
      ]
    },
    {
      "cell_type": "code",
      "execution_count": 138,
      "metadata": {
        "id": "aiuC2CIgEqI1",
        "outputId": "73eed503-d043-4a9c-c490-96e5c48c2768"
      },
      "outputs": [
        {
          "name": "stdout",
          "output_type": "stream",
          "text": [
            "Number of Time Bin 1.0\n",
            "Probability P(X): 0.5\n",
            "Probability P(Y): 0.5\n",
            "Joint Probability P(X,Y):\n",
            "[[0.45 0.05]\n",
            " [0.05 0.45]]\n",
            "Conditional Probability P(X|Y):\n",
            "[[0.9 0.1]\n",
            " [0.1 0.9]]\n",
            "Conditional Probability P(Y|X):\n",
            "[[0.9 0.1]\n",
            " [0.1 0.9]]\n",
            "Entropy H(X): 1.0\n",
            "Entropy H(Y): 1.0\n",
            "Joint Entropy H(X,Y):\n",
            "[[1.15200309 4.32192809]\n",
            " [4.32192809 1.15200309]]\n",
            "Conditional Entropy H(X|Y): 0.4689955933007422\n",
            "Conditional Entropy H(Y|X): 0.4689955933007422\n",
            "Mutual Information I(X;Y)): 0.5310044066992579\n",
            "Mutual Information per Photon I(X;Y)/(M/2)): 1.0620088133985157\n"
          ]
        }
      ],
      "source": [
        "print('Number of Time Bin', M)\n",
        "\n",
        "print('Probability P(X):', PX)\n",
        "print('Probability P(Y):', PY)\n",
        "\n",
        "print('Joint Probability P(X,Y):')\n",
        "print(P_XY)\n",
        "\n",
        "print('Conditional Probability P(X|Y):')\n",
        "print(P_X_Y)\n",
        "print('Conditional Probability P(Y|X):')\n",
        "print(P_Y_X)\n",
        "\n",
        "\n",
        "print('Entropy H(X):', HX)\n",
        "print('Entropy H(Y):', HY)\n",
        "\n",
        "print('Joint Entropy H(X,Y):')\n",
        "print(H_XY)\n",
        "\n",
        "print('Conditional Entropy H(X|Y):', H_X_Y)\n",
        "print('Conditional Entropy H(Y|X):', H_Y_X)\n",
        "\n",
        "print('Mutual Information I(X;Y)):', MI)\n",
        "print('Mutual Information per Photon I(X;Y)/(M/2)):', MIperPhoton)"
      ]
    },
    {
      "attachments": {},
      "cell_type": "markdown",
      "metadata": {},
      "source": [
        "## Flip Bit for M = 2"
      ]
    },
    {
      "cell_type": "code",
      "execution_count": 139,
      "metadata": {
        "id": "UNU3QE-IEqI1"
      },
      "outputs": [],
      "source": [
        "p = 0.1\n",
        "q = 0.9\n",
        "\n",
        "# Conditional probability matrix [P(Y|X)]\n",
        "# Consider the flip bit case for M = 2 \n",
        "P_Y_X = np.array([[q*q, q*p, p*q, p*p],\n",
        "                  [q*p, q*q, p*p, p*q],\n",
        "                  [p*q, p*p, q*q, q*p],\n",
        "                  [p*p, p*q, q*p, q*q]])\n",
        "\n",
        "M = np.shape(P_Y_X)[0] / 2\n",
        "\n",
        "# Marginal probabilities P(X) and P(Y)\n",
        "# prob_x = np.array([1/4, 0])\n",
        "# prob_y = np.array([1/8, 1/8])\n",
        "\n",
        "# PX = np.sum(prob_x, axis = 0).sum()\n",
        "# PY = np.sum(prob_y, axis = 0).sum()\n",
        "PX = 1/4\n",
        "PY = 1/4\n",
        "\n",
        "# Calculate Joint Probability Matrix [P(X,Y)]\n",
        "P_XY = PX * P_Y_X \n",
        "P_X_Y = P_XY / PY\n",
        "\n",
        "# Entropy\n",
        "HX = - np.log2(PX)\n",
        "HY = - np.log2(PY)\n",
        "\n",
        "H_XY = - np.log2(P_XY)\n",
        "H_X_Y = -np.sum(P_XY * np.log2(P_X_Y + 1e-10), axis=0).sum()\n",
        "H_Y_X = -np.sum(P_XY * np.log2(P_Y_X + 1e-10), axis=0).sum()\n",
        "\n",
        "# Mutual Information\n",
        "MI = HX - H_X_Y\n",
        "\n",
        "# Mutual Information per Photon\n",
        "MIperPhoton = MI / (M/2)"
      ]
    },
    {
      "cell_type": "code",
      "execution_count": 140,
      "metadata": {
        "id": "Q8SYGpMQEqI2",
        "outputId": "f7661213-c3e4-4264-9b5f-8ddae6a4f817"
      },
      "outputs": [
        {
          "name": "stdout",
          "output_type": "stream",
          "text": [
            "Number of Time Bin 2.0\n",
            "Probability P(X): 0.25\n",
            "Probability P(Y): 0.25\n",
            "Joint Probability P(X,Y):\n",
            "[[0.2025 0.0225 0.0225 0.0025]\n",
            " [0.0225 0.2025 0.0025 0.0225]\n",
            " [0.0225 0.0025 0.2025 0.0225]\n",
            " [0.0025 0.0225 0.0225 0.2025]]\n",
            "Conditional Probability P(X|Y):\n",
            "[[0.81 0.09 0.09 0.01]\n",
            " [0.09 0.81 0.01 0.09]\n",
            " [0.09 0.01 0.81 0.09]\n",
            " [0.01 0.09 0.09 0.81]]\n",
            "Conditional Probability P(Y|X):\n",
            "[[0.81 0.09 0.09 0.01]\n",
            " [0.09 0.81 0.01 0.09]\n",
            " [0.09 0.01 0.81 0.09]\n",
            " [0.01 0.09 0.09 0.81]]\n",
            "Entropy H(X): 2.0\n",
            "Entropy H(Y): 2.0\n",
            "Joint Entropy H(X,Y):\n",
            "[[2.30400619 5.47393119 5.47393119 8.64385619]\n",
            " [5.47393119 2.30400619 8.64385619 5.47393119]\n",
            " [5.47393119 8.64385619 2.30400619 5.47393119]\n",
            " [8.64385619 5.47393119 5.47393119 2.30400619]]\n",
            "Conditional Entropy H(X|Y): 0.9379911866014845\n",
            "Conditional Entropy H(Y|X): 0.9379911866014845\n",
            "Mutual Information I(X;Y)): 1.0620088133985155\n",
            "Mutual Information per Photon I(X;Y)/(M/2)): 1.0620088133985155\n"
          ]
        }
      ],
      "source": [
        "print('Number of Time Bin', M)\n",
        "\n",
        "print('Probability P(X):', PX)\n",
        "print('Probability P(Y):', PY)\n",
        "\n",
        "print('Joint Probability P(X,Y):')\n",
        "print(P_XY)\n",
        "\n",
        "print('Conditional Probability P(X|Y):')\n",
        "print(P_X_Y)\n",
        "print('Conditional Probability P(Y|X):')\n",
        "print(P_Y_X)\n",
        "\n",
        "\n",
        "print('Entropy H(X):', HX)\n",
        "print('Entropy H(Y):', HY)\n",
        "\n",
        "print('Joint Entropy H(X,Y):')\n",
        "print(H_XY)\n",
        "\n",
        "print('Conditional Entropy H(X|Y):', H_X_Y)\n",
        "print('Conditional Entropy H(Y|X):', H_Y_X)\n",
        "\n",
        "print('Mutual Information I(X;Y)):', MI)\n",
        "print('Mutual Information per Photon I(X;Y)/(M/2)):', MIperPhoton)"
      ]
    },
    {
      "attachments": {},
      "cell_type": "markdown",
      "metadata": {},
      "source": [
        "## Loss Bit for M = 1"
      ]
    },
    {
      "cell_type": "code",
      "execution_count": 141,
      "metadata": {},
      "outputs": [],
      "source": [
        "# Conditional probability matrix [P(Y|X)]\n",
        "n = 1\n",
        "o = 0\n",
        "p = 0.1\n",
        "q = 0.9\n",
        "M = 1\n",
        "K = 2**M\n",
        "\n",
        "# Calculate Joint Probability Matrix [P(X,Y)]\n",
        "P_XY = np.array([[n, o],\n",
        "                  [p, q]]) * 1/ (K)\n",
        "\n",
        "PX = np.sum(P_XY, axis=1)\n",
        "PY = np.sum(P_XY, axis=0)\n",
        "\n",
        "P_Y_X = P_XY / PX [:, np.newaxis]  # Adjust dimensions for proper broadcasting division\n",
        "P_X_Y = P_XY / PY\n",
        "\n",
        "# Entropy\n",
        "HX = -np.sum(PX * np.log2(PX))\n",
        "HY = -np.sum(PY * np.log2(PY))\n",
        "H_XY = -np.sum(P_XY * np.log2(P_XY + 1e-10))\n",
        "H_X_Y = -np.sum(P_XY * np.log2(P_X_Y + 1e-10), axis=0).sum()\n",
        "H_Y_X = -np.sum(P_XY * np.log2(P_Y_X + 1e-10), axis=0).sum()\n",
        "\n",
        "# Mutual Information\n",
        "MI = HX - H_X_Y\n",
        "\n",
        "# Mutual Information per Photon\n",
        "MIperPhoton = MI / (M/2)"
      ]
    },
    {
      "cell_type": "code",
      "execution_count": 142,
      "metadata": {},
      "outputs": [
        {
          "name": "stdout",
          "output_type": "stream",
          "text": [
            "Loss Bit for M = 1\n",
            "Number of Time Bin 1\n",
            "Joint Probability P(X,Y):\n",
            "[[0.5  0.  ]\n",
            " [0.05 0.45]]\n",
            "Probability P(X): [0.5 0.5]\n",
            "Probability P(Y): [0.55 0.45]\n",
            "Conditional Probability P(X|Y):\n",
            "[[0.90909091 0.        ]\n",
            " [0.09090909 1.        ]]\n",
            "Conditional Probability P(Y|X):\n",
            "[[1.  0. ]\n",
            " [0.1 0.9]]\n",
            "Entropy H(X): 1.0\n",
            "Entropy H(Y): 0.9927744539878083\n",
            "Joint Entropy H(X,Y): 1.2344977963618322\n",
            "Conditional Entropy H(X|Y): 0.2417233425832146\n",
            "Conditional Entropy H(Y|X): 0.23449779657823633\n",
            "Mutual Information I(X;Y)): 0.7582766574167854\n",
            "Mutual Information per Photon I(X;Y)/(M/2)): 1.5165533148335708\n"
          ]
        }
      ],
      "source": [
        "print('Loss Bit for M = 1')\n",
        "print('Number of Time Bin', M)\n",
        "\n",
        "print('Joint Probability P(X,Y):')\n",
        "print(P_XY)\n",
        "\n",
        "print('Probability P(X):', PX)\n",
        "print('Probability P(Y):', PY)\n",
        "\n",
        "print('Conditional Probability P(X|Y):')\n",
        "print(P_X_Y)\n",
        "print('Conditional Probability P(Y|X):')\n",
        "print(P_Y_X)\n",
        "\n",
        "print('Entropy H(X):', HX)\n",
        "print('Entropy H(Y):', HY)\n",
        "\n",
        "print('Joint Entropy H(X,Y):', H_XY)\n",
        "print('Conditional Entropy H(X|Y):', H_X_Y)\n",
        "print('Conditional Entropy H(Y|X):', H_Y_X)\n",
        "\n",
        "print('Mutual Information I(X;Y)):', MI)\n",
        "print('Mutual Information per Photon I(X;Y)/(M/2)):', MIperPhoton)"
      ]
    },
    {
      "attachments": {},
      "cell_type": "markdown",
      "metadata": {},
      "source": [
        "## Loss Bit for M = 2"
      ]
    },
    {
      "cell_type": "code",
      "execution_count": 143,
      "metadata": {},
      "outputs": [],
      "source": [
        "n = 1\n",
        "o = 0\n",
        "p = 0.1\n",
        "q = 0.9\n",
        "M = 2\n",
        "K = 2**M\n",
        "\n",
        "P_XY = np.array([[n*n, n*o, o*n, o*o],\n",
        "                 [n*p, n*q, o*p, o*q],\n",
        "                 [p*n, p*o, q*n, q*o],\n",
        "                 [p*p, p*q, q*p, q*q]]) * 1/K\n",
        "\n",
        "PX = np.sum(P_XY, axis=1)\n",
        "PY = np.sum(P_XY, axis=0)\n",
        "\n",
        "P_Y_X = P_XY / PX [:, np.newaxis]  # Adjust dimensions for proper broadcasting division\n",
        "P_X_Y = P_XY / PY\n",
        "\n",
        "# Entropy\n",
        "HX = -np.sum(PX * np.log2(PX))\n",
        "HY = -np.sum(PY * np.log2(PY))\n",
        "\n",
        "H_XY = -np.sum(P_XY * np.log2(P_XY + 1e-10))\n",
        "H_X_Y = -np.sum(P_XY * np.log2(P_X_Y + 1e-10), axis=0).sum()\n",
        "H_Y_X = -np.sum(P_XY * np.log2(P_Y_X + 1e-10), axis=0).sum()\n",
        "\n",
        "# Mutual Information\n",
        "MI = HX - H_X_Y\n",
        "\n",
        "# Mutual Information per Photon\n",
        "MIperPhoton = MI / (M/2)"
      ]
    },
    {
      "cell_type": "code",
      "execution_count": 144,
      "metadata": {},
      "outputs": [
        {
          "name": "stdout",
          "output_type": "stream",
          "text": [
            "Loss Bit for M = 2\n",
            "Number of Time Bin 2\n",
            "Probability P(X): [0.25 0.25 0.25 0.25]\n",
            "Probability P(Y): [0.3025 0.2475 0.2475 0.2025]\n",
            "Joint Probability P(X,Y):\n",
            "[[0.25   0.     0.     0.    ]\n",
            " [0.025  0.225  0.     0.    ]\n",
            " [0.025  0.     0.225  0.    ]\n",
            " [0.0025 0.0225 0.0225 0.2025]]\n",
            "Conditional Probability P(X|Y):\n",
            "[[0.82644628 0.         0.         0.        ]\n",
            " [0.08264463 0.90909091 0.         0.        ]\n",
            " [0.08264463 0.         0.90909091 0.        ]\n",
            " [0.00826446 0.09090909 0.09090909 1.        ]]\n",
            "Conditional Probability P(Y|X):\n",
            "[[1.   0.   0.   0.  ]\n",
            " [0.1  0.9  0.   0.  ]\n",
            " [0.1  0.   0.9  0.  ]\n",
            " [0.01 0.09 0.09 0.81]]\n",
            "Entropy H(X): 2.0\n",
            "Entropy H(Y): 1.9855489079756166\n",
            "Joint Entropy H(X,Y): 2.4689955922908555\n",
            "Conditional Entropy H(X|Y): 0.48344668526705714\n",
            "Conditional Entropy H(Y|X): 0.46899559326467477\n",
            "Mutual Information I(X;Y)): 1.5165533147329429\n",
            "Mutual Information per Photon I(X;Y)/(M/2)): 1.5165533147329429\n"
          ]
        }
      ],
      "source": [
        "print('Loss Bit for M = 2')\n",
        "print('Number of Time Bin', M)\n",
        "\n",
        "print('Probability P(X):', PX)\n",
        "print('Probability P(Y):', PY)\n",
        "\n",
        "print('Joint Probability P(X,Y):')\n",
        "print(P_XY)\n",
        "\n",
        "print('Conditional Probability P(X|Y):')\n",
        "print(P_X_Y)\n",
        "print('Conditional Probability P(Y|X):')\n",
        "print(P_Y_X)\n",
        "\n",
        "\n",
        "print('Entropy H(X):', HX)\n",
        "print('Entropy H(Y):', HY)\n",
        "\n",
        "print('Joint Entropy H(X,Y):', H_XY)\n",
        "\n",
        "print('Conditional Entropy H(X|Y):', H_X_Y)\n",
        "print('Conditional Entropy H(Y|X):', H_Y_X)\n",
        "\n",
        "print('Mutual Information I(X;Y)):', MI)\n",
        "print('Mutual Information per Photon I(X;Y)/(M/2)):', MIperPhoton)"
      ]
    },
    {
      "attachments": {},
      "cell_type": "markdown",
      "metadata": {},
      "source": [
        "## Loss Bit for M = 3"
      ]
    },
    {
      "cell_type": "code",
      "execution_count": 145,
      "metadata": {},
      "outputs": [],
      "source": [
        "n = 1       # 0 to 0 \n",
        "o = 0       # 0 to 1\n",
        "p = 0.1     # 1 to 0 \n",
        "q = 0.9     # 1 to 1\n",
        "M = 3\n",
        "K = 2**M\n",
        "\n",
        "# Conditional probability matrix [P(Y|X)]\n",
        "# Consider the flip bit case for M = 3 \n",
        "P_XY = np.array([[n*n*n, n*n*o, n*o*n, n*o*o, o*n*n, o*n*o, o*o*n, o*o*o],\n",
        "                  [n*n*p, n*n*q, n*o*p, n*o*q, o*n*p, o*n*q, o*o*p, o*o*q],\n",
        "                  [n*p*n, n*p*o, n*q*n, n*p*o, o*p*n, o*p*o, o*q*n, o*q*o],\n",
        "                  [n*p*p, n*p*q, n*q*p, n*q*q, o*p*p, o*p*q, o*q*p, o*q*q],\n",
        "                  [p*n*n, p*n*o, p*o*n, p*o*o, q*n*n, q*n*o, q*o*n, q*o*o],\n",
        "                  [p*n*p, p*n*q, p*o*p, p*o*q, q*n*p, q*n*q, q*o*p, q*o*q],\n",
        "\n",
        "                  [p*p*n, p*p*o, p*q*n, p*q*o, q*p*n, q*p*o, q*q*n, q*q*o],\n",
        "                  [p*p*p, p*p*q, p*q*p, p*q*q, q*p*p, q*p*q, q*q*p, q*q*q]]) * 1/ (K)\n",
        "\n",
        "PX = np.sum(P_XY, axis=1)\n",
        "PY = np.sum(P_XY, axis=0)\n",
        "\n",
        "# Calculate Joint Probability Matrix [P(X,Y)]\n",
        "P_Y_X = P_XY / PX [:, np.newaxis]  # Adjust dimensions for proper broadcasting division\n",
        "P_X_Y = P_XY / PY\n",
        "\n",
        "# Entropy\n",
        "HX = -np.sum(PX * np.log2(PX))\n",
        "HY = -np.sum(PY * np.log2(PY))\n",
        "H_XY = -np.sum(P_XY * np.log2(P_XY + 1e-10))\n",
        "H_X_Y = -np.sum(P_XY * np.log2(P_X_Y + 1e-10), axis=0).sum()\n",
        "H_Y_X = -np.sum(P_XY * np.log2(P_Y_X + 1e-10), axis=0).sum()\n",
        "\n",
        "# Mutual Information\n",
        "MI = HX - H_X_Y\n",
        "\n",
        "# Mutual Information per Photon\n",
        "MIperPhoton = MI / (M/2)"
      ]
    },
    {
      "cell_type": "code",
      "execution_count": 146,
      "metadata": {},
      "outputs": [
        {
          "name": "stdout",
          "output_type": "stream",
          "text": [
            "Loss Bit for M = 3\n",
            "Number of Time Bin 3\n",
            "Probability P(X): [0.125 0.125 0.125 0.125 0.125 0.125 0.125 0.125]\n",
            "Probability P(Y): [0.166375 0.136125 0.136125 0.111375 0.136125 0.111375 0.111375 0.091125]\n",
            "Joint Probability P(X,Y):\n",
            "[[0.125    0.       0.       0.       0.       0.       0.       0.      ]\n",
            " [0.0125   0.1125   0.       0.       0.       0.       0.       0.      ]\n",
            " [0.0125   0.       0.1125   0.       0.       0.       0.       0.      ]\n",
            " [0.00125  0.01125  0.01125  0.10125  0.       0.       0.       0.      ]\n",
            " [0.0125   0.       0.       0.       0.1125   0.       0.       0.      ]\n",
            " [0.00125  0.01125  0.       0.       0.01125  0.10125  0.       0.      ]\n",
            " [0.00125  0.       0.01125  0.       0.01125  0.       0.10125  0.      ]\n",
            " [0.000125 0.001125 0.001125 0.010125 0.001125 0.010125 0.010125 0.091125]]\n",
            "Conditional Probability P(X|Y):\n",
            "[[7.51314801e-01 0.00000000e+00 0.00000000e+00 0.00000000e+00\n",
            "  0.00000000e+00 0.00000000e+00 0.00000000e+00 0.00000000e+00]\n",
            " [7.51314801e-02 8.26446281e-01 0.00000000e+00 0.00000000e+00\n",
            "  0.00000000e+00 0.00000000e+00 0.00000000e+00 0.00000000e+00]\n",
            " [7.51314801e-02 0.00000000e+00 8.26446281e-01 0.00000000e+00\n",
            "  0.00000000e+00 0.00000000e+00 0.00000000e+00 0.00000000e+00]\n",
            " [7.51314801e-03 8.26446281e-02 8.26446281e-02 9.09090909e-01\n",
            "  0.00000000e+00 0.00000000e+00 0.00000000e+00 0.00000000e+00]\n",
            " [7.51314801e-02 0.00000000e+00 0.00000000e+00 0.00000000e+00\n",
            "  8.26446281e-01 0.00000000e+00 0.00000000e+00 0.00000000e+00]\n",
            " [7.51314801e-03 8.26446281e-02 0.00000000e+00 0.00000000e+00\n",
            "  8.26446281e-02 9.09090909e-01 0.00000000e+00 0.00000000e+00]\n",
            " [7.51314801e-03 0.00000000e+00 8.26446281e-02 0.00000000e+00\n",
            "  8.26446281e-02 0.00000000e+00 9.09090909e-01 0.00000000e+00]\n",
            " [7.51314801e-04 8.26446281e-03 8.26446281e-03 9.09090909e-02\n",
            "  8.26446281e-03 9.09090909e-02 9.09090909e-02 1.00000000e+00]]\n",
            "Conditional Probability P(Y|X):\n",
            "[[1.    0.    0.    0.    0.    0.    0.    0.   ]\n",
            " [0.1   0.9   0.    0.    0.    0.    0.    0.   ]\n",
            " [0.1   0.    0.9   0.    0.    0.    0.    0.   ]\n",
            " [0.01  0.09  0.09  0.81  0.    0.    0.    0.   ]\n",
            " [0.1   0.    0.    0.    0.9   0.    0.    0.   ]\n",
            " [0.01  0.09  0.    0.    0.09  0.81  0.    0.   ]\n",
            " [0.01  0.    0.09  0.    0.09  0.    0.81  0.   ]\n",
            " [0.001 0.009 0.009 0.081 0.009 0.081 0.081 0.729]]\n",
            "Entropy H(X): 3.0\n",
            "Entropy H(Y): 2.978323361963425\n",
            "Joint Entropy H(X,Y):\n",
            "3.703493386488645\n",
            "Conditional Entropy H(X|Y): 0.7251700278832555\n",
            "Conditional Entropy H(Y|X): 0.7034933898970123\n",
            "Mutual Information I(X;Y)): 2.2748299721167444\n",
            "Mutual Information per Photon I(X;Y)/(M/2)): 1.5165533147444963\n"
          ]
        }
      ],
      "source": [
        "print('Loss Bit for M = 3')\n",
        "print('Number of Time Bin', M)\n",
        "\n",
        "print('Probability P(X):', PX)\n",
        "print('Probability P(Y):', PY)\n",
        "\n",
        "print('Joint Probability P(X,Y):')\n",
        "print(P_XY)\n",
        "\n",
        "print('Conditional Probability P(X|Y):')\n",
        "print(P_X_Y)\n",
        "print('Conditional Probability P(Y|X):')\n",
        "print(P_Y_X)\n",
        "\n",
        "\n",
        "print('Entropy H(X):', HX)\n",
        "print('Entropy H(Y):', HY)\n",
        "\n",
        "print('Joint Entropy H(X,Y):')\n",
        "print(H_XY)\n",
        "\n",
        "print('Conditional Entropy H(X|Y):', H_X_Y)\n",
        "print('Conditional Entropy H(Y|X):', H_Y_X)\n",
        "\n",
        "print('Mutual Information I(X;Y)):', MI)\n",
        "print('Mutual Information per Photon I(X;Y)/(M/2)):', MIperPhoton)"
      ]
    },
    {
      "attachments": {},
      "cell_type": "markdown",
      "metadata": {},
      "source": [
        "# I have not checked the codes below yet"
      ]
    },
    {
      "cell_type": "code",
      "execution_count": null,
      "metadata": {},
      "outputs": [],
      "source": []
    },
    {
      "cell_type": "code",
      "execution_count": null,
      "metadata": {},
      "outputs": [],
      "source": []
    },
    {
      "cell_type": "code",
      "execution_count": null,
      "metadata": {},
      "outputs": [],
      "source": []
    },
    {
      "cell_type": "code",
      "execution_count": null,
      "metadata": {},
      "outputs": [],
      "source": []
    },
    {
      "cell_type": "markdown",
      "metadata": {
        "id": "uqCZb9aoEqI2"
      },
      "source": [
        "# Another Way of Calculation starting from Joint Probability"
      ]
    },
    {
      "cell_type": "markdown",
      "metadata": {
        "id": "qFXINbACEqI3"
      },
      "source": [
        "## Marginal Probability P(X), P(Y), Conditional Probability P(X|Y), P(Y|X)"
      ]
    },
    {
      "cell_type": "code",
      "execution_count": 12,
      "metadata": {
        "id": "2vQxeQ92EqI3"
      },
      "outputs": [],
      "source": [
        "# Calculate the column sums, probability P(X)\n",
        "def P_X(P_XY):\n",
        "    column_sums = np.sum(P_XY, axis=1)\n",
        "    return column_sums \n",
        "\n",
        "# Calculate the column sums, probability P(Y)\n",
        "def P_Y(P_XY):\n",
        "    row_sums = np.sum(P_XY, axis=0)\n",
        "    return row_sums\n",
        "\n",
        "# Calculate the conditional probability matrix\n",
        "def P_Y_X(P_XY, P_X): \n",
        "    P_YbyX = P_XY / P_X\n",
        "    return P_YbyX\n",
        "\n",
        "def P_X_Y(P_XY, P_Y):\n",
        "    P_XbyY = P_XY / P_Y\n",
        "    return P_XbyY\n",
        "\n",
        "def M(P_XY): \n",
        "    return np.shape(P_XY)[0] / 2"
      ]
    },
    {
      "cell_type": "markdown",
      "metadata": {},
      "source": []
    },
    {
      "cell_type": "markdown",
      "metadata": {
        "id": "Vil5UnalEqI3"
      },
      "source": [
        "## Marginal Entropy H(X), H(Y), Joint Entropy H(X,Y), Conditional Entropy H(X|Y), H(Y|X), Mutual Information"
      ]
    },
    {
      "cell_type": "code",
      "execution_count": 13,
      "metadata": {
        "id": "W0g2X0B8EqI3"
      },
      "outputs": [],
      "source": [
        "def H_X(P_X):\n",
        "    HX = np.sum(-(P_X) * np.log2(P_X))\n",
        "    return HX\n",
        "\n",
        "def H_Y(P_Y):\n",
        "    HY = np.sum(-(P_Y) * np.log2(P_Y))\n",
        "    return HY\n",
        "\n",
        "# Calculate the joint entropy H(X,Y)\n",
        "def H_XY(P_XY):\n",
        "    HXY = -np.sum(P_XY * np.log2(P_XY + 1e-10), axis=0).sum()\n",
        "    return HXY\n",
        "\n",
        "# Calculate the conditional entropy H(Y|X)\n",
        "def H_Y_X(P_Y_X): \n",
        "    H_YbyX = -np.sum(P_XY * np.log2(P_Y_X + 1e-10), axis=0).sum()\n",
        "    return H_YbyX\n",
        "\n",
        "def H_X_Y(P_X_Y): \n",
        "    H_XbyY = -np.sum(P_XY * np.log2(P_X_Y + 1e-10), axis=0).sum()\n",
        "    return H_XbyY\n",
        "\n",
        "def MutualInformation(H_Y, H_Y_X):\n",
        "    MI = H_Y - H_Y_X\n",
        "    return MI \n",
        "\n",
        "def MIperPhoton(MutualInformation, M):\n",
        "    return MutualInformation / (M/2)"
      ]
    },
    {
      "cell_type": "markdown",
      "metadata": {
        "id": "2YEZ6vjOEqI4"
      },
      "source": [
        "## Number into Fraction"
      ]
    },
    {
      "cell_type": "code",
      "execution_count": 14,
      "metadata": {
        "id": "Jzhc5iCIEqI4"
      },
      "outputs": [],
      "source": [
        "from fractions import Fraction\n",
        "fraction_HX = Fraction(H_X(P_X(P_XY))).limit_denominator()\n",
        "fraction_HY = Fraction(H_Y(P_Y(P_XY))).limit_denominator()\n",
        "fraction_HXY = Fraction(H_XY((P_XY))).limit_denominator()\n",
        "fraction_HXbyY = Fraction(H_X_Y(P_X_Y(P_XY, P_Y(P_XY)))).limit_denominator()\n",
        "fraction_HYbyX = Fraction(H_Y_X(P_Y_X(P_XY, P_X(P_XY)))).limit_denominator()\n",
        "fraction_MI = Fraction(MutualInformation(H_Y(P_Y(P_XY)), H_Y_X(P_Y_X(P_XY, P_X(P_XY))))).limit_denominator()"
      ]
    },
    {
      "attachments": {},
      "cell_type": "markdown",
      "metadata": {},
      "source": [
        "## Flip Bit Joint Probability of OOK for M = 1 "
      ]
    },
    {
      "cell_type": "code",
      "execution_count": 15,
      "metadata": {},
      "outputs": [],
      "source": [
        "P_XY = np.array([[0.45, 0.05],\n",
        "                [0.05, 0.45]])"
      ]
    },
    {
      "cell_type": "code",
      "execution_count": 16,
      "metadata": {},
      "outputs": [
        {
          "data": {
            "text/plain": [
              "1.0"
            ]
          },
          "execution_count": 16,
          "metadata": {},
          "output_type": "execute_result"
        }
      ],
      "source": [
        "M(P_XY)"
      ]
    },
    {
      "cell_type": "code",
      "execution_count": 17,
      "metadata": {},
      "outputs": [
        {
          "name": "stdout",
          "output_type": "stream",
          "text": [
            "Flip Bit for M = 1\n",
            "Number of Time Bin 1.0\n",
            "Probability P(X): [0.5 0.5]\n",
            "Probability P(Y): [0.5 0.5]\n",
            "Joint Probability P(X, Y):\n",
            "[[0.45 0.05]\n",
            " [0.05 0.45]]\n",
            "Conditional Probability P(X|Y):\n",
            "[[0.9 0.1]\n",
            " [0.1 0.9]]\n",
            "Conditional Probability P(Y|X):\n",
            "[[0.9 0.1]\n",
            " [0.1 0.9]]\n",
            "Entropy H(X): 1.0 3\n",
            "Entropy H(Y): 1.0 2550791/856452\n",
            "Joint Entropy H(X,Y): 1.4689955930122032 2580709/696831\n",
            "Conditional Entropy H(X|Y): 0.4689955933007422 245771/338915\n",
            "Conditional Entropy H(Y|X): 0.4689955933007422 682250/969803\n",
            "Mutual Information I(X;Y)): 0.5310044066992579\n",
            "Mutual Information per Photon I(X;Y) / (M/2)): 1.0620088133985157\n"
          ]
        }
      ],
      "source": [
        "print('Flip Bit for M = 1')\n",
        "print('Number of Time Bin', M(P_XY))\n",
        "print('Probability P(X):', P_X(P_XY))\n",
        "print('Probability P(Y):', P_Y(P_XY))\n",
        "\n",
        "print('Joint Probability P(X, Y):')\n",
        "print(P_XY)\n",
        "print('Conditional Probability P(X|Y):')\n",
        "print(P_X_Y(P_XY, P_Y(P_XY)))\n",
        "print('Conditional Probability P(Y|X):')\n",
        "print(P_Y_X(P_XY, P_X(P_XY)))\n",
        "\n",
        "print('Entropy H(X):', H_X(P_X(P_XY)), fraction_HX)\n",
        "print('Entropy H(Y):', H_Y(P_Y(P_XY)), fraction_HY)\n",
        "print('Joint Entropy H(X,Y):', H_XY(P_XY), fraction_HXY)\n",
        "print('Conditional Entropy H(X|Y):', H_X_Y((P_X_Y(P_XY, P_Y(P_XY)))), fraction_HXbyY)\n",
        "print('Conditional Entropy H(Y|X):', H_Y_X((P_Y_X(P_XY, P_X(P_XY)))), fraction_HYbyX)\n",
        "\n",
        "print('Mutual Information I(X;Y)):', MutualInformation(H_Y(P_Y(P_XY)), H_Y_X((P_Y_X(P_XY, P_X(P_XY))))))\n",
        "print('Mutual Information per Photon I(X;Y) / (M/2)):', MIperPhoton(MutualInformation(H_Y(P_Y(P_XY)), H_Y_X((P_Y_X(P_XY, P_X(P_XY))))), M(P_XY)))"
      ]
    },
    {
      "cell_type": "code",
      "execution_count": 18,
      "metadata": {},
      "outputs": [],
      "source": [
        "# Flip Bit Joint Prbability of OOK for M = 2\n",
        "P_XY = np.array([[0.2025, 0.0225, 0.0225, 0.0025],\n",
        "                 [0.0225, 0.2025, 0.0025, 0.0225],\n",
        "                 [0.0225, 0.0025, 0.2025, 0.0225],\n",
        "                 [0.0025, 0.0225, 0.0225, 0.2025]])"
      ]
    },
    {
      "cell_type": "code",
      "execution_count": 19,
      "metadata": {},
      "outputs": [
        {
          "name": "stdout",
          "output_type": "stream",
          "text": [
            "Flip Bit for M = 2\n",
            "Number of Time Bin 2.0\n",
            "Probability P(X): [0.25 0.25 0.25 0.25]\n",
            "Probability P(Y): [0.25 0.25 0.25 0.25]\n",
            "Joint Probability P(X, Y):\n",
            "[[0.2025 0.0225 0.0225 0.0025]\n",
            " [0.0225 0.2025 0.0025 0.0225]\n",
            " [0.0225 0.0025 0.2025 0.0225]\n",
            " [0.0025 0.0225 0.0225 0.2025]]\n",
            "Conditional Probability P(X|Y):\n",
            "[[0.81 0.09 0.09 0.01]\n",
            " [0.09 0.81 0.01 0.09]\n",
            " [0.09 0.01 0.81 0.09]\n",
            " [0.01 0.09 0.09 0.81]]\n",
            "Conditional Probability P(Y|X):\n",
            "[[0.81 0.09 0.09 0.01]\n",
            " [0.09 0.81 0.01 0.09]\n",
            " [0.09 0.01 0.81 0.09]\n",
            " [0.01 0.09 0.09 0.81]]\n",
            "Entropy H(X): 2.0 3\n",
            "Entropy H(Y): 2.0 2550791/856452\n",
            "Joint Entropy H(X,Y): 2.9379911848702505 2580709/696831\n",
            "Conditional Entropy H(X|Y): 0.9379911866014844 245771/338915\n",
            "Conditional Entropy H(Y|X): 0.9379911866014844 682250/969803\n",
            "Mutual Information I(X;Y)): 1.0620088133985157\n",
            "Mutual Information per Photon I(X;Y) / (M/2)): 1.0620088133985157\n"
          ]
        }
      ],
      "source": [
        "print('Flip Bit for M = 2')\n",
        "print('Number of Time Bin', M(P_XY))\n",
        "print('Probability P(X):', P_X(P_XY))\n",
        "print('Probability P(Y):', P_Y(P_XY))\n",
        "\n",
        "print('Joint Probability P(X, Y):')\n",
        "print(P_XY)\n",
        "print('Conditional Probability P(X|Y):')\n",
        "print(P_X_Y(P_XY, P_Y(P_XY)))\n",
        "print('Conditional Probability P(Y|X):')\n",
        "print(P_Y_X(P_XY, P_X(P_XY)))\n",
        "\n",
        "print('Entropy H(X):', H_X(P_X(P_XY)), fraction_HX)\n",
        "print('Entropy H(Y):', H_Y(P_Y(P_XY)), fraction_HY)\n",
        "print('Joint Entropy H(X,Y):', H_XY(P_XY), fraction_HXY)\n",
        "print('Conditional Entropy H(X|Y):', H_X_Y((P_X_Y(P_XY, P_Y(P_XY)))), fraction_HXbyY)\n",
        "print('Conditional Entropy H(Y|X):', H_Y_X((P_Y_X(P_XY, P_X(P_XY)))), fraction_HYbyX)\n",
        "\n",
        "print('Mutual Information I(X;Y)):', MutualInformation(H_Y(P_Y(P_XY)), H_Y_X((P_Y_X(P_XY, P_X(P_XY))))))\n",
        "print('Mutual Information per Photon I(X;Y) / (M/2)):', MIperPhoton(MutualInformation(H_Y(P_Y(P_XY)), H_Y_X((P_Y_X(P_XY, P_X(P_XY))))), M(P_XY)))"
      ]
    },
    {
      "cell_type": "code",
      "execution_count": 20,
      "metadata": {},
      "outputs": [],
      "source": [
        "# Loss Bit Joint Prbability of OOK for M = 1\n",
        "# P_XY = np.array([[0.5, 0],\n",
        "#                  [0.05, 0.45]])\n",
        "\n",
        "P_XY = np.array([[1, 0], \n",
        "                 [0.1, 0.9]]) * 1/2"
      ]
    },
    {
      "cell_type": "code",
      "execution_count": 21,
      "metadata": {},
      "outputs": [
        {
          "data": {
            "text/plain": [
              "1.0"
            ]
          },
          "execution_count": 21,
          "metadata": {},
          "output_type": "execute_result"
        }
      ],
      "source": [
        "M(P_XY)"
      ]
    },
    {
      "cell_type": "code",
      "execution_count": 22,
      "metadata": {},
      "outputs": [
        {
          "name": "stdout",
          "output_type": "stream",
          "text": [
            "Loss Bit for M = 1\n",
            "Number of Time Bin 1.0\n",
            "Probability P(X): [0.5 0.5]\n",
            "Probability P(Y): [0.55 0.45]\n",
            "Joint Probability P(X, Y):\n",
            "[[0.5  0.  ]\n",
            " [0.05 0.45]]\n",
            "Conditional Probability P(X|Y):\n",
            "[[0.90909091 0.        ]\n",
            " [0.09090909 1.        ]]\n",
            "Conditional Probability P(Y|X):\n",
            "[[1.  0. ]\n",
            " [0.1 0.9]]\n",
            "Entropy H(X): 1.0 3\n",
            "Entropy H(Y): 0.9927744539878083 2550791/856452\n",
            "Joint Entropy H(X,Y): 1.2344977963618322 2580709/696831\n",
            "Conditional Entropy H(X|Y): 0.2417233425832146 245771/338915\n",
            "Conditional Entropy H(Y|X): 0.23449779657823633 682250/969803\n",
            "Mutual Information I(X;Y)): 0.758276657409572\n",
            "Mutual Information per Photon I(X;Y) / (M/2)): 1.516553314819144\n"
          ]
        }
      ],
      "source": [
        "print('Loss Bit for M = 1')\n",
        "print('Number of Time Bin', M(P_XY))\n",
        "print('Probability P(X):', P_X(P_XY))\n",
        "print('Probability P(Y):', P_Y(P_XY))\n",
        "\n",
        "print('Joint Probability P(X, Y):')\n",
        "print(P_XY)\n",
        "print('Conditional Probability P(X|Y):')\n",
        "print(P_X_Y(P_XY, P_Y(P_XY)))\n",
        "print('Conditional Probability P(Y|X):')\n",
        "print(P_Y_X(P_XY, P_X(P_XY)))\n",
        "\n",
        "print('Entropy H(X):', H_X(P_X(P_XY)), fraction_HX)\n",
        "print('Entropy H(Y):', H_Y(P_Y(P_XY)), fraction_HY)\n",
        "print('Joint Entropy H(X,Y):', H_XY(P_XY), fraction_HXY)\n",
        "print('Conditional Entropy H(X|Y):', H_X_Y((P_X_Y(P_XY, P_Y(P_XY)))), fraction_HXbyY)\n",
        "print('Conditional Entropy H(Y|X):', H_Y_X((P_Y_X(P_XY, P_X(P_XY)))), fraction_HYbyX)\n",
        "\n",
        "print('Mutual Information I(X;Y)):', MutualInformation(H_Y(P_Y(P_XY)), H_Y_X((P_Y_X(P_XY, P_X(P_XY))))))\n",
        "print('Mutual Information per Photon I(X;Y) / (M/2)):', MIperPhoton(MutualInformation(H_Y(P_Y(P_XY)), H_Y_X((P_Y_X(P_XY, P_X(P_XY))))), M(P_XY)))"
      ]
    },
    {
      "cell_type": "code",
      "execution_count": 23,
      "metadata": {},
      "outputs": [
        {
          "data": {
            "text/plain": [
              "0.9927744539878083"
            ]
          },
          "execution_count": 23,
          "metadata": {},
          "output_type": "execute_result"
        }
      ],
      "source": [
        "- (0.55 * np.log2(0.55) + 0.45 * np.log2(0.45))"
      ]
    },
    {
      "cell_type": "code",
      "execution_count": 24,
      "metadata": {},
      "outputs": [
        {
          "data": {
            "text/plain": [
              "1.2344977967946407"
            ]
          },
          "execution_count": 24,
          "metadata": {},
          "output_type": "execute_result"
        }
      ],
      "source": [
        "-(0.5 * np.log2(0.5) + 0 + 0.05 * np.log2(0.05) + 0.45 * np.log2(0.45))"
      ]
    },
    {
      "cell_type": "code",
      "execution_count": 25,
      "metadata": {},
      "outputs": [],
      "source": [
        "# Loss Bit Joint Prbability of OOK for M = 2\n",
        "P_XY = np.array([[0.25, 0, 0, 0],\n",
        "                [0.025, 0.225, 0, 0],\n",
        "                [0.025, 0, 0.225, 0],\n",
        "                [0.0025, 0.00225, 0.225, 0.2025]])\n"
      ]
    },
    {
      "cell_type": "code",
      "execution_count": 26,
      "metadata": {},
      "outputs": [
        {
          "name": "stdout",
          "output_type": "stream",
          "text": [
            "Flip Bit for M = 2\n",
            "Number of Time Bin 2.0\n",
            "Probability P(X): [0.25    0.25    0.25    0.43225]\n",
            "Probability P(Y): [0.3025  0.22725 0.45    0.2025 ]\n",
            "Conditional Probability P(X|Y):\n",
            "[[0.25    0.      0.      0.     ]\n",
            " [0.025   0.225   0.      0.     ]\n",
            " [0.025   0.      0.225   0.     ]\n",
            " [0.0025  0.00225 0.225   0.2025 ]]\n",
            "Conditional Probability P(X|Y):\n",
            "[[0.82644628 0.         0.         0.        ]\n",
            " [0.08264463 0.99009901 0.         0.        ]\n",
            " [0.08264463 0.         0.5        0.        ]\n",
            " [0.00826446 0.00990099 0.5        1.        ]]\n",
            "Conditional Probability P(Y|X):\n",
            "[[1.         0.         0.         0.        ]\n",
            " [0.1        0.9        0.         0.        ]\n",
            " [0.1        0.         0.9        0.        ]\n",
            " [0.01       0.009      0.9        0.46847889]]\n",
            "Entropy H(X): 2.0230493561333107 3\n",
            "Entropy H(Y): 1.9925534756831556 2550791/856452\n",
            "Joint Entropy H(X,Y): 2.7266600682282776 2580709/696831\n",
            "Conditional Entropy H(X|Y): 0.7341065934443541 245771/338915\n",
            "Conditional Entropy H(Y|X): 0.5221224876442933 682250/969803\n",
            "Mutual Information I(X;Y)): 1.4704309880388622\n",
            "Mutual Information per Photon I(X;Y) / (M/2)): 1.4704309880388622\n"
          ]
        }
      ],
      "source": [
        "print('Flip Bit for M = 2')\n",
        "print('Number of Time Bin', M(P_XY))\n",
        "print('Probability P(X):', P_X(P_XY))\n",
        "print('Probability P(Y):', P_Y(P_XY))\n",
        "\n",
        "print('Conditional Probability P(X|Y):')\n",
        "print(P_XY)\n",
        "print('Conditional Probability P(X|Y):')\n",
        "print(P_X_Y(P_XY, P_Y(P_XY)))\n",
        "print('Conditional Probability P(Y|X):')\n",
        "print(P_Y_X(P_XY, P_X(P_XY)))\n",
        "\n",
        "print('Entropy H(X):', H_X(P_X(P_XY)), fraction_HX)\n",
        "print('Entropy H(Y):', H_Y(P_Y(P_XY)), fraction_HY)\n",
        "print('Joint Entropy H(X,Y):', H_XY(P_XY), fraction_HXY)\n",
        "print('Conditional Entropy H(X|Y):', H_X_Y((P_X_Y(P_XY, P_Y(P_XY)))), fraction_HXbyY)\n",
        "print('Conditional Entropy H(Y|X):', H_Y_X((P_Y_X(P_XY, P_X(P_XY)))), fraction_HYbyX)\n",
        "\n",
        "print('Mutual Information I(X;Y)):', MutualInformation(H_Y(P_Y(P_XY)), H_Y_X((P_Y_X(P_XY, P_X(P_XY))))))\n",
        "print('Mutual Information per Photon I(X;Y) / (M/2)):', MIperPhoton(MutualInformation(H_Y(P_Y(P_XY)), H_Y_X((P_Y_X(P_XY, P_X(P_XY))))), M(P_XY)))"
      ]
    },
    {
      "cell_type": "code",
      "execution_count": null,
      "metadata": {},
      "outputs": [],
      "source": []
    },
    {
      "attachments": {},
      "cell_type": "markdown",
      "metadata": {},
      "source": [
        "## Other Calculation"
      ]
    },
    {
      "cell_type": "code",
      "execution_count": 27,
      "metadata": {},
      "outputs": [],
      "source": [
        "# Example from Textbook Elements of Information Theory Chapter 2\n",
        "P_XY = np.array([[1/8, 1/16, 1/32, 1/32],\n",
        "                 [1/16, 1/8, 1/32, 1/32],\n",
        "                 [1/16, 1/16, 1/16, 1/16],\n",
        "                 [1/4, 0, 0, 0]])"
      ]
    },
    {
      "cell_type": "code",
      "execution_count": 28,
      "metadata": {},
      "outputs": [
        {
          "name": "stdout",
          "output_type": "stream",
          "text": [
            "Number of Time Bin 2.0\n",
            "Probability P(X): [0.25 0.25 0.25 0.25]\n",
            "Probability P(Y): [0.5   0.25  0.125 0.125]\n",
            "Conditional Probability P(X|Y):\n",
            "[[0.125   0.0625  0.03125 0.03125]\n",
            " [0.0625  0.125   0.03125 0.03125]\n",
            " [0.0625  0.0625  0.0625  0.0625 ]\n",
            " [0.25    0.      0.      0.     ]]\n",
            "Conditional Probability P(X|Y):\n",
            "[[0.25  0.25  0.25  0.25 ]\n",
            " [0.125 0.5   0.25  0.25 ]\n",
            " [0.125 0.25  0.5   0.5  ]\n",
            " [0.5   0.    0.    0.   ]]\n",
            "Conditional Probability P(Y|X):\n",
            "[[0.5   0.25  0.125 0.125]\n",
            " [0.25  0.5   0.125 0.125]\n",
            " [0.25  0.25  0.25  0.25 ]\n",
            " [1.    0.    0.    0.   ]]\n",
            "Entropy H(X): 2.0 3\n",
            "Entropy H(Y): 1.75 2550791/856452\n",
            "Joint Entropy H(X,Y): 3.3749999981244967 2580709/696831\n",
            "Conditional Entropy H(X|Y): 1.6249999994950564 245771/338915\n",
            "Conditional Entropy H(Y|X): 1.374999999531124 682250/969803\n",
            "Mutual Information I(X;Y)): 0.37500000046887605\n",
            "Mutual Information per Photon I(X;Y) / (M/2)): 0.37500000046887605\n"
          ]
        }
      ],
      "source": [
        "print('Number of Time Bin', M(P_XY))\n",
        "print('Probability P(X):', P_X(P_XY))\n",
        "print('Probability P(Y):', P_Y(P_XY))\n",
        "\n",
        "print('Conditional Probability P(X|Y):')\n",
        "print(P_XY)\n",
        "print('Conditional Probability P(X|Y):')\n",
        "print(P_X_Y(P_XY, P_Y(P_XY)))\n",
        "print('Conditional Probability P(Y|X):')\n",
        "print(P_Y_X(P_XY, P_X(P_XY)))\n",
        "\n",
        "print('Entropy H(X):', H_X(P_X(P_XY)), fraction_HX)\n",
        "print('Entropy H(Y):', H_Y(P_Y(P_XY)), fraction_HY)\n",
        "print('Joint Entropy H(X,Y):', H_XY(P_XY), fraction_HXY)\n",
        "print('Conditional Entropy H(X|Y):', H_X_Y((P_X_Y(P_XY, P_Y(P_XY)))), fraction_HXbyY)\n",
        "print('Conditional Entropy H(Y|X):', H_Y_X((P_Y_X(P_XY, P_X(P_XY)))), fraction_HYbyX)\n",
        "\n",
        "print('Mutual Information I(X;Y)):', MutualInformation(H_Y(P_Y(P_XY)), H_Y_X((P_Y_X(P_XY, P_X(P_XY))))))\n",
        "print('Mutual Information per Photon I(X;Y) / (M/2)):', MIperPhoton(MutualInformation(H_Y(P_Y(P_XY)), H_Y_X((P_Y_X(P_XY, P_X(P_XY))))), M(P_XY)))"
      ]
    },
    {
      "cell_type": "code",
      "execution_count": 29,
      "metadata": {},
      "outputs": [
        {
          "data": {
            "text/plain": [
              "1.75"
            ]
          },
          "execution_count": 29,
          "metadata": {},
          "output_type": "execute_result"
        }
      ],
      "source": [
        "-(0.5 * np.log2(0.5) + 0.25 * np.log2(0.25) + 0.125 * np.log2(0.125) + 0.125 * np.log2(0.125))"
      ]
    },
    {
      "cell_type": "code",
      "execution_count": 30,
      "metadata": {},
      "outputs": [
        {
          "data": {
            "text/plain": [
              "2.0"
            ]
          },
          "execution_count": 30,
          "metadata": {},
          "output_type": "execute_result"
        }
      ],
      "source": [
        "-(0.25 * np.log2(0.25) + 0.25 * np.log2(0.25) + 0.25 * np.log2(0.25) + 0.25 * np.log2(0.25))"
      ]
    },
    {
      "cell_type": "code",
      "execution_count": 31,
      "metadata": {},
      "outputs": [
        {
          "data": {
            "text/plain": [
              "0.0625"
            ]
          },
          "execution_count": 31,
          "metadata": {},
          "output_type": "execute_result"
        }
      ],
      "source": [
        "1/16"
      ]
    },
    {
      "cell_type": "code",
      "execution_count": 32,
      "metadata": {},
      "outputs": [
        {
          "data": {
            "text/plain": [
              "0.25"
            ]
          },
          "execution_count": 32,
          "metadata": {},
          "output_type": "execute_result"
        }
      ],
      "source": [
        "0.0625 / 0.25"
      ]
    },
    {
      "cell_type": "code",
      "execution_count": 33,
      "metadata": {},
      "outputs": [
        {
          "data": {
            "text/plain": [
              "0.125"
            ]
          },
          "execution_count": 33,
          "metadata": {},
          "output_type": "execute_result"
        }
      ],
      "source": [
        "0.03125 / 0.25"
      ]
    },
    {
      "cell_type": "code",
      "execution_count": 34,
      "metadata": {},
      "outputs": [
        {
          "data": {
            "text/plain": [
              "0.03125"
            ]
          },
          "execution_count": 34,
          "metadata": {},
          "output_type": "execute_result"
        }
      ],
      "source": [
        "1/32"
      ]
    },
    {
      "cell_type": "code",
      "execution_count": 35,
      "metadata": {},
      "outputs": [
        {
          "data": {
            "text/plain": [
              "1.375"
            ]
          },
          "execution_count": 35,
          "metadata": {},
          "output_type": "execute_result"
        }
      ],
      "source": [
        "-(0.125 * np.log2(0.5) + 0.0625 * np.log2(0.25) + 0.03125 * np.log2(0.125) + 0.03125 * np.log2(0.125) + 0.0625 * np.log2(0.25) + 0.125 * np.log2(0.5) +  0.0625* np.log2(0.125) + 0.25  * np.log2(0.25))"
      ]
    },
    {
      "cell_type": "code",
      "execution_count": 36,
      "metadata": {},
      "outputs": [
        {
          "data": {
            "text/plain": [
              "0.375"
            ]
          },
          "execution_count": 36,
          "metadata": {},
          "output_type": "execute_result"
        }
      ],
      "source": [
        "1.75 - 1.375"
      ]
    },
    {
      "cell_type": "code",
      "execution_count": null,
      "metadata": {},
      "outputs": [],
      "source": []
    }
  ],
  "metadata": {
    "colab": {
      "provenance": []
    },
    "kernelspec": {
      "display_name": "Python 3",
      "language": "python",
      "name": "python3"
    },
    "language_info": {
      "codemirror_mode": {
        "name": "ipython",
        "version": 3
      },
      "file_extension": ".py",
      "mimetype": "text/x-python",
      "name": "python",
      "nbconvert_exporter": "python",
      "pygments_lexer": "ipython3",
      "version": "3.8.2"
    },
    "orig_nbformat": 4
  },
  "nbformat": 4,
  "nbformat_minor": 0
}
